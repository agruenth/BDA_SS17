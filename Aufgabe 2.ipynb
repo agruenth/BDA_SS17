{
 "cells": [
  {
   "cell_type": "code",
   "execution_count": 5,
   "metadata": {
    "collapsed": true
   },
   "outputs": [],
   "source": [
    "import numpy as np\n",
    "import pandas as pd\n",
    "import seaborn as sns\n",
    "import scipy.stats as stats\n",
    "\n",
    "%matplotlib inline\n",
    "import matplotlib.pyplot as plt\n",
    "sns.set(context=\"paper\", font=\"monospace\")"
   ]
  },
  {
   "cell_type": "code",
   "execution_count": 6,
   "metadata": {
    "collapsed": false
   },
   "outputs": [],
   "source": [
    "df_player= pd.read_csv('data/players.csv', memory_map=True)\n",
    "df_match = pd.read_csv('data/match.csv' ,memory_map=True)\n",
    "df_match_500 = pd.read_csv('data/match.csv' ,memory_map=True, nrows=500)\n",
    "df_hero_names = pd.read_csv('data/hero_names.csv', memory_map=True  )\n",
    "# df_chat = pd.read_csv('data/dota-2-matches/chat.csv', memory_map=True)"
   ]
  },
  {
   "cell_type": "markdown",
   "metadata": {},
   "source": [
    "## Löschen nichtbenötigter Spalten in Players und Match\n"
   ]
  },
  {
   "cell_type": "code",
   "execution_count": 7,
   "metadata": {
    "collapsed": false
   },
   "outputs": [],
   "source": [
    "df_player.drop([\n",
    "    'account_id',\n",
    "    'gold_per_min',\n",
    "    'xp_per_min',\n",
    "    'denies',\n",
    "    'last_hits',\n",
    "    'stuns',\n",
    "    'hero_damage',\n",
    "    'hero_healing',\n",
    "    'tower_damage',\n",
    "    'item_0',\n",
    "    'item_1',\n",
    "    'item_2',\n",
    "    'item_3',\n",
    "    'item_4',\n",
    "    'item_5',\n",
    "    'level',\n",
    "    'leaver_status',\n",
    "    'xp_hero',\n",
    "    'xp_creep',\n",
    "    'xp_roshan',\n",
    "    'xp_other',\n",
    "    'gold_other',\n",
    "    'gold_death',\n",
    "    'gold_buyback',\n",
    "    'gold_abandon',\n",
    "    'gold_sell',\n",
    "    'gold_destroying_structure',\n",
    "    'gold_killing_heros',\n",
    "    'gold_killing_creeps',\n",
    "    'gold_killing_roshan',\n",
    "    'gold_killing_couriers',\n",
    "    'unit_order_none',\n",
    "    'unit_order_move_to_position',\n",
    "    'unit_order_move_to_target',\n",
    "    'unit_order_attack_move',\n",
    "    'unit_order_attack_target',\n",
    "    'unit_order_cast_position',\n",
    "    'unit_order_cast_target',\n",
    "    'unit_order_cast_target_tree',\n",
    "    'unit_order_cast_no_target',\n",
    "    'unit_order_cast_toggle',\n",
    "    'unit_order_hold_position',\n",
    "    'unit_order_train_ability',\n",
    "    'unit_order_drop_item',\n",
    "    'unit_order_give_item',\n",
    "    'unit_order_pickup_item',\n",
    "    'unit_order_pickup_rune',\n",
    "    'unit_order_purchase_item',\n",
    "    'unit_order_sell_item',\n",
    "    'unit_order_disassemble_item',\n",
    "    'unit_order_move_item',\n",
    "    'unit_order_cast_toggle_auto',\n",
    "    'unit_order_stop',\n",
    "    'unit_order_taunt',\n",
    "    'unit_order_buyback',\n",
    "    'unit_order_glyph',\n",
    "    'unit_order_eject_item_from_stash',\n",
    "    'unit_order_cast_rune',\n",
    "    'unit_order_ping_ability',\n",
    "    'unit_order_move_to_direction',\n",
    "    'unit_order_patrol',\n",
    "    'unit_order_vector_target_position',\n",
    "    'unit_order_radar',\n",
    "    'unit_order_set_item_combine_lock',\n",
    "    'unit_order_continue'], axis=1, inplace=True)\n",
    "\n",
    "\n"
   ]
  },
  {
   "cell_type": "code",
   "execution_count": 8,
   "metadata": {
    "collapsed": false
   },
   "outputs": [],
   "source": [
    "df_match.drop([\n",
    "    'start_time',\n",
    "    'tower_status_radiant',\n",
    "    'tower_status_dire',\n",
    "    'barracks_status_radiant',\n",
    "    'barracks_status_dire',\n",
    "    'first_blood_time',\n",
    "    'game_mode',\n",
    "    'negative_votes',\n",
    "    'positive_votes',\n",
    "    'cluster'],\n",
    "    axis=1,\n",
    "    inplace=True)"
   ]
  },
  {
   "cell_type": "code",
   "execution_count": 9,
   "metadata": {
    "collapsed": false
   },
   "outputs": [
    {
     "data": {
      "text/html": [
       "<div>\n",
       "<table border=\"1\" class=\"dataframe\">\n",
       "  <thead>\n",
       "    <tr style=\"text-align: right;\">\n",
       "      <th></th>\n",
       "      <th>match_id</th>\n",
       "      <th>duration</th>\n",
       "      <th>radiant_win</th>\n",
       "    </tr>\n",
       "  </thead>\n",
       "  <tbody>\n",
       "    <tr>\n",
       "      <th>0</th>\n",
       "      <td>0</td>\n",
       "      <td>2375</td>\n",
       "      <td>True</td>\n",
       "    </tr>\n",
       "    <tr>\n",
       "      <th>1</th>\n",
       "      <td>1</td>\n",
       "      <td>2582</td>\n",
       "      <td>False</td>\n",
       "    </tr>\n",
       "    <tr>\n",
       "      <th>2</th>\n",
       "      <td>2</td>\n",
       "      <td>2716</td>\n",
       "      <td>False</td>\n",
       "    </tr>\n",
       "    <tr>\n",
       "      <th>3</th>\n",
       "      <td>3</td>\n",
       "      <td>3085</td>\n",
       "      <td>False</td>\n",
       "    </tr>\n",
       "    <tr>\n",
       "      <th>4</th>\n",
       "      <td>4</td>\n",
       "      <td>1887</td>\n",
       "      <td>True</td>\n",
       "    </tr>\n",
       "  </tbody>\n",
       "</table>\n",
       "</div>"
      ],
      "text/plain": [
       "   match_id  duration radiant_win\n",
       "0         0      2375        True\n",
       "1         1      2582       False\n",
       "2         2      2716       False\n",
       "3         3      3085       False\n",
       "4         4      1887        True"
      ]
     },
     "execution_count": 9,
     "metadata": {},
     "output_type": "execute_result"
    }
   ],
   "source": [
    "df_match.head()"
   ]
  },
  {
   "cell_type": "markdown",
   "metadata": {},
   "source": [
    "## Erzeugen einer Matrix, die es zulässt, den Spielerfolg der Spieler anzuzeigen"
   ]
  },
  {
   "cell_type": "code",
   "execution_count": null,
   "metadata": {
    "collapsed": true
   },
   "outputs": [],
   "source": []
  },
  {
   "cell_type": "code",
   "execution_count": 10,
   "metadata": {
    "collapsed": false
   },
   "outputs": [],
   "source": [
    "df_match[\"gewinner\"] = df_match.radiant_win.map(lambda x:\"radiant\" if x else \"dire\")\n",
    "df_match.drop(\"radiant_win\", axis=1, inplace=True)\n",
    "mat_1 = df_match.merge(df_player,on=['match_id'])\n",
    "# mat_125 = df_match_50000.merge(df_match_50000,on='match_id').merge(df_players[df_players[\"player_slot\"]>6],on='match_id')"
   ]
  },
  {
   "cell_type": "code",
   "execution_count": 11,
   "metadata": {
    "collapsed": false
   },
   "outputs": [],
   "source": [
    "mat_1[\"team\"]= mat_1.player_slot.map(lambda x:\"radiant\" if x<10 else \"dire\")"
   ]
  },
  {
   "cell_type": "code",
   "execution_count": null,
   "metadata": {
    "collapsed": true
   },
   "outputs": [],
   "source": []
  },
  {
   "cell_type": "code",
   "execution_count": 12,
   "metadata": {
    "collapsed": false
   },
   "outputs": [
    {
     "data": {
      "text/html": [
       "<div>\n",
       "<table border=\"1\" class=\"dataframe\">\n",
       "  <thead>\n",
       "    <tr style=\"text-align: right;\">\n",
       "      <th></th>\n",
       "      <th>match_id</th>\n",
       "      <th>duration</th>\n",
       "      <th>gewinner</th>\n",
       "      <th>hero_id</th>\n",
       "      <th>player_slot</th>\n",
       "      <th>gold</th>\n",
       "      <th>gold_spent</th>\n",
       "      <th>kills</th>\n",
       "      <th>deaths</th>\n",
       "      <th>assists</th>\n",
       "      <th>team</th>\n",
       "    </tr>\n",
       "  </thead>\n",
       "  <tbody>\n",
       "    <tr>\n",
       "      <th>0</th>\n",
       "      <td>0</td>\n",
       "      <td>2375</td>\n",
       "      <td>radiant</td>\n",
       "      <td>86</td>\n",
       "      <td>0</td>\n",
       "      <td>3261</td>\n",
       "      <td>10960</td>\n",
       "      <td>9</td>\n",
       "      <td>3</td>\n",
       "      <td>18</td>\n",
       "      <td>radiant</td>\n",
       "    </tr>\n",
       "    <tr>\n",
       "      <th>1</th>\n",
       "      <td>0</td>\n",
       "      <td>2375</td>\n",
       "      <td>radiant</td>\n",
       "      <td>51</td>\n",
       "      <td>1</td>\n",
       "      <td>2954</td>\n",
       "      <td>17760</td>\n",
       "      <td>13</td>\n",
       "      <td>3</td>\n",
       "      <td>18</td>\n",
       "      <td>radiant</td>\n",
       "    </tr>\n",
       "    <tr>\n",
       "      <th>2</th>\n",
       "      <td>0</td>\n",
       "      <td>2375</td>\n",
       "      <td>radiant</td>\n",
       "      <td>83</td>\n",
       "      <td>2</td>\n",
       "      <td>110</td>\n",
       "      <td>12195</td>\n",
       "      <td>0</td>\n",
       "      <td>4</td>\n",
       "      <td>15</td>\n",
       "      <td>radiant</td>\n",
       "    </tr>\n",
       "    <tr>\n",
       "      <th>3</th>\n",
       "      <td>0</td>\n",
       "      <td>2375</td>\n",
       "      <td>radiant</td>\n",
       "      <td>11</td>\n",
       "      <td>3</td>\n",
       "      <td>1179</td>\n",
       "      <td>22505</td>\n",
       "      <td>8</td>\n",
       "      <td>4</td>\n",
       "      <td>19</td>\n",
       "      <td>radiant</td>\n",
       "    </tr>\n",
       "    <tr>\n",
       "      <th>4</th>\n",
       "      <td>0</td>\n",
       "      <td>2375</td>\n",
       "      <td>radiant</td>\n",
       "      <td>67</td>\n",
       "      <td>4</td>\n",
       "      <td>3307</td>\n",
       "      <td>23825</td>\n",
       "      <td>20</td>\n",
       "      <td>3</td>\n",
       "      <td>17</td>\n",
       "      <td>radiant</td>\n",
       "    </tr>\n",
       "    <tr>\n",
       "      <th>5</th>\n",
       "      <td>0</td>\n",
       "      <td>2375</td>\n",
       "      <td>radiant</td>\n",
       "      <td>106</td>\n",
       "      <td>128</td>\n",
       "      <td>476</td>\n",
       "      <td>12285</td>\n",
       "      <td>5</td>\n",
       "      <td>6</td>\n",
       "      <td>8</td>\n",
       "      <td>dire</td>\n",
       "    </tr>\n",
       "    <tr>\n",
       "      <th>6</th>\n",
       "      <td>0</td>\n",
       "      <td>2375</td>\n",
       "      <td>radiant</td>\n",
       "      <td>102</td>\n",
       "      <td>129</td>\n",
       "      <td>317</td>\n",
       "      <td>10355</td>\n",
       "      <td>4</td>\n",
       "      <td>13</td>\n",
       "      <td>5</td>\n",
       "      <td>dire</td>\n",
       "    </tr>\n",
       "    <tr>\n",
       "      <th>7</th>\n",
       "      <td>0</td>\n",
       "      <td>2375</td>\n",
       "      <td>radiant</td>\n",
       "      <td>46</td>\n",
       "      <td>130</td>\n",
       "      <td>2390</td>\n",
       "      <td>13395</td>\n",
       "      <td>4</td>\n",
       "      <td>8</td>\n",
       "      <td>6</td>\n",
       "      <td>dire</td>\n",
       "    </tr>\n",
       "    <tr>\n",
       "      <th>8</th>\n",
       "      <td>0</td>\n",
       "      <td>2375</td>\n",
       "      <td>radiant</td>\n",
       "      <td>7</td>\n",
       "      <td>131</td>\n",
       "      <td>475</td>\n",
       "      <td>5035</td>\n",
       "      <td>1</td>\n",
       "      <td>14</td>\n",
       "      <td>8</td>\n",
       "      <td>dire</td>\n",
       "    </tr>\n",
       "    <tr>\n",
       "      <th>9</th>\n",
       "      <td>0</td>\n",
       "      <td>2375</td>\n",
       "      <td>radiant</td>\n",
       "      <td>73</td>\n",
       "      <td>132</td>\n",
       "      <td>60</td>\n",
       "      <td>17550</td>\n",
       "      <td>1</td>\n",
       "      <td>11</td>\n",
       "      <td>6</td>\n",
       "      <td>dire</td>\n",
       "    </tr>\n",
       "  </tbody>\n",
       "</table>\n",
       "</div>"
      ],
      "text/plain": [
       "   match_id  duration gewinner  hero_id  player_slot  gold  gold_spent  kills  \\\n",
       "0         0      2375  radiant       86            0  3261       10960      9   \n",
       "1         0      2375  radiant       51            1  2954       17760     13   \n",
       "2         0      2375  radiant       83            2   110       12195      0   \n",
       "3         0      2375  radiant       11            3  1179       22505      8   \n",
       "4         0      2375  radiant       67            4  3307       23825     20   \n",
       "5         0      2375  radiant      106          128   476       12285      5   \n",
       "6         0      2375  radiant      102          129   317       10355      4   \n",
       "7         0      2375  radiant       46          130  2390       13395      4   \n",
       "8         0      2375  radiant        7          131   475        5035      1   \n",
       "9         0      2375  radiant       73          132    60       17550      1   \n",
       "\n",
       "   deaths  assists     team  \n",
       "0       3       18  radiant  \n",
       "1       3       18  radiant  \n",
       "2       4       15  radiant  \n",
       "3       4       19  radiant  \n",
       "4       3       17  radiant  \n",
       "5       6        8     dire  \n",
       "6      13        5     dire  \n",
       "7       8        6     dire  \n",
       "8      14        8     dire  \n",
       "9      11        6     dire  "
      ]
     },
     "execution_count": 12,
     "metadata": {},
     "output_type": "execute_result"
    }
   ],
   "source": [
    "mat_1.head(10)"
   ]
  },
  {
   "cell_type": "markdown",
   "metadata": {},
   "source": [
    "## Hinzufügen einer Spalte mit der Gesammtsumme des Goldes pro Spieler"
   ]
  },
  {
   "cell_type": "code",
   "execution_count": 13,
   "metadata": {
    "collapsed": false
   },
   "outputs": [],
   "source": [
    "mat_1[\"total_gold\"] =  mat_1[\"gold\"] + mat_1[\"gold_spent\"]\n"
   ]
  },
  {
   "cell_type": "code",
   "execution_count": 14,
   "metadata": {
    "collapsed": false
   },
   "outputs": [],
   "source": [
    "series = mat_1.groupby([\"match_id\", \"team\"]).sum().total_gold"
   ]
  },
  {
   "cell_type": "code",
   "execution_count": 15,
   "metadata": {
    "collapsed": true
   },
   "outputs": [],
   "source": [
    "series_total = mat_1.groupby([\"match_id\"]).sum().total_gold"
   ]
  },
  {
   "cell_type": "code",
   "execution_count": 16,
   "metadata": {
    "collapsed": true
   },
   "outputs": [],
   "source": [
    "series_total = series_total.reset_index()\n",
    "series = series.reset_index()"
   ]
  },
  {
   "cell_type": "code",
   "execution_count": 17,
   "metadata": {
    "collapsed": false
   },
   "outputs": [
    {
     "data": {
      "text/html": [
       "<div>\n",
       "<table border=\"1\" class=\"dataframe\">\n",
       "  <thead>\n",
       "    <tr style=\"text-align: right;\">\n",
       "      <th></th>\n",
       "      <th>match_id</th>\n",
       "      <th>total_gold</th>\n",
       "      <th>gewinner</th>\n",
       "    </tr>\n",
       "  </thead>\n",
       "  <tbody>\n",
       "    <tr>\n",
       "      <th>0</th>\n",
       "      <td>0</td>\n",
       "      <td>160394</td>\n",
       "      <td>radiant</td>\n",
       "    </tr>\n",
       "    <tr>\n",
       "      <th>1</th>\n",
       "      <td>1</td>\n",
       "      <td>190921</td>\n",
       "      <td>dire</td>\n",
       "    </tr>\n",
       "    <tr>\n",
       "      <th>2</th>\n",
       "      <td>2</td>\n",
       "      <td>150281</td>\n",
       "      <td>dire</td>\n",
       "    </tr>\n",
       "    <tr>\n",
       "      <th>3</th>\n",
       "      <td>3</td>\n",
       "      <td>183524</td>\n",
       "      <td>dire</td>\n",
       "    </tr>\n",
       "    <tr>\n",
       "      <th>4</th>\n",
       "      <td>4</td>\n",
       "      <td>134089</td>\n",
       "      <td>radiant</td>\n",
       "    </tr>\n",
       "  </tbody>\n",
       "</table>\n",
       "</div>"
      ],
      "text/plain": [
       "   match_id  total_gold gewinner\n",
       "0         0      160394  radiant\n",
       "1         1      190921     dire\n",
       "2         2      150281     dire\n",
       "3         3      183524     dire\n",
       "4         4      134089  radiant"
      ]
     },
     "execution_count": 17,
     "metadata": {},
     "output_type": "execute_result"
    }
   ],
   "source": [
    "series_total = series_total.merge(df_match[[\"match_id\", \"gewinner\"]], on=\"match_id\")\n",
    "series_total.head()"
   ]
  },
  {
   "cell_type": "code",
   "execution_count": 18,
   "metadata": {
    "collapsed": false
   },
   "outputs": [],
   "source": [
    "series_total = series_total.merge(series.rename(columns=({\"total_gold\":\"teamgold\"})), on=\"match_id\")\n"
   ]
  },
  {
   "cell_type": "code",
   "execution_count": 19,
   "metadata": {
    "collapsed": false
   },
   "outputs": [
    {
     "data": {
      "text/html": [
       "<div>\n",
       "<table border=\"1\" class=\"dataframe\">\n",
       "  <thead>\n",
       "    <tr style=\"text-align: right;\">\n",
       "      <th></th>\n",
       "      <th>match_id</th>\n",
       "      <th>total_gold</th>\n",
       "      <th>gewinner</th>\n",
       "      <th>team</th>\n",
       "      <th>teamgold</th>\n",
       "      <th>anteil</th>\n",
       "    </tr>\n",
       "  </thead>\n",
       "  <tbody>\n",
       "    <tr>\n",
       "      <th>0</th>\n",
       "      <td>0</td>\n",
       "      <td>160394</td>\n",
       "      <td>radiant</td>\n",
       "      <td>dire</td>\n",
       "      <td>62338</td>\n",
       "      <td>38.865544</td>\n",
       "    </tr>\n",
       "    <tr>\n",
       "      <th>1</th>\n",
       "      <td>0</td>\n",
       "      <td>160394</td>\n",
       "      <td>radiant</td>\n",
       "      <td>radiant</td>\n",
       "      <td>98056</td>\n",
       "      <td>61.134456</td>\n",
       "    </tr>\n",
       "    <tr>\n",
       "      <th>2</th>\n",
       "      <td>1</td>\n",
       "      <td>190921</td>\n",
       "      <td>dire</td>\n",
       "      <td>dire</td>\n",
       "      <td>116835</td>\n",
       "      <td>61.195468</td>\n",
       "    </tr>\n",
       "    <tr>\n",
       "      <th>3</th>\n",
       "      <td>1</td>\n",
       "      <td>190921</td>\n",
       "      <td>dire</td>\n",
       "      <td>radiant</td>\n",
       "      <td>74086</td>\n",
       "      <td>38.804532</td>\n",
       "    </tr>\n",
       "    <tr>\n",
       "      <th>4</th>\n",
       "      <td>2</td>\n",
       "      <td>150281</td>\n",
       "      <td>dire</td>\n",
       "      <td>dire</td>\n",
       "      <td>92797</td>\n",
       "      <td>61.748990</td>\n",
       "    </tr>\n",
       "  </tbody>\n",
       "</table>\n",
       "</div>"
      ],
      "text/plain": [
       "   match_id  total_gold gewinner     team  teamgold     anteil\n",
       "0         0      160394  radiant     dire     62338  38.865544\n",
       "1         0      160394  radiant  radiant     98056  61.134456\n",
       "2         1      190921     dire     dire    116835  61.195468\n",
       "3         1      190921     dire  radiant     74086  38.804532\n",
       "4         2      150281     dire     dire     92797  61.748990"
      ]
     },
     "execution_count": 19,
     "metadata": {},
     "output_type": "execute_result"
    }
   ],
   "source": [
    "series_total['anteil'] = series_total.teamgold/series_total.total_gold*100\n",
    "series_total.head()"
   ]
  },
  {
   "cell_type": "code",
   "execution_count": 20,
   "metadata": {
    "collapsed": false
   },
   "outputs": [
    {
     "name": "stderr",
     "output_type": "stream",
     "text": [
      "C:\\Users\\Adria\\Anaconda3\\lib\\site-packages\\ipykernel\\__main__.py:1: UserWarning: Boolean Series key will be reindexed to match DataFrame index.\n",
      "  if __name__ == '__main__':\n"
     ]
    },
    {
     "data": {
      "text/plain": [
       "(851, 6)"
      ]
     },
     "execution_count": 20,
     "metadata": {},
     "output_type": "execute_result"
    }
   ],
   "source": [
    "series_total[series_total.gewinner==series_total.team ][series_total.anteil<50].shape"
   ]
  },
  {
   "cell_type": "code",
   "execution_count": 21,
   "metadata": {
    "collapsed": false
   },
   "outputs": [
    {
     "name": "stdout",
     "output_type": "stream",
     "text": [
      "40\n"
     ]
    },
    {
     "data": {
      "text/html": [
       "<div>\n",
       "<table border=\"1\" class=\"dataframe\">\n",
       "  <thead>\n",
       "    <tr style=\"text-align: right;\">\n",
       "      <th></th>\n",
       "      <th>match_id</th>\n",
       "      <th>total_gold</th>\n",
       "      <th>gewinner</th>\n",
       "      <th>team</th>\n",
       "      <th>teamgold</th>\n",
       "      <th>anteil</th>\n",
       "      <th>bereiche_anteil</th>\n",
       "    </tr>\n",
       "  </thead>\n",
       "  <tbody>\n",
       "    <tr>\n",
       "      <th>0</th>\n",
       "      <td>0</td>\n",
       "      <td>160394</td>\n",
       "      <td>radiant</td>\n",
       "      <td>dire</td>\n",
       "      <td>62338</td>\n",
       "      <td>38.865544</td>\n",
       "      <td>NaN</td>\n",
       "    </tr>\n",
       "    <tr>\n",
       "      <th>1</th>\n",
       "      <td>0</td>\n",
       "      <td>160394</td>\n",
       "      <td>radiant</td>\n",
       "      <td>radiant</td>\n",
       "      <td>98056</td>\n",
       "      <td>61.134456</td>\n",
       "      <td>61.0</td>\n",
       "    </tr>\n",
       "    <tr>\n",
       "      <th>2</th>\n",
       "      <td>1</td>\n",
       "      <td>190921</td>\n",
       "      <td>dire</td>\n",
       "      <td>dire</td>\n",
       "      <td>116835</td>\n",
       "      <td>61.195468</td>\n",
       "      <td>61.0</td>\n",
       "    </tr>\n",
       "    <tr>\n",
       "      <th>3</th>\n",
       "      <td>1</td>\n",
       "      <td>190921</td>\n",
       "      <td>dire</td>\n",
       "      <td>radiant</td>\n",
       "      <td>74086</td>\n",
       "      <td>38.804532</td>\n",
       "      <td>NaN</td>\n",
       "    </tr>\n",
       "    <tr>\n",
       "      <th>4</th>\n",
       "      <td>2</td>\n",
       "      <td>150281</td>\n",
       "      <td>dire</td>\n",
       "      <td>dire</td>\n",
       "      <td>92797</td>\n",
       "      <td>61.748990</td>\n",
       "      <td>61.0</td>\n",
       "    </tr>\n",
       "  </tbody>\n",
       "</table>\n",
       "</div>"
      ],
      "text/plain": [
       "   match_id  total_gold gewinner     team  teamgold     anteil bereiche_anteil\n",
       "0         0      160394  radiant     dire     62338  38.865544             NaN\n",
       "1         0      160394  radiant  radiant     98056  61.134456            61.0\n",
       "2         1      190921     dire     dire    116835  61.195468            61.0\n",
       "3         1      190921     dire  radiant     74086  38.804532             NaN\n",
       "4         2      150281     dire     dire     92797  61.748990            61.0"
      ]
     },
     "execution_count": 21,
     "metadata": {},
     "output_type": "execute_result"
    }
   ],
   "source": [
    "lower = 40\n",
    "upper = 20\n",
    "perc = 1\n",
    "bins=[x for x in range(lower,100-upper,1)]\n",
    "print(len(bins))\n",
    "series_total['bereiche_anteil'] = pd.cut(\n",
    "    series_total.anteil,\n",
    "    bins=bins,\n",
    "    labels=bins[:-1])\n",
    "\n",
    "series_total.head()"
   ]
  },
  {
   "cell_type": "code",
   "execution_count": 22,
   "metadata": {
    "collapsed": false
   },
   "outputs": [
    {
     "data": {
      "text/plain": [
       "<matplotlib.axes._subplots.AxesSubplot at 0x2bd0261e3c8>"
      ]
     },
     "execution_count": 22,
     "metadata": {},
     "output_type": "execute_result"
    },
    {
     "data": {
      "image/png": "[encoded data removed]",
      "text/plain": [
       "<matplotlib.figure.Figure at 0x2bd6e457470>"
      ]
     },
     "metadata": {},
     "output_type": "display_data"
    }
   ],
   "source": [
    "plt.figure(figsize=(20.69,8.27))\n",
    "sns.countplot(x='bereiche_anteil',data=series_total[series_total.gewinner == series_total.team])"
   ]
  },
  {
   "cell_type": "code",
   "execution_count": 23,
   "metadata": {
    "collapsed": false,
    "scrolled": true
   },
   "outputs": [
    {
     "data": {
      "text/plain": [
       "<matplotlib.axes._subplots.AxesSubplot at 0x2bd77b34dd8>"
      ]
     },
     "execution_count": 23,
     "metadata": {},
     "output_type": "execute_result"
    },
    {
     "data": {
      "image/png": "[encoded data removed]",
      "text/plain": [
       "<matplotlib.figure.Figure at 0x2bd7598e588>"
      ]
     },
     "metadata": {},
     "output_type": "display_data"
    }
   ],
   "source": [
    " x = (series_total \\\n",
    " .bereiche_anteil \\\n",
    " .value_counts()-series_total[series_total \\\n",
    " .gewinner != series_total.team] \\\n",
    " .bereiche_anteil \\\n",
    " .value_counts())/series_total \\\n",
    " .bereiche_anteil \\\n",
    " .value_counts()\n",
    "\n",
    "plt.figure(figsize=(20.69,8.27))\n",
    "sns.pointplot( x=x.index , y=x)\n",
    "\n",
    "\n"
   ]
  },
  {
   "cell_type": "code",
   "execution_count": 24,
   "metadata": {
    "collapsed": false
   },
   "outputs": [
    {
     "data": {
      "text/plain": [
       "0        38.865544\n",
       "1        61.134456\n",
       "2        61.195468\n",
       "3        38.804532\n",
       "4        61.748990\n",
       "5        38.251010\n",
       "6        54.698023\n",
       "7        45.301977\n",
       "8        30.584164\n",
       "9        69.415836\n",
       "10       36.215649\n",
       "11       63.784351\n",
       "12       39.370758\n",
       "13       60.629242\n",
       "14       35.686032\n",
       "15       64.313968\n",
       "16       64.478613\n",
       "17       35.521387\n",
       "18       61.185745\n",
       "19       38.814255\n",
       "20       29.851293\n",
       "21       70.148707\n",
       "22       54.320323\n",
       "23       45.679677\n",
       "24       52.604319\n",
       "25       47.395681\n",
       "26       41.687192\n",
       "27       58.312808\n",
       "28       31.554391\n",
       "29       68.445609\n",
       "           ...    \n",
       "99970    60.775911\n",
       "99971    39.224089\n",
       "99972    42.802974\n",
       "99973    57.197026\n",
       "99974    49.598885\n",
       "99975    50.401115\n",
       "99976    62.477114\n",
       "99977    37.522886\n",
       "99978    74.086299\n",
       "99979    25.913701\n",
       "99980    41.029163\n",
       "99981    58.970837\n",
       "99982    41.180679\n",
       "99983    58.819321\n",
       "99984    58.677457\n",
       "99985    41.322543\n",
       "99986    61.374007\n",
       "99987    38.625993\n",
       "99988    61.043036\n",
       "99989    38.956964\n",
       "99990    44.774020\n",
       "99991    55.225980\n",
       "99992    35.883196\n",
       "99993    64.116804\n",
       "99994    35.903609\n",
       "99995    64.096391\n",
       "99996    39.815030\n",
       "99997    60.184970\n",
       "99998    60.539190\n",
       "99999    39.460810\n",
       "Name: anteil, dtype: float64"
      ]
     },
     "execution_count": 24,
     "metadata": {},
     "output_type": "execute_result"
    }
   ],
   "source": [
    "series_total.anteil"
   ]
  },
  {
   "cell_type": "code",
   "execution_count": 25,
   "metadata": {
    "collapsed": false
   },
   "outputs": [
    {
     "data": {
      "text/plain": [
       "LinregressResult(slope=-4.1436818451406479e-20, intercept=0.51885999999999999, rvalue=-9.5605326533158619e-19, pvalue=0.99999999999999978, stderr=0.00013705934639404965)"
      ]
     },
     "execution_count": 25,
     "metadata": {},
     "output_type": "execute_result"
    }
   ],
   "source": [
    "stats.linregress(series_total.anteil, series_total.gewinner.map(lambda x: 1 if x==\"radiant\" else 0 ))"
   ]
  },
  {
   "cell_type": "code",
   "execution_count": null,
   "metadata": {
    "collapsed": false,
    "scrolled": false
   },
   "outputs": [],
   "source": []
  },
  {
   "cell_type": "code",
   "execution_count": null,
   "metadata": {
    "collapsed": true
   },
   "outputs": [],
   "source": []
  },
  {
   "cell_type": "code",
   "execution_count": null,
   "metadata": {
    "collapsed": false
   },
   "outputs": [],
   "source": []
  },
  {
   "cell_type": "code",
   "execution_count": null,
   "metadata": {
    "collapsed": false
   },
   "outputs": [],
   "source": []
  },
  {
   "cell_type": "code",
   "execution_count": null,
   "metadata": {
    "collapsed": false
   },
   "outputs": [],
   "source": []
  },
  {
   "cell_type": "code",
   "execution_count": null,
   "metadata": {
    "collapsed": false
   },
   "outputs": [],
   "source": []
  }
 ],
 "metadata": {
  "anaconda-cloud": {},
  "kernelspec": {
   "display_name": "Python [conda root]",
   "language": "python",
   "name": "conda-root-py"
  },
  "language_info": {
   "codemirror_mode": {
    "name": "ipython",
    "version": 3
   },
   "file_extension": ".py",
   "mimetype": "text/x-python",
   "name": "python",
   "nbconvert_exporter": "python",
   "pygments_lexer": "ipython3",
   "version": "3.5.2"
  }
 },
 "nbformat": 4,
 "nbformat_minor": 1
}
