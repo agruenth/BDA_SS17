{
 "cells": [
  {
   "cell_type": "markdown",
   "metadata": {
    "collapsed": true
   },
   "source": [
    "## Aufgabe 4\n",
    "## Import von Bibliotheken"
   ]
  },
  {
   "cell_type": "code",
   "execution_count": 8,
   "metadata": {
    "collapsed": true
   },
   "outputs": [],
   "source": [
    "import numpy as np\n",
    "import pandas as pd\n",
    "import seaborn as sns\n",
    "\n",
    "%matplotlib inline\n",
    "import matplotlib.pyplot as plt\n",
    "sns.set(context=\"paper\", font=\"monospace\")"
   ]
  },
  {
   "cell_type": "markdown",
   "metadata": {},
   "source": [
    "## Einlesen der Dateien"
   ]
  },
  {
   "cell_type": "code",
   "execution_count": 9,
   "metadata": {
    "collapsed": true
   },
   "outputs": [],
   "source": [
    "df_players = pd.read_csv('data/players.csv', memory_map=True)\n",
    "df_match_50000 = pd.read_csv('Data/match.csv' ,memory_map=True, nrows=50000)\n",
    "df_match_500 = pd.read_csv('Data/match.csv' ,memory_map=True, nrows=500)\n",
    "df_hero_names = pd.read_csv('data/hero_names.csv', memory_map=True  )\n",
    "# df_chat = pd.read_csv('data/dota-2-matches/chat.csv', memory_map=True)"
   ]
  },
  {
   "cell_type": "markdown",
   "metadata": {},
   "source": [
    "## Überprüfen auf fehlenden Werte"
   ]
  },
  {
   "cell_type": "code",
   "execution_count": 35,
   "metadata": {
    "collapsed": false
   },
   "outputs": [
    {
     "name": "stdout",
     "output_type": "stream",
     "text": [
      "Na Werte \tmatch_id                   0\n",
      "start_time                 0\n",
      "duration                   0\n",
      "tower_status_radiant       0\n",
      "tower_status_dire          0\n",
      "barracks_status_dire       0\n",
      "barracks_status_radiant    0\n",
      "first_blood_time           0\n",
      "game_mode                  0\n",
      "radiant_win                0\n",
      "negative_votes             0\n",
      "positive_votes             0\n",
      "cluster                    0\n",
      "dtype: int64\n"
     ]
    }
   ],
   "source": [
    "\n",
    "print (\"Na Werte \\t\" +  str(df_match_50000.isnull().sum()))\n"
   ]
  },
  {
   "cell_type": "code",
   "execution_count": 40,
   "metadata": {
    "collapsed": false
   },
   "outputs": [
    {
     "name": "stdout",
     "output_type": "stream",
     "text": [
      "Na Werte \tmatch_id                                  0\n",
      "account_id                                0\n",
      "hero_id                                   0\n",
      "player_slot                               0\n",
      "gold                                      0\n",
      "gold_spent                                0\n",
      "gold_per_min                              0\n",
      "xp_per_min                                0\n",
      "kills                                     0\n",
      "deaths                                    0\n",
      "assists                                   0\n",
      "denies                                    0\n",
      "last_hits                                 0\n",
      "stuns                                     0\n",
      "hero_damage                               0\n",
      "hero_healing                              0\n",
      "tower_damage                              0\n",
      "item_0                                    0\n",
      "item_1                                    0\n",
      "item_2                                    0\n",
      "item_3                                    0\n",
      "item_4                                    0\n",
      "item_5                                    0\n",
      "level                                     0\n",
      "leaver_status                             0\n",
      "xp_hero                                1883\n",
      "xp_creep                                 68\n",
      "xp_roshan                            320438\n",
      "xp_other                              21036\n",
      "gold_other                            94897\n",
      "                                      ...  \n",
      "unit_order_attack_target                105\n",
      "unit_order_cast_position               2269\n",
      "unit_order_cast_target                16674\n",
      "unit_order_cast_target_tree           35712\n",
      "unit_order_cast_no_target               892\n",
      "unit_order_cast_toggle               401211\n",
      "unit_order_hold_position             137277\n",
      "unit_order_train_ability                 73\n",
      "unit_order_drop_item                 288667\n",
      "unit_order_give_item                 394631\n",
      "unit_order_pickup_item               244658\n",
      "unit_order_pickup_rune                74517\n",
      "unit_order_purchase_item                 57\n",
      "unit_order_sell_item                 111866\n",
      "unit_order_disassemble_item          485446\n",
      "unit_order_move_item                   4264\n",
      "unit_order_cast_toggle_auto          463670\n",
      "unit_order_stop                      412425\n",
      "unit_order_taunt                     500000\n",
      "unit_order_buyback                   352233\n",
      "unit_order_glyph                     273230\n",
      "unit_order_eject_item_from_stash     468736\n",
      "unit_order_cast_rune                 499991\n",
      "unit_order_ping_ability              160852\n",
      "unit_order_move_to_direction         496449\n",
      "unit_order_patrol                    500000\n",
      "unit_order_vector_target_position    500000\n",
      "unit_order_radar                     500000\n",
      "unit_order_set_item_combine_lock     500000\n",
      "unit_order_continue                  500000\n",
      "dtype: int64\n",
      "\n",
      "\n",
      "Die NA Werte sind nicht zu bereinigen, mit ihnen muss umgegangen werden.\n"
     ]
    }
   ],
   "source": [
    "print (\"Na Werte \\t\" +  str(df_players.isnull().sum()))\n",
    "print(\"\\n\\nDie NA Werte sind nicht zu bereinigen, mit ihnen muss umgegangen werden.\")"
   ]
  },
  {
   "cell_type": "code",
   "execution_count": 42,
   "metadata": {
    "collapsed": false
   },
   "outputs": [
    {
     "name": "stdout",
     "output_type": "stream",
     "text": [
      "Na Werte \tname              0\n",
      "hero_id           0\n",
      "localized_name    0\n",
      "dtype: int64\n"
     ]
    }
   ],
   "source": [
    "print (\"Na Werte \\t\" +  str(df_hero_names.isnull().sum()))"
   ]
  },
  {
   "cell_type": "markdown",
   "metadata": {},
   "source": [
    "## Überprüfung auf Ausreiser"
   ]
  },
  {
   "cell_type": "code",
   "execution_count": 47,
   "metadata": {
    "collapsed": false
   },
   "outputs": [],
   "source": [
    "\"\"\"\n",
    "# Visuelle Überprüfung auf Ausreißer mit Hilfe von Boxplots\n",
    "\n",
    "# get numeric columns to check\n",
    "cols = df_players.select_dtypes(include=[np.number]).columns\n",
    "fig, axes = plt.subplots(nrows=len(cols), ncols=1)\n",
    "# draw boxplot for each col ... need index to address axes\n",
    "for i in range(len(cols)):\n",
    "    sns.boxplot(x=cols[i], orient='h', data=df_players, ax=axes[i])\n",
    "    fig.tight_layout()\n",
    "    plt.show()\n",
    "\n",
    "# improve spacing and show\n",
    "fig.tight_layout()\n",
    "plt.show()\n",
    "\"\"\""
   ]
  },
  {
   "cell_type": "markdown",
   "metadata": {},
   "source": [
    "## Gibt es Helden die erfolgreicher sind als andere?"
   ]
  },
  {
   "cell_type": "code",
   "execution_count": 70,
   "metadata": {
    "collapsed": false
   },
   "outputs": [],
   "source": [
    "df_match_50000[\"radiant_win\"] = df_match_50000.radiant_win.astype(int)\n",
    "mat = df_match_50000.merge(df_match_50000,on='match_id').merge(df_players[df_players[\"player_slot\"]<6],on='match_id')"
   ]
  },
  {
   "cell_type": "code",
   "execution_count": 119,
   "metadata": {
    "collapsed": false
   },
   "outputs": [
    {
     "data": {
      "text/html": [
       "<div>\n",
       "<table border=\"1\" class=\"dataframe\">\n",
       "  <thead>\n",
       "    <tr style=\"text-align: right;\">\n",
       "      <th></th>\n",
       "      <th>winrate</th>\n",
       "      <th>hero_id</th>\n",
       "    </tr>\n",
       "  </thead>\n",
       "  <tbody>\n",
       "    <tr>\n",
       "      <th>0</th>\n",
       "      <td>0.136364</td>\n",
       "      <td>0</td>\n",
       "    </tr>\n",
       "    <tr>\n",
       "      <th>1</th>\n",
       "      <td>0.484149</td>\n",
       "      <td>1</td>\n",
       "    </tr>\n",
       "    <tr>\n",
       "      <th>2</th>\n",
       "      <td>0.454823</td>\n",
       "      <td>2</td>\n",
       "    </tr>\n",
       "    <tr>\n",
       "      <th>3</th>\n",
       "      <td>0.487500</td>\n",
       "      <td>3</td>\n",
       "    </tr>\n",
       "    <tr>\n",
       "      <th>4</th>\n",
       "      <td>0.469646</td>\n",
       "      <td>4</td>\n",
       "    </tr>\n",
       "  </tbody>\n",
       "</table>\n",
       "</div>"
      ],
      "text/plain": [
       "    winrate  hero_id\n",
       "0  0.136364        0\n",
       "1  0.484149        1\n",
       "2  0.454823        2\n",
       "3  0.487500        3\n",
       "4  0.469646        4"
      ]
     },
     "execution_count": 119,
     "metadata": {},
     "output_type": "execute_result"
    }
   ],
   "source": [
    "# mat.groupby('hero_id').mean()['radiant_win_x']\n",
    "df_gb_heroID = pd.DataFrame(mat.groupby('hero_id').mean()['radiant_win_x'], index=np.arange(113))\n",
    "df_gb_heroID.columns =[\"winrate\"]\n",
    "df_gb_heroID[\"hero_id\"] = np.arange(113)\n",
    "df_gb_heroID.head()"
   ]
  },
  {
   "cell_type": "code",
   "execution_count": 125,
   "metadata": {
    "collapsed": false
   },
   "outputs": [],
   "source": [
    "# df_hero_names =  df_hero_names.merge(df_hero_names,on='hero_id').merge(df_gb_heroID, on=\"hero_id\" ) \n",
    "df_hero_names = df_hero_names.merge(df_gb_heroID, left_on='hero_id', right_on='hero_id', how='outer')"
   ]
  },
  {
   "cell_type": "code",
   "execution_count": 137,
   "metadata": {
    "collapsed": false
   },
   "outputs": [
    {
     "ename": "SyntaxError",
     "evalue": "invalid syntax (<ipython-input-137-3ca1a11f3282>, line 3)",
     "output_type": "error",
     "traceback": [
      "\u001b[0;36m  File \u001b[0;32m\"<ipython-input-137-3ca1a11f3282>\"\u001b[0;36m, line \u001b[0;32m3\u001b[0m\n\u001b[0;31m    sns.barplot(data=df_hero_names.sort(\"winrate\"),x=\"localized_name\", y=\"winrate\",orient:\"h\")\u001b[0m\n\u001b[0m                                                                                         ^\u001b[0m\n\u001b[0;31mSyntaxError\u001b[0m\u001b[0;31m:\u001b[0m invalid syntax\n"
     ]
    }
   ],
   "source": [
    "# df_hero_names.sort(\"winrate\").plot.bar(x=\"localized_name\", y=\"winrate\")\n",
    "\n",
    "sns.barplot(data=df_hero_names.sort(\"winrate\"),x=\"localized_name\", y=\"winrate\",orient:\"h\")"
   ]
  }
 ],
 "metadata": {
  "anaconda-cloud": {},
  "kernelspec": {
   "display_name": "Python [conda root]",
   "language": "python",
   "name": "conda-root-py"
  },
  "language_info": {
   "codemirror_mode": {
    "name": "ipython",
    "version": 3
   },
   "file_extension": ".py",
   "mimetype": "text/x-python",
   "name": "python",
   "nbconvert_exporter": "python",
   "pygments_lexer": "ipython3",
   "version": "3.5.2"
  }
 },
 "nbformat": 4,
 "nbformat_minor": 1
}
