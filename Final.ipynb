{
 "cells": [
  {
   "cell_type": "markdown",
   "metadata": {
    "slideshow": {
     "slide_type": "slide"
    }
   },
   "source": [
    "# Dota 2 BDA SS 2017"
   ]
  },
  {
   "cell_type": "markdown",
   "metadata": {
    "slideshow": {
     "slide_type": "subslide"
    }
   },
   "source": [
    "### Projektmitglieder\n",
    "\n",
    "#### Degfar, Vitali, 4. Semester – 191904 \n",
    "#### Grünther, Adrian, 4. Semester – 191908\n",
    "#### Holzwarth, Robin, 6. Semester – 188569\n",
    "#### Maul, Yvonne, 4. Semester – 191914\n",
    "#### Sudahl, Maren, 5. Semester – 190517\n"
   ]
  },
  {
   "cell_type": "raw",
   "metadata": {
    "slideshow": {
     "slide_type": "subslide"
    }
   },
   "source": [
    "<img src = \"Images/crisp.png\" width = \"80%\">"
   ]
  },
  {
   "cell_type": "markdown",
   "metadata": {
    "slideshow": {
     "slide_type": "subslide"
    }
   },
   "source": [
    "## Kurzbeschreibung Datensatz"
   ]
  },
  {
   "cell_type": "markdown",
   "metadata": {
    "slideshow": {
     "slide_type": "fragment"
    }
   },
   "source": [
    "#### ca. 434 MB (zipped)\n",
    "#### 18 csv Files \n",
    "#### 16 verbunden Tabellen zu 50.000 Spielen \n",
    "  ##### 2 verbundene Tabellen zu 900.000 Spielausgängen\n",
    " Insgesamt"
   ]
  },
  {
   "cell_type": "markdown",
   "metadata": {
    "slideshow": {
     "slide_type": "slide"
    }
   },
   "source": [
    "## Allgemeine Vorbereitungen"
   ]
  },
  {
   "cell_type": "markdown",
   "metadata": {
    "slideshow": {
     "slide_type": "subslide"
    }
   },
   "source": [
    "### Laden der Bibliotheken"
   ]
  },
  {
   "cell_type": "code",
   "execution_count": 1,
   "metadata": {
    "collapsed": true,
    "slideshow": {
     "slide_type": "fragment"
    }
   },
   "outputs": [],
   "source": [
    "import numpy as np\n",
    "import pandas as pd\n",
    "import seaborn as sns\n",
    "import matplotlib.pyplot as plt\n",
    "import scipy.stats as stats\n",
    "\n",
    "%matplotlib inline\n",
    "import warnings\n",
    "warnings.filterwarnings('ignore')"
   ]
  },
  {
   "cell_type": "markdown",
   "metadata": {
    "slideshow": {
     "slide_type": "subslide"
    }
   },
   "source": [
    "### Definition Funktionen"
   ]
  },
  {
   "cell_type": "code",
   "execution_count": 2,
   "metadata": {
    "collapsed": true,
    "slideshow": {
     "slide_type": "fragment"
    }
   },
   "outputs": [],
   "source": [
    "def ccc(crosstab):\n",
    "    chi2 = stats.chi2_contingency(crosstab)[0]\n",
    "    q = min(crosstab.shape)\n",
    "    if q > 1:\n",
    "        return np.sqrt(chi2 / (chi2 + crosstab.values.sum())) * np.sqrt(q / (q-1))\n",
    "    else:\n",
    "        return 0"
   ]
  },
  {
   "cell_type": "markdown",
   "metadata": {
    "slideshow": {
     "slide_type": "subslide"
    }
   },
   "source": [
    "### Laden der Daten"
   ]
  },
  {
   "cell_type": "code",
   "execution_count": 3,
   "metadata": {
    "slideshow": {
     "slide_type": "fragment"
    }
   },
   "outputs": [],
   "source": [
    "df_player = pd.read_csv('data/players.csv', memory_map=True)\n",
    "df_match = pd.read_csv('data/match.csv', memory_map=True)\n",
    "df_chat = pd.read_csv(\"data/chat.csv\", memory_map=True)\n",
    "df_hero_names = pd.read_csv('data/hero_names.csv', memory_map=True)"
   ]
  },
  {
   "cell_type": "markdown",
   "metadata": {
    "slideshow": {
     "slide_type": "subslide"
    }
   },
   "source": [
    "### Cleanup Daten"
   ]
  },
  {
   "cell_type": "code",
   "execution_count": 4,
   "metadata": {
    "collapsed": true,
    "slideshow": {
     "slide_type": "fragment"
    }
   },
   "outputs": [],
   "source": [
    "df_chat.drop([\n",
    "    'unit',\n",
    "    'time',],\n",
    "    axis=1,\n",
    "    inplace=True)"
   ]
  },
  {
   "cell_type": "code",
   "execution_count": 5,
   "metadata": {
    "collapsed": true,
    "slideshow": {
     "slide_type": "fragment"
    }
   },
   "outputs": [],
   "source": [
    "df_match.drop([\n",
    "    'start_time',\n",
    "    'tower_status_radiant',\n",
    "    'tower_status_dire',\n",
    "    'barracks_status_radiant',\n",
    "    'barracks_status_dire',\n",
    "    'first_blood_time',\n",
    "    'game_mode',\n",
    "    'negative_votes',\n",
    "    'positive_votes',\n",
    "    'cluster'],\n",
    "    axis=1,\n",
    "    inplace=True)"
   ]
  },
  {
   "cell_type": "code",
   "execution_count": 6,
   "metadata": {
    "slideshow": {
     "slide_type": "fragment"
    }
   },
   "outputs": [],
   "source": [
    "df_player.drop([\n",
    "    'account_id',\n",
    "    'gold_per_min',\n",
    "    'xp_per_min',\n",
    "    'denies',\n",
    "    'last_hits',\n",
    "    'stuns',\n",
    "    'hero_damage',\n",
    "    'hero_healing',\n",
    "    'tower_damage',\n",
    "    'item_0',\n",
    "    'item_1',\n",
    "    'item_2',\n",
    "    'item_3',\n",
    "    'item_4',\n",
    "    'item_5',\n",
    "    'level',\n",
    "    'leaver_status',\n",
    "    'xp_hero',\n",
    "    'xp_creep',\n",
    "    'xp_roshan',\n",
    "    'xp_other',\n",
    "    'gold_other',\n",
    "    'gold_death',\n",
    "    'gold_buyback',\n",
    "    'gold_abandon',\n",
    "    'gold_sell',\n",
    "    'gold_destroying_structure',\n",
    "    'gold_killing_heros',\n",
    "    'gold_killing_creeps',\n",
    "    'gold_killing_roshan',\n",
    "    'gold_killing_couriers',\n",
    "    'unit_order_none',\n",
    "    'unit_order_move_to_position',\n",
    "    'unit_order_move_to_target',\n",
    "    'unit_order_attack_move',\n",
    "    'unit_order_attack_target',\n",
    "    'unit_order_cast_position',\n",
    "    'unit_order_cast_target',\n",
    "    'unit_order_cast_target_tree',\n",
    "    'unit_order_cast_no_target',\n",
    "    'unit_order_cast_toggle',\n",
    "    'unit_order_hold_position',\n",
    "    'unit_order_train_ability',\n",
    "    'unit_order_drop_item',\n",
    "    'unit_order_give_item',\n",
    "    'unit_order_pickup_item',\n",
    "    'unit_order_pickup_rune',\n",
    "    'unit_order_purchase_item',\n",
    "    'unit_order_sell_item',\n",
    "    'unit_order_disassemble_item',\n",
    "    'unit_order_move_item',\n",
    "    'unit_order_cast_toggle_auto',\n",
    "    'unit_order_stop',\n",
    "    'unit_order_taunt',\n",
    "    'unit_order_buyback',\n",
    "    'unit_order_glyph',\n",
    "    'unit_order_eject_item_from_stash',\n",
    "    'unit_order_cast_rune',\n",
    "    'unit_order_ping_ability',\n",
    "    'unit_order_move_to_direction',\n",
    "    'unit_order_patrol',\n",
    "    'unit_order_vector_target_position',\n",
    "    'unit_order_radar',\n",
    "    'unit_order_set_item_combine_lock',\n",
    "    'unit_order_continue'], axis=1, inplace=True)"
   ]
  },
  {
   "cell_type": "markdown",
   "metadata": {
    "slideshow": {
     "slide_type": "slide"
    }
   },
   "source": [
    "## Überprüfen auf fehlenden Werte"
   ]
  },
  {
   "cell_type": "markdown",
   "metadata": {
    "collapsed": true,
    "slideshow": {
     "slide_type": "subslide"
    }
   },
   "source": [
    "#### Match"
   ]
  },
  {
   "cell_type": "code",
   "execution_count": 7,
   "metadata": {
    "slideshow": {
     "slide_type": "fragment"
    }
   },
   "outputs": [
    {
     "name": "stdout",
     "output_type": "stream",
     "text": [
      "NA Werte \tmatch_id       0\n",
      "duration       0\n",
      "radiant_win    0\n",
      "dtype: int64\n"
     ]
    }
   ],
   "source": [
    "print (\"NA Werte \\t\" +  str(df_match.isnull().sum()))\n"
   ]
  },
  {
   "cell_type": "markdown",
   "metadata": {
    "collapsed": true,
    "slideshow": {
     "slide_type": "subslide"
    }
   },
   "source": [
    "#### Player"
   ]
  },
  {
   "cell_type": "code",
   "execution_count": 8,
   "metadata": {
    "scrolled": false,
    "slideshow": {
     "slide_type": "fragment"
    }
   },
   "outputs": [
    {
     "name": "stdout",
     "output_type": "stream",
     "text": [
      "NA Werte \tmatch_id       0\n",
      "hero_id        0\n",
      "player_slot    0\n",
      "gold           0\n",
      "gold_spent     0\n",
      "kills          0\n",
      "deaths         0\n",
      "assists        0\n",
      "dtype: int64\n"
     ]
    }
   ],
   "source": [
    "print (\"NA Werte \\t\" +  str(df_player.isnull().sum()))"
   ]
  },
  {
   "cell_type": "markdown",
   "metadata": {
    "collapsed": true,
    "slideshow": {
     "slide_type": "subslide"
    }
   },
   "source": [
    "#### Chat"
   ]
  },
  {
   "cell_type": "code",
   "execution_count": 9,
   "metadata": {
    "scrolled": false,
    "slideshow": {
     "slide_type": "fragment"
    }
   },
   "outputs": [
    {
     "name": "stdout",
     "output_type": "stream",
     "text": [
      "NA Werte \tmatch_id     0\n",
      "key         11\n",
      "slot         1\n",
      "dtype: int64\n"
     ]
    }
   ],
   "source": [
    "print (\"NA Werte \\t\" +  str(df_chat.isnull().sum()))"
   ]
  },
  {
   "cell_type": "markdown",
   "metadata": {
    "collapsed": true,
    "slideshow": {
     "slide_type": "subslide"
    }
   },
   "source": [
    "#### Hero Names"
   ]
  },
  {
   "cell_type": "code",
   "execution_count": 10,
   "metadata": {
    "slideshow": {
     "slide_type": "fragment"
    }
   },
   "outputs": [
    {
     "name": "stdout",
     "output_type": "stream",
     "text": [
      "NA Werte \tname              0\n",
      "hero_id           0\n",
      "localized_name    0\n",
      "dtype: int64\n"
     ]
    }
   ],
   "source": [
    "print (\"NA Werte \\t\" +  str(df_hero_names.isnull().sum()))"
   ]
  },
  {
   "cell_type": "markdown",
   "metadata": {
    "slideshow": {
     "slide_type": "slide"
    }
   },
   "source": [
    "## Daten"
   ]
  },
  {
   "cell_type": "markdown",
   "metadata": {
    "slideshow": {
     "slide_type": "subslide"
    }
   },
   "source": [
    "### Matches"
   ]
  },
  {
   "cell_type": "code",
   "execution_count": 11,
   "metadata": {
    "slideshow": {
     "slide_type": "fragment"
    }
   },
   "outputs": [
    {
     "data": {
      "text/html": [
       "<div>\n",
       "<style>\n",
       "    .dataframe thead tr:only-child th {\n",
       "        text-align: right;\n",
       "    }\n",
       "\n",
       "    .dataframe thead th {\n",
       "        text-align: left;\n",
       "    }\n",
       "\n",
       "    .dataframe tbody tr th {\n",
       "        vertical-align: top;\n",
       "    }\n",
       "</style>\n",
       "<table border=\"1\" class=\"dataframe\">\n",
       "  <thead>\n",
       "    <tr style=\"text-align: right;\">\n",
       "      <th></th>\n",
       "      <th>match_id</th>\n",
       "      <th>duration</th>\n",
       "      <th>radiant_win</th>\n",
       "    </tr>\n",
       "  </thead>\n",
       "  <tbody>\n",
       "    <tr>\n",
       "      <th>0</th>\n",
       "      <td>0</td>\n",
       "      <td>2375</td>\n",
       "      <td>True</td>\n",
       "    </tr>\n",
       "    <tr>\n",
       "      <th>1</th>\n",
       "      <td>1</td>\n",
       "      <td>2582</td>\n",
       "      <td>False</td>\n",
       "    </tr>\n",
       "    <tr>\n",
       "      <th>2</th>\n",
       "      <td>2</td>\n",
       "      <td>2716</td>\n",
       "      <td>False</td>\n",
       "    </tr>\n",
       "    <tr>\n",
       "      <th>3</th>\n",
       "      <td>3</td>\n",
       "      <td>3085</td>\n",
       "      <td>False</td>\n",
       "    </tr>\n",
       "    <tr>\n",
       "      <th>4</th>\n",
       "      <td>4</td>\n",
       "      <td>1887</td>\n",
       "      <td>True</td>\n",
       "    </tr>\n",
       "  </tbody>\n",
       "</table>\n",
       "</div>"
      ],
      "text/plain": [
       "   match_id  duration  radiant_win\n",
       "0         0      2375         True\n",
       "1         1      2582        False\n",
       "2         2      2716        False\n",
       "3         3      3085        False\n",
       "4         4      1887         True"
      ]
     },
     "execution_count": 11,
     "metadata": {},
     "output_type": "execute_result"
    }
   ],
   "source": [
    "df_match.head()"
   ]
  },
  {
   "cell_type": "code",
   "execution_count": 12,
   "metadata": {
    "slideshow": {
     "slide_type": "fragment"
    }
   },
   "outputs": [
    {
     "data": {
      "text/html": [
       "<div>\n",
       "<style>\n",
       "    .dataframe thead tr:only-child th {\n",
       "        text-align: right;\n",
       "    }\n",
       "\n",
       "    .dataframe thead th {\n",
       "        text-align: left;\n",
       "    }\n",
       "\n",
       "    .dataframe tbody tr th {\n",
       "        vertical-align: top;\n",
       "    }\n",
       "</style>\n",
       "<table border=\"1\" class=\"dataframe\">\n",
       "  <thead>\n",
       "    <tr style=\"text-align: right;\">\n",
       "      <th></th>\n",
       "      <th>match_id</th>\n",
       "      <th>duration</th>\n",
       "    </tr>\n",
       "  </thead>\n",
       "  <tbody>\n",
       "    <tr>\n",
       "      <th>count</th>\n",
       "      <td>50000.000000</td>\n",
       "      <td>50000.000000</td>\n",
       "    </tr>\n",
       "    <tr>\n",
       "      <th>mean</th>\n",
       "      <td>24999.500000</td>\n",
       "      <td>2476.453500</td>\n",
       "    </tr>\n",
       "    <tr>\n",
       "      <th>std</th>\n",
       "      <td>14433.901067</td>\n",
       "      <td>634.631261</td>\n",
       "    </tr>\n",
       "    <tr>\n",
       "      <th>min</th>\n",
       "      <td>0.000000</td>\n",
       "      <td>59.000000</td>\n",
       "    </tr>\n",
       "    <tr>\n",
       "      <th>25%</th>\n",
       "      <td>12499.750000</td>\n",
       "      <td>2029.000000</td>\n",
       "    </tr>\n",
       "    <tr>\n",
       "      <th>50%</th>\n",
       "      <td>24999.500000</td>\n",
       "      <td>2415.000000</td>\n",
       "    </tr>\n",
       "    <tr>\n",
       "      <th>75%</th>\n",
       "      <td>37499.250000</td>\n",
       "      <td>2872.000000</td>\n",
       "    </tr>\n",
       "    <tr>\n",
       "      <th>max</th>\n",
       "      <td>49999.000000</td>\n",
       "      <td>16037.000000</td>\n",
       "    </tr>\n",
       "  </tbody>\n",
       "</table>\n",
       "</div>"
      ],
      "text/plain": [
       "           match_id      duration\n",
       "count  50000.000000  50000.000000\n",
       "mean   24999.500000   2476.453500\n",
       "std    14433.901067    634.631261\n",
       "min        0.000000     59.000000\n",
       "25%    12499.750000   2029.000000\n",
       "50%    24999.500000   2415.000000\n",
       "75%    37499.250000   2872.000000\n",
       "max    49999.000000  16037.000000"
      ]
     },
     "execution_count": 12,
     "metadata": {},
     "output_type": "execute_result"
    }
   ],
   "source": [
    "df_match.describe()"
   ]
  },
  {
   "cell_type": "markdown",
   "metadata": {
    "slideshow": {
     "slide_type": "subslide"
    }
   },
   "source": [
    "### Spieler"
   ]
  },
  {
   "cell_type": "code",
   "execution_count": 13,
   "metadata": {
    "slideshow": {
     "slide_type": "fragment"
    }
   },
   "outputs": [
    {
     "data": {
      "text/html": [
       "<div>\n",
       "<style>\n",
       "    .dataframe thead tr:only-child th {\n",
       "        text-align: right;\n",
       "    }\n",
       "\n",
       "    .dataframe thead th {\n",
       "        text-align: left;\n",
       "    }\n",
       "\n",
       "    .dataframe tbody tr th {\n",
       "        vertical-align: top;\n",
       "    }\n",
       "</style>\n",
       "<table border=\"1\" class=\"dataframe\">\n",
       "  <thead>\n",
       "    <tr style=\"text-align: right;\">\n",
       "      <th></th>\n",
       "      <th>match_id</th>\n",
       "      <th>hero_id</th>\n",
       "      <th>player_slot</th>\n",
       "      <th>gold</th>\n",
       "      <th>gold_spent</th>\n",
       "      <th>kills</th>\n",
       "      <th>deaths</th>\n",
       "      <th>assists</th>\n",
       "    </tr>\n",
       "  </thead>\n",
       "  <tbody>\n",
       "    <tr>\n",
       "      <th>0</th>\n",
       "      <td>0</td>\n",
       "      <td>86</td>\n",
       "      <td>0</td>\n",
       "      <td>3261</td>\n",
       "      <td>10960</td>\n",
       "      <td>9</td>\n",
       "      <td>3</td>\n",
       "      <td>18</td>\n",
       "    </tr>\n",
       "    <tr>\n",
       "      <th>1</th>\n",
       "      <td>0</td>\n",
       "      <td>51</td>\n",
       "      <td>1</td>\n",
       "      <td>2954</td>\n",
       "      <td>17760</td>\n",
       "      <td>13</td>\n",
       "      <td>3</td>\n",
       "      <td>18</td>\n",
       "    </tr>\n",
       "    <tr>\n",
       "      <th>2</th>\n",
       "      <td>0</td>\n",
       "      <td>83</td>\n",
       "      <td>2</td>\n",
       "      <td>110</td>\n",
       "      <td>12195</td>\n",
       "      <td>0</td>\n",
       "      <td>4</td>\n",
       "      <td>15</td>\n",
       "    </tr>\n",
       "    <tr>\n",
       "      <th>3</th>\n",
       "      <td>0</td>\n",
       "      <td>11</td>\n",
       "      <td>3</td>\n",
       "      <td>1179</td>\n",
       "      <td>22505</td>\n",
       "      <td>8</td>\n",
       "      <td>4</td>\n",
       "      <td>19</td>\n",
       "    </tr>\n",
       "    <tr>\n",
       "      <th>4</th>\n",
       "      <td>0</td>\n",
       "      <td>67</td>\n",
       "      <td>4</td>\n",
       "      <td>3307</td>\n",
       "      <td>23825</td>\n",
       "      <td>20</td>\n",
       "      <td>3</td>\n",
       "      <td>17</td>\n",
       "    </tr>\n",
       "  </tbody>\n",
       "</table>\n",
       "</div>"
      ],
      "text/plain": [
       "   match_id  hero_id  player_slot  gold  gold_spent  kills  deaths  assists\n",
       "0         0       86            0  3261       10960      9       3       18\n",
       "1         0       51            1  2954       17760     13       3       18\n",
       "2         0       83            2   110       12195      0       4       15\n",
       "3         0       11            3  1179       22505      8       4       19\n",
       "4         0       67            4  3307       23825     20       3       17"
      ]
     },
     "execution_count": 13,
     "metadata": {},
     "output_type": "execute_result"
    }
   ],
   "source": [
    "df_player.head()"
   ]
  },
  {
   "cell_type": "code",
   "execution_count": 14,
   "metadata": {
    "slideshow": {
     "slide_type": "fragment"
    }
   },
   "outputs": [
    {
     "data": {
      "text/html": [
       "<div>\n",
       "<style>\n",
       "    .dataframe thead tr:only-child th {\n",
       "        text-align: right;\n",
       "    }\n",
       "\n",
       "    .dataframe thead th {\n",
       "        text-align: left;\n",
       "    }\n",
       "\n",
       "    .dataframe tbody tr th {\n",
       "        vertical-align: top;\n",
       "    }\n",
       "</style>\n",
       "<table border=\"1\" class=\"dataframe\">\n",
       "  <thead>\n",
       "    <tr style=\"text-align: right;\">\n",
       "      <th></th>\n",
       "      <th>match_id</th>\n",
       "      <th>hero_id</th>\n",
       "      <th>player_slot</th>\n",
       "      <th>gold</th>\n",
       "      <th>gold_spent</th>\n",
       "      <th>kills</th>\n",
       "      <th>deaths</th>\n",
       "      <th>assists</th>\n",
       "    </tr>\n",
       "  </thead>\n",
       "  <tbody>\n",
       "    <tr>\n",
       "      <th>count</th>\n",
       "      <td>500000.000000</td>\n",
       "      <td>500000.000000</td>\n",
       "      <td>500000.000000</td>\n",
       "      <td>500000.000000</td>\n",
       "      <td>500000.000000</td>\n",
       "      <td>500000.000000</td>\n",
       "      <td>500000.000000</td>\n",
       "      <td>500000.000000</td>\n",
       "    </tr>\n",
       "    <tr>\n",
       "      <th>mean</th>\n",
       "      <td>24999.500000</td>\n",
       "      <td>50.551456</td>\n",
       "      <td>66.000000</td>\n",
       "      <td>1888.516638</td>\n",
       "      <td>14110.043850</td>\n",
       "      <td>7.404500</td>\n",
       "      <td>7.680752</td>\n",
       "      <td>11.761900</td>\n",
       "    </tr>\n",
       "    <tr>\n",
       "      <th>std</th>\n",
       "      <td>14433.771161</td>\n",
       "      <td>32.809123</td>\n",
       "      <td>64.015687</td>\n",
       "      <td>1742.949262</td>\n",
       "      <td>6401.868898</td>\n",
       "      <td>5.437802</td>\n",
       "      <td>3.808092</td>\n",
       "      <td>6.393375</td>\n",
       "    </tr>\n",
       "    <tr>\n",
       "      <th>min</th>\n",
       "      <td>0.000000</td>\n",
       "      <td>0.000000</td>\n",
       "      <td>0.000000</td>\n",
       "      <td>0.000000</td>\n",
       "      <td>0.000000</td>\n",
       "      <td>0.000000</td>\n",
       "      <td>0.000000</td>\n",
       "      <td>0.000000</td>\n",
       "    </tr>\n",
       "    <tr>\n",
       "      <th>25%</th>\n",
       "      <td>12499.750000</td>\n",
       "      <td>21.000000</td>\n",
       "      <td>2.000000</td>\n",
       "      <td>586.000000</td>\n",
       "      <td>9590.000000</td>\n",
       "      <td>3.000000</td>\n",
       "      <td>5.000000</td>\n",
       "      <td>7.000000</td>\n",
       "    </tr>\n",
       "    <tr>\n",
       "      <th>50%</th>\n",
       "      <td>24999.500000</td>\n",
       "      <td>47.000000</td>\n",
       "      <td>66.000000</td>\n",
       "      <td>1350.000000</td>\n",
       "      <td>13110.000000</td>\n",
       "      <td>6.000000</td>\n",
       "      <td>8.000000</td>\n",
       "      <td>11.000000</td>\n",
       "    </tr>\n",
       "    <tr>\n",
       "      <th>75%</th>\n",
       "      <td>37499.250000</td>\n",
       "      <td>75.000000</td>\n",
       "      <td>130.000000</td>\n",
       "      <td>2742.000000</td>\n",
       "      <td>17635.000000</td>\n",
       "      <td>10.000000</td>\n",
       "      <td>10.000000</td>\n",
       "      <td>16.000000</td>\n",
       "    </tr>\n",
       "    <tr>\n",
       "      <th>max</th>\n",
       "      <td>49999.000000</td>\n",
       "      <td>112.000000</td>\n",
       "      <td>132.000000</td>\n",
       "      <td>46424.000000</td>\n",
       "      <td>200000.000000</td>\n",
       "      <td>59.000000</td>\n",
       "      <td>42.000000</td>\n",
       "      <td>54.000000</td>\n",
       "    </tr>\n",
       "  </tbody>\n",
       "</table>\n",
       "</div>"
      ],
      "text/plain": [
       "            match_id        hero_id    player_slot           gold  \\\n",
       "count  500000.000000  500000.000000  500000.000000  500000.000000   \n",
       "mean    24999.500000      50.551456      66.000000    1888.516638   \n",
       "std     14433.771161      32.809123      64.015687    1742.949262   \n",
       "min         0.000000       0.000000       0.000000       0.000000   \n",
       "25%     12499.750000      21.000000       2.000000     586.000000   \n",
       "50%     24999.500000      47.000000      66.000000    1350.000000   \n",
       "75%     37499.250000      75.000000     130.000000    2742.000000   \n",
       "max     49999.000000     112.000000     132.000000   46424.000000   \n",
       "\n",
       "          gold_spent          kills         deaths        assists  \n",
       "count  500000.000000  500000.000000  500000.000000  500000.000000  \n",
       "mean    14110.043850       7.404500       7.680752      11.761900  \n",
       "std      6401.868898       5.437802       3.808092       6.393375  \n",
       "min         0.000000       0.000000       0.000000       0.000000  \n",
       "25%      9590.000000       3.000000       5.000000       7.000000  \n",
       "50%     13110.000000       6.000000       8.000000      11.000000  \n",
       "75%     17635.000000      10.000000      10.000000      16.000000  \n",
       "max    200000.000000      59.000000      42.000000      54.000000  "
      ]
     },
     "execution_count": 14,
     "metadata": {},
     "output_type": "execute_result"
    }
   ],
   "source": [
    "df_player.describe()"
   ]
  },
  {
   "cell_type": "markdown",
   "metadata": {
    "slideshow": {
     "slide_type": "subslide"
    }
   },
   "source": [
    "### Chat"
   ]
  },
  {
   "cell_type": "code",
   "execution_count": 15,
   "metadata": {
    "slideshow": {
     "slide_type": "fragment"
    }
   },
   "outputs": [
    {
     "data": {
      "text/html": [
       "<div>\n",
       "<style>\n",
       "    .dataframe thead tr:only-child th {\n",
       "        text-align: right;\n",
       "    }\n",
       "\n",
       "    .dataframe thead th {\n",
       "        text-align: left;\n",
       "    }\n",
       "\n",
       "    .dataframe tbody tr th {\n",
       "        vertical-align: top;\n",
       "    }\n",
       "</style>\n",
       "<table border=\"1\" class=\"dataframe\">\n",
       "  <thead>\n",
       "    <tr style=\"text-align: right;\">\n",
       "      <th></th>\n",
       "      <th>match_id</th>\n",
       "      <th>key</th>\n",
       "      <th>slot</th>\n",
       "    </tr>\n",
       "  </thead>\n",
       "  <tbody>\n",
       "    <tr>\n",
       "      <th>0</th>\n",
       "      <td>0</td>\n",
       "      <td>force it</td>\n",
       "      <td>6.0</td>\n",
       "    </tr>\n",
       "    <tr>\n",
       "      <th>1</th>\n",
       "      <td>0</td>\n",
       "      <td>space created</td>\n",
       "      <td>1.0</td>\n",
       "    </tr>\n",
       "    <tr>\n",
       "      <th>2</th>\n",
       "      <td>0</td>\n",
       "      <td>hah</td>\n",
       "      <td>1.0</td>\n",
       "    </tr>\n",
       "    <tr>\n",
       "      <th>3</th>\n",
       "      <td>0</td>\n",
       "      <td>ez 500</td>\n",
       "      <td>6.0</td>\n",
       "    </tr>\n",
       "    <tr>\n",
       "      <th>4</th>\n",
       "      <td>0</td>\n",
       "      <td>mvp ulti</td>\n",
       "      <td>4.0</td>\n",
       "    </tr>\n",
       "  </tbody>\n",
       "</table>\n",
       "</div>"
      ],
      "text/plain": [
       "   match_id            key  slot\n",
       "0         0       force it   6.0\n",
       "1         0  space created   1.0\n",
       "2         0            hah   1.0\n",
       "3         0         ez 500   6.0\n",
       "4         0       mvp ulti   4.0"
      ]
     },
     "execution_count": 15,
     "metadata": {},
     "output_type": "execute_result"
    }
   ],
   "source": [
    "df_chat.head()"
   ]
  },
  {
   "cell_type": "code",
   "execution_count": 16,
   "metadata": {
    "slideshow": {
     "slide_type": "fragment"
    }
   },
   "outputs": [
    {
     "data": {
      "text/html": [
       "<div>\n",
       "<style>\n",
       "    .dataframe thead tr:only-child th {\n",
       "        text-align: right;\n",
       "    }\n",
       "\n",
       "    .dataframe thead th {\n",
       "        text-align: left;\n",
       "    }\n",
       "\n",
       "    .dataframe tbody tr th {\n",
       "        vertical-align: top;\n",
       "    }\n",
       "</style>\n",
       "<table border=\"1\" class=\"dataframe\">\n",
       "  <thead>\n",
       "    <tr style=\"text-align: right;\">\n",
       "      <th></th>\n",
       "      <th>match_id</th>\n",
       "      <th>slot</th>\n",
       "    </tr>\n",
       "  </thead>\n",
       "  <tbody>\n",
       "    <tr>\n",
       "      <th>count</th>\n",
       "      <td>1.285417e+06</td>\n",
       "      <td>1.285416e+06</td>\n",
       "    </tr>\n",
       "    <tr>\n",
       "      <th>mean</th>\n",
       "      <td>2.226965e+04</td>\n",
       "      <td>4.494922e+00</td>\n",
       "    </tr>\n",
       "    <tr>\n",
       "      <th>std</th>\n",
       "      <td>1.303931e+04</td>\n",
       "      <td>2.878164e+00</td>\n",
       "    </tr>\n",
       "    <tr>\n",
       "      <th>min</th>\n",
       "      <td>0.000000e+00</td>\n",
       "      <td>-9.000000e+00</td>\n",
       "    </tr>\n",
       "    <tr>\n",
       "      <th>25%</th>\n",
       "      <td>1.081200e+04</td>\n",
       "      <td>2.000000e+00</td>\n",
       "    </tr>\n",
       "    <tr>\n",
       "      <th>50%</th>\n",
       "      <td>2.232200e+04</td>\n",
       "      <td>5.000000e+00</td>\n",
       "    </tr>\n",
       "    <tr>\n",
       "      <th>75%</th>\n",
       "      <td>3.380000e+04</td>\n",
       "      <td>7.000000e+00</td>\n",
       "    </tr>\n",
       "    <tr>\n",
       "      <th>max</th>\n",
       "      <td>4.461800e+04</td>\n",
       "      <td>9.000000e+00</td>\n",
       "    </tr>\n",
       "  </tbody>\n",
       "</table>\n",
       "</div>"
      ],
      "text/plain": [
       "           match_id          slot\n",
       "count  1.285417e+06  1.285416e+06\n",
       "mean   2.226965e+04  4.494922e+00\n",
       "std    1.303931e+04  2.878164e+00\n",
       "min    0.000000e+00 -9.000000e+00\n",
       "25%    1.081200e+04  2.000000e+00\n",
       "50%    2.232200e+04  5.000000e+00\n",
       "75%    3.380000e+04  7.000000e+00\n",
       "max    4.461800e+04  9.000000e+00"
      ]
     },
     "execution_count": 16,
     "metadata": {},
     "output_type": "execute_result"
    }
   ],
   "source": [
    "df_chat.describe()"
   ]
  },
  {
   "cell_type": "markdown",
   "metadata": {
    "slideshow": {
     "slide_type": "slide"
    }
   },
   "source": [
    "## Überprüfung auf Ausreiser"
   ]
  },
  {
   "cell_type": "markdown",
   "metadata": {
    "slideshow": {
     "slide_type": "subslide"
    }
   },
   "source": [
    "### Player"
   ]
  },
  {
   "cell_type": "code",
   "execution_count": 17,
   "metadata": {
    "slideshow": {
     "slide_type": "skip"
    }
   },
   "outputs": [
    {
     "data": {
      "image/png": "[encoded data removed]",
      "text/plain": [
       "<matplotlib.figure.Figure at 0x21939f73cf8>"
      ]
     },
     "metadata": {},
     "output_type": "display_data"
    }
   ],
   "source": [
    "cols = df_player.select_dtypes(include=[np.number]).columns\n",
    "fig, axes = plt.subplots(nrows=len(cols), ncols=1, figsize=(5, 15))\n",
    "\n",
    "for i in range(len(cols)):\n",
    "    sns.boxplot(x=cols[i], orient='h', data=df_player, ax=axes[i])\n",
    "\n",
    "fig.tight_layout()"
   ]
  },
  {
   "cell_type": "code",
   "execution_count": 18,
   "metadata": {
    "collapsed": true,
    "slideshow": {
     "slide_type": "fragment"
    }
   },
   "outputs": [],
   "source": [
    "plt.show()"
   ]
  },
  {
   "cell_type": "markdown",
   "metadata": {
    "slideshow": {
     "slide_type": "subslide"
    }
   },
   "source": [
    "### Matches"
   ]
  },
  {
   "cell_type": "code",
   "execution_count": 19,
   "metadata": {
    "slideshow": {
     "slide_type": "skip"
    }
   },
   "outputs": [
    {
     "data": {
      "image/png": "[encoded data removed]",
      "text/plain": [
       "<matplotlib.figure.Figure at 0x2192ce62eb8>"
      ]
     },
     "metadata": {},
     "output_type": "display_data"
    }
   ],
   "source": [
    "# Ausreiser mit Hilfe von Boxplots in df_match visualisieren\n",
    "cols = df_match.select_dtypes(include=[np.number]).columns\n",
    "fig, axes = plt.subplots(nrows=len(cols), ncols=1, figsize=(5, 5))\n",
    "\n",
    "for i in range(len(cols)):\n",
    "    sns.boxplot(x=cols[i], orient='h', data=df_match, ax=axes[i])\n",
    "\n",
    "fig.tight_layout()"
   ]
  },
  {
   "cell_type": "code",
   "execution_count": 20,
   "metadata": {
    "collapsed": true,
    "slideshow": {
     "slide_type": "fragment"
    }
   },
   "outputs": [],
   "source": [
    "plt.show()"
   ]
  },
  {
   "cell_type": "markdown",
   "metadata": {
    "slideshow": {
     "slide_type": "slide"
    }
   },
   "source": [
    "## Gibt es Helden die erfolgreicher sind als andere?"
   ]
  },
  {
   "cell_type": "code",
   "execution_count": 21,
   "metadata": {
    "slideshow": {
     "slide_type": "skip"
    }
   },
   "outputs": [],
   "source": [
    "# Lokale Variablen\n",
    "match = df_match.copy()\n",
    "player = df_player.copy()\n",
    "hero_names = df_hero_names.copy()"
   ]
  },
  {
   "cell_type": "code",
   "execution_count": 22,
   "metadata": {
    "slideshow": {
     "slide_type": "skip"
    }
   },
   "outputs": [
    {
     "data": {
      "text/plain": [
       "match_id       int64\n",
       "duration       int64\n",
       "radiant_win     bool\n",
       "dtype: object"
      ]
     },
     "execution_count": 22,
     "metadata": {},
     "output_type": "execute_result"
    }
   ],
   "source": [
    "# Datentypen der Spalten von df_match\n",
    "# hier kann man erkennen, dass die Spalte radiant_win einen boolischen Wert hat\n",
    "match.dtypes"
   ]
  },
  {
   "cell_type": "code",
   "execution_count": 23,
   "metadata": {
    "slideshow": {
     "slide_type": "skip"
    }
   },
   "outputs": [
    {
     "data": {
      "text/plain": [
       "(50000, 3)"
      ]
     },
     "execution_count": 23,
     "metadata": {},
     "output_type": "execute_result"
    }
   ],
   "source": [
    "# Anzahl Zeilen und Spalten von df_match\n",
    "match.shape"
   ]
  },
  {
   "cell_type": "code",
   "execution_count": 24,
   "metadata": {
    "slideshow": {
     "slide_type": "skip"
    }
   },
   "outputs": [
    {
     "data": {
      "text/plain": [
       "(500000, 8)"
      ]
     },
     "execution_count": 24,
     "metadata": {},
     "output_type": "execute_result"
    }
   ],
   "source": [
    "# Anzahl Zeilen und Spalten von df_player\n",
    "player.shape"
   ]
  },
  {
   "cell_type": "code",
   "execution_count": 25,
   "metadata": {
    "collapsed": true,
    "slideshow": {
     "slide_type": "skip"
    }
   },
   "outputs": [],
   "source": [
    "# Aus boolischen Werten Spalte \"radiant_win\" in int umwandeln\n",
    "match[\"radiant_win\"] = match.radiant_win.astype(int)"
   ]
  },
  {
   "cell_type": "code",
   "execution_count": 26,
   "metadata": {
    "slideshow": {
     "slide_type": "skip"
    }
   },
   "outputs": [
    {
     "data": {
      "text/plain": [
       "0    1\n",
       "1    0\n",
       "2    0\n",
       "3    0\n",
       "4    1\n",
       "Name: radiant_win, dtype: int32"
      ]
     },
     "execution_count": 26,
     "metadata": {},
     "output_type": "execute_result"
    }
   ],
   "source": [
    "match[\"radiant_win\"].head()"
   ]
  },
  {
   "cell_type": "code",
   "execution_count": 27,
   "metadata": {
    "collapsed": true,
    "slideshow": {
     "slide_type": "skip"
    }
   },
   "outputs": [],
   "source": [
    "# beide Datensätze verbinduen mit Hilfe von match_id und Betrahtung nur von Teammitglieder mit player_slot 0-4\n",
    "mat = match.merge(player[player[\"player_slot\"]<6],on='match_id')"
   ]
  },
  {
   "cell_type": "markdown",
   "metadata": {
    "slideshow": {
     "slide_type": "subslide"
    }
   },
   "source": [
    "#### Merge von Matches und Player (nur ein Team) "
   ]
  },
  {
   "cell_type": "code",
   "execution_count": 28,
   "metadata": {
    "slideshow": {
     "slide_type": "fragment"
    }
   },
   "outputs": [
    {
     "data": {
      "text/html": [
       "<div>\n",
       "<style>\n",
       "    .dataframe thead tr:only-child th {\n",
       "        text-align: right;\n",
       "    }\n",
       "\n",
       "    .dataframe thead th {\n",
       "        text-align: left;\n",
       "    }\n",
       "\n",
       "    .dataframe tbody tr th {\n",
       "        vertical-align: top;\n",
       "    }\n",
       "</style>\n",
       "<table border=\"1\" class=\"dataframe\">\n",
       "  <thead>\n",
       "    <tr style=\"text-align: right;\">\n",
       "      <th></th>\n",
       "      <th>match_id</th>\n",
       "      <th>duration</th>\n",
       "      <th>radiant_win</th>\n",
       "      <th>hero_id</th>\n",
       "      <th>player_slot</th>\n",
       "      <th>gold</th>\n",
       "      <th>gold_spent</th>\n",
       "      <th>kills</th>\n",
       "      <th>deaths</th>\n",
       "      <th>assists</th>\n",
       "    </tr>\n",
       "  </thead>\n",
       "  <tbody>\n",
       "    <tr>\n",
       "      <th>0</th>\n",
       "      <td>0</td>\n",
       "      <td>2375</td>\n",
       "      <td>1</td>\n",
       "      <td>86</td>\n",
       "      <td>0</td>\n",
       "      <td>3261</td>\n",
       "      <td>10960</td>\n",
       "      <td>9</td>\n",
       "      <td>3</td>\n",
       "      <td>18</td>\n",
       "    </tr>\n",
       "    <tr>\n",
       "      <th>1</th>\n",
       "      <td>0</td>\n",
       "      <td>2375</td>\n",
       "      <td>1</td>\n",
       "      <td>51</td>\n",
       "      <td>1</td>\n",
       "      <td>2954</td>\n",
       "      <td>17760</td>\n",
       "      <td>13</td>\n",
       "      <td>3</td>\n",
       "      <td>18</td>\n",
       "    </tr>\n",
       "    <tr>\n",
       "      <th>2</th>\n",
       "      <td>0</td>\n",
       "      <td>2375</td>\n",
       "      <td>1</td>\n",
       "      <td>83</td>\n",
       "      <td>2</td>\n",
       "      <td>110</td>\n",
       "      <td>12195</td>\n",
       "      <td>0</td>\n",
       "      <td>4</td>\n",
       "      <td>15</td>\n",
       "    </tr>\n",
       "    <tr>\n",
       "      <th>3</th>\n",
       "      <td>0</td>\n",
       "      <td>2375</td>\n",
       "      <td>1</td>\n",
       "      <td>11</td>\n",
       "      <td>3</td>\n",
       "      <td>1179</td>\n",
       "      <td>22505</td>\n",
       "      <td>8</td>\n",
       "      <td>4</td>\n",
       "      <td>19</td>\n",
       "    </tr>\n",
       "    <tr>\n",
       "      <th>4</th>\n",
       "      <td>0</td>\n",
       "      <td>2375</td>\n",
       "      <td>1</td>\n",
       "      <td>67</td>\n",
       "      <td>4</td>\n",
       "      <td>3307</td>\n",
       "      <td>23825</td>\n",
       "      <td>20</td>\n",
       "      <td>3</td>\n",
       "      <td>17</td>\n",
       "    </tr>\n",
       "  </tbody>\n",
       "</table>\n",
       "</div>"
      ],
      "text/plain": [
       "   match_id  duration  radiant_win  hero_id  player_slot  gold  gold_spent  \\\n",
       "0         0      2375            1       86            0  3261       10960   \n",
       "1         0      2375            1       51            1  2954       17760   \n",
       "2         0      2375            1       83            2   110       12195   \n",
       "3         0      2375            1       11            3  1179       22505   \n",
       "4         0      2375            1       67            4  3307       23825   \n",
       "\n",
       "   kills  deaths  assists  \n",
       "0      9       3       18  \n",
       "1     13       3       18  \n",
       "2      0       4       15  \n",
       "3      8       4       19  \n",
       "4     20       3       17  "
      ]
     },
     "execution_count": 28,
     "metadata": {},
     "output_type": "execute_result"
    }
   ],
   "source": [
    "mat.head()"
   ]
  },
  {
   "cell_type": "code",
   "execution_count": 29,
   "metadata": {
    "slideshow": {
     "slide_type": "fragment"
    }
   },
   "outputs": [
    {
     "data": {
      "text/plain": [
       "(250000, 10)"
      ]
     },
     "execution_count": 29,
     "metadata": {},
     "output_type": "execute_result"
    }
   ],
   "source": [
    "# warum mat mehr Spalten hat als beide verbundene Datensätze\n",
    "mat.shape"
   ]
  },
  {
   "cell_type": "code",
   "execution_count": 30,
   "metadata": {
    "collapsed": true,
    "slideshow": {
     "slide_type": "skip"
    }
   },
   "outputs": [],
   "source": [
    "# mat.groupby('hero_id').mean()['radiant_win_x']\n",
    "df_gb_heroID = pd.DataFrame(mat.groupby('hero_id').mean()['radiant_win'], index=np.arange(113))\n",
    "df_gb_heroID.columns =[\"winrate\"]\n",
    "df_gb_heroID[\"hero_id\"] = np.arange(1,114)"
   ]
  },
  {
   "cell_type": "code",
   "execution_count": 31,
   "metadata": {
    "scrolled": true,
    "slideshow": {
     "slide_type": "fragment"
    }
   },
   "outputs": [
    {
     "data": {
      "text/html": [
       "<div>\n",
       "<style>\n",
       "    .dataframe thead tr:only-child th {\n",
       "        text-align: right;\n",
       "    }\n",
       "\n",
       "    .dataframe thead th {\n",
       "        text-align: left;\n",
       "    }\n",
       "\n",
       "    .dataframe tbody tr th {\n",
       "        vertical-align: top;\n",
       "    }\n",
       "</style>\n",
       "<table border=\"1\" class=\"dataframe\">\n",
       "  <thead>\n",
       "    <tr style=\"text-align: right;\">\n",
       "      <th></th>\n",
       "      <th>winrate</th>\n",
       "      <th>hero_id</th>\n",
       "    </tr>\n",
       "  </thead>\n",
       "  <tbody>\n",
       "    <tr>\n",
       "      <th>0</th>\n",
       "      <td>0.136364</td>\n",
       "      <td>1</td>\n",
       "    </tr>\n",
       "    <tr>\n",
       "      <th>1</th>\n",
       "      <td>0.484149</td>\n",
       "      <td>2</td>\n",
       "    </tr>\n",
       "    <tr>\n",
       "      <th>2</th>\n",
       "      <td>0.454823</td>\n",
       "      <td>3</td>\n",
       "    </tr>\n",
       "    <tr>\n",
       "      <th>3</th>\n",
       "      <td>0.487500</td>\n",
       "      <td>4</td>\n",
       "    </tr>\n",
       "    <tr>\n",
       "      <th>4</th>\n",
       "      <td>0.469646</td>\n",
       "      <td>5</td>\n",
       "    </tr>\n",
       "  </tbody>\n",
       "</table>\n",
       "</div>"
      ],
      "text/plain": [
       "    winrate  hero_id\n",
       "0  0.136364        1\n",
       "1  0.484149        2\n",
       "2  0.454823        3\n",
       "3  0.487500        4\n",
       "4  0.469646        5"
      ]
     },
     "execution_count": 31,
     "metadata": {},
     "output_type": "execute_result"
    }
   ],
   "source": [
    "df_gb_heroID.head()"
   ]
  },
  {
   "cell_type": "code",
   "execution_count": 32,
   "metadata": {
    "slideshow": {
     "slide_type": "skip"
    }
   },
   "outputs": [
    {
     "data": {
      "text/html": [
       "<div>\n",
       "<style>\n",
       "    .dataframe thead tr:only-child th {\n",
       "        text-align: right;\n",
       "    }\n",
       "\n",
       "    .dataframe thead th {\n",
       "        text-align: left;\n",
       "    }\n",
       "\n",
       "    .dataframe tbody tr th {\n",
       "        vertical-align: top;\n",
       "    }\n",
       "</style>\n",
       "<table border=\"1\" class=\"dataframe\">\n",
       "  <thead>\n",
       "    <tr style=\"text-align: right;\">\n",
       "      <th></th>\n",
       "      <th>name</th>\n",
       "      <th>hero_id</th>\n",
       "      <th>localized_name</th>\n",
       "      <th>winrate</th>\n",
       "    </tr>\n",
       "  </thead>\n",
       "  <tbody>\n",
       "    <tr>\n",
       "      <th>0</th>\n",
       "      <td>npc_dota_hero_antimage</td>\n",
       "      <td>1</td>\n",
       "      <td>Anti-Mage</td>\n",
       "      <td>0.136364</td>\n",
       "    </tr>\n",
       "    <tr>\n",
       "      <th>1</th>\n",
       "      <td>npc_dota_hero_axe</td>\n",
       "      <td>2</td>\n",
       "      <td>Axe</td>\n",
       "      <td>0.484149</td>\n",
       "    </tr>\n",
       "    <tr>\n",
       "      <th>2</th>\n",
       "      <td>npc_dota_hero_bane</td>\n",
       "      <td>3</td>\n",
       "      <td>Bane</td>\n",
       "      <td>0.454823</td>\n",
       "    </tr>\n",
       "    <tr>\n",
       "      <th>3</th>\n",
       "      <td>npc_dota_hero_bloodseeker</td>\n",
       "      <td>4</td>\n",
       "      <td>Bloodseeker</td>\n",
       "      <td>0.487500</td>\n",
       "    </tr>\n",
       "    <tr>\n",
       "      <th>4</th>\n",
       "      <td>npc_dota_hero_crystal_maiden</td>\n",
       "      <td>5</td>\n",
       "      <td>Crystal Maiden</td>\n",
       "      <td>0.469646</td>\n",
       "    </tr>\n",
       "  </tbody>\n",
       "</table>\n",
       "</div>"
      ],
      "text/plain": [
       "                           name  hero_id  localized_name   winrate\n",
       "0        npc_dota_hero_antimage        1       Anti-Mage  0.136364\n",
       "1             npc_dota_hero_axe        2             Axe  0.484149\n",
       "2            npc_dota_hero_bane        3            Bane  0.454823\n",
       "3     npc_dota_hero_bloodseeker        4     Bloodseeker  0.487500\n",
       "4  npc_dota_hero_crystal_maiden        5  Crystal Maiden  0.469646"
      ]
     },
     "execution_count": 32,
     "metadata": {},
     "output_type": "execute_result"
    }
   ],
   "source": [
    "hero_names = hero_names.merge(df_gb_heroID, left_on='hero_id', right_on='hero_id', how='outer')\n",
    "hero_names.head()"
   ]
  },
  {
   "cell_type": "code",
   "execution_count": 33,
   "metadata": {
    "slideshow": {
     "slide_type": "skip"
    }
   },
   "outputs": [
    {
     "data": {
      "text/html": [
       "<div>\n",
       "<style>\n",
       "    .dataframe thead tr:only-child th {\n",
       "        text-align: right;\n",
       "    }\n",
       "\n",
       "    .dataframe thead th {\n",
       "        text-align: left;\n",
       "    }\n",
       "\n",
       "    .dataframe tbody tr th {\n",
       "        vertical-align: top;\n",
       "    }\n",
       "</style>\n",
       "<table border=\"1\" class=\"dataframe\">\n",
       "  <thead>\n",
       "    <tr style=\"text-align: right;\">\n",
       "      <th></th>\n",
       "      <th>name</th>\n",
       "      <th>hero_id</th>\n",
       "      <th>localized_name</th>\n",
       "      <th>winrate</th>\n",
       "    </tr>\n",
       "  </thead>\n",
       "  <tbody>\n",
       "    <tr>\n",
       "      <th>0</th>\n",
       "      <td>npc_dota_hero_antimage</td>\n",
       "      <td>1</td>\n",
       "      <td>Anti-Mage</td>\n",
       "      <td>0.136364</td>\n",
       "    </tr>\n",
       "    <tr>\n",
       "      <th>52</th>\n",
       "      <td>npc_dota_hero_life_stealer</td>\n",
       "      <td>54</td>\n",
       "      <td>Lifestealer</td>\n",
       "      <td>0.411295</td>\n",
       "    </tr>\n",
       "    <tr>\n",
       "      <th>78</th>\n",
       "      <td>npc_dota_hero_lone_druid</td>\n",
       "      <td>80</td>\n",
       "      <td>Lone Druid</td>\n",
       "      <td>0.411848</td>\n",
       "    </tr>\n",
       "    <tr>\n",
       "      <th>60</th>\n",
       "      <td>npc_dota_hero_bounty_hunter</td>\n",
       "      <td>62</td>\n",
       "      <td>Bounty Hunter</td>\n",
       "      <td>0.414465</td>\n",
       "    </tr>\n",
       "    <tr>\n",
       "      <th>79</th>\n",
       "      <td>npc_dota_hero_chaos_knight</td>\n",
       "      <td>81</td>\n",
       "      <td>Chaos Knight</td>\n",
       "      <td>0.416162</td>\n",
       "    </tr>\n",
       "  </tbody>\n",
       "</table>\n",
       "</div>"
      ],
      "text/plain": [
       "                           name  hero_id localized_name   winrate\n",
       "0        npc_dota_hero_antimage        1      Anti-Mage  0.136364\n",
       "52   npc_dota_hero_life_stealer       54    Lifestealer  0.411295\n",
       "78     npc_dota_hero_lone_druid       80     Lone Druid  0.411848\n",
       "60  npc_dota_hero_bounty_hunter       62  Bounty Hunter  0.414465\n",
       "79   npc_dota_hero_chaos_knight       81   Chaos Knight  0.416162"
      ]
     },
     "execution_count": 33,
     "metadata": {},
     "output_type": "execute_result"
    }
   ],
   "source": [
    "hero_names.sort_values(\"winrate\").head()"
   ]
  },
  {
   "cell_type": "code",
   "execution_count": 34,
   "metadata": {
    "slideshow": {
     "slide_type": "skip"
    }
   },
   "outputs": [
    {
     "data": {
      "image/png": "[encoded data removed]",
      "text/plain": [
       "<matplotlib.figure.Figure at 0x21939dc54e0>"
      ]
     },
     "metadata": {},
     "output_type": "display_data"
    }
   ],
   "source": [
    "sns.violinplot(data=hero_names.winrate, orient=\"h\");\n",
    "\n",
    "# sns.barplot(orient=\"h\",data=df_hero_names.sort(\"winrate\"),x=\"localized_name\", y=\"winrate\")"
   ]
  },
  {
   "cell_type": "markdown",
   "metadata": {
    "slideshow": {
     "slide_type": "slide"
    }
   },
   "source": [
    "## Prüfen ob gewisse Helden öfter gespielt werden als andere\n",
    "\n"
   ]
  },
  {
   "cell_type": "code",
   "execution_count": 35,
   "metadata": {
    "collapsed": true,
    "slideshow": {
     "slide_type": "skip"
    }
   },
   "outputs": [],
   "source": [
    "hero_names = mat.hero_id.value_counts().to_frame(name=\"total_plays\").merge(hero_names,left_index=True, right_index=True)\n"
   ]
  },
  {
   "cell_type": "markdown",
   "metadata": {
    "slideshow": {
     "slide_type": "subslide"
    }
   },
   "source": [
    "#### Regplot der Verteilung Winrate zu Anzahl gespielt"
   ]
  },
  {
   "cell_type": "code",
   "execution_count": 36,
   "metadata": {
    "slideshow": {
     "slide_type": "fragment"
    }
   },
   "outputs": [
    {
     "data": {
      "text/plain": [
       "<matplotlib.axes._subplots.AxesSubplot at 0x2191da52be0>"
      ]
     },
     "execution_count": 36,
     "metadata": {},
     "output_type": "execute_result"
    },
    {
     "data": {
      "image/png": "[encoded data removed]",
      "text/plain": [
       "<matplotlib.figure.Figure at 0x21934317240>"
      ]
     },
     "metadata": {},
     "output_type": "display_data"
    }
   ],
   "source": [
    "sns.regplot(data=hero_names, y=\"winrate\", x=\"total_plays\")"
   ]
  },
  {
   "cell_type": "code",
   "execution_count": 37,
   "metadata": {
    "collapsed": true,
    "slideshow": {
     "slide_type": "skip"
    }
   },
   "outputs": [],
   "source": [
    "# Entfernen des Ausreisers\n",
    "hero_names.drop(hero_names.winrate<0.14, inplace=True)"
   ]
  },
  {
   "cell_type": "markdown",
   "metadata": {
    "slideshow": {
     "slide_type": "subslide"
    }
   },
   "source": [
    "#### Bereinigter Regplot der Verteilung Winrate zu Anzahl gespielt"
   ]
  },
  {
   "cell_type": "code",
   "execution_count": 38,
   "metadata": {
    "slideshow": {
     "slide_type": "fragment"
    }
   },
   "outputs": [
    {
     "data": {
      "text/plain": [
       "<matplotlib.axes._subplots.AxesSubplot at 0x21929c08320>"
      ]
     },
     "execution_count": 38,
     "metadata": {},
     "output_type": "execute_result"
    },
    {
     "data": {
      "image/png": "[encoded data removed]",
      "text/plain": [
       "<matplotlib.figure.Figure at 0x21938c959b0>"
      ]
     },
     "metadata": {},
     "output_type": "display_data"
    }
   ],
   "source": [
    " sns.regplot(data=hero_names, y=\"winrate\", x=\"total_plays\")"
   ]
  },
  {
   "cell_type": "markdown",
   "metadata": {
    "slideshow": {
     "slide_type": "subslide"
    }
   },
   "source": [
    "#### Korrelation Helden zu Winrate"
   ]
  },
  {
   "cell_type": "code",
   "execution_count": 39,
   "metadata": {
    "slideshow": {
     "slide_type": "fragment"
    }
   },
   "outputs": [
    {
     "data": {
      "text/html": [
       "<div>\n",
       "<style>\n",
       "    .dataframe thead tr:only-child th {\n",
       "        text-align: right;\n",
       "    }\n",
       "\n",
       "    .dataframe thead th {\n",
       "        text-align: left;\n",
       "    }\n",
       "\n",
       "    .dataframe tbody tr th {\n",
       "        vertical-align: top;\n",
       "    }\n",
       "</style>\n",
       "<table border=\"1\" class=\"dataframe\">\n",
       "  <thead>\n",
       "    <tr style=\"text-align: right;\">\n",
       "      <th></th>\n",
       "      <th>total_plays</th>\n",
       "      <th>hero_id</th>\n",
       "      <th>winrate</th>\n",
       "    </tr>\n",
       "  </thead>\n",
       "  <tbody>\n",
       "    <tr>\n",
       "      <th>total_plays</th>\n",
       "      <td>1.000000</td>\n",
       "      <td>-0.246683</td>\n",
       "      <td>0.157869</td>\n",
       "    </tr>\n",
       "    <tr>\n",
       "      <th>hero_id</th>\n",
       "      <td>-0.246683</td>\n",
       "      <td>1.000000</td>\n",
       "      <td>-0.013915</td>\n",
       "    </tr>\n",
       "    <tr>\n",
       "      <th>winrate</th>\n",
       "      <td>0.157869</td>\n",
       "      <td>-0.013915</td>\n",
       "      <td>1.000000</td>\n",
       "    </tr>\n",
       "  </tbody>\n",
       "</table>\n",
       "</div>"
      ],
      "text/plain": [
       "             total_plays   hero_id   winrate\n",
       "total_plays     1.000000 -0.246683  0.157869\n",
       "hero_id        -0.246683  1.000000 -0.013915\n",
       "winrate         0.157869 -0.013915  1.000000"
      ]
     },
     "execution_count": 39,
     "metadata": {},
     "output_type": "execute_result"
    }
   ],
   "source": [
    "hero_names.corr()"
   ]
  },
  {
   "cell_type": "markdown",
   "metadata": {
    "slideshow": {
     "slide_type": "slide"
    }
   },
   "source": [
    "## Ist die Winrate der Champions abhängig von der Spieldauer?"
   ]
  },
  {
   "cell_type": "code",
   "execution_count": 40,
   "metadata": {
    "slideshow": {
     "slide_type": "skip"
    }
   },
   "outputs": [
    {
     "data": {
      "text/plain": [
       "(250000, 10)"
      ]
     },
     "execution_count": 40,
     "metadata": {},
     "output_type": "execute_result"
    }
   ],
   "source": [
    "mat.shape"
   ]
  },
  {
   "cell_type": "code",
   "execution_count": 41,
   "metadata": {
    "slideshow": {
     "slide_type": "skip"
    }
   },
   "outputs": [
    {
     "data": {
      "text/html": [
       "<div>\n",
       "<style>\n",
       "    .dataframe thead tr:only-child th {\n",
       "        text-align: right;\n",
       "    }\n",
       "\n",
       "    .dataframe thead th {\n",
       "        text-align: left;\n",
       "    }\n",
       "\n",
       "    .dataframe tbody tr th {\n",
       "        vertical-align: top;\n",
       "    }\n",
       "</style>\n",
       "<table border=\"1\" class=\"dataframe\">\n",
       "  <thead>\n",
       "    <tr style=\"text-align: right;\">\n",
       "      <th></th>\n",
       "      <th>match_id</th>\n",
       "      <th>duration</th>\n",
       "      <th>radiant_win</th>\n",
       "      <th>hero_id</th>\n",
       "      <th>player_slot</th>\n",
       "      <th>gold</th>\n",
       "      <th>gold_spent</th>\n",
       "      <th>kills</th>\n",
       "      <th>deaths</th>\n",
       "      <th>assists</th>\n",
       "    </tr>\n",
       "  </thead>\n",
       "  <tbody>\n",
       "    <tr>\n",
       "      <th>157194</th>\n",
       "      <td>31438</td>\n",
       "      <td>59</td>\n",
       "      <td>0</td>\n",
       "      <td>107</td>\n",
       "      <td>4</td>\n",
       "      <td>670</td>\n",
       "      <td>620</td>\n",
       "      <td>0</td>\n",
       "      <td>0</td>\n",
       "      <td>0</td>\n",
       "    </tr>\n",
       "    <tr>\n",
       "      <th>157190</th>\n",
       "      <td>31438</td>\n",
       "      <td>59</td>\n",
       "      <td>0</td>\n",
       "      <td>82</td>\n",
       "      <td>0</td>\n",
       "      <td>1</td>\n",
       "      <td>1350</td>\n",
       "      <td>0</td>\n",
       "      <td>0</td>\n",
       "      <td>0</td>\n",
       "    </tr>\n",
       "    <tr>\n",
       "      <th>157191</th>\n",
       "      <td>31438</td>\n",
       "      <td>59</td>\n",
       "      <td>0</td>\n",
       "      <td>28</td>\n",
       "      <td>1</td>\n",
       "      <td>1</td>\n",
       "      <td>610</td>\n",
       "      <td>0</td>\n",
       "      <td>0</td>\n",
       "      <td>0</td>\n",
       "    </tr>\n",
       "    <tr>\n",
       "      <th>157192</th>\n",
       "      <td>31438</td>\n",
       "      <td>59</td>\n",
       "      <td>0</td>\n",
       "      <td>11</td>\n",
       "      <td>2</td>\n",
       "      <td>1</td>\n",
       "      <td>585</td>\n",
       "      <td>0</td>\n",
       "      <td>1</td>\n",
       "      <td>0</td>\n",
       "    </tr>\n",
       "    <tr>\n",
       "      <th>157193</th>\n",
       "      <td>31438</td>\n",
       "      <td>59</td>\n",
       "      <td>0</td>\n",
       "      <td>105</td>\n",
       "      <td>3</td>\n",
       "      <td>1</td>\n",
       "      <td>695</td>\n",
       "      <td>0</td>\n",
       "      <td>1</td>\n",
       "      <td>0</td>\n",
       "    </tr>\n",
       "  </tbody>\n",
       "</table>\n",
       "</div>"
      ],
      "text/plain": [
       "        match_id  duration  radiant_win  hero_id  player_slot  gold  \\\n",
       "157194     31438        59            0      107            4   670   \n",
       "157190     31438        59            0       82            0     1   \n",
       "157191     31438        59            0       28            1     1   \n",
       "157192     31438        59            0       11            2     1   \n",
       "157193     31438        59            0      105            3     1   \n",
       "\n",
       "        gold_spent  kills  deaths  assists  \n",
       "157194         620      0       0        0  \n",
       "157190        1350      0       0        0  \n",
       "157191         610      0       0        0  \n",
       "157192         585      0       1        0  \n",
       "157193         695      0       1        0  "
      ]
     },
     "execution_count": 41,
     "metadata": {},
     "output_type": "execute_result"
    }
   ],
   "source": [
    "# df_mph nach 'duration_x' aufsteigend sortiert\n",
    "df_mat_sort = mat.sort_values(by='duration')\n",
    "df_mat_sort.head()"
   ]
  },
  {
   "cell_type": "code",
   "execution_count": 42,
   "metadata": {
    "slideshow": {
     "slide_type": "skip"
    }
   },
   "outputs": [
    {
     "data": {
      "text/plain": [
       "(250000, 10)"
      ]
     },
     "execution_count": 42,
     "metadata": {},
     "output_type": "execute_result"
    }
   ],
   "source": [
    "df_mat_sort.shape"
   ]
  },
  {
   "cell_type": "code",
   "execution_count": 43,
   "metadata": {
    "slideshow": {
     "slide_type": "skip"
    }
   },
   "outputs": [
    {
     "data": {
      "text/plain": [
       "count    250000.000000\n",
       "mean       2476.453500\n",
       "std         634.626184\n",
       "min          59.000000\n",
       "25%        2029.000000\n",
       "50%        2415.000000\n",
       "75%        2872.000000\n",
       "max       16037.000000\n",
       "Name: duration, dtype: float64"
      ]
     },
     "execution_count": 43,
     "metadata": {},
     "output_type": "execute_result"
    }
   ],
   "source": [
    "# sortierte df nach Dauer nur mit Spalte Dauer beschreiben, um Klassengrößen festzulegen \n",
    "df_mat_sort[\"duration\"].describe()"
   ]
  },
  {
   "cell_type": "code",
   "execution_count": 44,
   "metadata": {
    "collapsed": true,
    "slideshow": {
     "slide_type": "skip"
    }
   },
   "outputs": [],
   "source": [
    "# Spalte mit Klassen für die Dauer erstellen\n",
    "df_mat_sort_bins = df_mat_sort['duration'].quantile(q=[x/10 for x in range (11)])\n",
    "df_mat_sort_bins = [x*300 for x in range(57)]\n",
    "df_mat_sort_bins_label = [x*5 for x in range(1,57)]\n",
    "df_mat_sort[\"bins\"] = pd.cut(df_mat_sort['duration'], bins=df_mat_sort_bins, labels=df_mat_sort_bins_label)"
   ]
  },
  {
   "cell_type": "code",
   "execution_count": 45,
   "metadata": {
    "slideshow": {
     "slide_type": "skip"
    }
   },
   "outputs": [
    {
     "data": {
      "text/html": [
       "<div>\n",
       "<style>\n",
       "    .dataframe thead tr:only-child th {\n",
       "        text-align: right;\n",
       "    }\n",
       "\n",
       "    .dataframe thead th {\n",
       "        text-align: left;\n",
       "    }\n",
       "\n",
       "    .dataframe tbody tr th {\n",
       "        vertical-align: top;\n",
       "    }\n",
       "</style>\n",
       "<table border=\"1\" class=\"dataframe\">\n",
       "  <thead>\n",
       "    <tr style=\"text-align: right;\">\n",
       "      <th></th>\n",
       "      <th>match_id</th>\n",
       "      <th>duration</th>\n",
       "      <th>radiant_win</th>\n",
       "      <th>hero_id</th>\n",
       "      <th>player_slot</th>\n",
       "      <th>gold</th>\n",
       "      <th>gold_spent</th>\n",
       "      <th>kills</th>\n",
       "      <th>deaths</th>\n",
       "      <th>assists</th>\n",
       "      <th>bins</th>\n",
       "    </tr>\n",
       "  </thead>\n",
       "  <tbody>\n",
       "    <tr>\n",
       "      <th>157194</th>\n",
       "      <td>31438</td>\n",
       "      <td>59</td>\n",
       "      <td>0</td>\n",
       "      <td>107</td>\n",
       "      <td>4</td>\n",
       "      <td>670</td>\n",
       "      <td>620</td>\n",
       "      <td>0</td>\n",
       "      <td>0</td>\n",
       "      <td>0</td>\n",
       "      <td>5</td>\n",
       "    </tr>\n",
       "    <tr>\n",
       "      <th>157190</th>\n",
       "      <td>31438</td>\n",
       "      <td>59</td>\n",
       "      <td>0</td>\n",
       "      <td>82</td>\n",
       "      <td>0</td>\n",
       "      <td>1</td>\n",
       "      <td>1350</td>\n",
       "      <td>0</td>\n",
       "      <td>0</td>\n",
       "      <td>0</td>\n",
       "      <td>5</td>\n",
       "    </tr>\n",
       "    <tr>\n",
       "      <th>157191</th>\n",
       "      <td>31438</td>\n",
       "      <td>59</td>\n",
       "      <td>0</td>\n",
       "      <td>28</td>\n",
       "      <td>1</td>\n",
       "      <td>1</td>\n",
       "      <td>610</td>\n",
       "      <td>0</td>\n",
       "      <td>0</td>\n",
       "      <td>0</td>\n",
       "      <td>5</td>\n",
       "    </tr>\n",
       "    <tr>\n",
       "      <th>157192</th>\n",
       "      <td>31438</td>\n",
       "      <td>59</td>\n",
       "      <td>0</td>\n",
       "      <td>11</td>\n",
       "      <td>2</td>\n",
       "      <td>1</td>\n",
       "      <td>585</td>\n",
       "      <td>0</td>\n",
       "      <td>1</td>\n",
       "      <td>0</td>\n",
       "      <td>5</td>\n",
       "    </tr>\n",
       "    <tr>\n",
       "      <th>157193</th>\n",
       "      <td>31438</td>\n",
       "      <td>59</td>\n",
       "      <td>0</td>\n",
       "      <td>105</td>\n",
       "      <td>3</td>\n",
       "      <td>1</td>\n",
       "      <td>695</td>\n",
       "      <td>0</td>\n",
       "      <td>1</td>\n",
       "      <td>0</td>\n",
       "      <td>5</td>\n",
       "    </tr>\n",
       "  </tbody>\n",
       "</table>\n",
       "</div>"
      ],
      "text/plain": [
       "        match_id  duration  radiant_win  hero_id  player_slot  gold  \\\n",
       "157194     31438        59            0      107            4   670   \n",
       "157190     31438        59            0       82            0     1   \n",
       "157191     31438        59            0       28            1     1   \n",
       "157192     31438        59            0       11            2     1   \n",
       "157193     31438        59            0      105            3     1   \n",
       "\n",
       "        gold_spent  kills  deaths  assists bins  \n",
       "157194         620      0       0        0    5  \n",
       "157190        1350      0       0        0    5  \n",
       "157191         610      0       0        0    5  \n",
       "157192         585      0       1        0    5  \n",
       "157193         695      0       1        0    5  "
      ]
     },
     "execution_count": 45,
     "metadata": {},
     "output_type": "execute_result"
    }
   ],
   "source": [
    "df_mat_sort_bins[:5]\n",
    "df_mat_sort.head()"
   ]
  },
  {
   "cell_type": "code",
   "execution_count": 46,
   "metadata": {
    "slideshow": {
     "slide_type": "skip"
    }
   },
   "outputs": [
    {
     "data": {
      "text/plain": [
       "(250000, 11)"
      ]
     },
     "execution_count": 46,
     "metadata": {},
     "output_type": "execute_result"
    }
   ],
   "source": [
    "df_mat_sort.shape"
   ]
  },
  {
   "cell_type": "code",
   "execution_count": 47,
   "metadata": {
    "slideshow": {
     "slide_type": "skip"
    }
   },
   "outputs": [
    {
     "data": {
      "text/plain": [
       "40    49100\n",
       "45    44740\n",
       "35    40735\n",
       "50    34465\n",
       "30    23525\n",
       "Name: bins, dtype: int64"
      ]
     },
     "execution_count": 47,
     "metadata": {},
     "output_type": "execute_result"
    }
   ],
   "source": [
    "table = df_mat_sort['bins'].value_counts()\n",
    "table.head()"
   ]
  },
  {
   "cell_type": "markdown",
   "metadata": {
    "slideshow": {
     "slide_type": "subslide"
    }
   },
   "source": [
    "#### Verteilung der Spiellänge über alle Spiele"
   ]
  },
  {
   "cell_type": "code",
   "execution_count": 48,
   "metadata": {
    "scrolled": true,
    "slideshow": {
     "slide_type": "fragment"
    }
   },
   "outputs": [
    {
     "data": {
      "image/png": "[encoded data removed]",
      "text/plain": [
       "<matplotlib.figure.Figure at 0x21935909278>"
      ]
     },
     "metadata": {},
     "output_type": "display_data"
    }
   ],
   "source": [
    "# Häufigkeitsverteilung der Klassen\n",
    "plt.figure(figsize=(16.69, 4.27))\n",
    "sns.countplot(x='bins', data=df_mat_sort);"
   ]
  },
  {
   "cell_type": "code",
   "execution_count": 49,
   "metadata": {
    "slideshow": {
     "slide_type": "fragment"
    }
   },
   "outputs": [
    {
     "data": {
      "text/plain": [
       "(250000, 11)"
      ]
     },
     "execution_count": 49,
     "metadata": {},
     "output_type": "execute_result"
    }
   ],
   "source": [
    "df_mat_sort.shape"
   ]
  },
  {
   "cell_type": "code",
   "execution_count": 50,
   "metadata": {
    "collapsed": true,
    "slideshow": {
     "slide_type": "skip"
    }
   },
   "outputs": [],
   "source": [
    "# datentyp category von Spalte \"klassen\" in int umwandeln\n",
    "df_mat_sort[\"bins\"] = df_mat_sort.bins.astype(int)"
   ]
  },
  {
   "cell_type": "code",
   "execution_count": 51,
   "metadata": {
    "collapsed": true,
    "slideshow": {
     "slide_type": "skip"
    }
   },
   "outputs": [],
   "source": [
    "# DataFram mit 3 Klassen für die Dauer erstellen\n",
    "df_mat_sort[\"klassen\"] = pd.DataFrame({'klassen': pd.cut(df_mat_sort['bins'], bins=[0,35,50,280], labels=[\"kurz\", \"mittel\", \"lang\"])})"
   ]
  },
  {
   "cell_type": "markdown",
   "metadata": {
    "slideshow": {
     "slide_type": "subslide"
    }
   },
   "source": [
    "#### Verteilung in kurze/mittel/lange Spiele"
   ]
  },
  {
   "cell_type": "code",
   "execution_count": 52,
   "metadata": {
    "slideshow": {
     "slide_type": "fragment"
    }
   },
   "outputs": [
    {
     "data": {
      "image/png": "[encoded data removed]",
      "text/plain": [
       "<matplotlib.figure.Figure at 0x21938c86c50>"
      ]
     },
     "metadata": {},
     "output_type": "display_data"
    }
   ],
   "source": [
    "plt.figure(figsize=(5, 5))\n",
    "sns.countplot(x='klassen', data=df_mat_sort);"
   ]
  },
  {
   "cell_type": "code",
   "execution_count": 53,
   "metadata": {
    "collapsed": true,
    "slideshow": {
     "slide_type": "skip"
    }
   },
   "outputs": [],
   "source": [
    "df_kurz = pd.DataFrame(df_mat_sort[df_mat_sort.klassen == \"kurz\"].groupby('hero_id').mean()['radiant_win'], index=np.arange(113))\n",
    "df_kurz.columns =[\"winrate_kurz\"]\n",
    "df_kurz[\"hero_id\"] = np.arange(1,114)\n"
   ]
  },
  {
   "cell_type": "code",
   "execution_count": 54,
   "metadata": {
    "collapsed": true,
    "slideshow": {
     "slide_type": "skip"
    }
   },
   "outputs": [],
   "source": [
    "df_mittel = pd.DataFrame(df_mat_sort[df_mat_sort.klassen == \"mittel\"].groupby('hero_id').mean()['radiant_win'], index=np.arange(113))\n",
    "df_mittel.columns =[\"winrate_mittel\"]\n",
    "df_mittel[\"hero_id\"] = np.arange(1,114)"
   ]
  },
  {
   "cell_type": "code",
   "execution_count": 55,
   "metadata": {
    "collapsed": true,
    "slideshow": {
     "slide_type": "skip"
    }
   },
   "outputs": [],
   "source": [
    "df_lang = pd.DataFrame(df_mat_sort[df_mat_sort.klassen == \"lang\"].groupby('hero_id').mean()['radiant_win'], index=np.arange(113))\n",
    "df_lang.columns =[\"winrate_lang\"]\n",
    "df_lang[\"hero_id\"] = np.arange(1,114)"
   ]
  },
  {
   "cell_type": "code",
   "execution_count": 56,
   "metadata": {
    "collapsed": true,
    "slideshow": {
     "slide_type": "skip"
    }
   },
   "outputs": [],
   "source": [
    "hero_names = hero_names.merge(df_kurz, left_on='hero_id', right_on='hero_id', how='outer')\n",
    "hero_names = hero_names.merge(df_mittel, left_on='hero_id', right_on='hero_id', how='outer')\n",
    "hero_names = hero_names.merge(df_lang, left_on='hero_id', right_on='hero_id', how='outer')"
   ]
  },
  {
   "cell_type": "code",
   "execution_count": 57,
   "metadata": {
    "collapsed": true,
    "slideshow": {
     "slide_type": "skip"
    }
   },
   "outputs": [],
   "source": [
    "hero_names.drop([109, 110, 111, 112], inplace=True)\n",
    "\n",
    "# Bereinigung auf Grund der Tatsache, dass mehr Hero IDs in matches als in hero_names"
   ]
  },
  {
   "cell_type": "code",
   "execution_count": 58,
   "metadata": {
    "collapsed": true,
    "slideshow": {
     "slide_type": "skip"
    }
   },
   "outputs": [],
   "source": [
    "df_most_played_heros = hero_names.sort_values(by=\"total_plays\").tail(20).sort_values(by=\"winrate\")"
   ]
  },
  {
   "cell_type": "markdown",
   "metadata": {
    "slideshow": {
     "slide_type": "subslide"
    }
   },
   "source": [
    "#### Winrate der 20 meißtgespielten Champions"
   ]
  },
  {
   "cell_type": "code",
   "execution_count": 100,
   "metadata": {
    "slideshow": {
     "slide_type": "fragment"
    }
   },
   "outputs": [
    {
     "data": {
      "text/plain": [
       "<matplotlib.text.Text at 0x2192ce05d68>"
      ]
     },
     "execution_count": 100,
     "metadata": {},
     "output_type": "execute_result"
    },
    {
     "data": {
      "image/png": "[encoded data removed]",
      "text/plain": [
       "<matplotlib.figure.Figure at 0x2193117c320>"
      ]
     },
     "metadata": {},
     "output_type": "display_data"
    }
   ],
   "source": [
    "fig = plt.figure(figsize=(15, 5)) # Create matplotlib figure\n",
    "ax = fig.add_subplot(111) # Create matplotlib axes\n",
    "ax2,ax3,ax4 = ax,ax,ax-\n",
    "width = 0.1\n",
    "df_most_played_heros.winrate.plot(kind='bar', color='blue', ax=ax, width=width, position=3)\n",
    "df_most_played_heros.winrate_kurz.plot(kind='bar', color='green', ax=ax2, width=width, position=2)\n",
    "df_most_played_heros.winrate_mittel.plot(kind='bar', color='black', ax=ax3, width=width, position=1)\n",
    "df_most_played_heros.winrate_lang.plot(kind='bar', color='red', ax=ax4, width=width, position=0)\n",
    "ax.set_ylabel('Gewinnrate')\n",
    "ax.set_xlabel('Helden')"
   ]
  },
  {
   "cell_type": "markdown",
   "metadata": {
    "slideshow": {
     "slide_type": "subslide"
    }
   },
   "source": [
    "#### Heatmap Korrelation der verschiedenen Winrates"
   ]
  },
  {
   "cell_type": "code",
   "execution_count": 60,
   "metadata": {
    "slideshow": {
     "slide_type": "fragment"
    }
   },
   "outputs": [
    {
     "data": {
      "text/plain": [
       "<matplotlib.axes._subplots.AxesSubplot at 0x2192df62fd0>"
      ]
     },
     "execution_count": 60,
     "metadata": {},
     "output_type": "execute_result"
    },
    {
     "data": {
      "image/png": "[encoded data removed]",
      "text/plain": [
       "<matplotlib.figure.Figure at 0x2193224eac8>"
      ]
     },
     "metadata": {},
     "output_type": "display_data"
    }
   ],
   "source": [
    "sns.heatmap(df_most_played_heros.corr())"
   ]
  },
  {
   "cell_type": "markdown",
   "metadata": {
    "slideshow": {
     "slide_type": "subslide"
    }
   },
   "source": [
    "#### Höchste Winrate kurze Spiele"
   ]
  },
  {
   "cell_type": "code",
   "execution_count": 61,
   "metadata": {
    "slideshow": {
     "slide_type": "fragment"
    }
   },
   "outputs": [
    {
     "data": {
      "text/html": [
       "<div>\n",
       "<style>\n",
       "    .dataframe thead tr:only-child th {\n",
       "        text-align: right;\n",
       "    }\n",
       "\n",
       "    .dataframe thead th {\n",
       "        text-align: left;\n",
       "    }\n",
       "\n",
       "    .dataframe tbody tr th {\n",
       "        vertical-align: top;\n",
       "    }\n",
       "</style>\n",
       "<table border=\"1\" class=\"dataframe\">\n",
       "  <thead>\n",
       "    <tr style=\"text-align: right;\">\n",
       "      <th></th>\n",
       "      <th>total_plays</th>\n",
       "      <th>name</th>\n",
       "      <th>hero_id</th>\n",
       "      <th>localized_name</th>\n",
       "      <th>winrate</th>\n",
       "      <th>winrate_kurz</th>\n",
       "      <th>winrate_mittel</th>\n",
       "      <th>winrate_lang</th>\n",
       "    </tr>\n",
       "  </thead>\n",
       "  <tbody>\n",
       "    <tr>\n",
       "      <th>6</th>\n",
       "      <td>5190.0</td>\n",
       "      <td>npc_dota_hero_faceless_void</td>\n",
       "      <td>41</td>\n",
       "      <td>Faceless Void</td>\n",
       "      <td>0.540810</td>\n",
       "      <td>0.643902</td>\n",
       "      <td>0.521333</td>\n",
       "      <td>0.461095</td>\n",
       "    </tr>\n",
       "    <tr>\n",
       "      <th>16</th>\n",
       "      <td>3965.0</td>\n",
       "      <td>npc_dota_hero_drow_ranger</td>\n",
       "      <td>6</td>\n",
       "      <td>Drow Ranger</td>\n",
       "      <td>0.562169</td>\n",
       "      <td>0.649459</td>\n",
       "      <td>0.537475</td>\n",
       "      <td>0.487772</td>\n",
       "    </tr>\n",
       "    <tr>\n",
       "      <th>15</th>\n",
       "      <td>3974.0</td>\n",
       "      <td>npc_dota_hero_spirit_breaker</td>\n",
       "      <td>71</td>\n",
       "      <td>Spirit Breaker</td>\n",
       "      <td>0.575553</td>\n",
       "      <td>0.693215</td>\n",
       "      <td>0.542830</td>\n",
       "      <td>0.448753</td>\n",
       "    </tr>\n",
       "  </tbody>\n",
       "</table>\n",
       "</div>"
      ],
      "text/plain": [
       "    total_plays                          name  hero_id  localized_name  \\\n",
       "6        5190.0   npc_dota_hero_faceless_void       41   Faceless Void   \n",
       "16       3965.0     npc_dota_hero_drow_ranger        6     Drow Ranger   \n",
       "15       3974.0  npc_dota_hero_spirit_breaker       71  Spirit Breaker   \n",
       "\n",
       "     winrate  winrate_kurz  winrate_mittel  winrate_lang  \n",
       "6   0.540810      0.643902        0.521333      0.461095  \n",
       "16  0.562169      0.649459        0.537475      0.487772  \n",
       "15  0.575553      0.693215        0.542830      0.448753  "
      ]
     },
     "execution_count": 61,
     "metadata": {},
     "output_type": "execute_result"
    }
   ],
   "source": [
    "df_most_played_heros.sort_values(\"winrate_kurz\").tail(3)"
   ]
  },
  {
   "cell_type": "markdown",
   "metadata": {
    "slideshow": {
     "slide_type": "subslide"
    }
   },
   "source": [
    "#### Höchste Winrate mittlere Spiele"
   ]
  },
  {
   "cell_type": "code",
   "execution_count": 62,
   "metadata": {
    "slideshow": {
     "slide_type": "fragment"
    }
   },
   "outputs": [
    {
     "data": {
      "text/html": [
       "<div>\n",
       "<style>\n",
       "    .dataframe thead tr:only-child th {\n",
       "        text-align: right;\n",
       "    }\n",
       "\n",
       "    .dataframe thead th {\n",
       "        text-align: left;\n",
       "    }\n",
       "\n",
       "    .dataframe tbody tr th {\n",
       "        vertical-align: top;\n",
       "    }\n",
       "</style>\n",
       "<table border=\"1\" class=\"dataframe\">\n",
       "  <thead>\n",
       "    <tr style=\"text-align: right;\">\n",
       "      <th></th>\n",
       "      <th>total_plays</th>\n",
       "      <th>name</th>\n",
       "      <th>hero_id</th>\n",
       "      <th>localized_name</th>\n",
       "      <th>winrate</th>\n",
       "      <th>winrate_kurz</th>\n",
       "      <th>winrate_mittel</th>\n",
       "      <th>winrate_lang</th>\n",
       "    </tr>\n",
       "  </thead>\n",
       "  <tbody>\n",
       "    <tr>\n",
       "      <th>3</th>\n",
       "      <td>5824.0</td>\n",
       "      <td>npc_dota_hero_obsidian_destroyer</td>\n",
       "      <td>76</td>\n",
       "      <td>Outworld Devourer</td>\n",
       "      <td>0.551839</td>\n",
       "      <td>0.605882</td>\n",
       "      <td>0.533654</td>\n",
       "      <td>0.522759</td>\n",
       "    </tr>\n",
       "    <tr>\n",
       "      <th>16</th>\n",
       "      <td>3965.0</td>\n",
       "      <td>npc_dota_hero_drow_ranger</td>\n",
       "      <td>6</td>\n",
       "      <td>Drow Ranger</td>\n",
       "      <td>0.562169</td>\n",
       "      <td>0.649459</td>\n",
       "      <td>0.537475</td>\n",
       "      <td>0.487772</td>\n",
       "    </tr>\n",
       "    <tr>\n",
       "      <th>15</th>\n",
       "      <td>3974.0</td>\n",
       "      <td>npc_dota_hero_spirit_breaker</td>\n",
       "      <td>71</td>\n",
       "      <td>Spirit Breaker</td>\n",
       "      <td>0.575553</td>\n",
       "      <td>0.693215</td>\n",
       "      <td>0.542830</td>\n",
       "      <td>0.448753</td>\n",
       "    </tr>\n",
       "  </tbody>\n",
       "</table>\n",
       "</div>"
      ],
      "text/plain": [
       "    total_plays                              name  hero_id     localized_name  \\\n",
       "3        5824.0  npc_dota_hero_obsidian_destroyer       76  Outworld Devourer   \n",
       "16       3965.0         npc_dota_hero_drow_ranger        6        Drow Ranger   \n",
       "15       3974.0      npc_dota_hero_spirit_breaker       71     Spirit Breaker   \n",
       "\n",
       "     winrate  winrate_kurz  winrate_mittel  winrate_lang  \n",
       "3   0.551839      0.605882        0.533654      0.522759  \n",
       "16  0.562169      0.649459        0.537475      0.487772  \n",
       "15  0.575553      0.693215        0.542830      0.448753  "
      ]
     },
     "execution_count": 62,
     "metadata": {},
     "output_type": "execute_result"
    }
   ],
   "source": [
    "df_most_played_heros.sort_values(\"winrate_mittel\").tail(3)"
   ]
  },
  {
   "cell_type": "markdown",
   "metadata": {
    "slideshow": {
     "slide_type": "subslide"
    }
   },
   "source": [
    "#### Höchste Winrate lange Spiele"
   ]
  },
  {
   "cell_type": "code",
   "execution_count": 63,
   "metadata": {
    "scrolled": true,
    "slideshow": {
     "slide_type": "fragment"
    }
   },
   "outputs": [
    {
     "data": {
      "text/html": [
       "<div>\n",
       "<style>\n",
       "    .dataframe thead tr:only-child th {\n",
       "        text-align: right;\n",
       "    }\n",
       "\n",
       "    .dataframe thead th {\n",
       "        text-align: left;\n",
       "    }\n",
       "\n",
       "    .dataframe tbody tr th {\n",
       "        vertical-align: top;\n",
       "    }\n",
       "</style>\n",
       "<table border=\"1\" class=\"dataframe\">\n",
       "  <thead>\n",
       "    <tr style=\"text-align: right;\">\n",
       "      <th></th>\n",
       "      <th>total_plays</th>\n",
       "      <th>name</th>\n",
       "      <th>hero_id</th>\n",
       "      <th>localized_name</th>\n",
       "      <th>winrate</th>\n",
       "      <th>winrate_kurz</th>\n",
       "      <th>winrate_mittel</th>\n",
       "      <th>winrate_lang</th>\n",
       "    </tr>\n",
       "  </thead>\n",
       "  <tbody>\n",
       "    <tr>\n",
       "      <th>10</th>\n",
       "      <td>4442.0</td>\n",
       "      <td>npc_dota_hero_ember_spirit</td>\n",
       "      <td>106</td>\n",
       "      <td>Ember Spirit</td>\n",
       "      <td>0.467337</td>\n",
       "      <td>0.523077</td>\n",
       "      <td>0.411565</td>\n",
       "      <td>0.520231</td>\n",
       "    </tr>\n",
       "    <tr>\n",
       "      <th>3</th>\n",
       "      <td>5824.0</td>\n",
       "      <td>npc_dota_hero_obsidian_destroyer</td>\n",
       "      <td>76</td>\n",
       "      <td>Outworld Devourer</td>\n",
       "      <td>0.551839</td>\n",
       "      <td>0.605882</td>\n",
       "      <td>0.533654</td>\n",
       "      <td>0.522759</td>\n",
       "    </tr>\n",
       "    <tr>\n",
       "      <th>11</th>\n",
       "      <td>4177.0</td>\n",
       "      <td>npc_dota_hero_troll_warlord</td>\n",
       "      <td>95</td>\n",
       "      <td>Troll Warlord</td>\n",
       "      <td>0.540928</td>\n",
       "      <td>0.536765</td>\n",
       "      <td>0.533118</td>\n",
       "      <td>0.561224</td>\n",
       "    </tr>\n",
       "  </tbody>\n",
       "</table>\n",
       "</div>"
      ],
      "text/plain": [
       "    total_plays                              name  hero_id     localized_name  \\\n",
       "10       4442.0        npc_dota_hero_ember_spirit      106       Ember Spirit   \n",
       "3        5824.0  npc_dota_hero_obsidian_destroyer       76  Outworld Devourer   \n",
       "11       4177.0       npc_dota_hero_troll_warlord       95      Troll Warlord   \n",
       "\n",
       "     winrate  winrate_kurz  winrate_mittel  winrate_lang  \n",
       "10  0.467337      0.523077        0.411565      0.520231  \n",
       "3   0.551839      0.605882        0.533654      0.522759  \n",
       "11  0.540928      0.536765        0.533118      0.561224  "
      ]
     },
     "execution_count": 63,
     "metadata": {},
     "output_type": "execute_result"
    }
   ],
   "source": [
    "df_most_played_heros.sort_values(\"winrate_lang\").tail(3)"
   ]
  },
  {
   "cell_type": "markdown",
   "metadata": {
    "slideshow": {
     "slide_type": "slide"
    }
   },
   "source": [
    "## Chatanalysen"
   ]
  },
  {
   "cell_type": "markdown",
   "metadata": {
    "slideshow": {
     "slide_type": "skip"
    }
   },
   "source": [
    "#### Erzeugen eigener Datensätze"
   ]
  },
  {
   "cell_type": "code",
   "execution_count": 64,
   "metadata": {
    "slideshow": {
     "slide_type": "skip"
    }
   },
   "outputs": [],
   "source": [
    "match = df_match.copy()\n",
    "chat = df_chat.copy()\n",
    "player = df_player.copy()"
   ]
  },
  {
   "cell_type": "markdown",
   "metadata": {
    "slideshow": {
     "slide_type": "skip"
    }
   },
   "source": [
    "#### Edit matches Datensatz"
   ]
  },
  {
   "cell_type": "code",
   "execution_count": 65,
   "metadata": {
    "collapsed": true,
    "slideshow": {
     "slide_type": "skip"
    }
   },
   "outputs": [],
   "source": [
    "# Spalten umbenennen\n",
    "match.columns = ['match_id','Spieldauer','Gewinner']\n",
    "# Gewinner True False durch Namen ersetzten\n",
    "match['Gewinner'] = match['Gewinner'].map(lambda x: 'Radiant' if x else 'Dire')"
   ]
  },
  {
   "cell_type": "markdown",
   "metadata": {
    "slideshow": {
     "slide_type": "skip"
    }
   },
   "source": [
    "#### Edit chat Datensatz"
   ]
  },
  {
   "cell_type": "code",
   "execution_count": 66,
   "metadata": {
    "collapsed": true,
    "slideshow": {
     "slide_type": "skip"
    }
   },
   "outputs": [],
   "source": [
    "# Nachrichtenlänge für jede Nachricht\n",
    "chat['NachrichtenLänge'] = chat['key'].str.len()\n",
    "# Zuweisung Team abhängig vom Spieler-Slot\n",
    "chat['Team'] = pd.cut(chat['slot'],[0,5,10],labels=['Radiant', 'Dire'])"
   ]
  },
  {
   "cell_type": "markdown",
   "metadata": {
    "slideshow": {
     "slide_type": "skip"
    }
   },
   "source": [
    "#### Grouped Chat"
   ]
  },
  {
   "cell_type": "code",
   "execution_count": 67,
   "metadata": {
    "collapsed": true,
    "slideshow": {
     "slide_type": "skip"
    }
   },
   "outputs": [],
   "source": [
    "groupedchat = chat[['match_id', 'Team', 'key']].groupby(['match_id', 'Team']).count()\n",
    "groupedchat.columns = ['AnzahlNachrichten']\n",
    "# Gesamte Nachrichtenlänge im Team in diesem Spiel\n",
    "groupedchat['NachrichtenLängeGesamt'] = chat[['match_id', 'Team', 'NachrichtenLänge']].groupby(['match_id', 'Team']).sum()\n",
    "groupedchat['DurchschnittlicheLänge'] = groupedchat['NachrichtenLängeGesamt']/groupedchat['AnzahlNachrichten']\n",
    "groupedchat = groupedchat.reset_index()\n",
    "groupedchat = groupedchat.merge(match, on='match_id')\n",
    "#Erstellen Nachriten pro Minute\n",
    "groupedchat['NachrichtenProMinute'] = groupedchat['AnzahlNachrichten']/ (groupedchat['Spieldauer']/60)\n",
    "# Erstellen Spieldauerbereiche\n",
    "groupedchat['SpieldauerBereiche'] = pd.cut(groupedchat['Spieldauer'],[x*300 for x in range(21)], labels=[(x+1)*5 for x in range(20)])\n",
    "# Erstellen Zeichen pro Minute\n",
    "groupedchat['ZeichenProMinute'] = groupedchat['NachrichtenLängeGesamt']/(groupedchat['Spieldauer']/60)\n",
    "#Erstellen getrennter Tabellen (Win/Lose)\n",
    "groupedchat_win = groupedchat[groupedchat['Team']==groupedchat['Gewinner']]\n",
    "groupedchat_lose = groupedchat[groupedchat['Team']!=groupedchat['Gewinner']]"
   ]
  },
  {
   "cell_type": "markdown",
   "metadata": {
    "slideshow": {
     "slide_type": "subslide"
    }
   },
   "source": [
    "#### Grouped Chat - Ansicht"
   ]
  },
  {
   "cell_type": "code",
   "execution_count": 68,
   "metadata": {
    "slideshow": {
     "slide_type": "fragment"
    }
   },
   "outputs": [
    {
     "data": {
      "text/html": [
       "<div>\n",
       "<style>\n",
       "    .dataframe thead tr:only-child th {\n",
       "        text-align: right;\n",
       "    }\n",
       "\n",
       "    .dataframe thead th {\n",
       "        text-align: left;\n",
       "    }\n",
       "\n",
       "    .dataframe tbody tr th {\n",
       "        vertical-align: top;\n",
       "    }\n",
       "</style>\n",
       "<table border=\"1\" class=\"dataframe\">\n",
       "  <thead>\n",
       "    <tr style=\"text-align: right;\">\n",
       "      <th></th>\n",
       "      <th>match_id</th>\n",
       "      <th>Team</th>\n",
       "      <th>AnzahlNachrichten</th>\n",
       "      <th>NachrichtenLängeGesamt</th>\n",
       "      <th>DurchschnittlicheLänge</th>\n",
       "      <th>Spieldauer</th>\n",
       "      <th>Gewinner</th>\n",
       "      <th>NachrichtenProMinute</th>\n",
       "      <th>SpieldauerBereiche</th>\n",
       "      <th>ZeichenProMinute</th>\n",
       "    </tr>\n",
       "  </thead>\n",
       "  <tbody>\n",
       "    <tr>\n",
       "      <th>0</th>\n",
       "      <td>0</td>\n",
       "      <td>Dire</td>\n",
       "      <td>28.0</td>\n",
       "      <td>352.0</td>\n",
       "      <td>12.571429</td>\n",
       "      <td>2375</td>\n",
       "      <td>Radiant</td>\n",
       "      <td>0.707368</td>\n",
       "      <td>40</td>\n",
       "      <td>8.892632</td>\n",
       "    </tr>\n",
       "    <tr>\n",
       "      <th>1</th>\n",
       "      <td>0</td>\n",
       "      <td>Radiant</td>\n",
       "      <td>19.0</td>\n",
       "      <td>117.0</td>\n",
       "      <td>6.157895</td>\n",
       "      <td>2375</td>\n",
       "      <td>Radiant</td>\n",
       "      <td>0.480000</td>\n",
       "      <td>40</td>\n",
       "      <td>2.955789</td>\n",
       "    </tr>\n",
       "    <tr>\n",
       "      <th>2</th>\n",
       "      <td>1</td>\n",
       "      <td>Dire</td>\n",
       "      <td>4.0</td>\n",
       "      <td>32.0</td>\n",
       "      <td>8.000000</td>\n",
       "      <td>2582</td>\n",
       "      <td>Dire</td>\n",
       "      <td>0.092951</td>\n",
       "      <td>45</td>\n",
       "      <td>0.743610</td>\n",
       "    </tr>\n",
       "    <tr>\n",
       "      <th>3</th>\n",
       "      <td>1</td>\n",
       "      <td>Radiant</td>\n",
       "      <td>12.0</td>\n",
       "      <td>102.0</td>\n",
       "      <td>8.500000</td>\n",
       "      <td>2582</td>\n",
       "      <td>Dire</td>\n",
       "      <td>0.278854</td>\n",
       "      <td>45</td>\n",
       "      <td>2.370256</td>\n",
       "    </tr>\n",
       "    <tr>\n",
       "      <th>4</th>\n",
       "      <td>2</td>\n",
       "      <td>Dire</td>\n",
       "      <td>6.0</td>\n",
       "      <td>77.0</td>\n",
       "      <td>12.833333</td>\n",
       "      <td>2716</td>\n",
       "      <td>Dire</td>\n",
       "      <td>0.132548</td>\n",
       "      <td>50</td>\n",
       "      <td>1.701031</td>\n",
       "    </tr>\n",
       "  </tbody>\n",
       "</table>\n",
       "</div>"
      ],
      "text/plain": [
       "   match_id     Team  AnzahlNachrichten  NachrichtenLängeGesamt  \\\n",
       "0         0     Dire               28.0                   352.0   \n",
       "1         0  Radiant               19.0                   117.0   \n",
       "2         1     Dire                4.0                    32.0   \n",
       "3         1  Radiant               12.0                   102.0   \n",
       "4         2     Dire                6.0                    77.0   \n",
       "\n",
       "   DurchschnittlicheLänge  Spieldauer Gewinner  NachrichtenProMinute  \\\n",
       "0               12.571429        2375  Radiant              0.707368   \n",
       "1                6.157895        2375  Radiant              0.480000   \n",
       "2                8.000000        2582     Dire              0.092951   \n",
       "3                8.500000        2582     Dire              0.278854   \n",
       "4               12.833333        2716     Dire              0.132548   \n",
       "\n",
       "  SpieldauerBereiche  ZeichenProMinute  \n",
       "0                 40          8.892632  \n",
       "1                 40          2.955789  \n",
       "2                 45          0.743610  \n",
       "3                 45          2.370256  \n",
       "4                 50          1.701031  "
      ]
     },
     "execution_count": 68,
     "metadata": {},
     "output_type": "execute_result"
    }
   ],
   "source": [
    "groupedchat.head()"
   ]
  },
  {
   "cell_type": "markdown",
   "metadata": {
    "slideshow": {
     "slide_type": "subslide"
    }
   },
   "source": [
    "### Zusammenhang"
   ]
  },
  {
   "cell_type": "markdown",
   "metadata": {
    "slideshow": {
     "slide_type": "fragment"
    }
   },
   "source": [
    "** Zusammenhang Gewinner **"
   ]
  },
  {
   "cell_type": "code",
   "execution_count": 69,
   "metadata": {
    "slideshow": {
     "slide_type": "fragment"
    }
   },
   "outputs": [
    {
     "data": {
      "text/plain": [
       "0.87748362563805871"
      ]
     },
     "execution_count": 69,
     "metadata": {},
     "output_type": "execute_result"
    }
   ],
   "source": [
    "ccc(pd.crosstab(groupedchat_win['Team'],groupedchat_win['NachrichtenProMinute']))"
   ]
  },
  {
   "cell_type": "markdown",
   "metadata": {
    "slideshow": {
     "slide_type": "fragment"
    }
   },
   "source": [
    "** Zusammenhang Verlierer **"
   ]
  },
  {
   "cell_type": "code",
   "execution_count": 70,
   "metadata": {
    "slideshow": {
     "slide_type": "fragment"
    }
   },
   "outputs": [
    {
     "data": {
      "text/plain": [
       "0.87894406243710055"
      ]
     },
     "execution_count": 70,
     "metadata": {},
     "output_type": "execute_result"
    }
   ],
   "source": [
    "ccc(pd.crosstab(groupedchat_lose['Team'],groupedchat_lose['NachrichtenProMinute']))"
   ]
  },
  {
   "cell_type": "markdown",
   "metadata": {
    "slideshow": {
     "slide_type": "subslide"
    }
   },
   "source": [
    "### Korrelation"
   ]
  },
  {
   "cell_type": "markdown",
   "metadata": {
    "slideshow": {
     "slide_type": "fragment"
    }
   },
   "source": [
    "#### Korrelation zwischen den Nachrichten pro Minute und dem Gewinner."
   ]
  },
  {
   "cell_type": "code",
   "execution_count": 71,
   "metadata": {
    "slideshow": {
     "slide_type": "fragment"
    }
   },
   "outputs": [
    {
     "data": {
      "text/html": [
       "<div>\n",
       "<style>\n",
       "    .dataframe thead tr:only-child th {\n",
       "        text-align: right;\n",
       "    }\n",
       "\n",
       "    .dataframe thead th {\n",
       "        text-align: left;\n",
       "    }\n",
       "\n",
       "    .dataframe tbody tr th {\n",
       "        vertical-align: top;\n",
       "    }\n",
       "</style>\n",
       "<table border=\"1\" class=\"dataframe\">\n",
       "  <thead>\n",
       "    <tr style=\"text-align: right;\">\n",
       "      <th></th>\n",
       "      <th>NachrichtenProMinute</th>\n",
       "      <th>TeamCodes</th>\n",
       "    </tr>\n",
       "  </thead>\n",
       "  <tbody>\n",
       "    <tr>\n",
       "      <th>NachrichtenProMinute</th>\n",
       "      <td>1.000000</td>\n",
       "      <td>0.097489</td>\n",
       "    </tr>\n",
       "    <tr>\n",
       "      <th>TeamCodes</th>\n",
       "      <td>0.097489</td>\n",
       "      <td>1.000000</td>\n",
       "    </tr>\n",
       "  </tbody>\n",
       "</table>\n",
       "</div>"
      ],
      "text/plain": [
       "                      NachrichtenProMinute  TeamCodes\n",
       "NachrichtenProMinute              1.000000   0.097489\n",
       "TeamCodes                         0.097489   1.000000"
      ]
     },
     "execution_count": 71,
     "metadata": {},
     "output_type": "execute_result"
    }
   ],
   "source": [
    "groupedchat_win['TeamCodes'] = groupedchat_win['Team'].cat.codes\n",
    "groupedchat_win[['NachrichtenProMinute','TeamCodes']].corr()"
   ]
  },
  {
   "cell_type": "markdown",
   "metadata": {
    "slideshow": {
     "slide_type": "fragment"
    }
   },
   "source": [
    "#### Korrelation zwischen den Nachrichten pro Minute und dem Verlierer."
   ]
  },
  {
   "cell_type": "code",
   "execution_count": 72,
   "metadata": {
    "slideshow": {
     "slide_type": "fragment"
    }
   },
   "outputs": [
    {
     "data": {
      "text/html": [
       "<div>\n",
       "<style>\n",
       "    .dataframe thead tr:only-child th {\n",
       "        text-align: right;\n",
       "    }\n",
       "\n",
       "    .dataframe thead th {\n",
       "        text-align: left;\n",
       "    }\n",
       "\n",
       "    .dataframe tbody tr th {\n",
       "        vertical-align: top;\n",
       "    }\n",
       "</style>\n",
       "<table border=\"1\" class=\"dataframe\">\n",
       "  <thead>\n",
       "    <tr style=\"text-align: right;\">\n",
       "      <th></th>\n",
       "      <th>NachrichtenProMinute</th>\n",
       "      <th>TeamCodes</th>\n",
       "    </tr>\n",
       "  </thead>\n",
       "  <tbody>\n",
       "    <tr>\n",
       "      <th>NachrichtenProMinute</th>\n",
       "      <td>1.000000</td>\n",
       "      <td>0.075454</td>\n",
       "    </tr>\n",
       "    <tr>\n",
       "      <th>TeamCodes</th>\n",
       "      <td>0.075454</td>\n",
       "      <td>1.000000</td>\n",
       "    </tr>\n",
       "  </tbody>\n",
       "</table>\n",
       "</div>"
      ],
      "text/plain": [
       "                      NachrichtenProMinute  TeamCodes\n",
       "NachrichtenProMinute              1.000000   0.075454\n",
       "TeamCodes                         0.075454   1.000000"
      ]
     },
     "execution_count": 72,
     "metadata": {},
     "output_type": "execute_result"
    }
   ],
   "source": [
    "groupedchat_lose['TeamCodes'] = groupedchat_lose['Team'].cat.codes\n",
    "groupedchat_lose[['NachrichtenProMinute','TeamCodes']].corr()"
   ]
  },
  {
   "cell_type": "markdown",
   "metadata": {
    "slideshow": {
     "slide_type": "subslide"
    }
   },
   "source": [
    "### Visualisierung"
   ]
  },
  {
   "cell_type": "code",
   "execution_count": 73,
   "metadata": {
    "collapsed": true,
    "slideshow": {
     "slide_type": "skip"
    }
   },
   "outputs": [],
   "source": [
    "# Erstellen von gleichen Quantilen. Hier wird der volle Datensatz verwendet,\n",
    "# da darüber dann von einer gleichmäßigeren Verteilung ausgegangen werden kann als bei WIN oder LOSE spezifisch.\n",
    "anzahl_quantile = 20\n",
    "quantile_nachrichten = groupedchat.NachrichtenProMinute.quantile(q=[x/anzahl_quantile for x in range(0,1+anzahl_quantile)])\n",
    "quantile_zeichen = groupedchat.ZeichenProMinute.quantile(q=[x/anzahl_quantile for x in range(0,1+anzahl_quantile)])"
   ]
  },
  {
   "cell_type": "markdown",
   "metadata": {
    "slideshow": {
     "slide_type": "subslide"
    }
   },
   "source": [
    "#### Winrate abängig von der Anzahl an Nachrichten pro Minute"
   ]
  },
  {
   "cell_type": "code",
   "execution_count": 74,
   "metadata": {
    "collapsed": true,
    "slideshow": {
     "slide_type": "skip"
    }
   },
   "outputs": [],
   "source": [
    "# Füge die zuvor erstellten Bereiche zu beiden Datensätzen hinzu\n",
    "groupedchat_win['BereicheNachrichtenProMinute'] = pd.cut(groupedchat_win['NachrichtenProMinute'] , quantile_nachrichten, labels = quantile_nachrichten.values[1:])\n",
    "groupedchat_lose['BereicheNachrichtenProMinute'] = pd.cut(groupedchat_lose['NachrichtenProMinute'] , quantile_nachrichten, labels = quantile_nachrichten.values[1:])\n",
    "# Füge beide Datensätze zu einem gruppierten Datensatz zusammen\n",
    "groupedquantile = pd.DataFrame(groupedchat_win[['BereicheNachrichtenProMinute', 'Team']].replace({'Team':{'Radiant':0,'Dire':1}}).groupby('BereicheNachrichtenProMinute').sum())\n",
    "groupedquantile.columns = ['GewonneneSpiele']\n",
    "groupedquantile['VerloreneSpiele'] = pd.DataFrame(groupedchat_lose[['BereicheNachrichtenProMinute', 'Team']].replace({'Team':{'Radiant':0,'Dire':1}}).groupby('BereicheNachrichtenProMinute').sum())\n",
    "# Erstelle die Gesamtanzahl an Spielen für jeden Bereich\n",
    "groupedquantile['GespielteSpiele'] = groupedquantile.GewonneneSpiele + groupedquantile.VerloreneSpiele\n",
    "# Berechnung der Winrate pro Bereich\n",
    "groupedquantile['Winrate'] = groupedquantile.GewonneneSpiele/groupedquantile.GespielteSpiele\n",
    "groupedquantile['Bereiche'] = [round(x*10,1) for x in groupedquantile.index.values]"
   ]
  },
  {
   "cell_type": "code",
   "execution_count": 75,
   "metadata": {
    "slideshow": {
     "slide_type": "fragment"
    }
   },
   "outputs": [
    {
     "data": {
      "text/html": [
       "<div>\n",
       "<style>\n",
       "    .dataframe thead tr:only-child th {\n",
       "        text-align: right;\n",
       "    }\n",
       "\n",
       "    .dataframe thead th {\n",
       "        text-align: left;\n",
       "    }\n",
       "\n",
       "    .dataframe tbody tr th {\n",
       "        vertical-align: top;\n",
       "    }\n",
       "</style>\n",
       "<table border=\"1\" class=\"dataframe\">\n",
       "  <thead>\n",
       "    <tr style=\"text-align: right;\">\n",
       "      <th></th>\n",
       "      <th>GewonneneSpiele</th>\n",
       "      <th>VerloreneSpiele</th>\n",
       "      <th>GespielteSpiele</th>\n",
       "      <th>Winrate</th>\n",
       "      <th>Bereiche</th>\n",
       "    </tr>\n",
       "    <tr>\n",
       "      <th>BereicheNachrichtenProMinute</th>\n",
       "      <th></th>\n",
       "      <th></th>\n",
       "      <th></th>\n",
       "      <th></th>\n",
       "      <th></th>\n",
       "    </tr>\n",
       "  </thead>\n",
       "  <tbody>\n",
       "    <tr>\n",
       "      <th>0.033370</th>\n",
       "      <td>965</td>\n",
       "      <td>1664</td>\n",
       "      <td>2629</td>\n",
       "      <td>0.367060</td>\n",
       "      <td>0.3</td>\n",
       "    </tr>\n",
       "    <tr>\n",
       "      <th>0.054348</th>\n",
       "      <td>1064</td>\n",
       "      <td>1406</td>\n",
       "      <td>2470</td>\n",
       "      <td>0.430769</td>\n",
       "      <td>0.5</td>\n",
       "    </tr>\n",
       "    <tr>\n",
       "      <th>0.071770</th>\n",
       "      <td>1106</td>\n",
       "      <td>1339</td>\n",
       "      <td>2445</td>\n",
       "      <td>0.452352</td>\n",
       "      <td>0.7</td>\n",
       "    </tr>\n",
       "    <tr>\n",
       "      <th>0.089921</th>\n",
       "      <td>1092</td>\n",
       "      <td>1221</td>\n",
       "      <td>2313</td>\n",
       "      <td>0.472114</td>\n",
       "      <td>0.9</td>\n",
       "    </tr>\n",
       "    <tr>\n",
       "      <th>0.108597</th>\n",
       "      <td>1140</td>\n",
       "      <td>1126</td>\n",
       "      <td>2266</td>\n",
       "      <td>0.503089</td>\n",
       "      <td>1.1</td>\n",
       "    </tr>\n",
       "  </tbody>\n",
       "</table>\n",
       "</div>"
      ],
      "text/plain": [
       "                              GewonneneSpiele  VerloreneSpiele  \\\n",
       "BereicheNachrichtenProMinute                                     \n",
       "0.033370                                  965             1664   \n",
       "0.054348                                 1064             1406   \n",
       "0.071770                                 1106             1339   \n",
       "0.089921                                 1092             1221   \n",
       "0.108597                                 1140             1126   \n",
       "\n",
       "                              GespielteSpiele   Winrate  Bereiche  \n",
       "BereicheNachrichtenProMinute                                       \n",
       "0.033370                                 2629  0.367060       0.3  \n",
       "0.054348                                 2470  0.430769       0.5  \n",
       "0.071770                                 2445  0.452352       0.7  \n",
       "0.089921                                 2313  0.472114       0.9  \n",
       "0.108597                                 2266  0.503089       1.1  "
      ]
     },
     "execution_count": 75,
     "metadata": {},
     "output_type": "execute_result"
    }
   ],
   "source": [
    "# Gemeinsamer Datensatz aus beiden getrennten Datensätzen\n",
    "groupedquantile.head()"
   ]
  },
  {
   "cell_type": "markdown",
   "metadata": {
    "slideshow": {
     "slide_type": "subslide"
    }
   },
   "source": [
    "#### Diagramm"
   ]
  },
  {
   "cell_type": "code",
   "execution_count": 76,
   "metadata": {
    "slideshow": {
     "slide_type": "fragment"
    }
   },
   "outputs": [
    {
     "data": {
      "text/plain": [
       "<matplotlib.text.Text at 0x219322a9978>"
      ]
     },
     "execution_count": 76,
     "metadata": {},
     "output_type": "execute_result"
    },
    {
     "data": {
      "image/png": "[encoded data removed]",
      "text/plain": [
       "<matplotlib.figure.Figure at 0x21930061ac8>"
      ]
     },
     "metadata": {},
     "output_type": "display_data"
    }
   ],
   "source": [
    "# Erzeuge Barchart\n",
    "plt.figure(figsize=(11.69,4.27))\n",
    "sns.barplot(x=groupedquantile.Bereiche, y = groupedquantile.Winrate)\n",
    "plt.xlabel('Nachrichten pro 10 Minuten (Oberlimit)', fontsize=10)\n",
    "plt.ylabel('Winrate')"
   ]
  },
  {
   "cell_type": "markdown",
   "metadata": {
    "slideshow": {
     "slide_type": "fragment"
    }
   },
   "source": [
    "** Interpretation: ** Sowohl wenig als auch zu viel Kommunikation sind schädlich für die Winrate des Teams. Bei einem gesunden Maß an Datenaustausch läuft das Spiel optimal."
   ]
  },
  {
   "cell_type": "markdown",
   "metadata": {
    "slideshow": {
     "slide_type": "subslide"
    }
   },
   "source": [
    "#### Winrate abhängig von der Anzahl der Zeichenanzahl gesendet pro Minute"
   ]
  },
  {
   "cell_type": "code",
   "execution_count": 77,
   "metadata": {
    "collapsed": true,
    "scrolled": true,
    "slideshow": {
     "slide_type": "skip"
    }
   },
   "outputs": [],
   "source": [
    "# Füge die zuvor erstellten Bereiche zu beiden Datensätzen hinzu\n",
    "groupedchat_win['BereicheZeichenProMinute'] = pd.cut(groupedchat_win['ZeichenProMinute'] , quantile_zeichen, labels = quantile_zeichen.values[1:])\n",
    "groupedchat_lose['BereicheZeichenProMinute'] = pd.cut(groupedchat_lose['ZeichenProMinute'] , quantile_zeichen, labels = quantile_zeichen.values[1:])\n",
    "# Füge beide Datensätze zu einem gruppierten Datensatz zusammen\n",
    "groupedquantile = pd.DataFrame(groupedchat_win[['BereicheZeichenProMinute', 'Team']].replace({'Team':{'Radiant':0,'Dire':1}}).groupby('BereicheZeichenProMinute').sum())\n",
    "groupedquantile.columns = ['GewonneneSpiele']\n",
    "groupedquantile['VerloreneSpiele'] = pd.DataFrame(groupedchat_lose[['BereicheZeichenProMinute', 'Team']].replace({'Team':{'Radiant':0,'Dire':1}}).groupby('BereicheZeichenProMinute').sum())\n",
    "# Erstelle die Gesamtanzahl an Spielen für jeden Bereich\n",
    "groupedquantile['GespielteSpiele'] = groupedquantile.GewonneneSpiele + groupedquantile.VerloreneSpiele\n",
    "# Berechnung der Winrate pro Bereich\n",
    "groupedquantile['Winrate'] = groupedquantile.GewonneneSpiele/groupedquantile.GespielteSpiele\n",
    "groupedquantile['Bereiche'] = [round(x*10,1) for x in groupedquantile.index.values]"
   ]
  },
  {
   "cell_type": "code",
   "execution_count": 78,
   "metadata": {
    "slideshow": {
     "slide_type": "fragment"
    }
   },
   "outputs": [
    {
     "data": {
      "text/html": [
       "<div>\n",
       "<style>\n",
       "    .dataframe thead tr:only-child th {\n",
       "        text-align: right;\n",
       "    }\n",
       "\n",
       "    .dataframe thead th {\n",
       "        text-align: left;\n",
       "    }\n",
       "\n",
       "    .dataframe tbody tr th {\n",
       "        vertical-align: top;\n",
       "    }\n",
       "</style>\n",
       "<table border=\"1\" class=\"dataframe\">\n",
       "  <thead>\n",
       "    <tr style=\"text-align: right;\">\n",
       "      <th></th>\n",
       "      <th>GewonneneSpiele</th>\n",
       "      <th>VerloreneSpiele</th>\n",
       "      <th>GespielteSpiele</th>\n",
       "      <th>Winrate</th>\n",
       "      <th>Bereiche</th>\n",
       "    </tr>\n",
       "    <tr>\n",
       "      <th>BereicheZeichenProMinute</th>\n",
       "      <th></th>\n",
       "      <th></th>\n",
       "      <th></th>\n",
       "      <th></th>\n",
       "      <th></th>\n",
       "    </tr>\n",
       "  </thead>\n",
       "  <tbody>\n",
       "    <tr>\n",
       "      <th>0.131617</th>\n",
       "      <td>1043</td>\n",
       "      <td>1493</td>\n",
       "      <td>2536</td>\n",
       "      <td>0.411278</td>\n",
       "      <td>1.3</td>\n",
       "    </tr>\n",
       "    <tr>\n",
       "      <th>0.263930</th>\n",
       "      <td>1130</td>\n",
       "      <td>1241</td>\n",
       "      <td>2371</td>\n",
       "      <td>0.476592</td>\n",
       "      <td>2.6</td>\n",
       "    </tr>\n",
       "    <tr>\n",
       "      <th>0.417766</th>\n",
       "      <td>1144</td>\n",
       "      <td>1209</td>\n",
       "      <td>2353</td>\n",
       "      <td>0.486188</td>\n",
       "      <td>4.2</td>\n",
       "    </tr>\n",
       "    <tr>\n",
       "      <th>0.588928</th>\n",
       "      <td>1149</td>\n",
       "      <td>1091</td>\n",
       "      <td>2240</td>\n",
       "      <td>0.512946</td>\n",
       "      <td>5.9</td>\n",
       "    </tr>\n",
       "    <tr>\n",
       "      <th>0.769231</th>\n",
       "      <td>1144</td>\n",
       "      <td>1106</td>\n",
       "      <td>2250</td>\n",
       "      <td>0.508444</td>\n",
       "      <td>7.7</td>\n",
       "    </tr>\n",
       "  </tbody>\n",
       "</table>\n",
       "</div>"
      ],
      "text/plain": [
       "                          GewonneneSpiele  VerloreneSpiele  GespielteSpiele  \\\n",
       "BereicheZeichenProMinute                                                      \n",
       "0.131617                             1043             1493             2536   \n",
       "0.263930                             1130             1241             2371   \n",
       "0.417766                             1144             1209             2353   \n",
       "0.588928                             1149             1091             2240   \n",
       "0.769231                             1144             1106             2250   \n",
       "\n",
       "                           Winrate  Bereiche  \n",
       "BereicheZeichenProMinute                      \n",
       "0.131617                  0.411278       1.3  \n",
       "0.263930                  0.476592       2.6  \n",
       "0.417766                  0.486188       4.2  \n",
       "0.588928                  0.512946       5.9  \n",
       "0.769231                  0.508444       7.7  "
      ]
     },
     "execution_count": 78,
     "metadata": {},
     "output_type": "execute_result"
    }
   ],
   "source": [
    "# Gemeinsamer Datensatz aus beiden getrennten Datensätzen\n",
    "groupedquantile.head()"
   ]
  },
  {
   "cell_type": "markdown",
   "metadata": {
    "slideshow": {
     "slide_type": "subslide"
    }
   },
   "source": [
    "#### Diagramm"
   ]
  },
  {
   "cell_type": "code",
   "execution_count": 79,
   "metadata": {
    "slideshow": {
     "slide_type": "fragment"
    }
   },
   "outputs": [
    {
     "data": {
      "text/plain": [
       "<matplotlib.text.Text at 0x2192eff97b8>"
      ]
     },
     "execution_count": 79,
     "metadata": {},
     "output_type": "execute_result"
    },
    {
     "data": {
      "image/png": "[encoded data removed]",
      "text/plain": [
       "<matplotlib.figure.Figure at 0x2192f00ae10>"
      ]
     },
     "metadata": {},
     "output_type": "display_data"
    }
   ],
   "source": [
    "# Erzeuge Barchart\n",
    "plt.figure(figsize=(11.69,4.27))\n",
    "sns.barplot(x=groupedquantile.Bereiche, y = groupedquantile.Winrate)\n",
    "plt.xlabel('Zeichen pro 10 Minuten (Oberlimit)', fontsize=10)"
   ]
  },
  {
   "cell_type": "markdown",
   "metadata": {
    "slideshow": {
     "slide_type": "fragment"
    }
   },
   "source": [
    "** Interpretation: ** Wie bei der Nachrichten pro Minute Verteilung zeigt sich ein geringer Vorteil in gesunder Kommunikation. Zwischen 4.3 und 54.6 Zeichen pro 10 Minuten, also einfache Befehle und nicht viel Tratsch, geben dem Team einen leichten Vorteil."
   ]
  },
  {
   "cell_type": "markdown",
   "metadata": {
    "slideshow": {
     "slide_type": "slide"
    }
   },
   "source": [
    "## Erzeugen einer Matrix, die es zulässt, den Spielerfolg der Spieler anzuzeigen"
   ]
  },
  {
   "cell_type": "code",
   "execution_count": 80,
   "metadata": {
    "slideshow": {
     "slide_type": "skip"
    }
   },
   "outputs": [],
   "source": [
    "# Erzeugen von lokalen Dataframes\n",
    "match = None\n",
    "match = df_match.copy()\n",
    "player = df_player.copy()"
   ]
  },
  {
   "cell_type": "code",
   "execution_count": 81,
   "metadata": {
    "slideshow": {
     "slide_type": "skip"
    }
   },
   "outputs": [],
   "source": [
    "match[\"gewinner\"] = match.radiant_win.map(lambda x:\"radiant\" if x else \"dire\")\n",
    "match.drop(\"radiant_win\", axis=1, inplace=True)\n",
    "mat_1 = match.merge(player,on=['match_id'])\n",
    "# mat_125 = df_match_50000.merge(df_match_50000,on='match_id').merge(df_players[df_players[\"player_slot\"]>6],on='match_id')"
   ]
  },
  {
   "cell_type": "code",
   "execution_count": 82,
   "metadata": {
    "collapsed": true,
    "slideshow": {
     "slide_type": "skip"
    }
   },
   "outputs": [],
   "source": [
    "mat_1[\"team\"]= mat_1.player_slot.map(lambda x:\"radiant\" if x<10 else \"dire\")"
   ]
  },
  {
   "cell_type": "markdown",
   "metadata": {
    "collapsed": true,
    "slideshow": {
     "slide_type": "subslide"
    }
   },
   "source": [
    "#### Aufbereitete Daten"
   ]
  },
  {
   "cell_type": "code",
   "execution_count": 83,
   "metadata": {
    "slideshow": {
     "slide_type": "fragment"
    }
   },
   "outputs": [
    {
     "data": {
      "text/html": [
       "<div>\n",
       "<style>\n",
       "    .dataframe thead tr:only-child th {\n",
       "        text-align: right;\n",
       "    }\n",
       "\n",
       "    .dataframe thead th {\n",
       "        text-align: left;\n",
       "    }\n",
       "\n",
       "    .dataframe tbody tr th {\n",
       "        vertical-align: top;\n",
       "    }\n",
       "</style>\n",
       "<table border=\"1\" class=\"dataframe\">\n",
       "  <thead>\n",
       "    <tr style=\"text-align: right;\">\n",
       "      <th></th>\n",
       "      <th>match_id</th>\n",
       "      <th>duration</th>\n",
       "      <th>gewinner</th>\n",
       "      <th>hero_id</th>\n",
       "      <th>player_slot</th>\n",
       "      <th>gold</th>\n",
       "      <th>gold_spent</th>\n",
       "      <th>kills</th>\n",
       "      <th>deaths</th>\n",
       "      <th>assists</th>\n",
       "      <th>team</th>\n",
       "    </tr>\n",
       "  </thead>\n",
       "  <tbody>\n",
       "    <tr>\n",
       "      <th>0</th>\n",
       "      <td>0</td>\n",
       "      <td>2375</td>\n",
       "      <td>radiant</td>\n",
       "      <td>86</td>\n",
       "      <td>0</td>\n",
       "      <td>3261</td>\n",
       "      <td>10960</td>\n",
       "      <td>9</td>\n",
       "      <td>3</td>\n",
       "      <td>18</td>\n",
       "      <td>radiant</td>\n",
       "    </tr>\n",
       "    <tr>\n",
       "      <th>1</th>\n",
       "      <td>0</td>\n",
       "      <td>2375</td>\n",
       "      <td>radiant</td>\n",
       "      <td>51</td>\n",
       "      <td>1</td>\n",
       "      <td>2954</td>\n",
       "      <td>17760</td>\n",
       "      <td>13</td>\n",
       "      <td>3</td>\n",
       "      <td>18</td>\n",
       "      <td>radiant</td>\n",
       "    </tr>\n",
       "    <tr>\n",
       "      <th>2</th>\n",
       "      <td>0</td>\n",
       "      <td>2375</td>\n",
       "      <td>radiant</td>\n",
       "      <td>83</td>\n",
       "      <td>2</td>\n",
       "      <td>110</td>\n",
       "      <td>12195</td>\n",
       "      <td>0</td>\n",
       "      <td>4</td>\n",
       "      <td>15</td>\n",
       "      <td>radiant</td>\n",
       "    </tr>\n",
       "    <tr>\n",
       "      <th>3</th>\n",
       "      <td>0</td>\n",
       "      <td>2375</td>\n",
       "      <td>radiant</td>\n",
       "      <td>11</td>\n",
       "      <td>3</td>\n",
       "      <td>1179</td>\n",
       "      <td>22505</td>\n",
       "      <td>8</td>\n",
       "      <td>4</td>\n",
       "      <td>19</td>\n",
       "      <td>radiant</td>\n",
       "    </tr>\n",
       "    <tr>\n",
       "      <th>4</th>\n",
       "      <td>0</td>\n",
       "      <td>2375</td>\n",
       "      <td>radiant</td>\n",
       "      <td>67</td>\n",
       "      <td>4</td>\n",
       "      <td>3307</td>\n",
       "      <td>23825</td>\n",
       "      <td>20</td>\n",
       "      <td>3</td>\n",
       "      <td>17</td>\n",
       "      <td>radiant</td>\n",
       "    </tr>\n",
       "  </tbody>\n",
       "</table>\n",
       "</div>"
      ],
      "text/plain": [
       "   match_id  duration gewinner  hero_id  player_slot  gold  gold_spent  kills  \\\n",
       "0         0      2375  radiant       86            0  3261       10960      9   \n",
       "1         0      2375  radiant       51            1  2954       17760     13   \n",
       "2         0      2375  radiant       83            2   110       12195      0   \n",
       "3         0      2375  radiant       11            3  1179       22505      8   \n",
       "4         0      2375  radiant       67            4  3307       23825     20   \n",
       "\n",
       "   deaths  assists     team  \n",
       "0       3       18  radiant  \n",
       "1       3       18  radiant  \n",
       "2       4       15  radiant  \n",
       "3       4       19  radiant  \n",
       "4       3       17  radiant  "
      ]
     },
     "execution_count": 83,
     "metadata": {},
     "output_type": "execute_result"
    }
   ],
   "source": [
    "mat_1.head(5)"
   ]
  },
  {
   "cell_type": "markdown",
   "metadata": {
    "slideshow": {
     "slide_type": "slide"
    }
   },
   "source": [
    "## Hinzufügen einer Spalte mit der Gesammtsumme des Goldes pro Spieler"
   ]
  },
  {
   "cell_type": "code",
   "execution_count": 84,
   "metadata": {
    "collapsed": true,
    "slideshow": {
     "slide_type": "skip"
    }
   },
   "outputs": [],
   "source": [
    "mat_1[\"total_gold\"] =  mat_1[\"gold\"] + mat_1[\"gold_spent\"]\n"
   ]
  },
  {
   "cell_type": "code",
   "execution_count": 85,
   "metadata": {
    "collapsed": true,
    "slideshow": {
     "slide_type": "skip"
    }
   },
   "outputs": [],
   "source": [
    "series = mat_1.groupby([\"match_id\", \"team\"]).sum().total_gold"
   ]
  },
  {
   "cell_type": "code",
   "execution_count": 86,
   "metadata": {
    "collapsed": true,
    "slideshow": {
     "slide_type": "skip"
    }
   },
   "outputs": [],
   "source": [
    "series_total = mat_1.groupby([\"match_id\"]).sum().total_gold"
   ]
  },
  {
   "cell_type": "code",
   "execution_count": 87,
   "metadata": {
    "collapsed": true,
    "slideshow": {
     "slide_type": "skip"
    }
   },
   "outputs": [],
   "source": [
    "series_total = series_total.reset_index()\n",
    "series = series.reset_index()"
   ]
  },
  {
   "cell_type": "code",
   "execution_count": 88,
   "metadata": {
    "scrolled": true,
    "slideshow": {
     "slide_type": "skip"
    }
   },
   "outputs": [
    {
     "data": {
      "text/html": [
       "<div>\n",
       "<style>\n",
       "    .dataframe thead tr:only-child th {\n",
       "        text-align: right;\n",
       "    }\n",
       "\n",
       "    .dataframe thead th {\n",
       "        text-align: left;\n",
       "    }\n",
       "\n",
       "    .dataframe tbody tr th {\n",
       "        vertical-align: top;\n",
       "    }\n",
       "</style>\n",
       "<table border=\"1\" class=\"dataframe\">\n",
       "  <thead>\n",
       "    <tr style=\"text-align: right;\">\n",
       "      <th></th>\n",
       "      <th>match_id</th>\n",
       "      <th>total_gold</th>\n",
       "      <th>gewinner</th>\n",
       "    </tr>\n",
       "  </thead>\n",
       "  <tbody>\n",
       "    <tr>\n",
       "      <th>0</th>\n",
       "      <td>0</td>\n",
       "      <td>160394</td>\n",
       "      <td>radiant</td>\n",
       "    </tr>\n",
       "    <tr>\n",
       "      <th>1</th>\n",
       "      <td>1</td>\n",
       "      <td>190921</td>\n",
       "      <td>dire</td>\n",
       "    </tr>\n",
       "    <tr>\n",
       "      <th>2</th>\n",
       "      <td>2</td>\n",
       "      <td>150281</td>\n",
       "      <td>dire</td>\n",
       "    </tr>\n",
       "    <tr>\n",
       "      <th>3</th>\n",
       "      <td>3</td>\n",
       "      <td>183524</td>\n",
       "      <td>dire</td>\n",
       "    </tr>\n",
       "    <tr>\n",
       "      <th>4</th>\n",
       "      <td>4</td>\n",
       "      <td>134089</td>\n",
       "      <td>radiant</td>\n",
       "    </tr>\n",
       "  </tbody>\n",
       "</table>\n",
       "</div>"
      ],
      "text/plain": [
       "   match_id  total_gold gewinner\n",
       "0         0      160394  radiant\n",
       "1         1      190921     dire\n",
       "2         2      150281     dire\n",
       "3         3      183524     dire\n",
       "4         4      134089  radiant"
      ]
     },
     "execution_count": 88,
     "metadata": {},
     "output_type": "execute_result"
    }
   ],
   "source": [
    "series_total = series_total.merge(match[[\"match_id\", \"gewinner\"]], on=\"match_id\")\n",
    "series_total.head()"
   ]
  },
  {
   "cell_type": "code",
   "execution_count": 89,
   "metadata": {
    "collapsed": true,
    "slideshow": {
     "slide_type": "skip"
    }
   },
   "outputs": [],
   "source": [
    "series_total = series_total.merge(series.rename(columns=({\"total_gold\":\"teamgold\"})), on=\"match_id\")\n"
   ]
  },
  {
   "cell_type": "code",
   "execution_count": 90,
   "metadata": {
    "slideshow": {
     "slide_type": "skip"
    }
   },
   "outputs": [
    {
     "data": {
      "text/html": [
       "<div>\n",
       "<style>\n",
       "    .dataframe thead tr:only-child th {\n",
       "        text-align: right;\n",
       "    }\n",
       "\n",
       "    .dataframe thead th {\n",
       "        text-align: left;\n",
       "    }\n",
       "\n",
       "    .dataframe tbody tr th {\n",
       "        vertical-align: top;\n",
       "    }\n",
       "</style>\n",
       "<table border=\"1\" class=\"dataframe\">\n",
       "  <thead>\n",
       "    <tr style=\"text-align: right;\">\n",
       "      <th></th>\n",
       "      <th>match_id</th>\n",
       "      <th>total_gold</th>\n",
       "      <th>gewinner</th>\n",
       "      <th>team</th>\n",
       "      <th>teamgold</th>\n",
       "      <th>anteil</th>\n",
       "    </tr>\n",
       "  </thead>\n",
       "  <tbody>\n",
       "    <tr>\n",
       "      <th>0</th>\n",
       "      <td>0</td>\n",
       "      <td>160394</td>\n",
       "      <td>radiant</td>\n",
       "      <td>dire</td>\n",
       "      <td>62338</td>\n",
       "      <td>38.865544</td>\n",
       "    </tr>\n",
       "    <tr>\n",
       "      <th>1</th>\n",
       "      <td>0</td>\n",
       "      <td>160394</td>\n",
       "      <td>radiant</td>\n",
       "      <td>radiant</td>\n",
       "      <td>98056</td>\n",
       "      <td>61.134456</td>\n",
       "    </tr>\n",
       "    <tr>\n",
       "      <th>2</th>\n",
       "      <td>1</td>\n",
       "      <td>190921</td>\n",
       "      <td>dire</td>\n",
       "      <td>dire</td>\n",
       "      <td>116835</td>\n",
       "      <td>61.195468</td>\n",
       "    </tr>\n",
       "    <tr>\n",
       "      <th>3</th>\n",
       "      <td>1</td>\n",
       "      <td>190921</td>\n",
       "      <td>dire</td>\n",
       "      <td>radiant</td>\n",
       "      <td>74086</td>\n",
       "      <td>38.804532</td>\n",
       "    </tr>\n",
       "    <tr>\n",
       "      <th>4</th>\n",
       "      <td>2</td>\n",
       "      <td>150281</td>\n",
       "      <td>dire</td>\n",
       "      <td>dire</td>\n",
       "      <td>92797</td>\n",
       "      <td>61.748990</td>\n",
       "    </tr>\n",
       "  </tbody>\n",
       "</table>\n",
       "</div>"
      ],
      "text/plain": [
       "   match_id  total_gold gewinner     team  teamgold     anteil\n",
       "0         0      160394  radiant     dire     62338  38.865544\n",
       "1         0      160394  radiant  radiant     98056  61.134456\n",
       "2         1      190921     dire     dire    116835  61.195468\n",
       "3         1      190921     dire  radiant     74086  38.804532\n",
       "4         2      150281     dire     dire     92797  61.748990"
      ]
     },
     "execution_count": 90,
     "metadata": {},
     "output_type": "execute_result"
    }
   ],
   "source": [
    "series_total['anteil'] = series_total.teamgold/series_total.total_gold*100\n",
    "series_total.head()"
   ]
  },
  {
   "cell_type": "code",
   "execution_count": 91,
   "metadata": {
    "slideshow": {
     "slide_type": "skip"
    }
   },
   "outputs": [
    {
     "data": {
      "text/plain": [
       "(851, 6)"
      ]
     },
     "execution_count": 91,
     "metadata": {},
     "output_type": "execute_result"
    }
   ],
   "source": [
    "series_total[series_total.gewinner==series_total.team ][series_total.anteil<50].shape"
   ]
  },
  {
   "cell_type": "code",
   "execution_count": 92,
   "metadata": {
    "slideshow": {
     "slide_type": "skip"
    }
   },
   "outputs": [
    {
     "name": "stdout",
     "output_type": "stream",
     "text": [
      "40\n"
     ]
    }
   ],
   "source": [
    "lower = 40\n",
    "upper = 20\n",
    "perc = 1\n",
    "bins=[x for x in range(lower,100-upper,1)]\n",
    "print(len(bins))\n",
    "series_total['bereiche_anteil'] = pd.cut(\n",
    "    series_total.anteil,\n",
    "    bins=bins,\n",
    "    labels=bins[:-1])"
   ]
  },
  {
   "cell_type": "markdown",
   "metadata": {
    "slideshow": {
     "slide_type": "subslide"
    }
   },
   "source": [
    "#### Bereiche zur Berechnung"
   ]
  },
  {
   "cell_type": "code",
   "execution_count": 93,
   "metadata": {
    "slideshow": {
     "slide_type": "fragment"
    }
   },
   "outputs": [
    {
     "data": {
      "text/html": [
       "<div>\n",
       "<style>\n",
       "    .dataframe thead tr:only-child th {\n",
       "        text-align: right;\n",
       "    }\n",
       "\n",
       "    .dataframe thead th {\n",
       "        text-align: left;\n",
       "    }\n",
       "\n",
       "    .dataframe tbody tr th {\n",
       "        vertical-align: top;\n",
       "    }\n",
       "</style>\n",
       "<table border=\"1\" class=\"dataframe\">\n",
       "  <thead>\n",
       "    <tr style=\"text-align: right;\">\n",
       "      <th></th>\n",
       "      <th>match_id</th>\n",
       "      <th>total_gold</th>\n",
       "      <th>gewinner</th>\n",
       "      <th>team</th>\n",
       "      <th>teamgold</th>\n",
       "      <th>anteil</th>\n",
       "      <th>bereiche_anteil</th>\n",
       "    </tr>\n",
       "  </thead>\n",
       "  <tbody>\n",
       "    <tr>\n",
       "      <th>0</th>\n",
       "      <td>0</td>\n",
       "      <td>160394</td>\n",
       "      <td>radiant</td>\n",
       "      <td>dire</td>\n",
       "      <td>62338</td>\n",
       "      <td>38.865544</td>\n",
       "      <td>NaN</td>\n",
       "    </tr>\n",
       "    <tr>\n",
       "      <th>1</th>\n",
       "      <td>0</td>\n",
       "      <td>160394</td>\n",
       "      <td>radiant</td>\n",
       "      <td>radiant</td>\n",
       "      <td>98056</td>\n",
       "      <td>61.134456</td>\n",
       "      <td>61.0</td>\n",
       "    </tr>\n",
       "    <tr>\n",
       "      <th>2</th>\n",
       "      <td>1</td>\n",
       "      <td>190921</td>\n",
       "      <td>dire</td>\n",
       "      <td>dire</td>\n",
       "      <td>116835</td>\n",
       "      <td>61.195468</td>\n",
       "      <td>61.0</td>\n",
       "    </tr>\n",
       "  </tbody>\n",
       "</table>\n",
       "</div>"
      ],
      "text/plain": [
       "   match_id  total_gold gewinner     team  teamgold     anteil bereiche_anteil\n",
       "0         0      160394  radiant     dire     62338  38.865544             NaN\n",
       "1         0      160394  radiant  radiant     98056  61.134456            61.0\n",
       "2         1      190921     dire     dire    116835  61.195468            61.0"
      ]
     },
     "execution_count": 93,
     "metadata": {},
     "output_type": "execute_result"
    }
   ],
   "source": [
    "series_total.head(3)"
   ]
  },
  {
   "cell_type": "markdown",
   "metadata": {
    "slideshow": {
     "slide_type": "subslide"
    }
   },
   "source": [
    "#### Verteilung Goldanteile bei Spielende"
   ]
  },
  {
   "cell_type": "code",
   "execution_count": 94,
   "metadata": {
    "slideshow": {
     "slide_type": "fragment"
    }
   },
   "outputs": [
    {
     "data": {
      "text/plain": [
       "<matplotlib.axes._subplots.AxesSubplot at 0x2191da81358>"
      ]
     },
     "execution_count": 94,
     "metadata": {},
     "output_type": "execute_result"
    },
    {
     "data": {
      "image/png": "[encoded data removed]",
      "text/plain": [
       "<matplotlib.figure.Figure at 0x2192dfa9978>"
      ]
     },
     "metadata": {},
     "output_type": "display_data"
    }
   ],
   "source": [
    "plt.figure(figsize=(20.69,8.27))\n",
    "sns.countplot(x='bereiche_anteil',data=series_total[series_total.gewinner == series_total.team])"
   ]
  },
  {
   "cell_type": "code",
   "execution_count": 95,
   "metadata": {
    "collapsed": true,
    "slideshow": {
     "slide_type": "skip"
    }
   },
   "outputs": [],
   "source": [
    " x = (series_total \\\n",
    " .bereiche_anteil \\\n",
    " .value_counts()-series_total[series_total \\\n",
    " .gewinner != series_total.team] \\\n",
    " .bereiche_anteil \\\n",
    " .value_counts())/series_total \\\n",
    " .bereiche_anteil \\\n",
    " .value_counts()"
   ]
  },
  {
   "cell_type": "markdown",
   "metadata": {
    "slideshow": {
     "slide_type": "subslide"
    }
   },
   "source": [
    "#### Gewinnwahrscheinlichkeit abhängig vom Goldvorsprung"
   ]
  },
  {
   "cell_type": "code",
   "execution_count": 96,
   "metadata": {
    "scrolled": true,
    "slideshow": {
     "slide_type": "fragment"
    }
   },
   "outputs": [
    {
     "data": {
      "text/plain": [
       "<matplotlib.axes._subplots.AxesSubplot at 0x219300d21d0>"
      ]
     },
     "execution_count": 96,
     "metadata": {},
     "output_type": "execute_result"
    },
    {
     "data": {
      "image/png": "[encoded data removed]",
      "text/plain": [
       "<matplotlib.figure.Figure at 0x219300d2160>"
      ]
     },
     "metadata": {},
     "output_type": "display_data"
    }
   ],
   "source": [
    "plt.figure(figsize=(15.69,4.27))\n",
    "sns.pointplot( x=x.index , y=x)"
   ]
  },
  {
   "cell_type": "code",
   "execution_count": 97,
   "metadata": {
    "slideshow": {
     "slide_type": "skip"
    }
   },
   "outputs": [
    {
     "data": {
      "text/plain": [
       "0        38.865544\n",
       "1        61.134456\n",
       "2        61.195468\n",
       "3        38.804532\n",
       "4        61.748990\n",
       "5        38.251010\n",
       "6        54.698023\n",
       "7        45.301977\n",
       "8        30.584164\n",
       "9        69.415836\n",
       "10       36.215649\n",
       "11       63.784351\n",
       "12       39.370758\n",
       "13       60.629242\n",
       "14       35.686032\n",
       "15       64.313968\n",
       "16       64.478613\n",
       "17       35.521387\n",
       "18       61.185745\n",
       "19       38.814255\n",
       "20       29.851293\n",
       "21       70.148707\n",
       "22       54.320323\n",
       "23       45.679677\n",
       "24       52.604319\n",
       "25       47.395681\n",
       "26       41.687192\n",
       "27       58.312808\n",
       "28       31.554391\n",
       "29       68.445609\n",
       "           ...    \n",
       "99970    60.775911\n",
       "99971    39.224089\n",
       "99972    42.802974\n",
       "99973    57.197026\n",
       "99974    49.598885\n",
       "99975    50.401115\n",
       "99976    62.477114\n",
       "99977    37.522886\n",
       "99978    74.086299\n",
       "99979    25.913701\n",
       "99980    41.029163\n",
       "99981    58.970837\n",
       "99982    41.180679\n",
       "99983    58.819321\n",
       "99984    58.677457\n",
       "99985    41.322543\n",
       "99986    61.374007\n",
       "99987    38.625993\n",
       "99988    61.043036\n",
       "99989    38.956964\n",
       "99990    44.774020\n",
       "99991    55.225980\n",
       "99992    35.883196\n",
       "99993    64.116804\n",
       "99994    35.903609\n",
       "99995    64.096391\n",
       "99996    39.815030\n",
       "99997    60.184970\n",
       "99998    60.539190\n",
       "99999    39.460810\n",
       "Name: anteil, Length: 100000, dtype: float64"
      ]
     },
     "execution_count": 97,
     "metadata": {},
     "output_type": "execute_result"
    }
   ],
   "source": [
    "series_total.anteil"
   ]
  },
  {
   "cell_type": "code",
   "execution_count": 98,
   "metadata": {
    "slideshow": {
     "slide_type": "skip"
    }
   },
   "outputs": [
    {
     "data": {
      "text/plain": [
       "LinregressResult(slope=-4.1436818451406479e-20, intercept=0.51885999999999999, rvalue=-9.5605326533158619e-19, pvalue=0.99999999999999978, stderr=0.00013705934639404965)"
      ]
     },
     "execution_count": 98,
     "metadata": {},
     "output_type": "execute_result"
    }
   ],
   "source": [
    "stats.linregress(series_total.anteil, series_total.gewinner.map(lambda x: 1 if x==\"radiant\" else 0 ))"
   ]
  }
 ],
 "metadata": {
  "celltoolbar": "Slideshow",
  "kernelspec": {
   "display_name": "Python 3",
   "language": "python",
   "name": "python3"
  },
  "language_info": {
   "codemirror_mode": {
    "name": "ipython",
    "version": 3
   },
   "file_extension": ".py",
   "mimetype": "text/x-python",
   "name": "python",
   "nbconvert_exporter": "python",
   "pygments_lexer": "ipython3",
   "version": "3.6.1"
  }
 },
 "nbformat": 4,
 "nbformat_minor": 2
}
