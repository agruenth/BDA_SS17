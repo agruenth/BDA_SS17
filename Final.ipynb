{
 "cells": [
  {
   "cell_type": "markdown",
   "metadata": {
    "slideshow": {
     "slide_type": "slide"
    }
   },
   "source": [
    "# Dota 2 BDA SS 2017\n",
    "\n",
    "*Präsentation erstellt mit [reveal.js](https://github.com/hakimel/reveal.js/)*"
   ]
  },
  {
   "cell_type": "markdown",
   "metadata": {
    "slideshow": {
     "slide_type": "subslide"
    }
   },
   "source": [
    "## Projektmitglieder\n",
    "\n",
    "#### Degfar, Vitali, 4. Semester – 191904 \n",
    "#### Grünther, Adrian, 4. Semester – 191908\n",
    "#### Holzwarth, Robin, 6. Semester – 188569\n",
    "#### Maul, Yvonne, 4. Semester – 191914\n",
    "#### Sudahl, Maren, 5. Semester – 190517"
   ]
  },
  {
   "cell_type": "raw",
   "metadata": {
    "slideshow": {
     "slide_type": "skip"
    }
   },
   "source": [
    "<img src = \"Images/crisp.png\" width = \"60%\">"
   ]
  },
  {
   "cell_type": "raw",
   "metadata": {
    "slideshow": {
     "slide_type": "subslide"
    }
   },
   "source": [
    "<img src = \"Images/Dota.png\" width = \"60%\">"
   ]
  },
  {
   "cell_type": "markdown",
   "metadata": {
    "slideshow": {
     "slide_type": "subslide"
    }
   },
   "source": [
    "## Kurzbeschreibung Datensatz\n",
    "\n",
    "#### ca. 434 MB (zipped)\n",
    "#### 18 csv Files \n",
    "#### 16 verbunden Tabellen zu 50.000 Spielen \n",
    "##### 2 verbundene Tabellen zu 900.000 Spielausgängen\n",
    "\n",
    "[Source Datensatz](https://www.kaggle.com/devinanzelmo/dota-2-matches)"
   ]
  },
  {
   "cell_type": "markdown",
   "metadata": {
    "slideshow": {
     "slide_type": "slide"
    }
   },
   "source": [
    "## Allgemeine Vorbereitungen"
   ]
  },
  {
   "cell_type": "markdown",
   "metadata": {
    "slideshow": {
     "slide_type": "subslide"
    }
   },
   "source": [
    "### Laden der Bibliotheken"
   ]
  },
  {
   "cell_type": "code",
   "execution_count": 1,
   "metadata": {
    "collapsed": true,
    "slideshow": {
     "slide_type": "fragment"
    }
   },
   "outputs": [],
   "source": [
    "import numpy as np\n",
    "import pandas as pd\n",
    "import seaborn as sns\n",
    "import matplotlib.pyplot as plt\n",
    "import scipy.stats as stats\n",
    "\n",
    "%matplotlib inline\n",
    "import warnings\n",
    "warnings.filterwarnings('ignore')"
   ]
  },
  {
   "cell_type": "markdown",
   "metadata": {
    "slideshow": {
     "slide_type": "subslide"
    }
   },
   "source": [
    "### Definition Funktionen"
   ]
  },
  {
   "cell_type": "code",
   "execution_count": 2,
   "metadata": {
    "collapsed": true,
    "slideshow": {
     "slide_type": "fragment"
    }
   },
   "outputs": [],
   "source": [
    "def ccc(crosstab):\n",
    "    chi2 = stats.chi2_contingency(crosstab)[0]\n",
    "    q = min(crosstab.shape)\n",
    "    if q > 1:\n",
    "        return np.sqrt(chi2 / (chi2 + crosstab.values.sum())) * np.sqrt(q / (q-1))\n",
    "    else:\n",
    "        return 0"
   ]
  },
  {
   "cell_type": "markdown",
   "metadata": {
    "slideshow": {
     "slide_type": "subslide"
    }
   },
   "source": [
    "### Laden der Daten"
   ]
  },
  {
   "cell_type": "code",
   "execution_count": 3,
   "metadata": {
    "slideshow": {
     "slide_type": "fragment"
    }
   },
   "outputs": [],
   "source": [
    "df_player = pd.read_csv('data/players.csv', memory_map=True)\n",
    "df_match = pd.read_csv('data/match.csv', memory_map=True)\n",
    "df_chat = pd.read_csv(\"data/chat.csv\", memory_map=True)\n",
    "df_hero_names = pd.read_csv('data/hero_names.csv', memory_map=True)"
   ]
  },
  {
   "cell_type": "markdown",
   "metadata": {
    "slideshow": {
     "slide_type": "subslide"
    }
   },
   "source": [
    "### Cleanup Daten"
   ]
  },
  {
   "cell_type": "code",
   "execution_count": 4,
   "metadata": {
    "collapsed": true,
    "slideshow": {
     "slide_type": "fragment"
    }
   },
   "outputs": [],
   "source": [
    "df_chat.drop([\n",
    "    'unit',\n",
    "    'time',],\n",
    "    axis=1,\n",
    "    inplace=True)"
   ]
  },
  {
   "cell_type": "code",
   "execution_count": 5,
   "metadata": {
    "collapsed": true,
    "slideshow": {
     "slide_type": "fragment"
    }
   },
   "outputs": [],
   "source": [
    "df_match.drop([\n",
    "    'start_time',\n",
    "    'tower_status_radiant',\n",
    "    'tower_status_dire',\n",
    "    'barracks_status_radiant',\n",
    "    'barracks_status_dire',\n",
    "    'first_blood_time',\n",
    "    'game_mode',\n",
    "    'negative_votes',\n",
    "    'positive_votes',\n",
    "    'cluster'],\n",
    "    axis=1,\n",
    "    inplace=True)"
   ]
  },
  {
   "cell_type": "code",
   "execution_count": 6,
   "metadata": {
    "collapsed": true,
    "slideshow": {
     "slide_type": "fragment"
    }
   },
   "outputs": [],
   "source": [
    "df_player.drop([\n",
    "    'account_id',\n",
    "    'gold_per_min',\n",
    "    'xp_per_min',\n",
    "    'denies',\n",
    "    'last_hits',\n",
    "    'stuns',\n",
    "    'hero_damage',\n",
    "    'hero_healing',\n",
    "    'tower_damage',\n",
    "    'item_0',\n",
    "    'item_1',\n",
    "    'item_2',\n",
    "    'item_3',\n",
    "    'item_4',\n",
    "    'item_5',\n",
    "    'level',\n",
    "    'leaver_status',\n",
    "    'xp_hero',\n",
    "    'xp_creep',\n",
    "    'xp_roshan',\n",
    "    'xp_other',\n",
    "    'gold_other',\n",
    "    'gold_death',\n",
    "    'gold_buyback',\n",
    "    'gold_abandon',\n",
    "    'gold_sell',\n",
    "    'gold_destroying_structure',\n",
    "    'gold_killing_heros',\n",
    "    'gold_killing_creeps',\n",
    "    'gold_killing_roshan',\n",
    "    'gold_killing_couriers',\n",
    "    'unit_order_none',\n",
    "    'unit_order_move_to_position',\n",
    "    'unit_order_move_to_target',\n",
    "    'unit_order_attack_move',\n",
    "    'unit_order_attack_target',\n",
    "    'unit_order_cast_position',\n",
    "    'unit_order_cast_target',\n",
    "    'unit_order_cast_target_tree',\n",
    "    'unit_order_cast_no_target',\n",
    "    'unit_order_cast_toggle',\n",
    "    'unit_order_hold_position',\n",
    "    'unit_order_train_ability',\n",
    "    'unit_order_drop_item',\n",
    "    'unit_order_give_item',\n",
    "    'unit_order_pickup_item',\n",
    "    'unit_order_pickup_rune',\n",
    "    'unit_order_purchase_item',\n",
    "    'unit_order_sell_item',\n",
    "    'unit_order_disassemble_item',\n",
    "    'unit_order_move_item',\n",
    "    'unit_order_cast_toggle_auto',\n",
    "    'unit_order_stop',\n",
    "    'unit_order_taunt',\n",
    "    'unit_order_buyback',\n",
    "    'unit_order_glyph',\n",
    "    'unit_order_eject_item_from_stash',\n",
    "    'unit_order_cast_rune',\n",
    "    'unit_order_ping_ability',\n",
    "    'unit_order_move_to_direction',\n",
    "    'unit_order_patrol',\n",
    "    'unit_order_vector_target_position',\n",
    "    'unit_order_radar',\n",
    "    'unit_order_set_item_combine_lock',\n",
    "    'unit_order_continue'], axis=1, inplace=True)"
   ]
  },
  {
   "cell_type": "markdown",
   "metadata": {
    "slideshow": {
     "slide_type": "slide"
    }
   },
   "source": [
    "## Überprüfen auf fehlenden Werte"
   ]
  },
  {
   "cell_type": "markdown",
   "metadata": {
    "collapsed": true,
    "slideshow": {
     "slide_type": "skip"
    }
   },
   "source": [
    "### Match"
   ]
  },
  {
   "cell_type": "code",
   "execution_count": 7,
   "metadata": {
    "slideshow": {
     "slide_type": "skip"
    }
   },
   "outputs": [
    {
     "name": "stdout",
     "output_type": "stream",
     "text": [
      "NA Werte \tmatch_id       0\n",
      "duration       0\n",
      "radiant_win    0\n",
      "dtype: int64\n"
     ]
    }
   ],
   "source": [
    "print (\"NA Werte \\t\" +  str(df_match.isnull().sum()))\n"
   ]
  },
  {
   "cell_type": "markdown",
   "metadata": {
    "collapsed": true,
    "slideshow": {
     "slide_type": "subslide"
    }
   },
   "source": [
    "### Player"
   ]
  },
  {
   "cell_type": "code",
   "execution_count": 8,
   "metadata": {
    "scrolled": false,
    "slideshow": {
     "slide_type": "fragment"
    }
   },
   "outputs": [
    {
     "name": "stdout",
     "output_type": "stream",
     "text": [
      "NA Werte \tmatch_id       0\n",
      "hero_id        0\n",
      "player_slot    0\n",
      "gold           0\n",
      "gold_spent     0\n",
      "kills          0\n",
      "deaths         0\n",
      "assists        0\n",
      "dtype: int64\n"
     ]
    }
   ],
   "source": [
    "print (\"NA Werte \\t\" +  str(df_player.isnull().sum()))"
   ]
  },
  {
   "cell_type": "markdown",
   "metadata": {
    "slideshow": {
     "slide_type": "fragment"
    }
   },
   "source": [
    "** Keine fehlende Werte **"
   ]
  },
  {
   "cell_type": "markdown",
   "metadata": {
    "collapsed": true,
    "slideshow": {
     "slide_type": "skip"
    }
   },
   "source": [
    "### Chat"
   ]
  },
  {
   "cell_type": "code",
   "execution_count": 9,
   "metadata": {
    "scrolled": false,
    "slideshow": {
     "slide_type": "skip"
    }
   },
   "outputs": [
    {
     "name": "stdout",
     "output_type": "stream",
     "text": [
      "NA Werte \tmatch_id     0\n",
      "key         11\n",
      "slot         1\n",
      "dtype: int64\n"
     ]
    }
   ],
   "source": [
    "print (\"NA Werte \\t\" +  str(df_chat.isnull().sum()))"
   ]
  },
  {
   "cell_type": "markdown",
   "metadata": {
    "collapsed": true,
    "slideshow": {
     "slide_type": "skip"
    }
   },
   "source": [
    "### Hero Names"
   ]
  },
  {
   "cell_type": "code",
   "execution_count": 10,
   "metadata": {
    "scrolled": false,
    "slideshow": {
     "slide_type": "skip"
    }
   },
   "outputs": [
    {
     "name": "stdout",
     "output_type": "stream",
     "text": [
      "NA Werte \tname              0\n",
      "hero_id           0\n",
      "localized_name    0\n",
      "dtype: int64\n"
     ]
    }
   ],
   "source": [
    "print (\"NA Werte \\t\" +  str(df_hero_names.isnull().sum()))"
   ]
  },
  {
   "cell_type": "markdown",
   "metadata": {
    "slideshow": {
     "slide_type": "slide"
    }
   },
   "source": [
    "## Datenstruktur"
   ]
  },
  {
   "cell_type": "markdown",
   "metadata": {
    "slideshow": {
     "slide_type": "subslide"
    }
   },
   "source": [
    "### Matches"
   ]
  },
  {
   "cell_type": "code",
   "execution_count": 11,
   "metadata": {
    "slideshow": {
     "slide_type": "fragment"
    }
   },
   "outputs": [
    {
     "data": {
      "text/html": [
       "<div>\n",
       "<style>\n",
       "    .dataframe thead tr:only-child th {\n",
       "        text-align: right;\n",
       "    }\n",
       "\n",
       "    .dataframe thead th {\n",
       "        text-align: left;\n",
       "    }\n",
       "\n",
       "    .dataframe tbody tr th {\n",
       "        vertical-align: top;\n",
       "    }\n",
       "</style>\n",
       "<table border=\"1\" class=\"dataframe\">\n",
       "  <thead>\n",
       "    <tr style=\"text-align: right;\">\n",
       "      <th></th>\n",
       "      <th>match_id</th>\n",
       "      <th>duration</th>\n",
       "      <th>radiant_win</th>\n",
       "    </tr>\n",
       "  </thead>\n",
       "  <tbody>\n",
       "    <tr>\n",
       "      <th>0</th>\n",
       "      <td>0</td>\n",
       "      <td>2375</td>\n",
       "      <td>True</td>\n",
       "    </tr>\n",
       "    <tr>\n",
       "      <th>1</th>\n",
       "      <td>1</td>\n",
       "      <td>2582</td>\n",
       "      <td>False</td>\n",
       "    </tr>\n",
       "  </tbody>\n",
       "</table>\n",
       "</div>"
      ],
      "text/plain": [
       "   match_id  duration  radiant_win\n",
       "0         0      2375         True\n",
       "1         1      2582        False"
      ]
     },
     "execution_count": 11,
     "metadata": {},
     "output_type": "execute_result"
    }
   ],
   "source": [
    "df_match.head(2)"
   ]
  },
  {
   "cell_type": "code",
   "execution_count": 12,
   "metadata": {
    "slideshow": {
     "slide_type": "fragment"
    }
   },
   "outputs": [
    {
     "data": {
      "text/html": [
       "<div>\n",
       "<style>\n",
       "    .dataframe thead tr:only-child th {\n",
       "        text-align: right;\n",
       "    }\n",
       "\n",
       "    .dataframe thead th {\n",
       "        text-align: left;\n",
       "    }\n",
       "\n",
       "    .dataframe tbody tr th {\n",
       "        vertical-align: top;\n",
       "    }\n",
       "</style>\n",
       "<table border=\"1\" class=\"dataframe\">\n",
       "  <thead>\n",
       "    <tr style=\"text-align: right;\">\n",
       "      <th></th>\n",
       "      <th>match_id</th>\n",
       "      <th>duration</th>\n",
       "    </tr>\n",
       "  </thead>\n",
       "  <tbody>\n",
       "    <tr>\n",
       "      <th>count</th>\n",
       "      <td>50000.000000</td>\n",
       "      <td>50000.000000</td>\n",
       "    </tr>\n",
       "    <tr>\n",
       "      <th>mean</th>\n",
       "      <td>24999.500000</td>\n",
       "      <td>2476.453500</td>\n",
       "    </tr>\n",
       "    <tr>\n",
       "      <th>std</th>\n",
       "      <td>14433.901067</td>\n",
       "      <td>634.631261</td>\n",
       "    </tr>\n",
       "    <tr>\n",
       "      <th>min</th>\n",
       "      <td>0.000000</td>\n",
       "      <td>59.000000</td>\n",
       "    </tr>\n",
       "    <tr>\n",
       "      <th>25%</th>\n",
       "      <td>12499.750000</td>\n",
       "      <td>2029.000000</td>\n",
       "    </tr>\n",
       "    <tr>\n",
       "      <th>50%</th>\n",
       "      <td>24999.500000</td>\n",
       "      <td>2415.000000</td>\n",
       "    </tr>\n",
       "    <tr>\n",
       "      <th>75%</th>\n",
       "      <td>37499.250000</td>\n",
       "      <td>2872.000000</td>\n",
       "    </tr>\n",
       "    <tr>\n",
       "      <th>max</th>\n",
       "      <td>49999.000000</td>\n",
       "      <td>16037.000000</td>\n",
       "    </tr>\n",
       "  </tbody>\n",
       "</table>\n",
       "</div>"
      ],
      "text/plain": [
       "           match_id      duration\n",
       "count  50000.000000  50000.000000\n",
       "mean   24999.500000   2476.453500\n",
       "std    14433.901067    634.631261\n",
       "min        0.000000     59.000000\n",
       "25%    12499.750000   2029.000000\n",
       "50%    24999.500000   2415.000000\n",
       "75%    37499.250000   2872.000000\n",
       "max    49999.000000  16037.000000"
      ]
     },
     "execution_count": 12,
     "metadata": {},
     "output_type": "execute_result"
    }
   ],
   "source": [
    "df_match.describe()"
   ]
  },
  {
   "cell_type": "markdown",
   "metadata": {
    "slideshow": {
     "slide_type": "subslide"
    }
   },
   "source": [
    "### Spieler"
   ]
  },
  {
   "cell_type": "code",
   "execution_count": 13,
   "metadata": {
    "slideshow": {
     "slide_type": "fragment"
    }
   },
   "outputs": [
    {
     "data": {
      "text/html": [
       "<div>\n",
       "<style>\n",
       "    .dataframe thead tr:only-child th {\n",
       "        text-align: right;\n",
       "    }\n",
       "\n",
       "    .dataframe thead th {\n",
       "        text-align: left;\n",
       "    }\n",
       "\n",
       "    .dataframe tbody tr th {\n",
       "        vertical-align: top;\n",
       "    }\n",
       "</style>\n",
       "<table border=\"1\" class=\"dataframe\">\n",
       "  <thead>\n",
       "    <tr style=\"text-align: right;\">\n",
       "      <th></th>\n",
       "      <th>match_id</th>\n",
       "      <th>hero_id</th>\n",
       "      <th>player_slot</th>\n",
       "      <th>gold</th>\n",
       "      <th>gold_spent</th>\n",
       "      <th>kills</th>\n",
       "      <th>deaths</th>\n",
       "      <th>assists</th>\n",
       "    </tr>\n",
       "  </thead>\n",
       "  <tbody>\n",
       "    <tr>\n",
       "      <th>0</th>\n",
       "      <td>0</td>\n",
       "      <td>86</td>\n",
       "      <td>0</td>\n",
       "      <td>3261</td>\n",
       "      <td>10960</td>\n",
       "      <td>9</td>\n",
       "      <td>3</td>\n",
       "      <td>18</td>\n",
       "    </tr>\n",
       "    <tr>\n",
       "      <th>1</th>\n",
       "      <td>0</td>\n",
       "      <td>51</td>\n",
       "      <td>1</td>\n",
       "      <td>2954</td>\n",
       "      <td>17760</td>\n",
       "      <td>13</td>\n",
       "      <td>3</td>\n",
       "      <td>18</td>\n",
       "    </tr>\n",
       "    <tr>\n",
       "      <th>2</th>\n",
       "      <td>0</td>\n",
       "      <td>83</td>\n",
       "      <td>2</td>\n",
       "      <td>110</td>\n",
       "      <td>12195</td>\n",
       "      <td>0</td>\n",
       "      <td>4</td>\n",
       "      <td>15</td>\n",
       "    </tr>\n",
       "    <tr>\n",
       "      <th>3</th>\n",
       "      <td>0</td>\n",
       "      <td>11</td>\n",
       "      <td>3</td>\n",
       "      <td>1179</td>\n",
       "      <td>22505</td>\n",
       "      <td>8</td>\n",
       "      <td>4</td>\n",
       "      <td>19</td>\n",
       "    </tr>\n",
       "    <tr>\n",
       "      <th>4</th>\n",
       "      <td>0</td>\n",
       "      <td>67</td>\n",
       "      <td>4</td>\n",
       "      <td>3307</td>\n",
       "      <td>23825</td>\n",
       "      <td>20</td>\n",
       "      <td>3</td>\n",
       "      <td>17</td>\n",
       "    </tr>\n",
       "  </tbody>\n",
       "</table>\n",
       "</div>"
      ],
      "text/plain": [
       "   match_id  hero_id  player_slot  gold  gold_spent  kills  deaths  assists\n",
       "0         0       86            0  3261       10960      9       3       18\n",
       "1         0       51            1  2954       17760     13       3       18\n",
       "2         0       83            2   110       12195      0       4       15\n",
       "3         0       11            3  1179       22505      8       4       19\n",
       "4         0       67            4  3307       23825     20       3       17"
      ]
     },
     "execution_count": 13,
     "metadata": {},
     "output_type": "execute_result"
    }
   ],
   "source": [
    "df_player.head()"
   ]
  },
  {
   "cell_type": "code",
   "execution_count": 14,
   "metadata": {
    "slideshow": {
     "slide_type": "skip"
    }
   },
   "outputs": [
    {
     "data": {
      "text/html": [
       "<div>\n",
       "<style>\n",
       "    .dataframe thead tr:only-child th {\n",
       "        text-align: right;\n",
       "    }\n",
       "\n",
       "    .dataframe thead th {\n",
       "        text-align: left;\n",
       "    }\n",
       "\n",
       "    .dataframe tbody tr th {\n",
       "        vertical-align: top;\n",
       "    }\n",
       "</style>\n",
       "<table border=\"1\" class=\"dataframe\">\n",
       "  <thead>\n",
       "    <tr style=\"text-align: right;\">\n",
       "      <th></th>\n",
       "      <th>match_id</th>\n",
       "      <th>hero_id</th>\n",
       "      <th>player_slot</th>\n",
       "      <th>gold</th>\n",
       "      <th>gold_spent</th>\n",
       "      <th>kills</th>\n",
       "      <th>deaths</th>\n",
       "      <th>assists</th>\n",
       "    </tr>\n",
       "  </thead>\n",
       "  <tbody>\n",
       "    <tr>\n",
       "      <th>count</th>\n",
       "      <td>500000.000000</td>\n",
       "      <td>500000.000000</td>\n",
       "      <td>500000.000000</td>\n",
       "      <td>500000.000000</td>\n",
       "      <td>500000.000000</td>\n",
       "      <td>500000.000000</td>\n",
       "      <td>500000.000000</td>\n",
       "      <td>500000.000000</td>\n",
       "    </tr>\n",
       "    <tr>\n",
       "      <th>mean</th>\n",
       "      <td>24999.500000</td>\n",
       "      <td>50.551456</td>\n",
       "      <td>66.000000</td>\n",
       "      <td>1888.516638</td>\n",
       "      <td>14110.043850</td>\n",
       "      <td>7.404500</td>\n",
       "      <td>7.680752</td>\n",
       "      <td>11.761900</td>\n",
       "    </tr>\n",
       "    <tr>\n",
       "      <th>std</th>\n",
       "      <td>14433.771161</td>\n",
       "      <td>32.809123</td>\n",
       "      <td>64.015687</td>\n",
       "      <td>1742.949262</td>\n",
       "      <td>6401.868898</td>\n",
       "      <td>5.437802</td>\n",
       "      <td>3.808092</td>\n",
       "      <td>6.393375</td>\n",
       "    </tr>\n",
       "    <tr>\n",
       "      <th>min</th>\n",
       "      <td>0.000000</td>\n",
       "      <td>0.000000</td>\n",
       "      <td>0.000000</td>\n",
       "      <td>0.000000</td>\n",
       "      <td>0.000000</td>\n",
       "      <td>0.000000</td>\n",
       "      <td>0.000000</td>\n",
       "      <td>0.000000</td>\n",
       "    </tr>\n",
       "    <tr>\n",
       "      <th>25%</th>\n",
       "      <td>12499.750000</td>\n",
       "      <td>21.000000</td>\n",
       "      <td>2.000000</td>\n",
       "      <td>586.000000</td>\n",
       "      <td>9590.000000</td>\n",
       "      <td>3.000000</td>\n",
       "      <td>5.000000</td>\n",
       "      <td>7.000000</td>\n",
       "    </tr>\n",
       "    <tr>\n",
       "      <th>50%</th>\n",
       "      <td>24999.500000</td>\n",
       "      <td>47.000000</td>\n",
       "      <td>66.000000</td>\n",
       "      <td>1350.000000</td>\n",
       "      <td>13110.000000</td>\n",
       "      <td>6.000000</td>\n",
       "      <td>8.000000</td>\n",
       "      <td>11.000000</td>\n",
       "    </tr>\n",
       "    <tr>\n",
       "      <th>75%</th>\n",
       "      <td>37499.250000</td>\n",
       "      <td>75.000000</td>\n",
       "      <td>130.000000</td>\n",
       "      <td>2742.000000</td>\n",
       "      <td>17635.000000</td>\n",
       "      <td>10.000000</td>\n",
       "      <td>10.000000</td>\n",
       "      <td>16.000000</td>\n",
       "    </tr>\n",
       "    <tr>\n",
       "      <th>max</th>\n",
       "      <td>49999.000000</td>\n",
       "      <td>112.000000</td>\n",
       "      <td>132.000000</td>\n",
       "      <td>46424.000000</td>\n",
       "      <td>200000.000000</td>\n",
       "      <td>59.000000</td>\n",
       "      <td>42.000000</td>\n",
       "      <td>54.000000</td>\n",
       "    </tr>\n",
       "  </tbody>\n",
       "</table>\n",
       "</div>"
      ],
      "text/plain": [
       "            match_id        hero_id    player_slot           gold  \\\n",
       "count  500000.000000  500000.000000  500000.000000  500000.000000   \n",
       "mean    24999.500000      50.551456      66.000000    1888.516638   \n",
       "std     14433.771161      32.809123      64.015687    1742.949262   \n",
       "min         0.000000       0.000000       0.000000       0.000000   \n",
       "25%     12499.750000      21.000000       2.000000     586.000000   \n",
       "50%     24999.500000      47.000000      66.000000    1350.000000   \n",
       "75%     37499.250000      75.000000     130.000000    2742.000000   \n",
       "max     49999.000000     112.000000     132.000000   46424.000000   \n",
       "\n",
       "          gold_spent          kills         deaths        assists  \n",
       "count  500000.000000  500000.000000  500000.000000  500000.000000  \n",
       "mean    14110.043850       7.404500       7.680752      11.761900  \n",
       "std      6401.868898       5.437802       3.808092       6.393375  \n",
       "min         0.000000       0.000000       0.000000       0.000000  \n",
       "25%      9590.000000       3.000000       5.000000       7.000000  \n",
       "50%     13110.000000       6.000000       8.000000      11.000000  \n",
       "75%     17635.000000      10.000000      10.000000      16.000000  \n",
       "max    200000.000000      59.000000      42.000000      54.000000  "
      ]
     },
     "execution_count": 14,
     "metadata": {},
     "output_type": "execute_result"
    }
   ],
   "source": [
    "df_player.describe()"
   ]
  },
  {
   "cell_type": "markdown",
   "metadata": {
    "slideshow": {
     "slide_type": "subslide"
    }
   },
   "source": [
    "### Chat"
   ]
  },
  {
   "cell_type": "code",
   "execution_count": 15,
   "metadata": {
    "slideshow": {
     "slide_type": "fragment"
    }
   },
   "outputs": [
    {
     "data": {
      "text/html": [
       "<div>\n",
       "<style>\n",
       "    .dataframe thead tr:only-child th {\n",
       "        text-align: right;\n",
       "    }\n",
       "\n",
       "    .dataframe thead th {\n",
       "        text-align: left;\n",
       "    }\n",
       "\n",
       "    .dataframe tbody tr th {\n",
       "        vertical-align: top;\n",
       "    }\n",
       "</style>\n",
       "<table border=\"1\" class=\"dataframe\">\n",
       "  <thead>\n",
       "    <tr style=\"text-align: right;\">\n",
       "      <th></th>\n",
       "      <th>match_id</th>\n",
       "      <th>key</th>\n",
       "      <th>slot</th>\n",
       "    </tr>\n",
       "  </thead>\n",
       "  <tbody>\n",
       "    <tr>\n",
       "      <th>0</th>\n",
       "      <td>0</td>\n",
       "      <td>force it</td>\n",
       "      <td>6.0</td>\n",
       "    </tr>\n",
       "    <tr>\n",
       "      <th>1</th>\n",
       "      <td>0</td>\n",
       "      <td>space created</td>\n",
       "      <td>1.0</td>\n",
       "    </tr>\n",
       "    <tr>\n",
       "      <th>2</th>\n",
       "      <td>0</td>\n",
       "      <td>hah</td>\n",
       "      <td>1.0</td>\n",
       "    </tr>\n",
       "    <tr>\n",
       "      <th>3</th>\n",
       "      <td>0</td>\n",
       "      <td>ez 500</td>\n",
       "      <td>6.0</td>\n",
       "    </tr>\n",
       "    <tr>\n",
       "      <th>4</th>\n",
       "      <td>0</td>\n",
       "      <td>mvp ulti</td>\n",
       "      <td>4.0</td>\n",
       "    </tr>\n",
       "  </tbody>\n",
       "</table>\n",
       "</div>"
      ],
      "text/plain": [
       "   match_id            key  slot\n",
       "0         0       force it   6.0\n",
       "1         0  space created   1.0\n",
       "2         0            hah   1.0\n",
       "3         0         ez 500   6.0\n",
       "4         0       mvp ulti   4.0"
      ]
     },
     "execution_count": 15,
     "metadata": {},
     "output_type": "execute_result"
    }
   ],
   "source": [
    "df_chat.head()"
   ]
  },
  {
   "cell_type": "code",
   "execution_count": 16,
   "metadata": {
    "slideshow": {
     "slide_type": "skip"
    }
   },
   "outputs": [
    {
     "data": {
      "text/html": [
       "<div>\n",
       "<style>\n",
       "    .dataframe thead tr:only-child th {\n",
       "        text-align: right;\n",
       "    }\n",
       "\n",
       "    .dataframe thead th {\n",
       "        text-align: left;\n",
       "    }\n",
       "\n",
       "    .dataframe tbody tr th {\n",
       "        vertical-align: top;\n",
       "    }\n",
       "</style>\n",
       "<table border=\"1\" class=\"dataframe\">\n",
       "  <thead>\n",
       "    <tr style=\"text-align: right;\">\n",
       "      <th></th>\n",
       "      <th>match_id</th>\n",
       "      <th>slot</th>\n",
       "    </tr>\n",
       "  </thead>\n",
       "  <tbody>\n",
       "    <tr>\n",
       "      <th>count</th>\n",
       "      <td>1.285417e+06</td>\n",
       "      <td>1.285416e+06</td>\n",
       "    </tr>\n",
       "    <tr>\n",
       "      <th>mean</th>\n",
       "      <td>2.226965e+04</td>\n",
       "      <td>4.494922e+00</td>\n",
       "    </tr>\n",
       "    <tr>\n",
       "      <th>std</th>\n",
       "      <td>1.303931e+04</td>\n",
       "      <td>2.878164e+00</td>\n",
       "    </tr>\n",
       "    <tr>\n",
       "      <th>min</th>\n",
       "      <td>0.000000e+00</td>\n",
       "      <td>-9.000000e+00</td>\n",
       "    </tr>\n",
       "    <tr>\n",
       "      <th>25%</th>\n",
       "      <td>1.081200e+04</td>\n",
       "      <td>2.000000e+00</td>\n",
       "    </tr>\n",
       "    <tr>\n",
       "      <th>50%</th>\n",
       "      <td>2.232200e+04</td>\n",
       "      <td>5.000000e+00</td>\n",
       "    </tr>\n",
       "    <tr>\n",
       "      <th>75%</th>\n",
       "      <td>3.380000e+04</td>\n",
       "      <td>7.000000e+00</td>\n",
       "    </tr>\n",
       "    <tr>\n",
       "      <th>max</th>\n",
       "      <td>4.461800e+04</td>\n",
       "      <td>9.000000e+00</td>\n",
       "    </tr>\n",
       "  </tbody>\n",
       "</table>\n",
       "</div>"
      ],
      "text/plain": [
       "           match_id          slot\n",
       "count  1.285417e+06  1.285416e+06\n",
       "mean   2.226965e+04  4.494922e+00\n",
       "std    1.303931e+04  2.878164e+00\n",
       "min    0.000000e+00 -9.000000e+00\n",
       "25%    1.081200e+04  2.000000e+00\n",
       "50%    2.232200e+04  5.000000e+00\n",
       "75%    3.380000e+04  7.000000e+00\n",
       "max    4.461800e+04  9.000000e+00"
      ]
     },
     "execution_count": 16,
     "metadata": {},
     "output_type": "execute_result"
    }
   ],
   "source": [
    "df_chat.describe()"
   ]
  },
  {
   "cell_type": "markdown",
   "metadata": {
    "slideshow": {
     "slide_type": "slide"
    }
   },
   "source": [
    "## Überprüfung auf Ausreiser"
   ]
  },
  {
   "cell_type": "markdown",
   "metadata": {
    "slideshow": {
     "slide_type": "subslide"
    }
   },
   "source": [
    "### Player"
   ]
  },
  {
   "cell_type": "code",
   "execution_count": 17,
   "metadata": {
    "slideshow": {
     "slide_type": "skip"
    }
   },
   "outputs": [
    {
     "data": {
      "image/png": "[encoded data removed]",
      "text/plain": [
       "<matplotlib.figure.Figure at 0x141096047f0>"
      ]
     },
     "metadata": {},
     "output_type": "display_data"
    }
   ],
   "source": [
    "cols = df_player.select_dtypes(include=[np.number]).columns\n",
    "fig, axes = plt.subplots(nrows=len(cols), ncols=1, figsize=(5, 15))\n",
    "\n",
    "for i in range(len(cols)):\n",
    "    sns.boxplot(x=cols[i], orient='h', data=df_player, ax=axes[i])\n",
    "\n",
    "fig.tight_layout()"
   ]
  },
  {
   "cell_type": "code",
   "execution_count": 18,
   "metadata": {
    "slideshow": {
     "slide_type": "fragment"
    }
   },
   "outputs": [
    {
     "data": {
      "image/png": "[encoded data removed]",
      "text/plain": [
       "<matplotlib.figure.Figure at 0x141724a8cc0>"
      ]
     },
     "metadata": {},
     "output_type": "display_data"
    }
   ],
   "source": [
    "cols = df_player[['gold','kills','deaths']].select_dtypes(include=[np.number]).columns\n",
    "fig, axes = plt.subplots(nrows=len(cols), ncols=1, figsize=(5, 5))\n",
    "for i in range(len(cols)):\n",
    "    sns.boxplot(x=cols[i], orient='h', data=df_player, ax=axes[i])\n",
    "fig.tight_layout()"
   ]
  },
  {
   "cell_type": "markdown",
   "metadata": {
    "slideshow": {
     "slide_type": "subslide"
    }
   },
   "source": [
    "### Matches"
   ]
  },
  {
   "cell_type": "code",
   "execution_count": 19,
   "metadata": {
    "slideshow": {
     "slide_type": "fragment"
    }
   },
   "outputs": [
    {
     "data": {
      "image/png": "[encoded data removed]",
      "text/plain": [
       "<matplotlib.figure.Figure at 0x1417031beb8>"
      ]
     },
     "metadata": {},
     "output_type": "display_data"
    }
   ],
   "source": [
    "# Ausreiser mit Hilfe von Boxplots in df_match visualisieren\n",
    "cols = df_match.select_dtypes(include=[np.number]).columns\n",
    "fig, axes = plt.subplots(nrows=len(cols), ncols=1, figsize=(5, 4))\n",
    "for i in range(len(cols)):\n",
    "    sns.boxplot(x=cols[i], orient='h', data=df_match, ax=axes[i])\n",
    "fig.tight_layout()"
   ]
  },
  {
   "cell_type": "markdown",
   "metadata": {
    "slideshow": {
     "slide_type": "fragment"
    }
   },
   "source": [
    "** Begründung: ** \n",
    "Die Ausreißer in Matches werden nicht entfernt, da dann Spieler eventuell nicht mehr zugeordnet werden können. Auch ändert sich die Länge der beiden Dataframes."
   ]
  },
  {
   "cell_type": "markdown",
   "metadata": {
    "slideshow": {
     "slide_type": "slide"
    }
   },
   "source": [
    "## Gibt es Helden die erfolgreicher sind als andere?"
   ]
  },
  {
   "cell_type": "code",
   "execution_count": 20,
   "metadata": {
    "collapsed": true,
    "slideshow": {
     "slide_type": "skip"
    }
   },
   "outputs": [],
   "source": [
    "# Lokale Variablen\n",
    "match = df_match.copy()\n",
    "player = df_player.copy()\n",
    "hero_names = df_hero_names.copy()"
   ]
  },
  {
   "cell_type": "code",
   "execution_count": 21,
   "metadata": {
    "slideshow": {
     "slide_type": "skip"
    }
   },
   "outputs": [
    {
     "data": {
      "text/plain": [
       "match_id       int64\n",
       "duration       int64\n",
       "radiant_win     bool\n",
       "dtype: object"
      ]
     },
     "execution_count": 21,
     "metadata": {},
     "output_type": "execute_result"
    }
   ],
   "source": [
    "# Datentypen der Spalten von df_match\n",
    "# hier kann man erkennen, dass die Spalte radiant_win einen boolischen Wert hat\n",
    "match.dtypes"
   ]
  },
  {
   "cell_type": "code",
   "execution_count": 22,
   "metadata": {
    "slideshow": {
     "slide_type": "skip"
    }
   },
   "outputs": [
    {
     "data": {
      "text/plain": [
       "(50000, 3)"
      ]
     },
     "execution_count": 22,
     "metadata": {},
     "output_type": "execute_result"
    }
   ],
   "source": [
    "# Anzahl Zeilen und Spalten von df_match\n",
    "match.shape"
   ]
  },
  {
   "cell_type": "code",
   "execution_count": 23,
   "metadata": {
    "slideshow": {
     "slide_type": "skip"
    }
   },
   "outputs": [
    {
     "data": {
      "text/plain": [
       "(500000, 8)"
      ]
     },
     "execution_count": 23,
     "metadata": {},
     "output_type": "execute_result"
    }
   ],
   "source": [
    "# Anzahl Zeilen und Spalten von df_player\n",
    "player.shape"
   ]
  },
  {
   "cell_type": "code",
   "execution_count": 24,
   "metadata": {
    "collapsed": true,
    "slideshow": {
     "slide_type": "skip"
    }
   },
   "outputs": [],
   "source": [
    "# Aus boolischen Werten Spalte \"radiant_win\" in int umwandeln\n",
    "match[\"radiant_win\"] = match.radiant_win.astype(int)"
   ]
  },
  {
   "cell_type": "code",
   "execution_count": 25,
   "metadata": {
    "slideshow": {
     "slide_type": "skip"
    }
   },
   "outputs": [
    {
     "data": {
      "text/plain": [
       "0    1\n",
       "1    0\n",
       "2    0\n",
       "3    0\n",
       "4    1\n",
       "Name: radiant_win, dtype: int32"
      ]
     },
     "execution_count": 25,
     "metadata": {},
     "output_type": "execute_result"
    }
   ],
   "source": [
    "match[\"radiant_win\"].head()"
   ]
  },
  {
   "cell_type": "code",
   "execution_count": 26,
   "metadata": {
    "collapsed": true,
    "slideshow": {
     "slide_type": "skip"
    }
   },
   "outputs": [],
   "source": [
    "# beide Datensätze verbinduen mit Hilfe von match_id und Betrahtung nur von Teammitglieder mit player_slot 0-4\n",
    "mat = match.merge(player[player[\"player_slot\"]<6],on='match_id')"
   ]
  },
  {
   "cell_type": "markdown",
   "metadata": {
    "slideshow": {
     "slide_type": "subslide"
    }
   },
   "source": [
    "#### Merge von Matches und Player (nur ein Team) "
   ]
  },
  {
   "cell_type": "code",
   "execution_count": 27,
   "metadata": {
    "slideshow": {
     "slide_type": "fragment"
    }
   },
   "outputs": [
    {
     "name": "stdout",
     "output_type": "stream",
     "text": [
      "   match_id  duration  radiant_win  hero_id  player_slot  gold  gold_spent  \\\n",
      "0         0      2375            1       86            0  3261       10960   \n",
      "1         0      2375            1       51            1  2954       17760   \n",
      "2         0      2375            1       83            2   110       12195   \n",
      "3         0      2375            1       11            3  1179       22505   \n",
      "4         0      2375            1       67            4  3307       23825   \n",
      "\n",
      "   kills  deaths  assists  \n",
      "0      9       3       18  \n",
      "1     13       3       18  \n",
      "2      0       4       15  \n",
      "3      8       4       19  \n",
      "4     20       3       17  \n"
     ]
    }
   ],
   "source": [
    "print(mat.head())"
   ]
  },
  {
   "cell_type": "code",
   "execution_count": 28,
   "metadata": {
    "slideshow": {
     "slide_type": "fragment"
    }
   },
   "outputs": [
    {
     "data": {
      "text/plain": [
       "(250000, 10)"
      ]
     },
     "execution_count": 28,
     "metadata": {},
     "output_type": "execute_result"
    }
   ],
   "source": [
    "mat.shape"
   ]
  },
  {
   "cell_type": "code",
   "execution_count": 29,
   "metadata": {
    "collapsed": true,
    "slideshow": {
     "slide_type": "skip"
    }
   },
   "outputs": [],
   "source": [
    "# mat.groupby('hero_id').mean()['radiant_win_x']\n",
    "df_gb_heroID = pd.DataFrame(mat.groupby('hero_id').mean()['radiant_win'], index=np.arange(113))\n",
    "df_gb_heroID.columns =[\"winrate\"]\n",
    "df_gb_heroID[\"hero_id\"] = np.arange(1,114)"
   ]
  },
  {
   "cell_type": "code",
   "execution_count": 30,
   "metadata": {
    "scrolled": true,
    "slideshow": {
     "slide_type": "skip"
    }
   },
   "outputs": [
    {
     "data": {
      "text/html": [
       "<div>\n",
       "<style>\n",
       "    .dataframe thead tr:only-child th {\n",
       "        text-align: right;\n",
       "    }\n",
       "\n",
       "    .dataframe thead th {\n",
       "        text-align: left;\n",
       "    }\n",
       "\n",
       "    .dataframe tbody tr th {\n",
       "        vertical-align: top;\n",
       "    }\n",
       "</style>\n",
       "<table border=\"1\" class=\"dataframe\">\n",
       "  <thead>\n",
       "    <tr style=\"text-align: right;\">\n",
       "      <th></th>\n",
       "      <th>winrate</th>\n",
       "      <th>hero_id</th>\n",
       "    </tr>\n",
       "  </thead>\n",
       "  <tbody>\n",
       "    <tr>\n",
       "      <th>0</th>\n",
       "      <td>0.136364</td>\n",
       "      <td>1</td>\n",
       "    </tr>\n",
       "    <tr>\n",
       "      <th>1</th>\n",
       "      <td>0.484149</td>\n",
       "      <td>2</td>\n",
       "    </tr>\n",
       "    <tr>\n",
       "      <th>2</th>\n",
       "      <td>0.454823</td>\n",
       "      <td>3</td>\n",
       "    </tr>\n",
       "    <tr>\n",
       "      <th>3</th>\n",
       "      <td>0.487500</td>\n",
       "      <td>4</td>\n",
       "    </tr>\n",
       "    <tr>\n",
       "      <th>4</th>\n",
       "      <td>0.469646</td>\n",
       "      <td>5</td>\n",
       "    </tr>\n",
       "  </tbody>\n",
       "</table>\n",
       "</div>"
      ],
      "text/plain": [
       "    winrate  hero_id\n",
       "0  0.136364        1\n",
       "1  0.484149        2\n",
       "2  0.454823        3\n",
       "3  0.487500        4\n",
       "4  0.469646        5"
      ]
     },
     "execution_count": 30,
     "metadata": {},
     "output_type": "execute_result"
    }
   ],
   "source": [
    "df_gb_heroID.head()"
   ]
  },
  {
   "cell_type": "markdown",
   "metadata": {
    "slideshow": {
     "slide_type": "subslide"
    }
   },
   "source": [
    "### Winrates der Champion"
   ]
  },
  {
   "cell_type": "code",
   "execution_count": 31,
   "metadata": {
    "slideshow": {
     "slide_type": "skip"
    }
   },
   "outputs": [
    {
     "data": {
      "text/html": [
       "<div>\n",
       "<style>\n",
       "    .dataframe thead tr:only-child th {\n",
       "        text-align: right;\n",
       "    }\n",
       "\n",
       "    .dataframe thead th {\n",
       "        text-align: left;\n",
       "    }\n",
       "\n",
       "    .dataframe tbody tr th {\n",
       "        vertical-align: top;\n",
       "    }\n",
       "</style>\n",
       "<table border=\"1\" class=\"dataframe\">\n",
       "  <thead>\n",
       "    <tr style=\"text-align: right;\">\n",
       "      <th></th>\n",
       "      <th>name</th>\n",
       "      <th>hero_id</th>\n",
       "      <th>localized_name</th>\n",
       "      <th>winrate</th>\n",
       "    </tr>\n",
       "  </thead>\n",
       "  <tbody>\n",
       "    <tr>\n",
       "      <th>0</th>\n",
       "      <td>npc_dota_hero_antimage</td>\n",
       "      <td>1</td>\n",
       "      <td>Anti-Mage</td>\n",
       "      <td>0.136364</td>\n",
       "    </tr>\n",
       "    <tr>\n",
       "      <th>1</th>\n",
       "      <td>npc_dota_hero_axe</td>\n",
       "      <td>2</td>\n",
       "      <td>Axe</td>\n",
       "      <td>0.484149</td>\n",
       "    </tr>\n",
       "    <tr>\n",
       "      <th>2</th>\n",
       "      <td>npc_dota_hero_bane</td>\n",
       "      <td>3</td>\n",
       "      <td>Bane</td>\n",
       "      <td>0.454823</td>\n",
       "    </tr>\n",
       "    <tr>\n",
       "      <th>3</th>\n",
       "      <td>npc_dota_hero_bloodseeker</td>\n",
       "      <td>4</td>\n",
       "      <td>Bloodseeker</td>\n",
       "      <td>0.487500</td>\n",
       "    </tr>\n",
       "    <tr>\n",
       "      <th>4</th>\n",
       "      <td>npc_dota_hero_crystal_maiden</td>\n",
       "      <td>5</td>\n",
       "      <td>Crystal Maiden</td>\n",
       "      <td>0.469646</td>\n",
       "    </tr>\n",
       "  </tbody>\n",
       "</table>\n",
       "</div>"
      ],
      "text/plain": [
       "                           name  hero_id  localized_name   winrate\n",
       "0        npc_dota_hero_antimage        1       Anti-Mage  0.136364\n",
       "1             npc_dota_hero_axe        2             Axe  0.484149\n",
       "2            npc_dota_hero_bane        3            Bane  0.454823\n",
       "3     npc_dota_hero_bloodseeker        4     Bloodseeker  0.487500\n",
       "4  npc_dota_hero_crystal_maiden        5  Crystal Maiden  0.469646"
      ]
     },
     "execution_count": 31,
     "metadata": {},
     "output_type": "execute_result"
    }
   ],
   "source": [
    "hero_names = hero_names.merge(df_gb_heroID, left_on='hero_id', right_on='hero_id', how='outer')\n",
    "hero_names.head()"
   ]
  },
  {
   "cell_type": "code",
   "execution_count": 32,
   "metadata": {
    "slideshow": {
     "slide_type": "fragment"
    }
   },
   "outputs": [
    {
     "data": {
      "text/html": [
       "<div>\n",
       "<style>\n",
       "    .dataframe thead tr:only-child th {\n",
       "        text-align: right;\n",
       "    }\n",
       "\n",
       "    .dataframe thead th {\n",
       "        text-align: left;\n",
       "    }\n",
       "\n",
       "    .dataframe tbody tr th {\n",
       "        vertical-align: top;\n",
       "    }\n",
       "</style>\n",
       "<table border=\"1\" class=\"dataframe\">\n",
       "  <thead>\n",
       "    <tr style=\"text-align: right;\">\n",
       "      <th></th>\n",
       "      <th>hero_id</th>\n",
       "      <th>localized_name</th>\n",
       "      <th>winrate</th>\n",
       "    </tr>\n",
       "  </thead>\n",
       "  <tbody>\n",
       "    <tr>\n",
       "      <th>56</th>\n",
       "      <td>58</td>\n",
       "      <td>Enchantress</td>\n",
       "      <td>0.608492</td>\n",
       "    </tr>\n",
       "    <tr>\n",
       "      <th>66</th>\n",
       "      <td>68</td>\n",
       "      <td>Ancient Apparition</td>\n",
       "      <td>0.606761</td>\n",
       "    </tr>\n",
       "    <tr>\n",
       "      <th>101</th>\n",
       "      <td>103</td>\n",
       "      <td>Elder Titan</td>\n",
       "      <td>0.599644</td>\n",
       "    </tr>\n",
       "    <tr>\n",
       "      <th>41</th>\n",
       "      <td>43</td>\n",
       "      <td>Death Prophet</td>\n",
       "      <td>0.597286</td>\n",
       "    </tr>\n",
       "    <tr>\n",
       "      <th>84</th>\n",
       "      <td>86</td>\n",
       "      <td>Rubick</td>\n",
       "      <td>0.592802</td>\n",
       "    </tr>\n",
       "  </tbody>\n",
       "</table>\n",
       "</div>"
      ],
      "text/plain": [
       "     hero_id      localized_name   winrate\n",
       "56        58         Enchantress  0.608492\n",
       "66        68  Ancient Apparition  0.606761\n",
       "101      103         Elder Titan  0.599644\n",
       "41        43       Death Prophet  0.597286\n",
       "84        86              Rubick  0.592802"
      ]
     },
     "execution_count": 32,
     "metadata": {},
     "output_type": "execute_result"
    }
   ],
   "source": [
    "hero_names[['hero_id','localized_name','winrate']].sort_values(\"winrate\", ascending=False).head()"
   ]
  },
  {
   "cell_type": "markdown",
   "metadata": {
    "slideshow": {
     "slide_type": "subslide"
    }
   },
   "source": [
    "### Verteilung Championwinrates "
   ]
  },
  {
   "cell_type": "code",
   "execution_count": 33,
   "metadata": {
    "slideshow": {
     "slide_type": "fragment"
    }
   },
   "outputs": [
    {
     "data": {
      "image/png": "[encoded data removed]",
      "text/plain": [
       "<matplotlib.figure.Figure at 0x141735fada0>"
      ]
     },
     "metadata": {},
     "output_type": "display_data"
    }
   ],
   "source": [
    "sns.violinplot(data=hero_names.winrate, orient=\"h\");"
   ]
  },
  {
   "cell_type": "markdown",
   "metadata": {
    "slideshow": {
     "slide_type": "slide"
    }
   },
   "source": [
    "## Playrate von Champions\n",
    "\n"
   ]
  },
  {
   "cell_type": "code",
   "execution_count": 34,
   "metadata": {
    "collapsed": true,
    "slideshow": {
     "slide_type": "skip"
    }
   },
   "outputs": [],
   "source": [
    "hero_names = mat.hero_id.value_counts().to_frame(name=\"total_plays\").merge(hero_names,left_index=True, right_index=True)\n"
   ]
  },
  {
   "cell_type": "markdown",
   "metadata": {
    "slideshow": {
     "slide_type": "subslide"
    }
   },
   "source": [
    "#### Regplot der Verteilung Winrate zu Anzahl gespielt"
   ]
  },
  {
   "cell_type": "code",
   "execution_count": 35,
   "metadata": {
    "slideshow": {
     "slide_type": "fragment"
    }
   },
   "outputs": [
    {
     "data": {
      "image/png": "[encoded data removed]",
      "text/plain": [
       "<matplotlib.figure.Figure at 0x14175796438>"
      ]
     },
     "metadata": {},
     "output_type": "display_data"
    }
   ],
   "source": [
    "sns.regplot(data=hero_names, y=\"winrate\", x=\"total_plays\");"
   ]
  },
  {
   "cell_type": "code",
   "execution_count": 36,
   "metadata": {
    "collapsed": true,
    "slideshow": {
     "slide_type": "fragment"
    }
   },
   "outputs": [],
   "source": [
    "# Entfernen des Ausreisers\n",
    "hero_names.drop(hero_names.winrate<0.14, inplace=True)"
   ]
  },
  {
   "cell_type": "markdown",
   "metadata": {
    "slideshow": {
     "slide_type": "subslide"
    }
   },
   "source": [
    "#### Bereinigter Regplot der Verteilung Winrate zu Anzahl gespielt"
   ]
  },
  {
   "cell_type": "code",
   "execution_count": 37,
   "metadata": {
    "slideshow": {
     "slide_type": "fragment"
    }
   },
   "outputs": [
    {
     "data": {
      "image/png": "[encoded data removed]",
      "text/plain": [
       "<matplotlib.figure.Figure at 0x14172555d68>"
      ]
     },
     "metadata": {},
     "output_type": "display_data"
    }
   ],
   "source": [
    "sns.regplot(data=hero_names, y=\"winrate\", x=\"total_plays\");"
   ]
  },
  {
   "cell_type": "markdown",
   "metadata": {
    "slideshow": {
     "slide_type": "subslide"
    }
   },
   "source": [
    "#### Korrelation Helden zu Winrate"
   ]
  },
  {
   "cell_type": "code",
   "execution_count": 38,
   "metadata": {
    "slideshow": {
     "slide_type": "fragment"
    }
   },
   "outputs": [
    {
     "data": {
      "text/html": [
       "<div>\n",
       "<style>\n",
       "    .dataframe thead tr:only-child th {\n",
       "        text-align: right;\n",
       "    }\n",
       "\n",
       "    .dataframe thead th {\n",
       "        text-align: left;\n",
       "    }\n",
       "\n",
       "    .dataframe tbody tr th {\n",
       "        vertical-align: top;\n",
       "    }\n",
       "</style>\n",
       "<table border=\"1\" class=\"dataframe\">\n",
       "  <thead>\n",
       "    <tr style=\"text-align: right;\">\n",
       "      <th></th>\n",
       "      <th>total_plays</th>\n",
       "      <th>hero_id</th>\n",
       "      <th>winrate</th>\n",
       "    </tr>\n",
       "  </thead>\n",
       "  <tbody>\n",
       "    <tr>\n",
       "      <th>total_plays</th>\n",
       "      <td>1.000000</td>\n",
       "      <td>-0.246683</td>\n",
       "      <td>0.157869</td>\n",
       "    </tr>\n",
       "    <tr>\n",
       "      <th>hero_id</th>\n",
       "      <td>-0.246683</td>\n",
       "      <td>1.000000</td>\n",
       "      <td>-0.013915</td>\n",
       "    </tr>\n",
       "    <tr>\n",
       "      <th>winrate</th>\n",
       "      <td>0.157869</td>\n",
       "      <td>-0.013915</td>\n",
       "      <td>1.000000</td>\n",
       "    </tr>\n",
       "  </tbody>\n",
       "</table>\n",
       "</div>"
      ],
      "text/plain": [
       "             total_plays   hero_id   winrate\n",
       "total_plays     1.000000 -0.246683  0.157869\n",
       "hero_id        -0.246683  1.000000 -0.013915\n",
       "winrate         0.157869 -0.013915  1.000000"
      ]
     },
     "execution_count": 38,
     "metadata": {},
     "output_type": "execute_result"
    }
   ],
   "source": [
    "hero_names.corr()"
   ]
  },
  {
   "cell_type": "markdown",
   "metadata": {
    "slideshow": {
     "slide_type": "slide"
    }
   },
   "source": [
    "## Ist die Winrate der Champions abhängig von der Spieldauer?"
   ]
  },
  {
   "cell_type": "code",
   "execution_count": 39,
   "metadata": {
    "slideshow": {
     "slide_type": "skip"
    }
   },
   "outputs": [
    {
     "data": {
      "text/plain": [
       "(250000, 10)"
      ]
     },
     "execution_count": 39,
     "metadata": {},
     "output_type": "execute_result"
    }
   ],
   "source": [
    "mat.shape"
   ]
  },
  {
   "cell_type": "code",
   "execution_count": 40,
   "metadata": {
    "slideshow": {
     "slide_type": "skip"
    }
   },
   "outputs": [
    {
     "data": {
      "text/html": [
       "<div>\n",
       "<style>\n",
       "    .dataframe thead tr:only-child th {\n",
       "        text-align: right;\n",
       "    }\n",
       "\n",
       "    .dataframe thead th {\n",
       "        text-align: left;\n",
       "    }\n",
       "\n",
       "    .dataframe tbody tr th {\n",
       "        vertical-align: top;\n",
       "    }\n",
       "</style>\n",
       "<table border=\"1\" class=\"dataframe\">\n",
       "  <thead>\n",
       "    <tr style=\"text-align: right;\">\n",
       "      <th></th>\n",
       "      <th>match_id</th>\n",
       "      <th>duration</th>\n",
       "      <th>radiant_win</th>\n",
       "      <th>hero_id</th>\n",
       "      <th>player_slot</th>\n",
       "      <th>gold</th>\n",
       "      <th>gold_spent</th>\n",
       "      <th>kills</th>\n",
       "      <th>deaths</th>\n",
       "      <th>assists</th>\n",
       "    </tr>\n",
       "  </thead>\n",
       "  <tbody>\n",
       "    <tr>\n",
       "      <th>157194</th>\n",
       "      <td>31438</td>\n",
       "      <td>59</td>\n",
       "      <td>0</td>\n",
       "      <td>107</td>\n",
       "      <td>4</td>\n",
       "      <td>670</td>\n",
       "      <td>620</td>\n",
       "      <td>0</td>\n",
       "      <td>0</td>\n",
       "      <td>0</td>\n",
       "    </tr>\n",
       "    <tr>\n",
       "      <th>157190</th>\n",
       "      <td>31438</td>\n",
       "      <td>59</td>\n",
       "      <td>0</td>\n",
       "      <td>82</td>\n",
       "      <td>0</td>\n",
       "      <td>1</td>\n",
       "      <td>1350</td>\n",
       "      <td>0</td>\n",
       "      <td>0</td>\n",
       "      <td>0</td>\n",
       "    </tr>\n",
       "    <tr>\n",
       "      <th>157191</th>\n",
       "      <td>31438</td>\n",
       "      <td>59</td>\n",
       "      <td>0</td>\n",
       "      <td>28</td>\n",
       "      <td>1</td>\n",
       "      <td>1</td>\n",
       "      <td>610</td>\n",
       "      <td>0</td>\n",
       "      <td>0</td>\n",
       "      <td>0</td>\n",
       "    </tr>\n",
       "    <tr>\n",
       "      <th>157192</th>\n",
       "      <td>31438</td>\n",
       "      <td>59</td>\n",
       "      <td>0</td>\n",
       "      <td>11</td>\n",
       "      <td>2</td>\n",
       "      <td>1</td>\n",
       "      <td>585</td>\n",
       "      <td>0</td>\n",
       "      <td>1</td>\n",
       "      <td>0</td>\n",
       "    </tr>\n",
       "    <tr>\n",
       "      <th>157193</th>\n",
       "      <td>31438</td>\n",
       "      <td>59</td>\n",
       "      <td>0</td>\n",
       "      <td>105</td>\n",
       "      <td>3</td>\n",
       "      <td>1</td>\n",
       "      <td>695</td>\n",
       "      <td>0</td>\n",
       "      <td>1</td>\n",
       "      <td>0</td>\n",
       "    </tr>\n",
       "  </tbody>\n",
       "</table>\n",
       "</div>"
      ],
      "text/plain": [
       "        match_id  duration  radiant_win  hero_id  player_slot  gold  \\\n",
       "157194     31438        59            0      107            4   670   \n",
       "157190     31438        59            0       82            0     1   \n",
       "157191     31438        59            0       28            1     1   \n",
       "157192     31438        59            0       11            2     1   \n",
       "157193     31438        59            0      105            3     1   \n",
       "\n",
       "        gold_spent  kills  deaths  assists  \n",
       "157194         620      0       0        0  \n",
       "157190        1350      0       0        0  \n",
       "157191         610      0       0        0  \n",
       "157192         585      0       1        0  \n",
       "157193         695      0       1        0  "
      ]
     },
     "execution_count": 40,
     "metadata": {},
     "output_type": "execute_result"
    }
   ],
   "source": [
    "# df_mph nach 'duration_x' aufsteigend sortiert\n",
    "df_mat_sort = mat.sort_values(by='duration')\n",
    "df_mat_sort.head()"
   ]
  },
  {
   "cell_type": "code",
   "execution_count": 41,
   "metadata": {
    "slideshow": {
     "slide_type": "skip"
    }
   },
   "outputs": [
    {
     "data": {
      "text/plain": [
       "(250000, 10)"
      ]
     },
     "execution_count": 41,
     "metadata": {},
     "output_type": "execute_result"
    }
   ],
   "source": [
    "df_mat_sort.shape"
   ]
  },
  {
   "cell_type": "code",
   "execution_count": 42,
   "metadata": {
    "slideshow": {
     "slide_type": "skip"
    }
   },
   "outputs": [
    {
     "data": {
      "text/plain": [
       "count    250000.000000\n",
       "mean       2476.453500\n",
       "std         634.626184\n",
       "min          59.000000\n",
       "25%        2029.000000\n",
       "50%        2415.000000\n",
       "75%        2872.000000\n",
       "max       16037.000000\n",
       "Name: duration, dtype: float64"
      ]
     },
     "execution_count": 42,
     "metadata": {},
     "output_type": "execute_result"
    }
   ],
   "source": [
    "# sortierte df nach Dauer nur mit Spalte Dauer beschreiben, um Klassengrößen festzulegen \n",
    "df_mat_sort[\"duration\"].describe()"
   ]
  },
  {
   "cell_type": "code",
   "execution_count": 43,
   "metadata": {
    "collapsed": true,
    "slideshow": {
     "slide_type": "skip"
    }
   },
   "outputs": [],
   "source": [
    "# Spalte mit Klassen für die Dauer erstellen\n",
    "df_mat_sort_bins = df_mat_sort['duration'].quantile(q=[x/10 for x in range (11)])\n",
    "df_mat_sort_bins = [x*300 for x in range(57)]\n",
    "df_mat_sort_bins_label = [x*5 for x in range(1,57)]\n",
    "df_mat_sort[\"bins\"] = pd.cut(df_mat_sort['duration'], bins=df_mat_sort_bins, labels=df_mat_sort_bins_label)"
   ]
  },
  {
   "cell_type": "code",
   "execution_count": 44,
   "metadata": {
    "slideshow": {
     "slide_type": "skip"
    }
   },
   "outputs": [
    {
     "data": {
      "text/html": [
       "<div>\n",
       "<style>\n",
       "    .dataframe thead tr:only-child th {\n",
       "        text-align: right;\n",
       "    }\n",
       "\n",
       "    .dataframe thead th {\n",
       "        text-align: left;\n",
       "    }\n",
       "\n",
       "    .dataframe tbody tr th {\n",
       "        vertical-align: top;\n",
       "    }\n",
       "</style>\n",
       "<table border=\"1\" class=\"dataframe\">\n",
       "  <thead>\n",
       "    <tr style=\"text-align: right;\">\n",
       "      <th></th>\n",
       "      <th>match_id</th>\n",
       "      <th>duration</th>\n",
       "      <th>radiant_win</th>\n",
       "      <th>hero_id</th>\n",
       "      <th>player_slot</th>\n",
       "      <th>gold</th>\n",
       "      <th>gold_spent</th>\n",
       "      <th>kills</th>\n",
       "      <th>deaths</th>\n",
       "      <th>assists</th>\n",
       "      <th>bins</th>\n",
       "    </tr>\n",
       "  </thead>\n",
       "  <tbody>\n",
       "    <tr>\n",
       "      <th>157194</th>\n",
       "      <td>31438</td>\n",
       "      <td>59</td>\n",
       "      <td>0</td>\n",
       "      <td>107</td>\n",
       "      <td>4</td>\n",
       "      <td>670</td>\n",
       "      <td>620</td>\n",
       "      <td>0</td>\n",
       "      <td>0</td>\n",
       "      <td>0</td>\n",
       "      <td>5</td>\n",
       "    </tr>\n",
       "    <tr>\n",
       "      <th>157190</th>\n",
       "      <td>31438</td>\n",
       "      <td>59</td>\n",
       "      <td>0</td>\n",
       "      <td>82</td>\n",
       "      <td>0</td>\n",
       "      <td>1</td>\n",
       "      <td>1350</td>\n",
       "      <td>0</td>\n",
       "      <td>0</td>\n",
       "      <td>0</td>\n",
       "      <td>5</td>\n",
       "    </tr>\n",
       "    <tr>\n",
       "      <th>157191</th>\n",
       "      <td>31438</td>\n",
       "      <td>59</td>\n",
       "      <td>0</td>\n",
       "      <td>28</td>\n",
       "      <td>1</td>\n",
       "      <td>1</td>\n",
       "      <td>610</td>\n",
       "      <td>0</td>\n",
       "      <td>0</td>\n",
       "      <td>0</td>\n",
       "      <td>5</td>\n",
       "    </tr>\n",
       "    <tr>\n",
       "      <th>157192</th>\n",
       "      <td>31438</td>\n",
       "      <td>59</td>\n",
       "      <td>0</td>\n",
       "      <td>11</td>\n",
       "      <td>2</td>\n",
       "      <td>1</td>\n",
       "      <td>585</td>\n",
       "      <td>0</td>\n",
       "      <td>1</td>\n",
       "      <td>0</td>\n",
       "      <td>5</td>\n",
       "    </tr>\n",
       "    <tr>\n",
       "      <th>157193</th>\n",
       "      <td>31438</td>\n",
       "      <td>59</td>\n",
       "      <td>0</td>\n",
       "      <td>105</td>\n",
       "      <td>3</td>\n",
       "      <td>1</td>\n",
       "      <td>695</td>\n",
       "      <td>0</td>\n",
       "      <td>1</td>\n",
       "      <td>0</td>\n",
       "      <td>5</td>\n",
       "    </tr>\n",
       "  </tbody>\n",
       "</table>\n",
       "</div>"
      ],
      "text/plain": [
       "        match_id  duration  radiant_win  hero_id  player_slot  gold  \\\n",
       "157194     31438        59            0      107            4   670   \n",
       "157190     31438        59            0       82            0     1   \n",
       "157191     31438        59            0       28            1     1   \n",
       "157192     31438        59            0       11            2     1   \n",
       "157193     31438        59            0      105            3     1   \n",
       "\n",
       "        gold_spent  kills  deaths  assists bins  \n",
       "157194         620      0       0        0    5  \n",
       "157190        1350      0       0        0    5  \n",
       "157191         610      0       0        0    5  \n",
       "157192         585      0       1        0    5  \n",
       "157193         695      0       1        0    5  "
      ]
     },
     "execution_count": 44,
     "metadata": {},
     "output_type": "execute_result"
    }
   ],
   "source": [
    "df_mat_sort_bins[:5]\n",
    "df_mat_sort.head()"
   ]
  },
  {
   "cell_type": "code",
   "execution_count": 45,
   "metadata": {
    "slideshow": {
     "slide_type": "skip"
    }
   },
   "outputs": [
    {
     "data": {
      "text/plain": [
       "(250000, 11)"
      ]
     },
     "execution_count": 45,
     "metadata": {},
     "output_type": "execute_result"
    }
   ],
   "source": [
    "df_mat_sort.shape"
   ]
  },
  {
   "cell_type": "code",
   "execution_count": 46,
   "metadata": {
    "slideshow": {
     "slide_type": "skip"
    }
   },
   "outputs": [
    {
     "data": {
      "text/plain": [
       "40    49100\n",
       "45    44740\n",
       "35    40735\n",
       "50    34465\n",
       "30    23525\n",
       "Name: bins, dtype: int64"
      ]
     },
     "execution_count": 46,
     "metadata": {},
     "output_type": "execute_result"
    }
   ],
   "source": [
    "table = df_mat_sort['bins'].value_counts()\n",
    "table.head()"
   ]
  },
  {
   "cell_type": "markdown",
   "metadata": {
    "slideshow": {
     "slide_type": "subslide"
    }
   },
   "source": [
    "#### Verteilung der Spiellänge über alle Spiele"
   ]
  },
  {
   "cell_type": "code",
   "execution_count": 47,
   "metadata": {
    "scrolled": true,
    "slideshow": {
     "slide_type": "fragment"
    }
   },
   "outputs": [
    {
     "data": {
      "image/png": "[encoded data removed]",
      "text/plain": [
       "<matplotlib.figure.Figure at 0x14173584d68>"
      ]
     },
     "metadata": {},
     "output_type": "display_data"
    }
   ],
   "source": [
    "# Häufigkeitsverteilung der Klassen\n",
    "plt.figure(figsize=(16.69, 4.27))\n",
    "sns.countplot(x='bins', data=df_mat_sort);"
   ]
  },
  {
   "cell_type": "code",
   "execution_count": 48,
   "metadata": {
    "slideshow": {
     "slide_type": "skip"
    }
   },
   "outputs": [
    {
     "data": {
      "text/plain": [
       "(250000, 11)"
      ]
     },
     "execution_count": 48,
     "metadata": {},
     "output_type": "execute_result"
    }
   ],
   "source": [
    "df_mat_sort.shape"
   ]
  },
  {
   "cell_type": "code",
   "execution_count": 49,
   "metadata": {
    "collapsed": true,
    "slideshow": {
     "slide_type": "skip"
    }
   },
   "outputs": [],
   "source": [
    "# datentyp category von Spalte \"klassen\" in int umwandeln\n",
    "df_mat_sort[\"bins\"] = df_mat_sort.bins.astype(int)"
   ]
  },
  {
   "cell_type": "code",
   "execution_count": 50,
   "metadata": {
    "collapsed": true,
    "slideshow": {
     "slide_type": "skip"
    }
   },
   "outputs": [],
   "source": [
    "# DataFram mit 3 Klassen für die Dauer erstellen\n",
    "df_mat_sort[\"klassen\"] = pd.DataFrame({'klassen': pd.cut(df_mat_sort['bins'], bins=[0,35,50,280], labels=[\"kurz\", \"mittel\", \"lang\"])})"
   ]
  },
  {
   "cell_type": "markdown",
   "metadata": {
    "slideshow": {
     "slide_type": "subslide"
    }
   },
   "source": [
    "#### Verteilung in kurze/mittel/lange Spiele"
   ]
  },
  {
   "cell_type": "code",
   "execution_count": 51,
   "metadata": {
    "slideshow": {
     "slide_type": "fragment"
    }
   },
   "outputs": [
    {
     "data": {
      "image/png": "[encoded data removed]",
      "text/plain": [
       "<matplotlib.figure.Figure at 0x141789aa940>"
      ]
     },
     "metadata": {},
     "output_type": "display_data"
    }
   ],
   "source": [
    "plt.figure(figsize=(4, 6))\n",
    "sns.countplot(x='klassen', data=df_mat_sort);"
   ]
  },
  {
   "cell_type": "markdown",
   "metadata": {
    "slideshow": {
     "slide_type": "fragment"
    }
   },
   "source": [
    "** Klassen ** \n",
    "\n",
    "kurz: bis 35 Minuten; mittel bis 50 Minuten; lang ab 50 Minuten"
   ]
  },
  {
   "cell_type": "code",
   "execution_count": 52,
   "metadata": {
    "collapsed": true,
    "slideshow": {
     "slide_type": "skip"
    }
   },
   "outputs": [],
   "source": [
    "df_kurz = pd.DataFrame(df_mat_sort[df_mat_sort.klassen == \"kurz\"].groupby('hero_id').mean()['radiant_win'], index=np.arange(113))\n",
    "df_kurz.columns =[\"winrate_kurz\"]\n",
    "df_kurz[\"hero_id\"] = np.arange(1,114)\n"
   ]
  },
  {
   "cell_type": "code",
   "execution_count": 53,
   "metadata": {
    "collapsed": true,
    "slideshow": {
     "slide_type": "skip"
    }
   },
   "outputs": [],
   "source": [
    "df_mittel = pd.DataFrame(df_mat_sort[df_mat_sort.klassen == \"mittel\"].groupby('hero_id').mean()['radiant_win'], index=np.arange(113))\n",
    "df_mittel.columns =[\"winrate_mittel\"]\n",
    "df_mittel[\"hero_id\"] = np.arange(1,114)"
   ]
  },
  {
   "cell_type": "code",
   "execution_count": 54,
   "metadata": {
    "collapsed": true,
    "slideshow": {
     "slide_type": "skip"
    }
   },
   "outputs": [],
   "source": [
    "df_lang = pd.DataFrame(df_mat_sort[df_mat_sort.klassen == \"lang\"].groupby('hero_id').mean()['radiant_win'], index=np.arange(113))\n",
    "df_lang.columns =[\"winrate_lang\"]\n",
    "df_lang[\"hero_id\"] = np.arange(1,114)"
   ]
  },
  {
   "cell_type": "code",
   "execution_count": 55,
   "metadata": {
    "collapsed": true,
    "slideshow": {
     "slide_type": "skip"
    }
   },
   "outputs": [],
   "source": [
    "hero_names = hero_names.merge(df_kurz, left_on='hero_id', right_on='hero_id', how='outer')\n",
    "hero_names = hero_names.merge(df_mittel, left_on='hero_id', right_on='hero_id', how='outer')\n",
    "hero_names = hero_names.merge(df_lang, left_on='hero_id', right_on='hero_id', how='outer')"
   ]
  },
  {
   "cell_type": "code",
   "execution_count": 56,
   "metadata": {
    "collapsed": true,
    "slideshow": {
     "slide_type": "skip"
    }
   },
   "outputs": [],
   "source": [
    "hero_names.drop([109, 110, 111, 112], inplace=True)\n",
    "\n",
    "# Bereinigung auf Grund der Tatsache, dass mehr Hero IDs in matches als in hero_names"
   ]
  },
  {
   "cell_type": "code",
   "execution_count": 57,
   "metadata": {
    "collapsed": true,
    "slideshow": {
     "slide_type": "skip"
    }
   },
   "outputs": [],
   "source": [
    "df_most_played_heros = hero_names.sort_values(by=\"total_plays\", ascending=False).head(10).sort_values(by=\"winrate\", ascending=False)"
   ]
  },
  {
   "cell_type": "markdown",
   "metadata": {
    "slideshow": {
     "slide_type": "subslide"
    }
   },
   "source": [
    "### Winrate der 10 meistgespielten Champions"
   ]
  },
  {
   "cell_type": "code",
   "execution_count": 58,
   "metadata": {
    "slideshow": {
     "slide_type": "fragment"
    }
   },
   "outputs": [
    {
     "data": {
      "image/png": "[encoded data removed]",
      "text/plain": [
       "<matplotlib.figure.Figure at 0x14177908a90>"
      ]
     },
     "metadata": {},
     "output_type": "display_data"
    }
   ],
   "source": [
    "fig = plt.figure(figsize=(15, 3)) # Create matplotlib figure\n",
    "ax = fig.add_subplot(111) # Create matplotlib axes\n",
    "ax2,ax3,ax4 = ax,ax,ax; width = 0.12\n",
    "df_most_played_heros.winrate.plot(kind='bar', color='red', ax=ax, width=width*1.2, position=-1)\n",
    "df_most_played_heros.winrate_kurz.plot(kind='bar', color='#aaaaaa', ax=ax2, width=width, position=-3)\n",
    "df_most_played_heros.winrate_mittel.plot(kind='bar', color='#888888', ax=ax3, width=width, position=-4)\n",
    "df_most_played_heros.winrate_lang.plot(kind='bar', color='#444444', ax=ax4, width=width, position=-5)\n",
    "ax.set_ylabel('Gewinnrate'); ax.set_xlabel('Helden');"
   ]
  },
  {
   "cell_type": "markdown",
   "metadata": {
    "slideshow": {
     "slide_type": "fragment"
    }
   },
   "source": [
    "** Interpretation: **\n",
    "Die meistgespielten Champions sind alle stärker in kurzen Spielen. Es scheint eine allgemeine Priorität auf dieser Art zu liegen."
   ]
  },
  {
   "cell_type": "markdown",
   "metadata": {
    "slideshow": {
     "slide_type": "skip"
    }
   },
   "source": [
    "#### Heatmap Korrelation der verschiedenen Winrates"
   ]
  },
  {
   "cell_type": "code",
   "execution_count": 59,
   "metadata": {
    "slideshow": {
     "slide_type": "skip"
    }
   },
   "outputs": [
    {
     "data": {
      "image/png": "[encoded data removed]",
      "text/plain": [
       "<matplotlib.figure.Figure at 0x14164347f60>"
      ]
     },
     "metadata": {},
     "output_type": "display_data"
    }
   ],
   "source": [
    "sns.heatmap(df_most_played_heros.corr());"
   ]
  },
  {
   "cell_type": "markdown",
   "metadata": {
    "slideshow": {
     "slide_type": "subslide"
    }
   },
   "source": [
    "#### Höchste Winrate kurze Spiele"
   ]
  },
  {
   "cell_type": "code",
   "execution_count": 60,
   "metadata": {
    "slideshow": {
     "slide_type": "fragment"
    }
   },
   "outputs": [
    {
     "data": {
      "text/html": [
       "<div>\n",
       "<style>\n",
       "    .dataframe thead tr:only-child th {\n",
       "        text-align: right;\n",
       "    }\n",
       "\n",
       "    .dataframe thead th {\n",
       "        text-align: left;\n",
       "    }\n",
       "\n",
       "    .dataframe tbody tr th {\n",
       "        vertical-align: top;\n",
       "    }\n",
       "</style>\n",
       "<table border=\"1\" class=\"dataframe\">\n",
       "  <thead>\n",
       "    <tr style=\"text-align: right;\">\n",
       "      <th></th>\n",
       "      <th>total_plays</th>\n",
       "      <th>localized_name</th>\n",
       "      <th>winrate</th>\n",
       "      <th>winrate_kurz</th>\n",
       "    </tr>\n",
       "  </thead>\n",
       "  <tbody>\n",
       "    <tr>\n",
       "      <th>6</th>\n",
       "      <td>5190.0</td>\n",
       "      <td>Faceless Void</td>\n",
       "      <td>0.540810</td>\n",
       "      <td>0.643902</td>\n",
       "    </tr>\n",
       "    <tr>\n",
       "      <th>1</th>\n",
       "      <td>9008.0</td>\n",
       "      <td>Phantom Lancer</td>\n",
       "      <td>0.531194</td>\n",
       "      <td>0.618836</td>\n",
       "    </tr>\n",
       "    <tr>\n",
       "      <th>3</th>\n",
       "      <td>5824.0</td>\n",
       "      <td>Outworld Devourer</td>\n",
       "      <td>0.551839</td>\n",
       "      <td>0.605882</td>\n",
       "    </tr>\n",
       "  </tbody>\n",
       "</table>\n",
       "</div>"
      ],
      "text/plain": [
       "   total_plays     localized_name   winrate  winrate_kurz\n",
       "6       5190.0      Faceless Void  0.540810      0.643902\n",
       "1       9008.0     Phantom Lancer  0.531194      0.618836\n",
       "3       5824.0  Outworld Devourer  0.551839      0.605882"
      ]
     },
     "execution_count": 60,
     "metadata": {},
     "output_type": "execute_result"
    }
   ],
   "source": [
    "df_most_played_heros[['total_plays','localized_name','winrate', 'winrate_kurz']].sort_values(\"winrate_kurz\", ascending=False).head(3)"
   ]
  },
  {
   "cell_type": "markdown",
   "metadata": {
    "slideshow": {
     "slide_type": "subslide"
    }
   },
   "source": [
    "#### Höchste Winrate mittlere Spiele"
   ]
  },
  {
   "cell_type": "code",
   "execution_count": 61,
   "metadata": {
    "slideshow": {
     "slide_type": "fragment"
    }
   },
   "outputs": [
    {
     "data": {
      "text/html": [
       "<div>\n",
       "<style>\n",
       "    .dataframe thead tr:only-child th {\n",
       "        text-align: right;\n",
       "    }\n",
       "\n",
       "    .dataframe thead th {\n",
       "        text-align: left;\n",
       "    }\n",
       "\n",
       "    .dataframe tbody tr th {\n",
       "        vertical-align: top;\n",
       "    }\n",
       "</style>\n",
       "<table border=\"1\" class=\"dataframe\">\n",
       "  <thead>\n",
       "    <tr style=\"text-align: right;\">\n",
       "      <th></th>\n",
       "      <th>total_plays</th>\n",
       "      <th>localized_name</th>\n",
       "      <th>winrate</th>\n",
       "      <th>winrate_mittel</th>\n",
       "    </tr>\n",
       "  </thead>\n",
       "  <tbody>\n",
       "    <tr>\n",
       "      <th>3</th>\n",
       "      <td>5824.0</td>\n",
       "      <td>Outworld Devourer</td>\n",
       "      <td>0.551839</td>\n",
       "      <td>0.533654</td>\n",
       "    </tr>\n",
       "    <tr>\n",
       "      <th>6</th>\n",
       "      <td>5190.0</td>\n",
       "      <td>Faceless Void</td>\n",
       "      <td>0.540810</td>\n",
       "      <td>0.521333</td>\n",
       "    </tr>\n",
       "    <tr>\n",
       "      <th>2</th>\n",
       "      <td>5838.0</td>\n",
       "      <td>Juggernaut</td>\n",
       "      <td>0.521411</td>\n",
       "      <td>0.512989</td>\n",
       "    </tr>\n",
       "  </tbody>\n",
       "</table>\n",
       "</div>"
      ],
      "text/plain": [
       "   total_plays     localized_name   winrate  winrate_mittel\n",
       "3       5824.0  Outworld Devourer  0.551839        0.533654\n",
       "6       5190.0      Faceless Void  0.540810        0.521333\n",
       "2       5838.0         Juggernaut  0.521411        0.512989"
      ]
     },
     "execution_count": 61,
     "metadata": {},
     "output_type": "execute_result"
    }
   ],
   "source": [
    "df_most_played_heros[['total_plays','localized_name','winrate','winrate_mittel']].sort_values(\"winrate_mittel\", ascending=False).head(3)"
   ]
  },
  {
   "cell_type": "markdown",
   "metadata": {
    "slideshow": {
     "slide_type": "subslide"
    }
   },
   "source": [
    "#### Höchste Winrate lange Spiele"
   ]
  },
  {
   "cell_type": "code",
   "execution_count": 62,
   "metadata": {
    "scrolled": true,
    "slideshow": {
     "slide_type": "fragment"
    }
   },
   "outputs": [
    {
     "data": {
      "text/html": [
       "<div>\n",
       "<style>\n",
       "    .dataframe thead tr:only-child th {\n",
       "        text-align: right;\n",
       "    }\n",
       "\n",
       "    .dataframe thead th {\n",
       "        text-align: left;\n",
       "    }\n",
       "\n",
       "    .dataframe tbody tr th {\n",
       "        vertical-align: top;\n",
       "    }\n",
       "</style>\n",
       "<table border=\"1\" class=\"dataframe\">\n",
       "  <thead>\n",
       "    <tr style=\"text-align: right;\">\n",
       "      <th></th>\n",
       "      <th>total_plays</th>\n",
       "      <th>localized_name</th>\n",
       "      <th>winrate</th>\n",
       "      <th>winrate_lang</th>\n",
       "    </tr>\n",
       "  </thead>\n",
       "  <tbody>\n",
       "    <tr>\n",
       "      <th>3</th>\n",
       "      <td>5824.0</td>\n",
       "      <td>Outworld Devourer</td>\n",
       "      <td>0.551839</td>\n",
       "      <td>0.522759</td>\n",
       "    </tr>\n",
       "    <tr>\n",
       "      <th>4</th>\n",
       "      <td>5445.0</td>\n",
       "      <td>Witch Doctor</td>\n",
       "      <td>0.498328</td>\n",
       "      <td>0.495763</td>\n",
       "    </tr>\n",
       "    <tr>\n",
       "      <th>8</th>\n",
       "      <td>4963.0</td>\n",
       "      <td>Silencer</td>\n",
       "      <td>0.507040</td>\n",
       "      <td>0.495719</td>\n",
       "    </tr>\n",
       "  </tbody>\n",
       "</table>\n",
       "</div>"
      ],
      "text/plain": [
       "   total_plays     localized_name   winrate  winrate_lang\n",
       "3       5824.0  Outworld Devourer  0.551839      0.522759\n",
       "4       5445.0       Witch Doctor  0.498328      0.495763\n",
       "8       4963.0           Silencer  0.507040      0.495719"
      ]
     },
     "execution_count": 62,
     "metadata": {},
     "output_type": "execute_result"
    }
   ],
   "source": [
    "df_most_played_heros[['total_plays','localized_name','winrate','winrate_lang']].sort_values(\"winrate_lang\", ascending=False).head(3)"
   ]
  },
  {
   "cell_type": "markdown",
   "metadata": {
    "slideshow": {
     "slide_type": "slide"
    }
   },
   "source": [
    "## Einfluss der Chatnutzung auf die  Winrate der Teams "
   ]
  },
  {
   "cell_type": "markdown",
   "metadata": {
    "slideshow": {
     "slide_type": "skip"
    }
   },
   "source": [
    "#### Erzeugen eigener Datensätze"
   ]
  },
  {
   "cell_type": "code",
   "execution_count": 63,
   "metadata": {
    "collapsed": true,
    "slideshow": {
     "slide_type": "skip"
    }
   },
   "outputs": [],
   "source": [
    "match = df_match.copy()\n",
    "chat = df_chat.copy()\n",
    "player = df_player.copy()"
   ]
  },
  {
   "cell_type": "markdown",
   "metadata": {
    "slideshow": {
     "slide_type": "skip"
    }
   },
   "source": [
    "#### Edit matches Datensatz"
   ]
  },
  {
   "cell_type": "code",
   "execution_count": 64,
   "metadata": {
    "collapsed": true,
    "slideshow": {
     "slide_type": "skip"
    }
   },
   "outputs": [],
   "source": [
    "# Spalten umbenennen\n",
    "match.columns = ['match_id','Spieldauer','Gewinner']\n",
    "# Gewinner True False durch Namen ersetzten\n",
    "match['Gewinner'] = match['Gewinner'].map(lambda x: 'Radiant' if x else 'Dire')"
   ]
  },
  {
   "cell_type": "markdown",
   "metadata": {
    "slideshow": {
     "slide_type": "skip"
    }
   },
   "source": [
    "#### Edit chat Datensatz"
   ]
  },
  {
   "cell_type": "code",
   "execution_count": 65,
   "metadata": {
    "collapsed": true,
    "slideshow": {
     "slide_type": "skip"
    }
   },
   "outputs": [],
   "source": [
    "# Nachrichtenlänge für jede Nachricht\n",
    "chat['NachrichtenLänge'] = chat['key'].str.len()\n",
    "# Zuweisung Team abhängig vom Spieler-Slot\n",
    "chat['Team'] = pd.cut(chat['slot'],[0,5,10],labels=['Radiant', 'Dire'])"
   ]
  },
  {
   "cell_type": "markdown",
   "metadata": {
    "slideshow": {
     "slide_type": "skip"
    }
   },
   "source": [
    "#### Grouped Chat"
   ]
  },
  {
   "cell_type": "code",
   "execution_count": 66,
   "metadata": {
    "collapsed": true,
    "slideshow": {
     "slide_type": "skip"
    }
   },
   "outputs": [],
   "source": [
    "groupedchat = chat[['match_id', 'Team', 'key']].groupby(['match_id', 'Team']).count()\n",
    "groupedchat.columns = ['AnzahlNachrichten']\n",
    "# Gesamte Nachrichtenlänge im Team in diesem Spiel\n",
    "groupedchat['NachrichtenLängeGesamt'] = chat[['match_id', 'Team', 'NachrichtenLänge']].groupby(['match_id', 'Team']).sum()\n",
    "groupedchat['DurchschnittlicheLänge'] = groupedchat['NachrichtenLängeGesamt']/groupedchat['AnzahlNachrichten']\n",
    "groupedchat = groupedchat.reset_index()\n",
    "groupedchat = groupedchat.merge(match, on='match_id')\n",
    "#Erstellen Nachriten pro Minute\n",
    "groupedchat['NachrichtenProMinute'] = groupedchat['AnzahlNachrichten']/ (groupedchat['Spieldauer']/60)\n",
    "# Erstellen Spieldauerbereiche\n",
    "groupedchat['SpieldauerBereiche'] = pd.cut(groupedchat['Spieldauer'],[x*300 for x in range(21)], labels=[(x+1)*5 for x in range(20)])\n",
    "# Erstellen Zeichen pro Minute\n",
    "groupedchat['ZeichenProMinute'] = groupedchat['NachrichtenLängeGesamt']/(groupedchat['Spieldauer']/60)\n",
    "#Erstellen getrennter Tabellen (Win/Lose)\n",
    "groupedchat_win = groupedchat[groupedchat['Team']==groupedchat['Gewinner']]\n",
    "groupedchat_lose = groupedchat[groupedchat['Team']!=groupedchat['Gewinner']]"
   ]
  },
  {
   "cell_type": "markdown",
   "metadata": {
    "slideshow": {
     "slide_type": "subslide"
    }
   },
   "source": [
    "#### Grouped Chat - Ansicht"
   ]
  },
  {
   "cell_type": "code",
   "execution_count": 67,
   "metadata": {
    "scrolled": true,
    "slideshow": {
     "slide_type": "fragment"
    }
   },
   "outputs": [
    {
     "data": {
      "text/html": [
       "<div>\n",
       "<style>\n",
       "    .dataframe thead tr:only-child th {\n",
       "        text-align: right;\n",
       "    }\n",
       "\n",
       "    .dataframe thead th {\n",
       "        text-align: left;\n",
       "    }\n",
       "\n",
       "    .dataframe tbody tr th {\n",
       "        vertical-align: top;\n",
       "    }\n",
       "</style>\n",
       "<table border=\"1\" class=\"dataframe\">\n",
       "  <thead>\n",
       "    <tr style=\"text-align: right;\">\n",
       "      <th></th>\n",
       "      <th>0</th>\n",
       "      <th>1</th>\n",
       "      <th>2</th>\n",
       "      <th>3</th>\n",
       "    </tr>\n",
       "  </thead>\n",
       "  <tbody>\n",
       "    <tr>\n",
       "      <th>match_id</th>\n",
       "      <td>0</td>\n",
       "      <td>0</td>\n",
       "      <td>1</td>\n",
       "      <td>1</td>\n",
       "    </tr>\n",
       "    <tr>\n",
       "      <th>Team</th>\n",
       "      <td>Dire</td>\n",
       "      <td>Radiant</td>\n",
       "      <td>Dire</td>\n",
       "      <td>Radiant</td>\n",
       "    </tr>\n",
       "    <tr>\n",
       "      <th>AnzahlNachrichten</th>\n",
       "      <td>28</td>\n",
       "      <td>19</td>\n",
       "      <td>4</td>\n",
       "      <td>12</td>\n",
       "    </tr>\n",
       "    <tr>\n",
       "      <th>NachrichtenLängeGesamt</th>\n",
       "      <td>352</td>\n",
       "      <td>117</td>\n",
       "      <td>32</td>\n",
       "      <td>102</td>\n",
       "    </tr>\n",
       "    <tr>\n",
       "      <th>DurchschnittlicheLänge</th>\n",
       "      <td>12.5714</td>\n",
       "      <td>6.15789</td>\n",
       "      <td>8</td>\n",
       "      <td>8.5</td>\n",
       "    </tr>\n",
       "    <tr>\n",
       "      <th>Spieldauer</th>\n",
       "      <td>2375</td>\n",
       "      <td>2375</td>\n",
       "      <td>2582</td>\n",
       "      <td>2582</td>\n",
       "    </tr>\n",
       "    <tr>\n",
       "      <th>Gewinner</th>\n",
       "      <td>Radiant</td>\n",
       "      <td>Radiant</td>\n",
       "      <td>Dire</td>\n",
       "      <td>Dire</td>\n",
       "    </tr>\n",
       "    <tr>\n",
       "      <th>NachrichtenProMinute</th>\n",
       "      <td>0.707368</td>\n",
       "      <td>0.48</td>\n",
       "      <td>0.0929512</td>\n",
       "      <td>0.278854</td>\n",
       "    </tr>\n",
       "    <tr>\n",
       "      <th>SpieldauerBereiche</th>\n",
       "      <td>40</td>\n",
       "      <td>40</td>\n",
       "      <td>45</td>\n",
       "      <td>45</td>\n",
       "    </tr>\n",
       "    <tr>\n",
       "      <th>ZeichenProMinute</th>\n",
       "      <td>8.89263</td>\n",
       "      <td>2.95579</td>\n",
       "      <td>0.74361</td>\n",
       "      <td>2.37026</td>\n",
       "    </tr>\n",
       "  </tbody>\n",
       "</table>\n",
       "</div>"
      ],
      "text/plain": [
       "                               0        1          2         3\n",
       "match_id                       0        0          1         1\n",
       "Team                        Dire  Radiant       Dire   Radiant\n",
       "AnzahlNachrichten             28       19          4        12\n",
       "NachrichtenLängeGesamt       352      117         32       102\n",
       "DurchschnittlicheLänge   12.5714  6.15789          8       8.5\n",
       "Spieldauer                  2375     2375       2582      2582\n",
       "Gewinner                 Radiant  Radiant       Dire      Dire\n",
       "NachrichtenProMinute    0.707368     0.48  0.0929512  0.278854\n",
       "SpieldauerBereiche            40       40         45        45\n",
       "ZeichenProMinute         8.89263  2.95579    0.74361   2.37026"
      ]
     },
     "execution_count": 67,
     "metadata": {},
     "output_type": "execute_result"
    }
   ],
   "source": [
    "groupedchat.head(4).transpose()"
   ]
  },
  {
   "cell_type": "markdown",
   "metadata": {
    "slideshow": {
     "slide_type": "subslide"
    }
   },
   "source": [
    "## Zusammenhang"
   ]
  },
  {
   "cell_type": "markdown",
   "metadata": {
    "slideshow": {
     "slide_type": "fragment"
    }
   },
   "source": [
    "** Zusammenhang Gewinner **"
   ]
  },
  {
   "cell_type": "code",
   "execution_count": 68,
   "metadata": {
    "slideshow": {
     "slide_type": "fragment"
    }
   },
   "outputs": [
    {
     "data": {
      "text/plain": [
       "0.87748362563805871"
      ]
     },
     "execution_count": 68,
     "metadata": {},
     "output_type": "execute_result"
    }
   ],
   "source": [
    "ccc(pd.crosstab(groupedchat_win['Team'],groupedchat_win['NachrichtenProMinute']))"
   ]
  },
  {
   "cell_type": "markdown",
   "metadata": {
    "slideshow": {
     "slide_type": "fragment"
    }
   },
   "source": [
    "** Zusammenhang Verlierer **"
   ]
  },
  {
   "cell_type": "code",
   "execution_count": 69,
   "metadata": {
    "slideshow": {
     "slide_type": "fragment"
    }
   },
   "outputs": [
    {
     "data": {
      "text/plain": [
       "0.87894406243710055"
      ]
     },
     "execution_count": 69,
     "metadata": {},
     "output_type": "execute_result"
    }
   ],
   "source": [
    "ccc(pd.crosstab(groupedchat_lose['Team'],groupedchat_lose['NachrichtenProMinute']))"
   ]
  },
  {
   "cell_type": "markdown",
   "metadata": {
    "slideshow": {
     "slide_type": "subslide"
    }
   },
   "source": [
    "## Korrelation"
   ]
  },
  {
   "cell_type": "markdown",
   "metadata": {
    "slideshow": {
     "slide_type": "fragment"
    }
   },
   "source": [
    "** Korrelation zwischen den Nachrichten pro Minute und dem Gewinner. **"
   ]
  },
  {
   "cell_type": "code",
   "execution_count": 70,
   "metadata": {
    "slideshow": {
     "slide_type": "fragment"
    }
   },
   "outputs": [
    {
     "data": {
      "text/html": [
       "<div>\n",
       "<style>\n",
       "    .dataframe thead tr:only-child th {\n",
       "        text-align: right;\n",
       "    }\n",
       "\n",
       "    .dataframe thead th {\n",
       "        text-align: left;\n",
       "    }\n",
       "\n",
       "    .dataframe tbody tr th {\n",
       "        vertical-align: top;\n",
       "    }\n",
       "</style>\n",
       "<table border=\"1\" class=\"dataframe\">\n",
       "  <thead>\n",
       "    <tr style=\"text-align: right;\">\n",
       "      <th></th>\n",
       "      <th>NachrichtenProMinute</th>\n",
       "      <th>TeamCodes</th>\n",
       "    </tr>\n",
       "  </thead>\n",
       "  <tbody>\n",
       "    <tr>\n",
       "      <th>NachrichtenProMinute</th>\n",
       "      <td>1.000000</td>\n",
       "      <td>0.097489</td>\n",
       "    </tr>\n",
       "    <tr>\n",
       "      <th>TeamCodes</th>\n",
       "      <td>0.097489</td>\n",
       "      <td>1.000000</td>\n",
       "    </tr>\n",
       "  </tbody>\n",
       "</table>\n",
       "</div>"
      ],
      "text/plain": [
       "                      NachrichtenProMinute  TeamCodes\n",
       "NachrichtenProMinute              1.000000   0.097489\n",
       "TeamCodes                         0.097489   1.000000"
      ]
     },
     "execution_count": 70,
     "metadata": {},
     "output_type": "execute_result"
    }
   ],
   "source": [
    "groupedchat_win['TeamCodes'] = groupedchat_win['Team'].cat.codes\n",
    "groupedchat_win[['NachrichtenProMinute','TeamCodes']].corr()"
   ]
  },
  {
   "cell_type": "markdown",
   "metadata": {
    "slideshow": {
     "slide_type": "fragment"
    }
   },
   "source": [
    "** Korrelation zwischen den Nachrichten pro Minute und dem Verlierer. **"
   ]
  },
  {
   "cell_type": "code",
   "execution_count": 71,
   "metadata": {
    "slideshow": {
     "slide_type": "fragment"
    }
   },
   "outputs": [
    {
     "data": {
      "text/html": [
       "<div>\n",
       "<style>\n",
       "    .dataframe thead tr:only-child th {\n",
       "        text-align: right;\n",
       "    }\n",
       "\n",
       "    .dataframe thead th {\n",
       "        text-align: left;\n",
       "    }\n",
       "\n",
       "    .dataframe tbody tr th {\n",
       "        vertical-align: top;\n",
       "    }\n",
       "</style>\n",
       "<table border=\"1\" class=\"dataframe\">\n",
       "  <thead>\n",
       "    <tr style=\"text-align: right;\">\n",
       "      <th></th>\n",
       "      <th>NachrichtenProMinute</th>\n",
       "      <th>TeamCodes</th>\n",
       "    </tr>\n",
       "  </thead>\n",
       "  <tbody>\n",
       "    <tr>\n",
       "      <th>NachrichtenProMinute</th>\n",
       "      <td>1.000000</td>\n",
       "      <td>0.075454</td>\n",
       "    </tr>\n",
       "    <tr>\n",
       "      <th>TeamCodes</th>\n",
       "      <td>0.075454</td>\n",
       "      <td>1.000000</td>\n",
       "    </tr>\n",
       "  </tbody>\n",
       "</table>\n",
       "</div>"
      ],
      "text/plain": [
       "                      NachrichtenProMinute  TeamCodes\n",
       "NachrichtenProMinute              1.000000   0.075454\n",
       "TeamCodes                         0.075454   1.000000"
      ]
     },
     "execution_count": 71,
     "metadata": {},
     "output_type": "execute_result"
    }
   ],
   "source": [
    "groupedchat_lose['TeamCodes'] = groupedchat_lose['Team'].cat.codes\n",
    "groupedchat_lose[['NachrichtenProMinute','TeamCodes']].corr()"
   ]
  },
  {
   "cell_type": "markdown",
   "metadata": {
    "slideshow": {
     "slide_type": "subslide"
    }
   },
   "source": [
    "## Visualisierung"
   ]
  },
  {
   "cell_type": "code",
   "execution_count": 72,
   "metadata": {
    "collapsed": true,
    "slideshow": {
     "slide_type": "skip"
    }
   },
   "outputs": [],
   "source": [
    "# Erstellen von gleichen Quantilen. Hier wird der volle Datensatz verwendet,\n",
    "# da darüber dann von einer gleichmäßigeren Verteilung ausgegangen werden kann als bei WIN oder LOSE spezifisch.\n",
    "anzahl_quantile = 20\n",
    "quantile_nachrichten = groupedchat.NachrichtenProMinute.quantile(q=[x/anzahl_quantile for x in range(0,1+anzahl_quantile)])\n",
    "quantile_zeichen = groupedchat.ZeichenProMinute.quantile(q=[x/anzahl_quantile for x in range(0,1+anzahl_quantile)])"
   ]
  },
  {
   "cell_type": "markdown",
   "metadata": {
    "slideshow": {
     "slide_type": "subslide"
    }
   },
   "source": [
    "### Winrate abängig von der Anzahl an Nachrichten pro Minute"
   ]
  },
  {
   "cell_type": "code",
   "execution_count": 73,
   "metadata": {
    "collapsed": true,
    "slideshow": {
     "slide_type": "skip"
    }
   },
   "outputs": [],
   "source": [
    "# Füge die zuvor erstellten Bereiche zu beiden Datensätzen hinzu\n",
    "groupedchat_win['BereicheNachrichtenProMinute'] = pd.cut(groupedchat_win['NachrichtenProMinute'] , quantile_nachrichten, labels = quantile_nachrichten.values[1:])\n",
    "groupedchat_lose['BereicheNachrichtenProMinute'] = pd.cut(groupedchat_lose['NachrichtenProMinute'] , quantile_nachrichten, labels = quantile_nachrichten.values[1:])\n",
    "# Füge beide Datensätze zu einem gruppierten Datensatz zusammen\n",
    "groupedquantile = pd.DataFrame(groupedchat_win[['BereicheNachrichtenProMinute', 'Team']].replace({'Team':{'Radiant':0,'Dire':1}}).groupby('BereicheNachrichtenProMinute').sum())\n",
    "groupedquantile.columns = ['GewonneneSpiele']\n",
    "groupedquantile['VerloreneSpiele'] = pd.DataFrame(groupedchat_lose[['BereicheNachrichtenProMinute', 'Team']].replace({'Team':{'Radiant':0,'Dire':1}}).groupby('BereicheNachrichtenProMinute').sum())\n",
    "# Erstelle die Gesamtanzahl an Spielen für jeden Bereich\n",
    "groupedquantile['GespielteSpiele'] = groupedquantile.GewonneneSpiele + groupedquantile.VerloreneSpiele\n",
    "# Berechnung der Winrate pro Bereich\n",
    "groupedquantile['Winrate'] = groupedquantile.GewonneneSpiele/groupedquantile.GespielteSpiele\n",
    "groupedquantile['Bereiche'] = [round(x*10,1) for x in groupedquantile.index.values]"
   ]
  },
  {
   "cell_type": "code",
   "execution_count": 74,
   "metadata": {
    "slideshow": {
     "slide_type": "fragment"
    }
   },
   "outputs": [
    {
     "data": {
      "text/html": [
       "<div>\n",
       "<style>\n",
       "    .dataframe thead tr:only-child th {\n",
       "        text-align: right;\n",
       "    }\n",
       "\n",
       "    .dataframe thead th {\n",
       "        text-align: left;\n",
       "    }\n",
       "\n",
       "    .dataframe tbody tr th {\n",
       "        vertical-align: top;\n",
       "    }\n",
       "</style>\n",
       "<table border=\"1\" class=\"dataframe\">\n",
       "  <thead>\n",
       "    <tr style=\"text-align: right;\">\n",
       "      <th></th>\n",
       "      <th>0</th>\n",
       "      <th>1</th>\n",
       "      <th>2</th>\n",
       "      <th>3</th>\n",
       "    </tr>\n",
       "  </thead>\n",
       "  <tbody>\n",
       "    <tr>\n",
       "      <th>BereicheNachrichtenProMinute</th>\n",
       "      <td>0.0333704</td>\n",
       "      <td>0.0543478</td>\n",
       "      <td>0.0717703</td>\n",
       "      <td>0.0899213</td>\n",
       "    </tr>\n",
       "    <tr>\n",
       "      <th>GewonneneSpiele</th>\n",
       "      <td>965</td>\n",
       "      <td>1064</td>\n",
       "      <td>1106</td>\n",
       "      <td>1092</td>\n",
       "    </tr>\n",
       "    <tr>\n",
       "      <th>VerloreneSpiele</th>\n",
       "      <td>1664</td>\n",
       "      <td>1406</td>\n",
       "      <td>1339</td>\n",
       "      <td>1221</td>\n",
       "    </tr>\n",
       "    <tr>\n",
       "      <th>GespielteSpiele</th>\n",
       "      <td>2629</td>\n",
       "      <td>2470</td>\n",
       "      <td>2445</td>\n",
       "      <td>2313</td>\n",
       "    </tr>\n",
       "    <tr>\n",
       "      <th>Winrate</th>\n",
       "      <td>0.36706</td>\n",
       "      <td>0.430769</td>\n",
       "      <td>0.452352</td>\n",
       "      <td>0.472114</td>\n",
       "    </tr>\n",
       "    <tr>\n",
       "      <th>Bereiche</th>\n",
       "      <td>0.3</td>\n",
       "      <td>0.5</td>\n",
       "      <td>0.7</td>\n",
       "      <td>0.9</td>\n",
       "    </tr>\n",
       "  </tbody>\n",
       "</table>\n",
       "</div>"
      ],
      "text/plain": [
       "                                      0          1          2          3\n",
       "BereicheNachrichtenProMinute  0.0333704  0.0543478  0.0717703  0.0899213\n",
       "GewonneneSpiele                     965       1064       1106       1092\n",
       "VerloreneSpiele                    1664       1406       1339       1221\n",
       "GespielteSpiele                    2629       2470       2445       2313\n",
       "Winrate                         0.36706   0.430769   0.452352   0.472114\n",
       "Bereiche                            0.3        0.5        0.7        0.9"
      ]
     },
     "execution_count": 74,
     "metadata": {},
     "output_type": "execute_result"
    }
   ],
   "source": [
    "# Gemeinsamer Datensatz aus beiden getrennten Datensätzen\n",
    "groupedquantile.reset_index().head(4).transpose()"
   ]
  },
  {
   "cell_type": "markdown",
   "metadata": {
    "slideshow": {
     "slide_type": "subslide"
    }
   },
   "source": [
    "#### Diagramm"
   ]
  },
  {
   "cell_type": "code",
   "execution_count": 75,
   "metadata": {
    "slideshow": {
     "slide_type": "fragment"
    }
   },
   "outputs": [
    {
     "data": {
      "image/png": "[encoded data removed]",
      "text/plain": [
       "<matplotlib.figure.Figure at 0x1416520a4e0>"
      ]
     },
     "metadata": {},
     "output_type": "display_data"
    }
   ],
   "source": [
    "# Erzeuge Barchart\n",
    "plt.figure(figsize=(11.69,4.27))\n",
    "sns.barplot(x=groupedquantile.Bereiche, y = groupedquantile.Winrate)\n",
    "plt.xlabel('Nachrichten pro 10 Minuten (Oberlimit)', fontsize=10)\n",
    "plt.ylabel('Winrate');"
   ]
  },
  {
   "cell_type": "markdown",
   "metadata": {
    "slideshow": {
     "slide_type": "fragment"
    }
   },
   "source": [
    "** Interpretation: ** Sowohl wenig als auch zu viel Kommunikation sind schädlich für die Winrate des Teams. Bei einem gesunden Maß an Datenaustausch läuft das Spiel optimal."
   ]
  },
  {
   "cell_type": "markdown",
   "metadata": {
    "slideshow": {
     "slide_type": "subslide"
    }
   },
   "source": [
    "### Winrate abhängig von der Anzahl der Zeichenanzahl gesendet pro Minute"
   ]
  },
  {
   "cell_type": "code",
   "execution_count": 76,
   "metadata": {
    "collapsed": true,
    "scrolled": true,
    "slideshow": {
     "slide_type": "skip"
    }
   },
   "outputs": [],
   "source": [
    "# Füge die zuvor erstellten Bereiche zu beiden Datensätzen hinzu\n",
    "groupedchat_win['BereicheZeichenProMinute'] = pd.cut(groupedchat_win['ZeichenProMinute'] , quantile_zeichen, labels = quantile_zeichen.values[1:])\n",
    "groupedchat_lose['BereicheZeichenProMinute'] = pd.cut(groupedchat_lose['ZeichenProMinute'] , quantile_zeichen, labels = quantile_zeichen.values[1:])\n",
    "# Füge beide Datensätze zu einem gruppierten Datensatz zusammen\n",
    "groupedquantile = pd.DataFrame(groupedchat_win[['BereicheZeichenProMinute', 'Team']].replace({'Team':{'Radiant':0,'Dire':1}}).groupby('BereicheZeichenProMinute').sum())\n",
    "groupedquantile.columns = ['GewonneneSpiele']\n",
    "groupedquantile['VerloreneSpiele'] = pd.DataFrame(groupedchat_lose[['BereicheZeichenProMinute', 'Team']].replace({'Team':{'Radiant':0,'Dire':1}}).groupby('BereicheZeichenProMinute').sum())\n",
    "# Erstelle die Gesamtanzahl an Spielen für jeden Bereich\n",
    "groupedquantile['GespielteSpiele'] = groupedquantile.GewonneneSpiele + groupedquantile.VerloreneSpiele\n",
    "# Berechnung der Winrate pro Bereich\n",
    "groupedquantile['Winrate'] = groupedquantile.GewonneneSpiele/groupedquantile.GespielteSpiele\n",
    "groupedquantile['Bereiche'] = [round(x*10,1) for x in groupedquantile.index.values]"
   ]
  },
  {
   "cell_type": "code",
   "execution_count": 77,
   "metadata": {
    "slideshow": {
     "slide_type": "skip"
    }
   },
   "outputs": [
    {
     "data": {
      "text/html": [
       "<div>\n",
       "<style>\n",
       "    .dataframe thead tr:only-child th {\n",
       "        text-align: right;\n",
       "    }\n",
       "\n",
       "    .dataframe thead th {\n",
       "        text-align: left;\n",
       "    }\n",
       "\n",
       "    .dataframe tbody tr th {\n",
       "        vertical-align: top;\n",
       "    }\n",
       "</style>\n",
       "<table border=\"1\" class=\"dataframe\">\n",
       "  <thead>\n",
       "    <tr style=\"text-align: right;\">\n",
       "      <th></th>\n",
       "      <th>0</th>\n",
       "      <th>1</th>\n",
       "      <th>2</th>\n",
       "      <th>3</th>\n",
       "      <th>4</th>\n",
       "    </tr>\n",
       "  </thead>\n",
       "  <tbody>\n",
       "    <tr>\n",
       "      <th>BereicheZeichenProMinute</th>\n",
       "      <td>0.131617</td>\n",
       "      <td>0.26393</td>\n",
       "      <td>0.417766</td>\n",
       "      <td>0.588928</td>\n",
       "      <td>0.769231</td>\n",
       "    </tr>\n",
       "    <tr>\n",
       "      <th>GewonneneSpiele</th>\n",
       "      <td>1043</td>\n",
       "      <td>1130</td>\n",
       "      <td>1144</td>\n",
       "      <td>1149</td>\n",
       "      <td>1144</td>\n",
       "    </tr>\n",
       "    <tr>\n",
       "      <th>VerloreneSpiele</th>\n",
       "      <td>1493</td>\n",
       "      <td>1241</td>\n",
       "      <td>1209</td>\n",
       "      <td>1091</td>\n",
       "      <td>1106</td>\n",
       "    </tr>\n",
       "    <tr>\n",
       "      <th>GespielteSpiele</th>\n",
       "      <td>2536</td>\n",
       "      <td>2371</td>\n",
       "      <td>2353</td>\n",
       "      <td>2240</td>\n",
       "      <td>2250</td>\n",
       "    </tr>\n",
       "    <tr>\n",
       "      <th>Winrate</th>\n",
       "      <td>0.411278</td>\n",
       "      <td>0.476592</td>\n",
       "      <td>0.486188</td>\n",
       "      <td>0.512946</td>\n",
       "      <td>0.508444</td>\n",
       "    </tr>\n",
       "    <tr>\n",
       "      <th>Bereiche</th>\n",
       "      <td>1.3</td>\n",
       "      <td>2.6</td>\n",
       "      <td>4.2</td>\n",
       "      <td>5.9</td>\n",
       "      <td>7.7</td>\n",
       "    </tr>\n",
       "  </tbody>\n",
       "</table>\n",
       "</div>"
      ],
      "text/plain": [
       "                                 0         1         2         3         4\n",
       "BereicheZeichenProMinute  0.131617   0.26393  0.417766  0.588928  0.769231\n",
       "GewonneneSpiele               1043      1130      1144      1149      1144\n",
       "VerloreneSpiele               1493      1241      1209      1091      1106\n",
       "GespielteSpiele               2536      2371      2353      2240      2250\n",
       "Winrate                   0.411278  0.476592  0.486188  0.512946  0.508444\n",
       "Bereiche                       1.3       2.6       4.2       5.9       7.7"
      ]
     },
     "execution_count": 77,
     "metadata": {},
     "output_type": "execute_result"
    }
   ],
   "source": [
    "# Gemeinsamer Datensatz aus beiden getrennten Datensätzen\n",
    "groupedquantile.reset_index().head().transpose()"
   ]
  },
  {
   "cell_type": "markdown",
   "metadata": {
    "slideshow": {
     "slide_type": "subslide"
    }
   },
   "source": [
    "#### Diagramm"
   ]
  },
  {
   "cell_type": "code",
   "execution_count": 78,
   "metadata": {
    "slideshow": {
     "slide_type": "fragment"
    }
   },
   "outputs": [
    {
     "data": {
      "image/png": "[encoded data removed]",
      "text/plain": [
       "<matplotlib.figure.Figure at 0x1417681e860>"
      ]
     },
     "metadata": {},
     "output_type": "display_data"
    }
   ],
   "source": [
    "# Erzeuge Barchart\n",
    "plt.figure(figsize=(11.69,4.27))\n",
    "sns.barplot(x=groupedquantile.Bereiche, y = groupedquantile.Winrate)\n",
    "plt.xlabel('Zeichen pro 10 Minuten (Oberlimit)', fontsize=10);"
   ]
  },
  {
   "cell_type": "markdown",
   "metadata": {
    "slideshow": {
     "slide_type": "fragment"
    }
   },
   "source": [
    "** Interpretation: ** Wie bei der Nachrichten pro Minute Verteilung zeigt sich ein geringer Vorteil in gesunder Kommunikation. Zwischen 4.3 und 54.6 Zeichen pro 10 Minuten, also einfache Befehle und nicht viel Tratsch, geben dem Team einen leichten Vorteil."
   ]
  },
  {
   "cell_type": "markdown",
   "metadata": {
    "slideshow": {
     "slide_type": "slide"
    }
   },
   "source": [
    "## Gewinnchancen in Abhängigkeit von Goldanteil"
   ]
  },
  {
   "cell_type": "code",
   "execution_count": 79,
   "metadata": {
    "collapsed": true,
    "slideshow": {
     "slide_type": "skip"
    }
   },
   "outputs": [],
   "source": [
    "# Erzeugen von lokalen Dataframes\n",
    "match = None\n",
    "match = df_match.copy()\n",
    "player = df_player.copy()"
   ]
  },
  {
   "cell_type": "code",
   "execution_count": 80,
   "metadata": {
    "collapsed": true,
    "slideshow": {
     "slide_type": "skip"
    }
   },
   "outputs": [],
   "source": [
    "match[\"gewinner\"] = match.radiant_win.map(lambda x:\"radiant\" if x else \"dire\")\n",
    "match.drop(\"radiant_win\", axis=1, inplace=True)\n",
    "mat_1 = match.merge(player,on=['match_id'])\n",
    "# mat_125 = df_match_50000.merge(df_match_50000,on='match_id').merge(df_players[df_players[\"player_slot\"]>6],on='match_id')"
   ]
  },
  {
   "cell_type": "code",
   "execution_count": 81,
   "metadata": {
    "collapsed": true,
    "slideshow": {
     "slide_type": "skip"
    }
   },
   "outputs": [],
   "source": [
    "mat_1[\"team\"]= mat_1.player_slot.map(lambda x:\"radiant\" if x<10 else \"dire\")"
   ]
  },
  {
   "cell_type": "markdown",
   "metadata": {
    "collapsed": true,
    "slideshow": {
     "slide_type": "subslide"
    }
   },
   "source": [
    "#### Aufbereitete Daten"
   ]
  },
  {
   "cell_type": "code",
   "execution_count": 82,
   "metadata": {
    "slideshow": {
     "slide_type": "fragment"
    }
   },
   "outputs": [
    {
     "data": {
      "text/html": [
       "<div>\n",
       "<style>\n",
       "    .dataframe thead tr:only-child th {\n",
       "        text-align: right;\n",
       "    }\n",
       "\n",
       "    .dataframe thead th {\n",
       "        text-align: left;\n",
       "    }\n",
       "\n",
       "    .dataframe tbody tr th {\n",
       "        vertical-align: top;\n",
       "    }\n",
       "</style>\n",
       "<table border=\"1\" class=\"dataframe\">\n",
       "  <thead>\n",
       "    <tr style=\"text-align: right;\">\n",
       "      <th></th>\n",
       "      <th>0</th>\n",
       "      <th>1</th>\n",
       "      <th>2</th>\n",
       "      <th>3</th>\n",
       "      <th>4</th>\n",
       "    </tr>\n",
       "  </thead>\n",
       "  <tbody>\n",
       "    <tr>\n",
       "      <th>match_id</th>\n",
       "      <td>0</td>\n",
       "      <td>0</td>\n",
       "      <td>0</td>\n",
       "      <td>0</td>\n",
       "      <td>0</td>\n",
       "    </tr>\n",
       "    <tr>\n",
       "      <th>duration</th>\n",
       "      <td>2375</td>\n",
       "      <td>2375</td>\n",
       "      <td>2375</td>\n",
       "      <td>2375</td>\n",
       "      <td>2375</td>\n",
       "    </tr>\n",
       "    <tr>\n",
       "      <th>gewinner</th>\n",
       "      <td>radiant</td>\n",
       "      <td>radiant</td>\n",
       "      <td>radiant</td>\n",
       "      <td>radiant</td>\n",
       "      <td>radiant</td>\n",
       "    </tr>\n",
       "    <tr>\n",
       "      <th>hero_id</th>\n",
       "      <td>86</td>\n",
       "      <td>51</td>\n",
       "      <td>83</td>\n",
       "      <td>11</td>\n",
       "      <td>67</td>\n",
       "    </tr>\n",
       "    <tr>\n",
       "      <th>player_slot</th>\n",
       "      <td>0</td>\n",
       "      <td>1</td>\n",
       "      <td>2</td>\n",
       "      <td>3</td>\n",
       "      <td>4</td>\n",
       "    </tr>\n",
       "    <tr>\n",
       "      <th>gold</th>\n",
       "      <td>3261</td>\n",
       "      <td>2954</td>\n",
       "      <td>110</td>\n",
       "      <td>1179</td>\n",
       "      <td>3307</td>\n",
       "    </tr>\n",
       "    <tr>\n",
       "      <th>gold_spent</th>\n",
       "      <td>10960</td>\n",
       "      <td>17760</td>\n",
       "      <td>12195</td>\n",
       "      <td>22505</td>\n",
       "      <td>23825</td>\n",
       "    </tr>\n",
       "    <tr>\n",
       "      <th>kills</th>\n",
       "      <td>9</td>\n",
       "      <td>13</td>\n",
       "      <td>0</td>\n",
       "      <td>8</td>\n",
       "      <td>20</td>\n",
       "    </tr>\n",
       "    <tr>\n",
       "      <th>deaths</th>\n",
       "      <td>3</td>\n",
       "      <td>3</td>\n",
       "      <td>4</td>\n",
       "      <td>4</td>\n",
       "      <td>3</td>\n",
       "    </tr>\n",
       "    <tr>\n",
       "      <th>assists</th>\n",
       "      <td>18</td>\n",
       "      <td>18</td>\n",
       "      <td>15</td>\n",
       "      <td>19</td>\n",
       "      <td>17</td>\n",
       "    </tr>\n",
       "    <tr>\n",
       "      <th>team</th>\n",
       "      <td>radiant</td>\n",
       "      <td>radiant</td>\n",
       "      <td>radiant</td>\n",
       "      <td>radiant</td>\n",
       "      <td>radiant</td>\n",
       "    </tr>\n",
       "  </tbody>\n",
       "</table>\n",
       "</div>"
      ],
      "text/plain": [
       "                   0        1        2        3        4\n",
       "match_id           0        0        0        0        0\n",
       "duration        2375     2375     2375     2375     2375\n",
       "gewinner     radiant  radiant  radiant  radiant  radiant\n",
       "hero_id           86       51       83       11       67\n",
       "player_slot        0        1        2        3        4\n",
       "gold            3261     2954      110     1179     3307\n",
       "gold_spent     10960    17760    12195    22505    23825\n",
       "kills              9       13        0        8       20\n",
       "deaths             3        3        4        4        3\n",
       "assists           18       18       15       19       17\n",
       "team         radiant  radiant  radiant  radiant  radiant"
      ]
     },
     "execution_count": 82,
     "metadata": {},
     "output_type": "execute_result"
    }
   ],
   "source": [
    "mat_1.head(5).transpose()"
   ]
  },
  {
   "cell_type": "code",
   "execution_count": 83,
   "metadata": {
    "collapsed": true,
    "slideshow": {
     "slide_type": "skip"
    }
   },
   "outputs": [],
   "source": [
    "mat_1[\"total_gold\"] =  mat_1[\"gold\"] + mat_1[\"gold_spent\"]\n"
   ]
  },
  {
   "cell_type": "code",
   "execution_count": 84,
   "metadata": {
    "collapsed": true,
    "slideshow": {
     "slide_type": "skip"
    }
   },
   "outputs": [],
   "source": [
    "series = mat_1.groupby([\"match_id\", \"team\"]).sum().total_gold"
   ]
  },
  {
   "cell_type": "code",
   "execution_count": 85,
   "metadata": {
    "collapsed": true,
    "slideshow": {
     "slide_type": "skip"
    }
   },
   "outputs": [],
   "source": [
    "series_total = mat_1.groupby([\"match_id\"]).sum().total_gold"
   ]
  },
  {
   "cell_type": "code",
   "execution_count": 86,
   "metadata": {
    "collapsed": true,
    "slideshow": {
     "slide_type": "skip"
    }
   },
   "outputs": [],
   "source": [
    "series_total = series_total.reset_index()\n",
    "series = series.reset_index()"
   ]
  },
  {
   "cell_type": "code",
   "execution_count": 87,
   "metadata": {
    "scrolled": true,
    "slideshow": {
     "slide_type": "skip"
    }
   },
   "outputs": [
    {
     "data": {
      "text/html": [
       "<div>\n",
       "<style>\n",
       "    .dataframe thead tr:only-child th {\n",
       "        text-align: right;\n",
       "    }\n",
       "\n",
       "    .dataframe thead th {\n",
       "        text-align: left;\n",
       "    }\n",
       "\n",
       "    .dataframe tbody tr th {\n",
       "        vertical-align: top;\n",
       "    }\n",
       "</style>\n",
       "<table border=\"1\" class=\"dataframe\">\n",
       "  <thead>\n",
       "    <tr style=\"text-align: right;\">\n",
       "      <th></th>\n",
       "      <th>match_id</th>\n",
       "      <th>total_gold</th>\n",
       "      <th>gewinner</th>\n",
       "    </tr>\n",
       "  </thead>\n",
       "  <tbody>\n",
       "    <tr>\n",
       "      <th>0</th>\n",
       "      <td>0</td>\n",
       "      <td>160394</td>\n",
       "      <td>radiant</td>\n",
       "    </tr>\n",
       "    <tr>\n",
       "      <th>1</th>\n",
       "      <td>1</td>\n",
       "      <td>190921</td>\n",
       "      <td>dire</td>\n",
       "    </tr>\n",
       "    <tr>\n",
       "      <th>2</th>\n",
       "      <td>2</td>\n",
       "      <td>150281</td>\n",
       "      <td>dire</td>\n",
       "    </tr>\n",
       "    <tr>\n",
       "      <th>3</th>\n",
       "      <td>3</td>\n",
       "      <td>183524</td>\n",
       "      <td>dire</td>\n",
       "    </tr>\n",
       "    <tr>\n",
       "      <th>4</th>\n",
       "      <td>4</td>\n",
       "      <td>134089</td>\n",
       "      <td>radiant</td>\n",
       "    </tr>\n",
       "  </tbody>\n",
       "</table>\n",
       "</div>"
      ],
      "text/plain": [
       "   match_id  total_gold gewinner\n",
       "0         0      160394  radiant\n",
       "1         1      190921     dire\n",
       "2         2      150281     dire\n",
       "3         3      183524     dire\n",
       "4         4      134089  radiant"
      ]
     },
     "execution_count": 87,
     "metadata": {},
     "output_type": "execute_result"
    }
   ],
   "source": [
    "series_total = series_total.merge(match[[\"match_id\", \"gewinner\"]], on=\"match_id\")\n",
    "series_total.head()"
   ]
  },
  {
   "cell_type": "code",
   "execution_count": 88,
   "metadata": {
    "collapsed": true,
    "slideshow": {
     "slide_type": "skip"
    }
   },
   "outputs": [],
   "source": [
    "series_total = series_total.merge(series.rename(columns=({\"total_gold\":\"teamgold\"})), on=\"match_id\")\n"
   ]
  },
  {
   "cell_type": "code",
   "execution_count": 89,
   "metadata": {
    "slideshow": {
     "slide_type": "skip"
    }
   },
   "outputs": [
    {
     "data": {
      "text/html": [
       "<div>\n",
       "<style>\n",
       "    .dataframe thead tr:only-child th {\n",
       "        text-align: right;\n",
       "    }\n",
       "\n",
       "    .dataframe thead th {\n",
       "        text-align: left;\n",
       "    }\n",
       "\n",
       "    .dataframe tbody tr th {\n",
       "        vertical-align: top;\n",
       "    }\n",
       "</style>\n",
       "<table border=\"1\" class=\"dataframe\">\n",
       "  <thead>\n",
       "    <tr style=\"text-align: right;\">\n",
       "      <th></th>\n",
       "      <th>match_id</th>\n",
       "      <th>total_gold</th>\n",
       "      <th>gewinner</th>\n",
       "      <th>team</th>\n",
       "      <th>teamgold</th>\n",
       "      <th>anteil</th>\n",
       "    </tr>\n",
       "  </thead>\n",
       "  <tbody>\n",
       "    <tr>\n",
       "      <th>0</th>\n",
       "      <td>0</td>\n",
       "      <td>160394</td>\n",
       "      <td>radiant</td>\n",
       "      <td>dire</td>\n",
       "      <td>62338</td>\n",
       "      <td>38.865544</td>\n",
       "    </tr>\n",
       "    <tr>\n",
       "      <th>1</th>\n",
       "      <td>0</td>\n",
       "      <td>160394</td>\n",
       "      <td>radiant</td>\n",
       "      <td>radiant</td>\n",
       "      <td>98056</td>\n",
       "      <td>61.134456</td>\n",
       "    </tr>\n",
       "    <tr>\n",
       "      <th>2</th>\n",
       "      <td>1</td>\n",
       "      <td>190921</td>\n",
       "      <td>dire</td>\n",
       "      <td>dire</td>\n",
       "      <td>116835</td>\n",
       "      <td>61.195468</td>\n",
       "    </tr>\n",
       "    <tr>\n",
       "      <th>3</th>\n",
       "      <td>1</td>\n",
       "      <td>190921</td>\n",
       "      <td>dire</td>\n",
       "      <td>radiant</td>\n",
       "      <td>74086</td>\n",
       "      <td>38.804532</td>\n",
       "    </tr>\n",
       "    <tr>\n",
       "      <th>4</th>\n",
       "      <td>2</td>\n",
       "      <td>150281</td>\n",
       "      <td>dire</td>\n",
       "      <td>dire</td>\n",
       "      <td>92797</td>\n",
       "      <td>61.748990</td>\n",
       "    </tr>\n",
       "  </tbody>\n",
       "</table>\n",
       "</div>"
      ],
      "text/plain": [
       "   match_id  total_gold gewinner     team  teamgold     anteil\n",
       "0         0      160394  radiant     dire     62338  38.865544\n",
       "1         0      160394  radiant  radiant     98056  61.134456\n",
       "2         1      190921     dire     dire    116835  61.195468\n",
       "3         1      190921     dire  radiant     74086  38.804532\n",
       "4         2      150281     dire     dire     92797  61.748990"
      ]
     },
     "execution_count": 89,
     "metadata": {},
     "output_type": "execute_result"
    }
   ],
   "source": [
    "series_total['anteil'] = series_total.teamgold/series_total.total_gold*100\n",
    "series_total.head()"
   ]
  },
  {
   "cell_type": "code",
   "execution_count": 90,
   "metadata": {
    "slideshow": {
     "slide_type": "skip"
    }
   },
   "outputs": [
    {
     "data": {
      "text/plain": [
       "(851, 6)"
      ]
     },
     "execution_count": 90,
     "metadata": {},
     "output_type": "execute_result"
    }
   ],
   "source": [
    "series_total[series_total.gewinner==series_total.team ][series_total.anteil<50].shape"
   ]
  },
  {
   "cell_type": "code",
   "execution_count": 91,
   "metadata": {
    "slideshow": {
     "slide_type": "skip"
    }
   },
   "outputs": [
    {
     "name": "stdout",
     "output_type": "stream",
     "text": [
      "40\n"
     ]
    }
   ],
   "source": [
    "lower = 40\n",
    "upper = 20\n",
    "perc = 1\n",
    "bins=[x for x in range(lower,100-upper,1)]\n",
    "print(len(bins))\n",
    "series_total['bereiche_anteil'] = pd.cut(\n",
    "    series_total.anteil,\n",
    "    bins=bins,\n",
    "    labels=bins[:-1])"
   ]
  },
  {
   "cell_type": "markdown",
   "metadata": {
    "slideshow": {
     "slide_type": "subslide"
    }
   },
   "source": [
    "#### Getrennte Bereiche zur Berechnung"
   ]
  },
  {
   "cell_type": "code",
   "execution_count": 92,
   "metadata": {
    "slideshow": {
     "slide_type": "fragment"
    }
   },
   "outputs": [
    {
     "data": {
      "text/html": [
       "<div>\n",
       "<style>\n",
       "    .dataframe thead tr:only-child th {\n",
       "        text-align: right;\n",
       "    }\n",
       "\n",
       "    .dataframe thead th {\n",
       "        text-align: left;\n",
       "    }\n",
       "\n",
       "    .dataframe tbody tr th {\n",
       "        vertical-align: top;\n",
       "    }\n",
       "</style>\n",
       "<table border=\"1\" class=\"dataframe\">\n",
       "  <thead>\n",
       "    <tr style=\"text-align: right;\">\n",
       "      <th></th>\n",
       "      <th>0</th>\n",
       "      <th>1</th>\n",
       "      <th>2</th>\n",
       "      <th>3</th>\n",
       "      <th>4</th>\n",
       "    </tr>\n",
       "  </thead>\n",
       "  <tbody>\n",
       "    <tr>\n",
       "      <th>match_id</th>\n",
       "      <td>0</td>\n",
       "      <td>0</td>\n",
       "      <td>1</td>\n",
       "      <td>1</td>\n",
       "      <td>2</td>\n",
       "    </tr>\n",
       "    <tr>\n",
       "      <th>total_gold</th>\n",
       "      <td>160394</td>\n",
       "      <td>160394</td>\n",
       "      <td>190921</td>\n",
       "      <td>190921</td>\n",
       "      <td>150281</td>\n",
       "    </tr>\n",
       "    <tr>\n",
       "      <th>gewinner</th>\n",
       "      <td>radiant</td>\n",
       "      <td>radiant</td>\n",
       "      <td>dire</td>\n",
       "      <td>dire</td>\n",
       "      <td>dire</td>\n",
       "    </tr>\n",
       "    <tr>\n",
       "      <th>team</th>\n",
       "      <td>dire</td>\n",
       "      <td>radiant</td>\n",
       "      <td>dire</td>\n",
       "      <td>radiant</td>\n",
       "      <td>dire</td>\n",
       "    </tr>\n",
       "    <tr>\n",
       "      <th>teamgold</th>\n",
       "      <td>62338</td>\n",
       "      <td>98056</td>\n",
       "      <td>116835</td>\n",
       "      <td>74086</td>\n",
       "      <td>92797</td>\n",
       "    </tr>\n",
       "    <tr>\n",
       "      <th>anteil</th>\n",
       "      <td>38.8655</td>\n",
       "      <td>61.1345</td>\n",
       "      <td>61.1955</td>\n",
       "      <td>38.8045</td>\n",
       "      <td>61.749</td>\n",
       "    </tr>\n",
       "    <tr>\n",
       "      <th>bereiche_anteil</th>\n",
       "      <td>NaN</td>\n",
       "      <td>61</td>\n",
       "      <td>61</td>\n",
       "      <td>NaN</td>\n",
       "      <td>61</td>\n",
       "    </tr>\n",
       "  </tbody>\n",
       "</table>\n",
       "</div>"
      ],
      "text/plain": [
       "                       0        1        2        3       4\n",
       "match_id               0        0        1        1       2\n",
       "total_gold        160394   160394   190921   190921  150281\n",
       "gewinner         radiant  radiant     dire     dire    dire\n",
       "team                dire  radiant     dire  radiant    dire\n",
       "teamgold           62338    98056   116835    74086   92797\n",
       "anteil           38.8655  61.1345  61.1955  38.8045  61.749\n",
       "bereiche_anteil      NaN       61       61      NaN      61"
      ]
     },
     "execution_count": 92,
     "metadata": {},
     "output_type": "execute_result"
    }
   ],
   "source": [
    "series_total.head(5).transpose()"
   ]
  },
  {
   "cell_type": "markdown",
   "metadata": {
    "slideshow": {
     "slide_type": "subslide"
    }
   },
   "source": [
    "#### Verteilung Goldanteile bei Spielende"
   ]
  },
  {
   "cell_type": "code",
   "execution_count": 93,
   "metadata": {
    "slideshow": {
     "slide_type": "fragment"
    }
   },
   "outputs": [
    {
     "data": {
      "image/png": "[encoded data removed]",
      "text/plain": [
       "<matplotlib.figure.Figure at 0x14177951748>"
      ]
     },
     "metadata": {},
     "output_type": "display_data"
    }
   ],
   "source": [
    "plt.figure(figsize=(20.69,8.27))\n",
    "sns.countplot(x='bereiche_anteil',data=series_total[series_total.gewinner == series_total.team]);"
   ]
  },
  {
   "cell_type": "code",
   "execution_count": 94,
   "metadata": {
    "collapsed": true,
    "slideshow": {
     "slide_type": "skip"
    }
   },
   "outputs": [],
   "source": [
    " x = (series_total \\\n",
    " .bereiche_anteil \\\n",
    " .value_counts()-series_total[series_total \\\n",
    " .gewinner != series_total.team] \\\n",
    " .bereiche_anteil \\\n",
    " .value_counts())/series_total \\\n",
    " .bereiche_anteil \\\n",
    " .value_counts()"
   ]
  },
  {
   "cell_type": "markdown",
   "metadata": {
    "slideshow": {
     "slide_type": "subslide"
    }
   },
   "source": [
    "#### Gewinnwahrscheinlichkeit abhängig vom Goldvorsprung"
   ]
  },
  {
   "cell_type": "code",
   "execution_count": 95,
   "metadata": {
    "scrolled": true,
    "slideshow": {
     "slide_type": "fragment"
    }
   },
   "outputs": [
    {
     "data": {
      "image/png": "[encoded data removed]",
      "text/plain": [
       "<matplotlib.figure.Figure at 0x141789aa3c8>"
      ]
     },
     "metadata": {},
     "output_type": "display_data"
    }
   ],
   "source": [
    "fig, ax = plt.subplots(figsize=(8,5.27))\n",
    "graph = x.head(20).reset_index().copy()\n",
    "graph = graph.rename(columns=({'index':'bereich'}))\n",
    "graph.shape\n",
    "sns.pointplot( x=graph.index , y=graph.bereiche_anteil, markers='', linestyles='-')\n",
    "ax.set_xticklabels(graph.bereich);"
   ]
  },
  {
   "cell_type": "code",
   "execution_count": 96,
   "metadata": {
    "slideshow": {
     "slide_type": "skip"
    }
   },
   "outputs": [
    {
     "data": {
      "text/plain": [
       "0    38.865544\n",
       "1    61.134456\n",
       "2    61.195468\n",
       "3    38.804532\n",
       "4    61.748990\n",
       "Name: anteil, dtype: float64"
      ]
     },
     "execution_count": 96,
     "metadata": {},
     "output_type": "execute_result"
    }
   ],
   "source": [
    "series_total.anteil.head()"
   ]
  },
  {
   "cell_type": "code",
   "execution_count": 97,
   "metadata": {
    "slideshow": {
     "slide_type": "skip"
    }
   },
   "outputs": [
    {
     "data": {
      "text/plain": [
       "LinregressResult(slope=-4.1436818451406479e-20, intercept=0.51885999999999999, rvalue=-9.5605326533158619e-19, pvalue=0.99999999999999978, stderr=0.00013705934639404965)"
      ]
     },
     "execution_count": 97,
     "metadata": {},
     "output_type": "execute_result"
    }
   ],
   "source": [
    "stats.linregress(series_total.anteil, series_total.gewinner.map(lambda x: 1 if x==\"radiant\" else 0 ))"
   ]
  }
 ],
 "metadata": {
  "celltoolbar": "Slideshow",
  "kernelspec": {
   "display_name": "Python 3",
   "language": "python",
   "name": "python3"
  },
  "language_info": {
   "codemirror_mode": {
    "name": "ipython",
    "version": 3
   },
   "file_extension": ".py",
   "mimetype": "text/x-python",
   "name": "python",
   "nbconvert_exporter": "python",
   "pygments_lexer": "ipython3",
   "version": "3.6.1"
  }
 },
 "nbformat": 4,
 "nbformat_minor": 2
}
