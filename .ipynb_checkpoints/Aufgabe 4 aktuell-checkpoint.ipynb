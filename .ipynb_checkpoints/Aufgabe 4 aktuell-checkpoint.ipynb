{
 "cells": [
  {
   "cell_type": "markdown",
   "metadata": {
    "collapsed": true
   },
   "source": [
    "## Aufgabe 4\n",
    "## Import von Bibliotheken"
   ]
  },
  {
   "cell_type": "code",
   "execution_count": 1,
   "metadata": {
    "collapsed": true
   },
   "outputs": [],
   "source": [
    "import numpy as np\n",
    "import pandas as pd\n",
    "import seaborn as sns\n",
    "import statsmodels.formula.api as sm\n",
    "\n",
    "%matplotlib inline\n",
    "import matplotlib.pyplot as plt\n",
    "sns.set(context=\"paper\", font=\"monospace\")"
   ]
  },
  {
   "cell_type": "markdown",
   "metadata": {},
   "source": [
    "## Einlesen der Dateien"
   ]
  },
  {
   "cell_type": "code",
   "execution_count": 2,
   "metadata": {
    "collapsed": true
   },
   "outputs": [],
   "source": [
    "df_player = pd.read_csv('data/players.csv', memory_map=True)\n",
    "df_match = pd.read_csv('data/match.csv' ,memory_map=True, nrows=50000)\n",
    "df_match_500 = pd.read_csv('data/match.csv' ,memory_map=True, nrows=500)\n",
    "df_hero_names = pd.read_csv('data/hero_names.csv', memory_map=True  )\n",
    "# df_chat = pd.read_csv('data/dota-2-matches/chat.csv', memory_map=True)"
   ]
  },
  {
   "cell_type": "markdown",
   "metadata": {},
   "source": [
    "## Entfernen nichtbenötigter Daten"
   ]
  },
  {
   "cell_type": "code",
   "execution_count": 3,
   "metadata": {
    "collapsed": true
   },
   "outputs": [],
   "source": [
    "df_player.drop([\n",
    "    'account_id',\n",
    "    'gold_per_min',\n",
    "    'xp_per_min',\n",
    "    'denies',\n",
    "    'last_hits',\n",
    "    'stuns',\n",
    "    'hero_damage',\n",
    "    'hero_healing',\n",
    "    'tower_damage',\n",
    "    'item_0',\n",
    "    'item_1',\n",
    "    'item_2',\n",
    "    'item_3',\n",
    "    'item_4',\n",
    "    'item_5',\n",
    "    'level',\n",
    "    'leaver_status',\n",
    "    'xp_hero',\n",
    "    'xp_creep',\n",
    "    'xp_roshan',\n",
    "    'xp_other',\n",
    "    'gold_other',\n",
    "    'gold_death',\n",
    "    'gold_buyback',\n",
    "    'gold_abandon',\n",
    "    'gold_sell',\n",
    "    'gold_destroying_structure',\n",
    "    'gold_killing_heros',\n",
    "    'gold_killing_creeps',\n",
    "    'gold_killing_roshan',\n",
    "    'gold_killing_couriers',\n",
    "    'unit_order_none',\n",
    "    'unit_order_move_to_position',\n",
    "    'unit_order_move_to_target',\n",
    "    'unit_order_attack_move',\n",
    "    'unit_order_attack_target',\n",
    "    'unit_order_cast_position',\n",
    "    'unit_order_cast_target',\n",
    "    'unit_order_cast_target_tree',\n",
    "    'unit_order_cast_no_target',\n",
    "    'unit_order_cast_toggle',\n",
    "    'unit_order_hold_position',\n",
    "    'unit_order_train_ability',\n",
    "    'unit_order_drop_item',\n",
    "    'unit_order_give_item',\n",
    "    'unit_order_pickup_item',\n",
    "    'unit_order_pickup_rune',\n",
    "    'unit_order_purchase_item',\n",
    "    'unit_order_sell_item',\n",
    "    'unit_order_disassemble_item',\n",
    "    'unit_order_move_item',\n",
    "    'unit_order_cast_toggle_auto',\n",
    "    'unit_order_stop',\n",
    "    'unit_order_taunt',\n",
    "    'unit_order_buyback',\n",
    "    'unit_order_glyph',\n",
    "    'unit_order_eject_item_from_stash',\n",
    "    'unit_order_cast_rune',\n",
    "    'unit_order_ping_ability',\n",
    "    'unit_order_move_to_direction',\n",
    "    'unit_order_patrol',\n",
    "    'unit_order_vector_target_position',\n",
    "    'unit_order_radar',\n",
    "    'unit_order_set_item_combine_lock',\n",
    "    'unit_order_continue'], axis=1, inplace=True)\n",
    "\n",
    "\n"
   ]
  },
  {
   "cell_type": "code",
   "execution_count": 4,
   "metadata": {
    "collapsed": true
   },
   "outputs": [],
   "source": [
    "df_match.drop([\n",
    "    'start_time',\n",
    "    'tower_status_radiant',\n",
    "    'tower_status_dire',\n",
    "    'barracks_status_radiant',\n",
    "    'barracks_status_dire',\n",
    "    'first_blood_time',\n",
    "    'game_mode',\n",
    "    'negative_votes',\n",
    "    'positive_votes',\n",
    "    'cluster'],\n",
    "    axis=1,\n",
    "    inplace=True)"
   ]
  },
  {
   "cell_type": "code",
   "execution_count": null,
   "metadata": {
    "collapsed": false
   },
   "outputs": [],
   "source": []
  },
  {
   "cell_type": "code",
   "execution_count": null,
   "metadata": {
    "collapsed": false
   },
   "outputs": [],
   "source": []
  },
  {
   "cell_type": "markdown",
   "metadata": {},
   "source": [
    "## Überprüfen auf fehlenden Werte"
   ]
  },
  {
   "cell_type": "code",
   "execution_count": 5,
   "metadata": {
    "collapsed": false
   },
   "outputs": [
    {
     "name": "stdout",
     "output_type": "stream",
     "text": [
      "Na Werte \tmatch_id       0\n",
      "duration       0\n",
      "radiant_win    0\n",
      "dtype: int64\n"
     ]
    }
   ],
   "source": [
    "\n",
    "print (\"Na Werte \\t\" +  str(df_match.isnull().sum()))\n"
   ]
  },
  {
   "cell_type": "code",
   "execution_count": 6,
   "metadata": {
    "collapsed": false
   },
   "outputs": [
    {
     "name": "stdout",
     "output_type": "stream",
     "text": [
      "Na Werte \tmatch_id       0\n",
      "hero_id        0\n",
      "player_slot    0\n",
      "gold           0\n",
      "gold_spent     0\n",
      "kills          0\n",
      "deaths         0\n",
      "assists        0\n",
      "dtype: int64\n",
      "\n",
      "\n",
      "Die NA Werte sind nicht zu bereinigen, mit ihnen muss umgegangen werden.\n"
     ]
    }
   ],
   "source": [
    "print (\"Na Werte \\t\" +  str(df_player.isnull().sum()))\n",
    "print(\"\\n\\nDie NA Werte sind nicht zu bereinigen, mit ihnen muss umgegangen werden.\")"
   ]
  },
  {
   "cell_type": "code",
   "execution_count": 7,
   "metadata": {
    "collapsed": false
   },
   "outputs": [
    {
     "name": "stdout",
     "output_type": "stream",
     "text": [
      "Na Werte \tname              0\n",
      "hero_id           0\n",
      "localized_name    0\n",
      "dtype: int64\n"
     ]
    }
   ],
   "source": [
    "print (\"Na Werte \\t\" +  str(df_hero_names.isnull().sum()))"
   ]
  },
  {
   "cell_type": "markdown",
   "metadata": {},
   "source": [
    "## Überprüfung auf Ausreiser"
   ]
  },
  {
   "cell_type": "code",
   "execution_count": 8,
   "metadata": {
    "collapsed": false
   },
   "outputs": [
    {
     "data": {
      "image/png": "[encoded data removed]",
      "text/plain": [
       "<matplotlib.figure.Figure at 0x1b90b61dc88>"
      ]
     },
     "metadata": {},
     "output_type": "display_data"
    }
   ],
   "source": [
    "# alle Spalten von df_player\n",
    "cols = df_player.select_dtypes(include=[np.number]).columns\n",
    "fig, axes = plt.subplots(nrows=len(cols), ncols=1, figsize=(5, 15))\n",
    "\n",
    "for i in range(len(cols)):\n",
    "    sns.boxplot(x=cols[i], orient='h', data=df_player, ax=axes[i])\n",
    "\n",
    "fig.tight_layout()\n",
    "\n",
    "plt.show()"
   ]
  },
  {
   "cell_type": "code",
   "execution_count": 11,
   "metadata": {
    "collapsed": false
   },
   "outputs": [
    {
     "data": {
      "image/png": "[encoded data removed]",
      "text/plain": [
       "<matplotlib.figure.Figure at 0x1b91dd74898>"
      ]
     },
     "metadata": {},
     "output_type": "display_data"
    }
   ],
   "source": [
    "# einzelne Spalten von df_player bzw alle spalten von col_players in boxplot anzeigen\n",
    "cols = df_player.select_dtypes(include=[np.number]).columns\n",
    "fig, axes = plt.subplots(nrows=len(cols), ncols=1, figsize=(5, 15))\n",
    "\n",
    "for i in range(len(cols)):\n",
    "    sns.boxplot(x=cols[i], orient='h', data=df_player, ax=axes[i])\n",
    "\n",
    "fig.tight_layout()\n",
    "\n",
    "plt.show()"
   ]
  },
  {
   "cell_type": "code",
   "execution_count": 14,
   "metadata": {
    "collapsed": false
   },
   "outputs": [
    {
     "data": {
      "image/png": "[encoded data removed]",
      "text/plain": [
       "<matplotlib.figure.Figure at 0x1b91464c5f8>"
      ]
     },
     "metadata": {},
     "output_type": "display_data"
    }
   ],
   "source": [
    "# Ausreiser mit Hilfe von Boxplots in df_match visualisieren\n",
    "cols = df_match.select_dtypes(include=[np.number]).columns\n",
    "fig, axes = plt.subplots(nrows=len(cols), ncols=1, figsize=(5, 15))\n",
    "\n",
    "for i in range(len(cols)):\n",
    "    sns.boxplot(x=cols[i], orient='h', data=df_match, ax=axes[i])\n",
    "\n",
    "fig.tight_layout()\n",
    "\n",
    "plt.show()"
   ]
  },
  {
   "cell_type": "markdown",
   "metadata": {},
   "source": [
    "## Gibt es Helden die erfolgreicher sind als andere?"
   ]
  },
  {
   "cell_type": "code",
   "execution_count": 15,
   "metadata": {
    "collapsed": false
   },
   "outputs": [
    {
     "data": {
      "text/plain": [
       "match_id       int64\n",
       "duration       int64\n",
       "radiant_win     bool\n",
       "dtype: object"
      ]
     },
     "execution_count": 15,
     "metadata": {},
     "output_type": "execute_result"
    }
   ],
   "source": [
    "# Datentypen der Spalten von df_match\n",
    "# hier kann man erkennen, dass die Spalte radiant_win einen boolischen Wert hat\n",
    "df_match.dtypes"
   ]
  },
  {
   "cell_type": "code",
   "execution_count": 16,
   "metadata": {
    "collapsed": false
   },
   "outputs": [
    {
     "data": {
      "text/plain": [
       "(50000, 3)"
      ]
     },
     "execution_count": 16,
     "metadata": {},
     "output_type": "execute_result"
    }
   ],
   "source": [
    "# Anzahl Zeilen und Spalten von df_match\n",
    "df_match.shape"
   ]
  },
  {
   "cell_type": "code",
   "execution_count": 17,
   "metadata": {
    "collapsed": false
   },
   "outputs": [
    {
     "data": {
      "text/plain": [
       "(500000, 8)"
      ]
     },
     "execution_count": 17,
     "metadata": {},
     "output_type": "execute_result"
    }
   ],
   "source": [
    "# Anzahl Zeilen und Spalten von df_player\n",
    "df_player.shape"
   ]
  },
  {
   "cell_type": "code",
   "execution_count": 18,
   "metadata": {
    "collapsed": false
   },
   "outputs": [],
   "source": [
    "# Aus boolischen Werten Spalte \"radiant_win\" in int umwandeln\n",
    "df_match[\"radiant_win\"] = df_match.radiant_win.astype(int)"
   ]
  },
  {
   "cell_type": "code",
   "execution_count": 19,
   "metadata": {
    "collapsed": false
   },
   "outputs": [
    {
     "data": {
      "text/plain": [
       "0    1\n",
       "1    0\n",
       "2    0\n",
       "3    0\n",
       "4    1\n",
       "Name: radiant_win, dtype: int32"
      ]
     },
     "execution_count": 19,
     "metadata": {},
     "output_type": "execute_result"
    }
   ],
   "source": [
    "df_match[\"radiant_win\"].head()"
   ]
  },
  {
   "cell_type": "code",
   "execution_count": 20,
   "metadata": {
    "collapsed": false
   },
   "outputs": [
    {
     "data": {
      "text/html": [
       "<div>\n",
       "<table border=\"1\" class=\"dataframe\">\n",
       "  <thead>\n",
       "    <tr style=\"text-align: right;\">\n",
       "      <th></th>\n",
       "      <th>match_id</th>\n",
       "      <th>duration_x</th>\n",
       "      <th>radiant_win_x</th>\n",
       "      <th>duration_y</th>\n",
       "      <th>radiant_win_y</th>\n",
       "      <th>hero_id</th>\n",
       "      <th>player_slot</th>\n",
       "      <th>gold</th>\n",
       "      <th>gold_spent</th>\n",
       "      <th>kills</th>\n",
       "      <th>deaths</th>\n",
       "      <th>assists</th>\n",
       "    </tr>\n",
       "  </thead>\n",
       "  <tbody>\n",
       "    <tr>\n",
       "      <th>0</th>\n",
       "      <td>0</td>\n",
       "      <td>2375</td>\n",
       "      <td>1</td>\n",
       "      <td>2375</td>\n",
       "      <td>1</td>\n",
       "      <td>86</td>\n",
       "      <td>0</td>\n",
       "      <td>3261</td>\n",
       "      <td>10960</td>\n",
       "      <td>9</td>\n",
       "      <td>3</td>\n",
       "      <td>18</td>\n",
       "    </tr>\n",
       "    <tr>\n",
       "      <th>1</th>\n",
       "      <td>0</td>\n",
       "      <td>2375</td>\n",
       "      <td>1</td>\n",
       "      <td>2375</td>\n",
       "      <td>1</td>\n",
       "      <td>51</td>\n",
       "      <td>1</td>\n",
       "      <td>2954</td>\n",
       "      <td>17760</td>\n",
       "      <td>13</td>\n",
       "      <td>3</td>\n",
       "      <td>18</td>\n",
       "    </tr>\n",
       "    <tr>\n",
       "      <th>2</th>\n",
       "      <td>0</td>\n",
       "      <td>2375</td>\n",
       "      <td>1</td>\n",
       "      <td>2375</td>\n",
       "      <td>1</td>\n",
       "      <td>83</td>\n",
       "      <td>2</td>\n",
       "      <td>110</td>\n",
       "      <td>12195</td>\n",
       "      <td>0</td>\n",
       "      <td>4</td>\n",
       "      <td>15</td>\n",
       "    </tr>\n",
       "    <tr>\n",
       "      <th>3</th>\n",
       "      <td>0</td>\n",
       "      <td>2375</td>\n",
       "      <td>1</td>\n",
       "      <td>2375</td>\n",
       "      <td>1</td>\n",
       "      <td>11</td>\n",
       "      <td>3</td>\n",
       "      <td>1179</td>\n",
       "      <td>22505</td>\n",
       "      <td>8</td>\n",
       "      <td>4</td>\n",
       "      <td>19</td>\n",
       "    </tr>\n",
       "    <tr>\n",
       "      <th>4</th>\n",
       "      <td>0</td>\n",
       "      <td>2375</td>\n",
       "      <td>1</td>\n",
       "      <td>2375</td>\n",
       "      <td>1</td>\n",
       "      <td>67</td>\n",
       "      <td>4</td>\n",
       "      <td>3307</td>\n",
       "      <td>23825</td>\n",
       "      <td>20</td>\n",
       "      <td>3</td>\n",
       "      <td>17</td>\n",
       "    </tr>\n",
       "  </tbody>\n",
       "</table>\n",
       "</div>"
      ],
      "text/plain": [
       "   match_id  duration_x  radiant_win_x  duration_y  radiant_win_y  hero_id  \\\n",
       "0         0        2375              1        2375              1       86   \n",
       "1         0        2375              1        2375              1       51   \n",
       "2         0        2375              1        2375              1       83   \n",
       "3         0        2375              1        2375              1       11   \n",
       "4         0        2375              1        2375              1       67   \n",
       "\n",
       "   player_slot  gold  gold_spent  kills  deaths  assists  \n",
       "0            0  3261       10960      9       3       18  \n",
       "1            1  2954       17760     13       3       18  \n",
       "2            2   110       12195      0       4       15  \n",
       "3            3  1179       22505      8       4       19  \n",
       "4            4  3307       23825     20       3       17  "
      ]
     },
     "execution_count": 20,
     "metadata": {},
     "output_type": "execute_result"
    }
   ],
   "source": [
    "# beide Datensätze verbinduen mit Hilfe von match_id und Betrahtung nur von Teammitglieder mit player_slot 0-4\n",
    "mat = df_match.merge(df_match,on='match_id').merge(df_player[df_player[\"player_slot\"]<6],on='match_id')\n",
    "mat.head()"
   ]
  },
  {
   "cell_type": "code",
   "execution_count": 21,
   "metadata": {
    "collapsed": false
   },
   "outputs": [
    {
     "data": {
      "text/plain": [
       "(250000, 12)"
      ]
     },
     "execution_count": 21,
     "metadata": {},
     "output_type": "execute_result"
    }
   ],
   "source": [
    "# warum mat mehr Spalten hat als beide verbundene Datensätze\n",
    "mat.shape"
   ]
  },
  {
   "cell_type": "code",
   "execution_count": 22,
   "metadata": {
    "collapsed": false,
    "scrolled": true
   },
   "outputs": [
    {
     "data": {
      "text/html": [
       "<div>\n",
       "<table border=\"1\" class=\"dataframe\">\n",
       "  <thead>\n",
       "    <tr style=\"text-align: right;\">\n",
       "      <th></th>\n",
       "      <th>winrate</th>\n",
       "      <th>hero_id</th>\n",
       "    </tr>\n",
       "  </thead>\n",
       "  <tbody>\n",
       "    <tr>\n",
       "      <th>0</th>\n",
       "      <td>0.136364</td>\n",
       "      <td>1</td>\n",
       "    </tr>\n",
       "    <tr>\n",
       "      <th>1</th>\n",
       "      <td>0.484149</td>\n",
       "      <td>2</td>\n",
       "    </tr>\n",
       "    <tr>\n",
       "      <th>2</th>\n",
       "      <td>0.454823</td>\n",
       "      <td>3</td>\n",
       "    </tr>\n",
       "    <tr>\n",
       "      <th>3</th>\n",
       "      <td>0.487500</td>\n",
       "      <td>4</td>\n",
       "    </tr>\n",
       "    <tr>\n",
       "      <th>4</th>\n",
       "      <td>0.469646</td>\n",
       "      <td>5</td>\n",
       "    </tr>\n",
       "    <tr>\n",
       "      <th>5</th>\n",
       "      <td>0.562169</td>\n",
       "      <td>6</td>\n",
       "    </tr>\n",
       "    <tr>\n",
       "      <th>6</th>\n",
       "      <td>0.518660</td>\n",
       "      <td>7</td>\n",
       "    </tr>\n",
       "    <tr>\n",
       "      <th>7</th>\n",
       "      <td>0.521411</td>\n",
       "      <td>8</td>\n",
       "    </tr>\n",
       "    <tr>\n",
       "      <th>8</th>\n",
       "      <td>0.524041</td>\n",
       "      <td>9</td>\n",
       "    </tr>\n",
       "    <tr>\n",
       "      <th>9</th>\n",
       "      <td>0.539709</td>\n",
       "      <td>10</td>\n",
       "    </tr>\n",
       "    <tr>\n",
       "      <th>10</th>\n",
       "      <td>0.446667</td>\n",
       "      <td>11</td>\n",
       "    </tr>\n",
       "    <tr>\n",
       "      <th>11</th>\n",
       "      <td>0.531194</td>\n",
       "      <td>12</td>\n",
       "    </tr>\n",
       "    <tr>\n",
       "      <th>12</th>\n",
       "      <td>0.471668</td>\n",
       "      <td>13</td>\n",
       "    </tr>\n",
       "    <tr>\n",
       "      <th>13</th>\n",
       "      <td>0.435838</td>\n",
       "      <td>14</td>\n",
       "    </tr>\n",
       "    <tr>\n",
       "      <th>14</th>\n",
       "      <td>0.514019</td>\n",
       "      <td>15</td>\n",
       "    </tr>\n",
       "    <tr>\n",
       "      <th>15</th>\n",
       "      <td>0.506250</td>\n",
       "      <td>16</td>\n",
       "    </tr>\n",
       "    <tr>\n",
       "      <th>16</th>\n",
       "      <td>0.489172</td>\n",
       "      <td>17</td>\n",
       "    </tr>\n",
       "    <tr>\n",
       "      <th>17</th>\n",
       "      <td>0.428571</td>\n",
       "      <td>18</td>\n",
       "    </tr>\n",
       "    <tr>\n",
       "      <th>18</th>\n",
       "      <td>0.535632</td>\n",
       "      <td>19</td>\n",
       "    </tr>\n",
       "    <tr>\n",
       "      <th>19</th>\n",
       "      <td>0.503440</td>\n",
       "      <td>20</td>\n",
       "    </tr>\n",
       "    <tr>\n",
       "      <th>20</th>\n",
       "      <td>0.542603</td>\n",
       "      <td>21</td>\n",
       "    </tr>\n",
       "    <tr>\n",
       "      <th>21</th>\n",
       "      <td>0.500581</td>\n",
       "      <td>22</td>\n",
       "    </tr>\n",
       "    <tr>\n",
       "      <th>22</th>\n",
       "      <td>0.581858</td>\n",
       "      <td>23</td>\n",
       "    </tr>\n",
       "    <tr>\n",
       "      <th>23</th>\n",
       "      <td>0.487023</td>\n",
       "      <td>24</td>\n",
       "    </tr>\n",
       "    <tr>\n",
       "      <th>24</th>\n",
       "      <td>NaN</td>\n",
       "      <td>25</td>\n",
       "    </tr>\n",
       "    <tr>\n",
       "      <th>25</th>\n",
       "      <td>0.451009</td>\n",
       "      <td>26</td>\n",
       "    </tr>\n",
       "    <tr>\n",
       "      <th>26</th>\n",
       "      <td>0.492295</td>\n",
       "      <td>27</td>\n",
       "    </tr>\n",
       "    <tr>\n",
       "      <th>27</th>\n",
       "      <td>0.561659</td>\n",
       "      <td>28</td>\n",
       "    </tr>\n",
       "    <tr>\n",
       "      <th>28</th>\n",
       "      <td>0.576860</td>\n",
       "      <td>29</td>\n",
       "    </tr>\n",
       "    <tr>\n",
       "      <th>29</th>\n",
       "      <td>0.498328</td>\n",
       "      <td>30</td>\n",
       "    </tr>\n",
       "    <tr>\n",
       "      <th>...</th>\n",
       "      <td>...</td>\n",
       "      <td>...</td>\n",
       "    </tr>\n",
       "    <tr>\n",
       "      <th>83</th>\n",
       "      <td>0.532131</td>\n",
       "      <td>84</td>\n",
       "    </tr>\n",
       "    <tr>\n",
       "      <th>84</th>\n",
       "      <td>0.541724</td>\n",
       "      <td>85</td>\n",
       "    </tr>\n",
       "    <tr>\n",
       "      <th>85</th>\n",
       "      <td>0.592802</td>\n",
       "      <td>86</td>\n",
       "    </tr>\n",
       "    <tr>\n",
       "      <th>86</th>\n",
       "      <td>0.472772</td>\n",
       "      <td>87</td>\n",
       "    </tr>\n",
       "    <tr>\n",
       "      <th>87</th>\n",
       "      <td>0.539260</td>\n",
       "      <td>88</td>\n",
       "    </tr>\n",
       "    <tr>\n",
       "      <th>88</th>\n",
       "      <td>0.502203</td>\n",
       "      <td>89</td>\n",
       "    </tr>\n",
       "    <tr>\n",
       "      <th>89</th>\n",
       "      <td>0.463265</td>\n",
       "      <td>90</td>\n",
       "    </tr>\n",
       "    <tr>\n",
       "      <th>90</th>\n",
       "      <td>0.470968</td>\n",
       "      <td>91</td>\n",
       "    </tr>\n",
       "    <tr>\n",
       "      <th>91</th>\n",
       "      <td>0.474390</td>\n",
       "      <td>92</td>\n",
       "    </tr>\n",
       "    <tr>\n",
       "      <th>92</th>\n",
       "      <td>0.520343</td>\n",
       "      <td>93</td>\n",
       "    </tr>\n",
       "    <tr>\n",
       "      <th>93</th>\n",
       "      <td>0.497965</td>\n",
       "      <td>94</td>\n",
       "    </tr>\n",
       "    <tr>\n",
       "      <th>94</th>\n",
       "      <td>0.540928</td>\n",
       "      <td>95</td>\n",
       "    </tr>\n",
       "    <tr>\n",
       "      <th>95</th>\n",
       "      <td>0.500000</td>\n",
       "      <td>96</td>\n",
       "    </tr>\n",
       "    <tr>\n",
       "      <th>96</th>\n",
       "      <td>0.537797</td>\n",
       "      <td>97</td>\n",
       "    </tr>\n",
       "    <tr>\n",
       "      <th>97</th>\n",
       "      <td>0.470041</td>\n",
       "      <td>98</td>\n",
       "    </tr>\n",
       "    <tr>\n",
       "      <th>98</th>\n",
       "      <td>0.472889</td>\n",
       "      <td>99</td>\n",
       "    </tr>\n",
       "    <tr>\n",
       "      <th>99</th>\n",
       "      <td>0.485469</td>\n",
       "      <td>100</td>\n",
       "    </tr>\n",
       "    <tr>\n",
       "      <th>100</th>\n",
       "      <td>0.535433</td>\n",
       "      <td>101</td>\n",
       "    </tr>\n",
       "    <tr>\n",
       "      <th>101</th>\n",
       "      <td>0.453104</td>\n",
       "      <td>102</td>\n",
       "    </tr>\n",
       "    <tr>\n",
       "      <th>102</th>\n",
       "      <td>0.599644</td>\n",
       "      <td>103</td>\n",
       "    </tr>\n",
       "    <tr>\n",
       "      <th>103</th>\n",
       "      <td>0.507282</td>\n",
       "      <td>104</td>\n",
       "    </tr>\n",
       "    <tr>\n",
       "      <th>104</th>\n",
       "      <td>0.506303</td>\n",
       "      <td>105</td>\n",
       "    </tr>\n",
       "    <tr>\n",
       "      <th>105</th>\n",
       "      <td>0.467337</td>\n",
       "      <td>106</td>\n",
       "    </tr>\n",
       "    <tr>\n",
       "      <th>106</th>\n",
       "      <td>0.505670</td>\n",
       "      <td>107</td>\n",
       "    </tr>\n",
       "    <tr>\n",
       "      <th>107</th>\n",
       "      <td>0.528234</td>\n",
       "      <td>108</td>\n",
       "    </tr>\n",
       "    <tr>\n",
       "      <th>108</th>\n",
       "      <td>NaN</td>\n",
       "      <td>109</td>\n",
       "    </tr>\n",
       "    <tr>\n",
       "      <th>109</th>\n",
       "      <td>0.536388</td>\n",
       "      <td>110</td>\n",
       "    </tr>\n",
       "    <tr>\n",
       "      <th>110</th>\n",
       "      <td>0.536697</td>\n",
       "      <td>111</td>\n",
       "    </tr>\n",
       "    <tr>\n",
       "      <th>111</th>\n",
       "      <td>0.498008</td>\n",
       "      <td>112</td>\n",
       "    </tr>\n",
       "    <tr>\n",
       "      <th>112</th>\n",
       "      <td>0.530549</td>\n",
       "      <td>113</td>\n",
       "    </tr>\n",
       "  </tbody>\n",
       "</table>\n",
       "<p>113 rows × 2 columns</p>\n",
       "</div>"
      ],
      "text/plain": [
       "      winrate  hero_id\n",
       "0    0.136364        1\n",
       "1    0.484149        2\n",
       "2    0.454823        3\n",
       "3    0.487500        4\n",
       "4    0.469646        5\n",
       "5    0.562169        6\n",
       "6    0.518660        7\n",
       "7    0.521411        8\n",
       "8    0.524041        9\n",
       "9    0.539709       10\n",
       "10   0.446667       11\n",
       "11   0.531194       12\n",
       "12   0.471668       13\n",
       "13   0.435838       14\n",
       "14   0.514019       15\n",
       "15   0.506250       16\n",
       "16   0.489172       17\n",
       "17   0.428571       18\n",
       "18   0.535632       19\n",
       "19   0.503440       20\n",
       "20   0.542603       21\n",
       "21   0.500581       22\n",
       "22   0.581858       23\n",
       "23   0.487023       24\n",
       "24        NaN       25\n",
       "25   0.451009       26\n",
       "26   0.492295       27\n",
       "27   0.561659       28\n",
       "28   0.576860       29\n",
       "29   0.498328       30\n",
       "..        ...      ...\n",
       "83   0.532131       84\n",
       "84   0.541724       85\n",
       "85   0.592802       86\n",
       "86   0.472772       87\n",
       "87   0.539260       88\n",
       "88   0.502203       89\n",
       "89   0.463265       90\n",
       "90   0.470968       91\n",
       "91   0.474390       92\n",
       "92   0.520343       93\n",
       "93   0.497965       94\n",
       "94   0.540928       95\n",
       "95   0.500000       96\n",
       "96   0.537797       97\n",
       "97   0.470041       98\n",
       "98   0.472889       99\n",
       "99   0.485469      100\n",
       "100  0.535433      101\n",
       "101  0.453104      102\n",
       "102  0.599644      103\n",
       "103  0.507282      104\n",
       "104  0.506303      105\n",
       "105  0.467337      106\n",
       "106  0.505670      107\n",
       "107  0.528234      108\n",
       "108       NaN      109\n",
       "109  0.536388      110\n",
       "110  0.536697      111\n",
       "111  0.498008      112\n",
       "112  0.530549      113\n",
       "\n",
       "[113 rows x 2 columns]"
      ]
     },
     "execution_count": 22,
     "metadata": {},
     "output_type": "execute_result"
    }
   ],
   "source": [
    "# mat.groupby('hero_id').mean()['radiant_win_x']\n",
    "df_gb_heroID = pd.DataFrame(mat.groupby('hero_id').mean()['radiant_win_x'], index=np.arange(113))\n",
    "df_gb_heroID.columns =[\"winrate\"]\n",
    "df_gb_heroID[\"hero_id\"] = np.arange(1,114)\n",
    "df_gb_heroID"
   ]
  },
  {
   "cell_type": "code",
   "execution_count": 85,
   "metadata": {
    "collapsed": false
   },
   "outputs": [
    {
     "data": {
      "text/html": [
       "<div>\n",
       "<table border=\"1\" class=\"dataframe\">\n",
       "  <thead>\n",
       "    <tr style=\"text-align: right;\">\n",
       "      <th></th>\n",
       "      <th>total_plays</th>\n",
       "      <th>name</th>\n",
       "      <th>hero_id</th>\n",
       "      <th>localized_name</th>\n",
       "      <th>winrate_x</th>\n",
       "      <th>winrate_kurz</th>\n",
       "      <th>winrate_mittel</th>\n",
       "      <th>winrate_lang</th>\n",
       "      <th>winrate_y</th>\n",
       "    </tr>\n",
       "  </thead>\n",
       "  <tbody>\n",
       "    <tr>\n",
       "      <th>0</th>\n",
       "      <td>2291.0</td>\n",
       "      <td>npc_dota_hero_bane</td>\n",
       "      <td>3.0</td>\n",
       "      <td>Bane</td>\n",
       "      <td>0.454823</td>\n",
       "      <td>0.518750</td>\n",
       "      <td>0.418033</td>\n",
       "      <td>0.464037</td>\n",
       "      <td>0.454823</td>\n",
       "    </tr>\n",
       "    <tr>\n",
       "      <th>1</th>\n",
       "      <td>1280.0</td>\n",
       "      <td>npc_dota_hero_bloodseeker</td>\n",
       "      <td>4.0</td>\n",
       "      <td>Bloodseeker</td>\n",
       "      <td>0.487500</td>\n",
       "      <td>0.576441</td>\n",
       "      <td>0.453100</td>\n",
       "      <td>0.432540</td>\n",
       "      <td>0.487500</td>\n",
       "    </tr>\n",
       "    <tr>\n",
       "      <th>2</th>\n",
       "      <td>1499.0</td>\n",
       "      <td>npc_dota_hero_crystal_maiden</td>\n",
       "      <td>5.0</td>\n",
       "      <td>Crystal Maiden</td>\n",
       "      <td>0.469646</td>\n",
       "      <td>0.510526</td>\n",
       "      <td>0.436943</td>\n",
       "      <td>0.500000</td>\n",
       "      <td>0.469646</td>\n",
       "    </tr>\n",
       "    <tr>\n",
       "      <th>3</th>\n",
       "      <td>3965.0</td>\n",
       "      <td>npc_dota_hero_drow_ranger</td>\n",
       "      <td>6.0</td>\n",
       "      <td>Drow Ranger</td>\n",
       "      <td>0.562169</td>\n",
       "      <td>0.649459</td>\n",
       "      <td>0.537475</td>\n",
       "      <td>0.487772</td>\n",
       "      <td>0.562169</td>\n",
       "    </tr>\n",
       "    <tr>\n",
       "      <th>4</th>\n",
       "      <td>1313.0</td>\n",
       "      <td>npc_dota_hero_earthshaker</td>\n",
       "      <td>7.0</td>\n",
       "      <td>Earthshaker</td>\n",
       "      <td>0.518660</td>\n",
       "      <td>0.638095</td>\n",
       "      <td>0.462481</td>\n",
       "      <td>0.462500</td>\n",
       "      <td>0.518660</td>\n",
       "    </tr>\n",
       "  </tbody>\n",
       "</table>\n",
       "</div>"
      ],
      "text/plain": [
       "   total_plays                          name  hero_id  localized_name  \\\n",
       "0       2291.0            npc_dota_hero_bane      3.0            Bane   \n",
       "1       1280.0     npc_dota_hero_bloodseeker      4.0     Bloodseeker   \n",
       "2       1499.0  npc_dota_hero_crystal_maiden      5.0  Crystal Maiden   \n",
       "3       3965.0     npc_dota_hero_drow_ranger      6.0     Drow Ranger   \n",
       "4       1313.0     npc_dota_hero_earthshaker      7.0     Earthshaker   \n",
       "\n",
       "   winrate_x  winrate_kurz  winrate_mittel  winrate_lang  winrate_y  \n",
       "0   0.454823      0.518750        0.418033      0.464037   0.454823  \n",
       "1   0.487500      0.576441        0.453100      0.432540   0.487500  \n",
       "2   0.469646      0.510526        0.436943      0.500000   0.469646  \n",
       "3   0.562169      0.649459        0.537475      0.487772   0.562169  \n",
       "4   0.518660      0.638095        0.462481      0.462500   0.518660  "
      ]
     },
     "execution_count": 85,
     "metadata": {},
     "output_type": "execute_result"
    }
   ],
   "source": [
    "#df_hero_names.head(113)\n",
    "df_hero_names = df_hero_names.merge(df_gb_heroID, left_on='hero_id', right_on='hero_id', how='outer')\n",
    "df_hero_names.head()"
   ]
  },
  {
   "cell_type": "code",
   "execution_count": 84,
   "metadata": {
    "collapsed": false
   },
   "outputs": [
    {
     "data": {
      "text/html": [
       "<div>\n",
       "<table border=\"1\" class=\"dataframe\">\n",
       "  <thead>\n",
       "    <tr style=\"text-align: right;\">\n",
       "      <th></th>\n",
       "      <th>total_plays</th>\n",
       "      <th>name</th>\n",
       "      <th>hero_id</th>\n",
       "      <th>localized_name</th>\n",
       "      <th>winrate</th>\n",
       "      <th>winrate_kurz</th>\n",
       "      <th>winrate_mittel</th>\n",
       "      <th>winrate_lang</th>\n",
       "    </tr>\n",
       "  </thead>\n",
       "  <tbody>\n",
       "    <tr>\n",
       "      <th>49</th>\n",
       "      <td>618.0</td>\n",
       "      <td>npc_dota_hero_life_stealer</td>\n",
       "      <td>54.0</td>\n",
       "      <td>Lifestealer</td>\n",
       "      <td>0.411295</td>\n",
       "      <td>0.482533</td>\n",
       "      <td>0.378664</td>\n",
       "      <td>0.396226</td>\n",
       "    </tr>\n",
       "    <tr>\n",
       "      <th>75</th>\n",
       "      <td>468.0</td>\n",
       "      <td>npc_dota_hero_lone_druid</td>\n",
       "      <td>80.0</td>\n",
       "      <td>Lone Druid</td>\n",
       "      <td>0.411848</td>\n",
       "      <td>0.402913</td>\n",
       "      <td>0.404130</td>\n",
       "      <td>0.439024</td>\n",
       "    </tr>\n",
       "    <tr>\n",
       "      <th>57</th>\n",
       "      <td>1551.0</td>\n",
       "      <td>npc_dota_hero_bounty_hunter</td>\n",
       "      <td>62.0</td>\n",
       "      <td>Bounty Hunter</td>\n",
       "      <td>0.414465</td>\n",
       "      <td>0.510121</td>\n",
       "      <td>0.350975</td>\n",
       "      <td>0.407080</td>\n",
       "    </tr>\n",
       "    <tr>\n",
       "      <th>76</th>\n",
       "      <td>709.0</td>\n",
       "      <td>npc_dota_hero_chaos_knight</td>\n",
       "      <td>81.0</td>\n",
       "      <td>Chaos Knight</td>\n",
       "      <td>0.416162</td>\n",
       "      <td>0.467066</td>\n",
       "      <td>0.368421</td>\n",
       "      <td>0.440000</td>\n",
       "    </tr>\n",
       "    <tr>\n",
       "      <th>54</th>\n",
       "      <td>2567.0</td>\n",
       "      <td>npc_dota_hero_huskar</td>\n",
       "      <td>59.0</td>\n",
       "      <td>Huskar</td>\n",
       "      <td>0.426716</td>\n",
       "      <td>0.509317</td>\n",
       "      <td>0.403704</td>\n",
       "      <td>0.361111</td>\n",
       "    </tr>\n",
       "  </tbody>\n",
       "</table>\n",
       "</div>"
      ],
      "text/plain": [
       "    total_plays                         name  hero_id localized_name  \\\n",
       "49        618.0   npc_dota_hero_life_stealer     54.0    Lifestealer   \n",
       "75        468.0     npc_dota_hero_lone_druid     80.0     Lone Druid   \n",
       "57       1551.0  npc_dota_hero_bounty_hunter     62.0  Bounty Hunter   \n",
       "76        709.0   npc_dota_hero_chaos_knight     81.0   Chaos Knight   \n",
       "54       2567.0         npc_dota_hero_huskar     59.0         Huskar   \n",
       "\n",
       "     winrate  winrate_kurz  winrate_mittel  winrate_lang  \n",
       "49  0.411295      0.482533        0.378664      0.396226  \n",
       "75  0.411848      0.402913        0.404130      0.439024  \n",
       "57  0.414465      0.510121        0.350975      0.407080  \n",
       "76  0.416162      0.467066        0.368421      0.440000  \n",
       "54  0.426716      0.509317        0.403704      0.361111  "
      ]
     },
     "execution_count": 84,
     "metadata": {},
     "output_type": "execute_result"
    }
   ],
   "source": [
    "df_hero_names.sort_values(\"winrate\").head()"
   ]
  },
  {
   "cell_type": "code",
   "execution_count": 25,
   "metadata": {
    "collapsed": false
   },
   "outputs": [
    {
     "data": {
      "image/png": "[encoded data removed]",
      "text/plain": [
       "<matplotlib.figure.Figure at 0x1b91cd243c8>"
      ]
     },
     "metadata": {},
     "output_type": "display_data"
    }
   ],
   "source": [
    "sns.violinplot(data=df_hero_names.winrate, orient=\"h\");\n",
    "\n",
    "# sns.barplot(orient=\"h\",data=df_hero_names.sort(\"winrate\"),x=\"localized_name\", y=\"winrate\")"
   ]
  },
  {
   "cell_type": "markdown",
   "metadata": {},
   "source": [
    "## Prüfen ob gewisse Helden öfter gespielt werden als andere\n",
    "\n"
   ]
  },
  {
   "cell_type": "code",
   "execution_count": 26,
   "metadata": {
    "collapsed": false
   },
   "outputs": [],
   "source": [
    "df_hero_names = mat.hero_id.value_counts().to_frame(name=\"total_plays\").merge(df_hero_names,left_index=True, right_index=True)\n"
   ]
  },
  {
   "cell_type": "code",
   "execution_count": 27,
   "metadata": {
    "collapsed": false
   },
   "outputs": [
    {
     "data": {
      "text/plain": [
       "<matplotlib.axes._subplots.AxesSubplot at 0x1b90bbbf080>"
      ]
     },
     "execution_count": 27,
     "metadata": {},
     "output_type": "execute_result"
    },
    {
     "data": {
      "image/png": "[encoded data removed]",
      "text/plain": [
       "<matplotlib.figure.Figure at 0x1b90b640208>"
      ]
     },
     "metadata": {},
     "output_type": "display_data"
    }
   ],
   "source": [
    "\n",
    "sns.regplot(data=df_hero_names, y=\"winrate\", x=\"total_plays\")"
   ]
  },
  {
   "cell_type": "code",
   "execution_count": 28,
   "metadata": {
    "collapsed": false
   },
   "outputs": [],
   "source": [
    "# Entfernen des Ausreisers\n",
    "df_hero_names.drop(df_hero_names.winrate<0.14, inplace=True)\n"
   ]
  },
  {
   "cell_type": "code",
   "execution_count": 29,
   "metadata": {
    "collapsed": false
   },
   "outputs": [
    {
     "data": {
      "text/plain": [
       "<matplotlib.axes._subplots.AxesSubplot at 0x1b91ccbf780>"
      ]
     },
     "execution_count": 29,
     "metadata": {},
     "output_type": "execute_result"
    },
    {
     "data": {
      "image/png": "[encoded data removed]",
      "text/plain": [
       "<matplotlib.figure.Figure at 0x1b9156c1048>"
      ]
     },
     "metadata": {},
     "output_type": "display_data"
    }
   ],
   "source": [
    " sns.regplot(data=df_hero_names, y=\"winrate\", x=\"total_plays\")\n"
   ]
  },
  {
   "cell_type": "code",
   "execution_count": 30,
   "metadata": {
    "collapsed": false
   },
   "outputs": [
    {
     "data": {
      "text/html": [
       "<div>\n",
       "<table border=\"1\" class=\"dataframe\">\n",
       "  <thead>\n",
       "    <tr style=\"text-align: right;\">\n",
       "      <th></th>\n",
       "      <th>total_plays</th>\n",
       "      <th>hero_id</th>\n",
       "      <th>winrate</th>\n",
       "    </tr>\n",
       "  </thead>\n",
       "  <tbody>\n",
       "    <tr>\n",
       "      <th>total_plays</th>\n",
       "      <td>1.000000</td>\n",
       "      <td>-0.246683</td>\n",
       "      <td>0.157869</td>\n",
       "    </tr>\n",
       "    <tr>\n",
       "      <th>hero_id</th>\n",
       "      <td>-0.246683</td>\n",
       "      <td>1.000000</td>\n",
       "      <td>-0.013915</td>\n",
       "    </tr>\n",
       "    <tr>\n",
       "      <th>winrate</th>\n",
       "      <td>0.157869</td>\n",
       "      <td>-0.013915</td>\n",
       "      <td>1.000000</td>\n",
       "    </tr>\n",
       "  </tbody>\n",
       "</table>\n",
       "</div>"
      ],
      "text/plain": [
       "             total_plays   hero_id   winrate\n",
       "total_plays     1.000000 -0.246683  0.157869\n",
       "hero_id        -0.246683  1.000000 -0.013915\n",
       "winrate         0.157869 -0.013915  1.000000"
      ]
     },
     "execution_count": 30,
     "metadata": {},
     "output_type": "execute_result"
    }
   ],
   "source": [
    "df_hero_names.corr()"
   ]
  },
  {
   "cell_type": "markdown",
   "metadata": {},
   "source": [
    "## Ist die Winrate der Champions abhängig von der Spieldauer?"
   ]
  },
  {
   "cell_type": "code",
   "execution_count": 31,
   "metadata": {
    "collapsed": false
   },
   "outputs": [
    {
     "data": {
      "text/plain": [
       "(250000, 12)"
      ]
     },
     "execution_count": 31,
     "metadata": {},
     "output_type": "execute_result"
    }
   ],
   "source": [
    "mat.shape"
   ]
  },
  {
   "cell_type": "code",
   "execution_count": 32,
   "metadata": {
    "collapsed": false
   },
   "outputs": [
    {
     "data": {
      "text/html": [
       "<div>\n",
       "<table border=\"1\" class=\"dataframe\">\n",
       "  <thead>\n",
       "    <tr style=\"text-align: right;\">\n",
       "      <th></th>\n",
       "      <th>match_id</th>\n",
       "      <th>duration_x</th>\n",
       "      <th>radiant_win_x</th>\n",
       "      <th>duration_y</th>\n",
       "      <th>radiant_win_y</th>\n",
       "      <th>hero_id</th>\n",
       "      <th>player_slot</th>\n",
       "      <th>gold</th>\n",
       "      <th>gold_spent</th>\n",
       "      <th>kills</th>\n",
       "      <th>deaths</th>\n",
       "      <th>assists</th>\n",
       "    </tr>\n",
       "  </thead>\n",
       "  <tbody>\n",
       "    <tr>\n",
       "      <th>157194</th>\n",
       "      <td>31438</td>\n",
       "      <td>59</td>\n",
       "      <td>0</td>\n",
       "      <td>59</td>\n",
       "      <td>0</td>\n",
       "      <td>107</td>\n",
       "      <td>4</td>\n",
       "      <td>670</td>\n",
       "      <td>620</td>\n",
       "      <td>0</td>\n",
       "      <td>0</td>\n",
       "      <td>0</td>\n",
       "    </tr>\n",
       "    <tr>\n",
       "      <th>157190</th>\n",
       "      <td>31438</td>\n",
       "      <td>59</td>\n",
       "      <td>0</td>\n",
       "      <td>59</td>\n",
       "      <td>0</td>\n",
       "      <td>82</td>\n",
       "      <td>0</td>\n",
       "      <td>1</td>\n",
       "      <td>1350</td>\n",
       "      <td>0</td>\n",
       "      <td>0</td>\n",
       "      <td>0</td>\n",
       "    </tr>\n",
       "    <tr>\n",
       "      <th>157191</th>\n",
       "      <td>31438</td>\n",
       "      <td>59</td>\n",
       "      <td>0</td>\n",
       "      <td>59</td>\n",
       "      <td>0</td>\n",
       "      <td>28</td>\n",
       "      <td>1</td>\n",
       "      <td>1</td>\n",
       "      <td>610</td>\n",
       "      <td>0</td>\n",
       "      <td>0</td>\n",
       "      <td>0</td>\n",
       "    </tr>\n",
       "    <tr>\n",
       "      <th>157192</th>\n",
       "      <td>31438</td>\n",
       "      <td>59</td>\n",
       "      <td>0</td>\n",
       "      <td>59</td>\n",
       "      <td>0</td>\n",
       "      <td>11</td>\n",
       "      <td>2</td>\n",
       "      <td>1</td>\n",
       "      <td>585</td>\n",
       "      <td>0</td>\n",
       "      <td>1</td>\n",
       "      <td>0</td>\n",
       "    </tr>\n",
       "    <tr>\n",
       "      <th>157193</th>\n",
       "      <td>31438</td>\n",
       "      <td>59</td>\n",
       "      <td>0</td>\n",
       "      <td>59</td>\n",
       "      <td>0</td>\n",
       "      <td>105</td>\n",
       "      <td>3</td>\n",
       "      <td>1</td>\n",
       "      <td>695</td>\n",
       "      <td>0</td>\n",
       "      <td>1</td>\n",
       "      <td>0</td>\n",
       "    </tr>\n",
       "  </tbody>\n",
       "</table>\n",
       "</div>"
      ],
      "text/plain": [
       "        match_id  duration_x  radiant_win_x  duration_y  radiant_win_y  \\\n",
       "157194     31438          59              0          59              0   \n",
       "157190     31438          59              0          59              0   \n",
       "157191     31438          59              0          59              0   \n",
       "157192     31438          59              0          59              0   \n",
       "157193     31438          59              0          59              0   \n",
       "\n",
       "        hero_id  player_slot  gold  gold_spent  kills  deaths  assists  \n",
       "157194      107            4   670         620      0       0        0  \n",
       "157190       82            0     1        1350      0       0        0  \n",
       "157191       28            1     1         610      0       0        0  \n",
       "157192       11            2     1         585      0       1        0  \n",
       "157193      105            3     1         695      0       1        0  "
      ]
     },
     "execution_count": 32,
     "metadata": {},
     "output_type": "execute_result"
    }
   ],
   "source": [
    "# df_mph nach 'duration_x' aufsteigend sortiert\n",
    "df_mat_sort = mat.sort_values(by='duration_x')\n",
    "df_mat_sort.head()"
   ]
  },
  {
   "cell_type": "code",
   "execution_count": 33,
   "metadata": {
    "collapsed": false
   },
   "outputs": [
    {
     "data": {
      "text/plain": [
       "(250000, 12)"
      ]
     },
     "execution_count": 33,
     "metadata": {},
     "output_type": "execute_result"
    }
   ],
   "source": [
    "df_mat_sort.shape"
   ]
  },
  {
   "cell_type": "code",
   "execution_count": 34,
   "metadata": {
    "collapsed": false
   },
   "outputs": [
    {
     "data": {
      "text/plain": [
       "count    250000.000000\n",
       "mean       2476.453500\n",
       "std         634.626184\n",
       "min          59.000000\n",
       "25%        2029.000000\n",
       "50%        2415.000000\n",
       "75%        2872.000000\n",
       "max       16037.000000\n",
       "Name: duration_x, dtype: float64"
      ]
     },
     "execution_count": 34,
     "metadata": {},
     "output_type": "execute_result"
    }
   ],
   "source": [
    "# sortierte df nach Dauer nur mit Spalte Dauer beschreiben, um Klassengrößen festzulegen \n",
    "df_mat_sort[\"duration_x\"].describe()"
   ]
  },
  {
   "cell_type": "code",
   "execution_count": 35,
   "metadata": {
    "collapsed": false
   },
   "outputs": [
    {
     "data": {
      "image/png": "[encoded data removed]",
      "text/plain": [
       "<matplotlib.figure.Figure at 0x1b90c617898>"
      ]
     },
     "metadata": {},
     "output_type": "display_data"
    }
   ],
   "source": [
    "# Spalte duration_x in einem Boxplot visualisieren\n",
    "sns.boxplot(df_mat_sort[\"duration_x\"]);"
   ]
  },
  {
   "cell_type": "code",
   "execution_count": 36,
   "metadata": {
    "collapsed": false
   },
   "outputs": [],
   "source": [
    "# Spalte mit Klassen für die Dauer erstellen\n",
    "df_mat_sort_bins = df_mat_sort['duration_x'].quantile(q=[x/10 for x in range (11)])\n",
    "df_mat_sort_bins = [x*300 for x in range(57)]\n",
    "df_mat_sort_bins_label = [x*5 for x in range(1,57)]\n",
    "df_mat_sort[\"bins\"] = pd.cut(df_mat_sort['duration_x'], bins=df_mat_sort_bins, labels=df_mat_sort_bins_label)"
   ]
  },
  {
   "cell_type": "code",
   "execution_count": 37,
   "metadata": {
    "collapsed": false
   },
   "outputs": [
    {
     "data": {
      "text/html": [
       "<div>\n",
       "<table border=\"1\" class=\"dataframe\">\n",
       "  <thead>\n",
       "    <tr style=\"text-align: right;\">\n",
       "      <th></th>\n",
       "      <th>match_id</th>\n",
       "      <th>duration_x</th>\n",
       "      <th>radiant_win_x</th>\n",
       "      <th>duration_y</th>\n",
       "      <th>radiant_win_y</th>\n",
       "      <th>hero_id</th>\n",
       "      <th>player_slot</th>\n",
       "      <th>gold</th>\n",
       "      <th>gold_spent</th>\n",
       "      <th>kills</th>\n",
       "      <th>deaths</th>\n",
       "      <th>assists</th>\n",
       "      <th>bins</th>\n",
       "    </tr>\n",
       "  </thead>\n",
       "  <tbody>\n",
       "    <tr>\n",
       "      <th>157194</th>\n",
       "      <td>31438</td>\n",
       "      <td>59</td>\n",
       "      <td>0</td>\n",
       "      <td>59</td>\n",
       "      <td>0</td>\n",
       "      <td>107</td>\n",
       "      <td>4</td>\n",
       "      <td>670</td>\n",
       "      <td>620</td>\n",
       "      <td>0</td>\n",
       "      <td>0</td>\n",
       "      <td>0</td>\n",
       "      <td>5</td>\n",
       "    </tr>\n",
       "    <tr>\n",
       "      <th>157190</th>\n",
       "      <td>31438</td>\n",
       "      <td>59</td>\n",
       "      <td>0</td>\n",
       "      <td>59</td>\n",
       "      <td>0</td>\n",
       "      <td>82</td>\n",
       "      <td>0</td>\n",
       "      <td>1</td>\n",
       "      <td>1350</td>\n",
       "      <td>0</td>\n",
       "      <td>0</td>\n",
       "      <td>0</td>\n",
       "      <td>5</td>\n",
       "    </tr>\n",
       "    <tr>\n",
       "      <th>157191</th>\n",
       "      <td>31438</td>\n",
       "      <td>59</td>\n",
       "      <td>0</td>\n",
       "      <td>59</td>\n",
       "      <td>0</td>\n",
       "      <td>28</td>\n",
       "      <td>1</td>\n",
       "      <td>1</td>\n",
       "      <td>610</td>\n",
       "      <td>0</td>\n",
       "      <td>0</td>\n",
       "      <td>0</td>\n",
       "      <td>5</td>\n",
       "    </tr>\n",
       "    <tr>\n",
       "      <th>157192</th>\n",
       "      <td>31438</td>\n",
       "      <td>59</td>\n",
       "      <td>0</td>\n",
       "      <td>59</td>\n",
       "      <td>0</td>\n",
       "      <td>11</td>\n",
       "      <td>2</td>\n",
       "      <td>1</td>\n",
       "      <td>585</td>\n",
       "      <td>0</td>\n",
       "      <td>1</td>\n",
       "      <td>0</td>\n",
       "      <td>5</td>\n",
       "    </tr>\n",
       "    <tr>\n",
       "      <th>157193</th>\n",
       "      <td>31438</td>\n",
       "      <td>59</td>\n",
       "      <td>0</td>\n",
       "      <td>59</td>\n",
       "      <td>0</td>\n",
       "      <td>105</td>\n",
       "      <td>3</td>\n",
       "      <td>1</td>\n",
       "      <td>695</td>\n",
       "      <td>0</td>\n",
       "      <td>1</td>\n",
       "      <td>0</td>\n",
       "      <td>5</td>\n",
       "    </tr>\n",
       "  </tbody>\n",
       "</table>\n",
       "</div>"
      ],
      "text/plain": [
       "        match_id  duration_x  radiant_win_x  duration_y  radiant_win_y  \\\n",
       "157194     31438          59              0          59              0   \n",
       "157190     31438          59              0          59              0   \n",
       "157191     31438          59              0          59              0   \n",
       "157192     31438          59              0          59              0   \n",
       "157193     31438          59              0          59              0   \n",
       "\n",
       "        hero_id  player_slot  gold  gold_spent  kills  deaths  assists bins  \n",
       "157194      107            4   670         620      0       0        0    5  \n",
       "157190       82            0     1        1350      0       0        0    5  \n",
       "157191       28            1     1         610      0       0        0    5  \n",
       "157192       11            2     1         585      0       1        0    5  \n",
       "157193      105            3     1         695      0       1        0    5  "
      ]
     },
     "execution_count": 37,
     "metadata": {},
     "output_type": "execute_result"
    }
   ],
   "source": [
    "df_mat_sort_bins[:5]\n",
    "df_mat_sort.head()"
   ]
  },
  {
   "cell_type": "code",
   "execution_count": 38,
   "metadata": {
    "collapsed": false
   },
   "outputs": [
    {
     "data": {
      "text/plain": [
       "(250000, 13)"
      ]
     },
     "execution_count": 38,
     "metadata": {},
     "output_type": "execute_result"
    }
   ],
   "source": [
    "df_mat_sort.shape"
   ]
  },
  {
   "cell_type": "code",
   "execution_count": 63,
   "metadata": {
    "collapsed": false
   },
   "outputs": [
    {
     "data": {
      "text/plain": [
       "40    49100\n",
       "45    44740\n",
       "35    40735\n",
       "50    34465\n",
       "30    23525\n",
       "Name: bins, dtype: int64"
      ]
     },
     "execution_count": 63,
     "metadata": {},
     "output_type": "execute_result"
    }
   ],
   "source": [
    "table = df_mat_sort['bins'].value_counts()\n",
    "table.head()"
   ]
  },
  {
   "cell_type": "code",
   "execution_count": 40,
   "metadata": {
    "collapsed": false
   },
   "outputs": [
    {
     "data": {
      "image/png": "[encoded data removed]",
      "text/plain": [
       "<matplotlib.figure.Figure at 0x1b91dd47cf8>"
      ]
     },
     "metadata": {},
     "output_type": "display_data"
    }
   ],
   "source": [
    "# Häufigkeitsverteilung der Klassen\n",
    "plt.figure(figsize=(16.69, 4.27))\n",
    "sns.countplot(x='bins', data=df_mat_sort);"
   ]
  },
  {
   "cell_type": "code",
   "execution_count": 41,
   "metadata": {
    "collapsed": false
   },
   "outputs": [
    {
     "data": {
      "text/plain": [
       "(250000, 13)"
      ]
     },
     "execution_count": 41,
     "metadata": {},
     "output_type": "execute_result"
    }
   ],
   "source": [
    "df_mat_sort.shape"
   ]
  },
  {
   "cell_type": "code",
   "execution_count": 42,
   "metadata": {
    "collapsed": false
   },
   "outputs": [],
   "source": [
    "# datentyp category von Spalte \"klassen\" in int umwandeln\n",
    "df_mat_sort[\"bins\"] = df_mat_sort.bins.astype(int)"
   ]
  },
  {
   "cell_type": "code",
   "execution_count": 43,
   "metadata": {
    "collapsed": false
   },
   "outputs": [],
   "source": [
    "# DataFram mit 3 Klassen für die Dauer erstellen\n",
    "df_mat_sort[\"klassen\"] = pd.DataFrame({'klassen': pd.cut(df_mat_sort['bins'], bins=[0,35,50,280], labels=[\"kurz\", \"mittel\", \"lang\"])})"
   ]
  },
  {
   "cell_type": "code",
   "execution_count": 44,
   "metadata": {
    "collapsed": false
   },
   "outputs": [
    {
     "data": {
      "image/png": "[encoded data removed]",
      "text/plain": [
       "<matplotlib.figure.Figure at 0x1b91aae5240>"
      ]
     },
     "metadata": {},
     "output_type": "display_data"
    }
   ],
   "source": [
    "plt.figure(figsize=(16.69, 4.27))\n",
    "sns.countplot(x='klassen', data=df_mat_sort);"
   ]
  },
  {
   "cell_type": "code",
   "execution_count": null,
   "metadata": {
    "collapsed": false,
    "scrolled": false
   },
   "outputs": [],
   "source": []
  },
  {
   "cell_type": "code",
   "execution_count": null,
   "metadata": {
    "collapsed": false
   },
   "outputs": [],
   "source": [
    "\n"
   ]
  },
  {
   "cell_type": "code",
   "execution_count": null,
   "metadata": {
    "collapsed": false
   },
   "outputs": [],
   "source": []
  },
  {
   "cell_type": "code",
   "execution_count": 48,
   "metadata": {
    "collapsed": false
   },
   "outputs": [],
   "source": [
    "df_kurz = pd.DataFrame(df_mat_sort[df_mat_sort.klassen == \"kurz\"].groupby('hero_id').mean()['radiant_win_x'], index=np.arange(113))\n",
    "df_kurz.columns =[\"winrate_kurz\"]\n",
    "df_kurz[\"hero_id\"] = np.arange(1,114)\n"
   ]
  },
  {
   "cell_type": "code",
   "execution_count": 49,
   "metadata": {
    "collapsed": true
   },
   "outputs": [],
   "source": [
    "df_mittel = pd.DataFrame(df_mat_sort[df_mat_sort.klassen == \"mittel\"].groupby('hero_id').mean()['radiant_win_x'], index=np.arange(113))\n",
    "df_mittel.columns =[\"winrate_mittel\"]\n",
    "df_mittel[\"hero_id\"] = np.arange(1,114)"
   ]
  },
  {
   "cell_type": "code",
   "execution_count": 50,
   "metadata": {
    "collapsed": true
   },
   "outputs": [],
   "source": [
    "df_lang = pd.DataFrame(df_mat_sort[df_mat_sort.klassen == \"lang\"].groupby('hero_id').mean()['radiant_win_x'], index=np.arange(113))\n",
    "df_lang.columns =[\"winrate_lang\"]\n",
    "df_lang[\"hero_id\"] = np.arange(1,114)"
   ]
  },
  {
   "cell_type": "code",
   "execution_count": 51,
   "metadata": {
    "collapsed": true
   },
   "outputs": [],
   "source": [
    "df_hero_names = df_hero_names.merge(df_kurz, left_on='hero_id', right_on='hero_id', how='outer')\n",
    "df_hero_names = df_hero_names.merge(df_mittel, left_on='hero_id', right_on='hero_id', how='outer')\n",
    "df_hero_names = df_hero_names.merge(df_lang, left_on='hero_id', right_on='hero_id', how='outer')"
   ]
  },
  {
   "cell_type": "code",
   "execution_count": 66,
   "metadata": {
    "collapsed": false
   },
   "outputs": [],
   "source": [
    "df_hero_names.drop([109, 110, 111, 112], inplace=True)\n",
    "\n",
    "# Bereinigung auf Grund der Tatsache, dass mehr Hero IDs in matches als in hero_names"
   ]
  },
  {
   "cell_type": "code",
   "execution_count": 53,
   "metadata": {
    "collapsed": false
   },
   "outputs": [],
   "source": []
  },
  {
   "cell_type": "code",
   "execution_count": 72,
   "metadata": {
    "collapsed": false
   },
   "outputs": [],
   "source": [
    "df_most_played_heros = df_hero_names.sort_values(by=\"total_plays\").tail(20).sort_values(by=\"winrate\")\n"
   ]
  },
  {
   "cell_type": "code",
   "execution_count": null,
   "metadata": {
    "collapsed": false
   },
   "outputs": [],
   "source": []
  },
  {
   "cell_type": "code",
   "execution_count": null,
   "metadata": {
    "collapsed": false
   },
   "outputs": [],
   "source": []
  },
  {
   "cell_type": "code",
   "execution_count": null,
   "metadata": {
    "collapsed": false
   },
   "outputs": [],
   "source": []
  },
  {
   "cell_type": "code",
   "execution_count": 73,
   "metadata": {
    "collapsed": false
   },
   "outputs": [
    {
     "data": {
      "image/png": "[encoded data removed]",
      "text/plain": [
       "<matplotlib.figure.Figure at 0x1b90b92f2e8>"
      ]
     },
     "metadata": {},
     "output_type": "display_data"
    }
   ],
   "source": [
    "fig = plt.figure() # Create matplotlib figure\n",
    "\n",
    "ax = fig.add_subplot(111) # Create matplotlib axes\n",
    "ax2 = ax\n",
    "ax3 = ax\n",
    "ax4 = ax\n",
    "\n",
    "width = 0.1\n",
    "\n",
    "df_most_played_heros.winrate.plot(kind='bar', color='blue', ax=ax, width=width, position=3)\n",
    "df_most_played_heros.winrate_kurz.plot(kind='bar', color='green', ax=ax2, width=width, position=2)\n",
    "df_most_played_heros.winrate_mittel.plot(kind='bar', color='black', ax=ax3, width=width, position=1)\n",
    "df_most_played_heros.winrate_lang.plot(kind='bar', color='red', ax=ax4, width=width, position=0)\n",
    "\n",
    "ax.set_ylabel('Geweinnrate')\n",
    "ax.set_xlabel('Helden')\n",
    "plt.show()"
   ]
  },
  {
   "cell_type": "code",
   "execution_count": 75,
   "metadata": {
    "collapsed": false
   },
   "outputs": [
    {
     "data": {
      "text/plain": [
       "<matplotlib.axes._subplots.AxesSubplot at 0x1b90b93c400>"
      ]
     },
     "execution_count": 75,
     "metadata": {},
     "output_type": "execute_result"
    },
    {
     "data": {
      "image/png": "[encoded data removed]",
      "text/plain": [
       "<matplotlib.figure.Figure at 0x1b90b910e48>"
      ]
     },
     "metadata": {},
     "output_type": "display_data"
    }
   ],
   "source": [
    "sns.heatmap(df_most_played_heros.corr())"
   ]
  },
  {
   "cell_type": "code",
   "execution_count": 77,
   "metadata": {
    "collapsed": false
   },
   "outputs": [
    {
     "data": {
      "text/html": [
       "<div>\n",
       "<table border=\"1\" class=\"dataframe\">\n",
       "  <thead>\n",
       "    <tr style=\"text-align: right;\">\n",
       "      <th></th>\n",
       "      <th>total_plays</th>\n",
       "      <th>name</th>\n",
       "      <th>hero_id</th>\n",
       "      <th>localized_name</th>\n",
       "      <th>winrate</th>\n",
       "      <th>winrate_kurz</th>\n",
       "      <th>winrate_mittel</th>\n",
       "      <th>winrate_lang</th>\n",
       "    </tr>\n",
       "  </thead>\n",
       "  <tbody>\n",
       "    <tr>\n",
       "      <th>36</th>\n",
       "      <td>5190.0</td>\n",
       "      <td>npc_dota_hero_faceless_void</td>\n",
       "      <td>41.0</td>\n",
       "      <td>Faceless Void</td>\n",
       "      <td>0.540810</td>\n",
       "      <td>0.643902</td>\n",
       "      <td>0.521333</td>\n",
       "      <td>0.461095</td>\n",
       "    </tr>\n",
       "    <tr>\n",
       "      <th>3</th>\n",
       "      <td>3965.0</td>\n",
       "      <td>npc_dota_hero_drow_ranger</td>\n",
       "      <td>6.0</td>\n",
       "      <td>Drow Ranger</td>\n",
       "      <td>0.562169</td>\n",
       "      <td>0.649459</td>\n",
       "      <td>0.537475</td>\n",
       "      <td>0.487772</td>\n",
       "    </tr>\n",
       "    <tr>\n",
       "      <th>66</th>\n",
       "      <td>3974.0</td>\n",
       "      <td>npc_dota_hero_spirit_breaker</td>\n",
       "      <td>71.0</td>\n",
       "      <td>Spirit Breaker</td>\n",
       "      <td>0.575553</td>\n",
       "      <td>0.693215</td>\n",
       "      <td>0.542830</td>\n",
       "      <td>0.448753</td>\n",
       "    </tr>\n",
       "  </tbody>\n",
       "</table>\n",
       "</div>"
      ],
      "text/plain": [
       "    total_plays                          name  hero_id  localized_name  \\\n",
       "36       5190.0   npc_dota_hero_faceless_void     41.0   Faceless Void   \n",
       "3        3965.0     npc_dota_hero_drow_ranger      6.0     Drow Ranger   \n",
       "66       3974.0  npc_dota_hero_spirit_breaker     71.0  Spirit Breaker   \n",
       "\n",
       "     winrate  winrate_kurz  winrate_mittel  winrate_lang  \n",
       "36  0.540810      0.643902        0.521333      0.461095  \n",
       "3   0.562169      0.649459        0.537475      0.487772  \n",
       "66  0.575553      0.693215        0.542830      0.448753  "
      ]
     },
     "execution_count": 77,
     "metadata": {},
     "output_type": "execute_result"
    }
   ],
   "source": [
    "df_most_played_heros.sort_values(\"winrate_kurz\").tail(3)"
   ]
  },
  {
   "cell_type": "code",
   "execution_count": 83,
   "metadata": {
    "collapsed": false
   },
   "outputs": [
    {
     "data": {
      "text/html": [
       "<div>\n",
       "<table border=\"1\" class=\"dataframe\">\n",
       "  <thead>\n",
       "    <tr style=\"text-align: right;\">\n",
       "      <th></th>\n",
       "      <th>total_plays</th>\n",
       "      <th>name</th>\n",
       "      <th>hero_id</th>\n",
       "      <th>localized_name</th>\n",
       "      <th>winrate</th>\n",
       "      <th>winrate_kurz</th>\n",
       "      <th>winrate_mittel</th>\n",
       "      <th>winrate_lang</th>\n",
       "    </tr>\n",
       "  </thead>\n",
       "  <tbody>\n",
       "    <tr>\n",
       "      <th>71</th>\n",
       "      <td>5824.0</td>\n",
       "      <td>npc_dota_hero_obsidian_destroyer</td>\n",
       "      <td>76.0</td>\n",
       "      <td>Outworld Devourer</td>\n",
       "      <td>0.551839</td>\n",
       "      <td>0.605882</td>\n",
       "      <td>0.533654</td>\n",
       "      <td>0.522759</td>\n",
       "    </tr>\n",
       "    <tr>\n",
       "      <th>3</th>\n",
       "      <td>3965.0</td>\n",
       "      <td>npc_dota_hero_drow_ranger</td>\n",
       "      <td>6.0</td>\n",
       "      <td>Drow Ranger</td>\n",
       "      <td>0.562169</td>\n",
       "      <td>0.649459</td>\n",
       "      <td>0.537475</td>\n",
       "      <td>0.487772</td>\n",
       "    </tr>\n",
       "    <tr>\n",
       "      <th>66</th>\n",
       "      <td>3974.0</td>\n",
       "      <td>npc_dota_hero_spirit_breaker</td>\n",
       "      <td>71.0</td>\n",
       "      <td>Spirit Breaker</td>\n",
       "      <td>0.575553</td>\n",
       "      <td>0.693215</td>\n",
       "      <td>0.542830</td>\n",
       "      <td>0.448753</td>\n",
       "    </tr>\n",
       "  </tbody>\n",
       "</table>\n",
       "</div>"
      ],
      "text/plain": [
       "    total_plays                              name  hero_id     localized_name  \\\n",
       "71       5824.0  npc_dota_hero_obsidian_destroyer     76.0  Outworld Devourer   \n",
       "3        3965.0         npc_dota_hero_drow_ranger      6.0        Drow Ranger   \n",
       "66       3974.0      npc_dota_hero_spirit_breaker     71.0     Spirit Breaker   \n",
       "\n",
       "     winrate  winrate_kurz  winrate_mittel  winrate_lang  \n",
       "71  0.551839      0.605882        0.533654      0.522759  \n",
       "3   0.562169      0.649459        0.537475      0.487772  \n",
       "66  0.575553      0.693215        0.542830      0.448753  "
      ]
     },
     "execution_count": 83,
     "metadata": {},
     "output_type": "execute_result"
    }
   ],
   "source": [
    "df_most_played_heros.sort_values(\"winrate_mittel\").tail(3)"
   ]
  },
  {
   "cell_type": "code",
   "execution_count": 80,
   "metadata": {
    "collapsed": false
   },
   "outputs": [
    {
     "data": {
      "text/html": [
       "<div>\n",
       "<table border=\"1\" class=\"dataframe\">\n",
       "  <thead>\n",
       "    <tr style=\"text-align: right;\">\n",
       "      <th></th>\n",
       "      <th>total_plays</th>\n",
       "      <th>name</th>\n",
       "      <th>hero_id</th>\n",
       "      <th>localized_name</th>\n",
       "      <th>winrate</th>\n",
       "      <th>winrate_kurz</th>\n",
       "      <th>winrate_mittel</th>\n",
       "      <th>winrate_lang</th>\n",
       "    </tr>\n",
       "  </thead>\n",
       "  <tbody>\n",
       "    <tr>\n",
       "      <th>101</th>\n",
       "      <td>4442.0</td>\n",
       "      <td>npc_dota_hero_ember_spirit</td>\n",
       "      <td>106.0</td>\n",
       "      <td>Ember Spirit</td>\n",
       "      <td>0.467337</td>\n",
       "      <td>0.523077</td>\n",
       "      <td>0.411565</td>\n",
       "      <td>0.520231</td>\n",
       "    </tr>\n",
       "    <tr>\n",
       "      <th>71</th>\n",
       "      <td>5824.0</td>\n",
       "      <td>npc_dota_hero_obsidian_destroyer</td>\n",
       "      <td>76.0</td>\n",
       "      <td>Outworld Devourer</td>\n",
       "      <td>0.551839</td>\n",
       "      <td>0.605882</td>\n",
       "      <td>0.533654</td>\n",
       "      <td>0.522759</td>\n",
       "    </tr>\n",
       "    <tr>\n",
       "      <th>90</th>\n",
       "      <td>4177.0</td>\n",
       "      <td>npc_dota_hero_troll_warlord</td>\n",
       "      <td>95.0</td>\n",
       "      <td>Troll Warlord</td>\n",
       "      <td>0.540928</td>\n",
       "      <td>0.536765</td>\n",
       "      <td>0.533118</td>\n",
       "      <td>0.561224</td>\n",
       "    </tr>\n",
       "  </tbody>\n",
       "</table>\n",
       "</div>"
      ],
      "text/plain": [
       "     total_plays                              name  hero_id  \\\n",
       "101       4442.0        npc_dota_hero_ember_spirit    106.0   \n",
       "71        5824.0  npc_dota_hero_obsidian_destroyer     76.0   \n",
       "90        4177.0       npc_dota_hero_troll_warlord     95.0   \n",
       "\n",
       "        localized_name   winrate  winrate_kurz  winrate_mittel  winrate_lang  \n",
       "101       Ember Spirit  0.467337      0.523077        0.411565      0.520231  \n",
       "71   Outworld Devourer  0.551839      0.605882        0.533654      0.522759  \n",
       "90       Troll Warlord  0.540928      0.536765        0.533118      0.561224  "
      ]
     },
     "execution_count": 80,
     "metadata": {},
     "output_type": "execute_result"
    }
   ],
   "source": [
    "df_most_played_heros.sort_values(\"winrate_lang\").tail(3)"
   ]
  },
  {
   "cell_type": "code",
   "execution_count": null,
   "metadata": {
    "collapsed": false
   },
   "outputs": [],
   "source": []
  },
  {
   "cell_type": "code",
   "execution_count": null,
   "metadata": {
    "collapsed": false
   },
   "outputs": [],
   "source": []
  },
  {
   "cell_type": "code",
   "execution_count": null,
   "metadata": {
    "collapsed": true
   },
   "outputs": [],
   "source": []
  },
  {
   "cell_type": "code",
   "execution_count": null,
   "metadata": {
    "collapsed": false
   },
   "outputs": [],
   "source": []
  },
  {
   "cell_type": "code",
   "execution_count": null,
   "metadata": {
    "collapsed": false
   },
   "outputs": [],
   "source": []
  },
  {
   "cell_type": "code",
   "execution_count": null,
   "metadata": {
    "collapsed": true
   },
   "outputs": [],
   "source": []
  }
 ],
 "metadata": {
  "anaconda-cloud": {},
  "kernelspec": {
   "display_name": "Python [default]",
   "language": "python",
   "name": "python3"
  },
  "language_info": {
   "codemirror_mode": {
    "name": "ipython",
    "version": 3
   },
   "file_extension": ".py",
   "mimetype": "text/x-python",
   "name": "python",
   "nbconvert_exporter": "python",
   "pygments_lexer": "ipython3",
   "version": "3.5.2"
  }
 },
 "nbformat": 4,
 "nbformat_minor": 1
}
