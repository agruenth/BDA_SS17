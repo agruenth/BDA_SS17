{
 "cells": [
  {
   "cell_type": "markdown",
   "metadata": {},
   "source": [
    "# Aufgabe 3\n",
    "\n",
    "### Wie wirkt sich das Chatverhalten auf die Spielende aus?"
   ]
  },
  {
   "cell_type": "markdown",
   "metadata": {},
   "source": [
    "#### Impotieren der Bibliotheken "
   ]
  },
  {
   "cell_type": "code",
   "execution_count": 2,
   "metadata": {
    "collapsed": false
   },
   "outputs": [],
   "source": [
    "import numpy as np\n",
    "import pandas as pd\n",
    "import scipy.stats as stats\n",
    "import seaborn as sns\n",
    "\n",
    "%matplotlib inline\n",
    "import matplotlib.pyplot as plt\n",
    "sns.set(context=\"paper\", font=\"monospace\")"
   ]
  },
  {
   "cell_type": "code",
   "execution_count": null,
   "metadata": {
    "collapsed": true
   },
   "outputs": [],
   "source": []
  },
  {
   "cell_type": "markdown",
   "metadata": {
    "collapsed": true
   },
   "source": [
    "#### Einlesen der Dateien "
   ]
  },
  {
   "cell_type": "code",
   "execution_count": 3,
   "metadata": {
    "collapsed": false
   },
   "outputs": [
    {
     "data": {
      "text/html": [
       "<div>\n",
       "<table border=\"1\" class=\"dataframe\">\n",
       "  <thead>\n",
       "    <tr style=\"text-align: right;\">\n",
       "      <th></th>\n",
       "      <th>match_id</th>\n",
       "      <th>key</th>\n",
       "      <th>slot</th>\n",
       "      <th>time</th>\n",
       "      <th>unit</th>\n",
       "    </tr>\n",
       "  </thead>\n",
       "  <tbody>\n",
       "    <tr>\n",
       "      <th>0</th>\n",
       "      <td>0</td>\n",
       "      <td>force it</td>\n",
       "      <td>6</td>\n",
       "      <td>-8</td>\n",
       "      <td>6k Slayer</td>\n",
       "    </tr>\n",
       "    <tr>\n",
       "      <th>1</th>\n",
       "      <td>0</td>\n",
       "      <td>space created</td>\n",
       "      <td>1</td>\n",
       "      <td>5</td>\n",
       "      <td>Monkey</td>\n",
       "    </tr>\n",
       "    <tr>\n",
       "      <th>2</th>\n",
       "      <td>0</td>\n",
       "      <td>hah</td>\n",
       "      <td>1</td>\n",
       "      <td>6</td>\n",
       "      <td>Monkey</td>\n",
       "    </tr>\n",
       "    <tr>\n",
       "      <th>3</th>\n",
       "      <td>0</td>\n",
       "      <td>ez 500</td>\n",
       "      <td>6</td>\n",
       "      <td>9</td>\n",
       "      <td>6k Slayer</td>\n",
       "    </tr>\n",
       "    <tr>\n",
       "      <th>4</th>\n",
       "      <td>0</td>\n",
       "      <td>mvp ulti</td>\n",
       "      <td>4</td>\n",
       "      <td>934</td>\n",
       "      <td>Kira</td>\n",
       "    </tr>\n",
       "  </tbody>\n",
       "</table>\n",
       "</div>"
      ],
      "text/plain": [
       "   match_id            key  slot  time       unit\n",
       "0         0       force it     6    -8  6k Slayer\n",
       "1         0  space created     1     5     Monkey\n",
       "2         0            hah     1     6     Monkey\n",
       "3         0         ez 500     6     9  6k Slayer\n",
       "4         0       mvp ulti     4   934       Kira"
      ]
     },
     "execution_count": 3,
     "metadata": {},
     "output_type": "execute_result"
    }
   ],
   "source": [
    "chat = pd.read_csv('data/chat.csv')\n",
    "chat.head()"
   ]
  },
  {
   "cell_type": "code",
   "execution_count": 21,
   "metadata": {
    "collapsed": false
   },
   "outputs": [
    {
     "data": {
      "text/html": [
       "<div>\n",
       "<table border=\"1\" class=\"dataframe\">\n",
       "  <thead>\n",
       "    <tr style=\"text-align: right;\">\n",
       "      <th></th>\n",
       "      <th>match_id</th>\n",
       "      <th>start_time</th>\n",
       "      <th>duration</th>\n",
       "      <th>tower_status_radiant</th>\n",
       "      <th>tower_status_dire</th>\n",
       "      <th>barracks_status_dire</th>\n",
       "      <th>barracks_status_radiant</th>\n",
       "      <th>first_blood_time</th>\n",
       "      <th>game_mode</th>\n",
       "      <th>radiant_win</th>\n",
       "      <th>negative_votes</th>\n",
       "      <th>positive_votes</th>\n",
       "      <th>cluster</th>\n",
       "    </tr>\n",
       "  </thead>\n",
       "  <tbody>\n",
       "    <tr>\n",
       "      <th>0</th>\n",
       "      <td>0</td>\n",
       "      <td>1446750112</td>\n",
       "      <td>2375</td>\n",
       "      <td>1982</td>\n",
       "      <td>4</td>\n",
       "      <td>3</td>\n",
       "      <td>63</td>\n",
       "      <td>1</td>\n",
       "      <td>22</td>\n",
       "      <td>True</td>\n",
       "      <td>0</td>\n",
       "      <td>1</td>\n",
       "      <td>155</td>\n",
       "    </tr>\n",
       "    <tr>\n",
       "      <th>1</th>\n",
       "      <td>1</td>\n",
       "      <td>1446753078</td>\n",
       "      <td>2582</td>\n",
       "      <td>0</td>\n",
       "      <td>1846</td>\n",
       "      <td>63</td>\n",
       "      <td>0</td>\n",
       "      <td>221</td>\n",
       "      <td>22</td>\n",
       "      <td>False</td>\n",
       "      <td>0</td>\n",
       "      <td>2</td>\n",
       "      <td>154</td>\n",
       "    </tr>\n",
       "    <tr>\n",
       "      <th>2</th>\n",
       "      <td>2</td>\n",
       "      <td>1446764586</td>\n",
       "      <td>2716</td>\n",
       "      <td>256</td>\n",
       "      <td>1972</td>\n",
       "      <td>63</td>\n",
       "      <td>48</td>\n",
       "      <td>190</td>\n",
       "      <td>22</td>\n",
       "      <td>False</td>\n",
       "      <td>0</td>\n",
       "      <td>0</td>\n",
       "      <td>132</td>\n",
       "    </tr>\n",
       "    <tr>\n",
       "      <th>3</th>\n",
       "      <td>3</td>\n",
       "      <td>1446765723</td>\n",
       "      <td>3085</td>\n",
       "      <td>4</td>\n",
       "      <td>1924</td>\n",
       "      <td>51</td>\n",
       "      <td>3</td>\n",
       "      <td>40</td>\n",
       "      <td>22</td>\n",
       "      <td>False</td>\n",
       "      <td>0</td>\n",
       "      <td>0</td>\n",
       "      <td>191</td>\n",
       "    </tr>\n",
       "    <tr>\n",
       "      <th>4</th>\n",
       "      <td>4</td>\n",
       "      <td>1446796385</td>\n",
       "      <td>1887</td>\n",
       "      <td>2047</td>\n",
       "      <td>0</td>\n",
       "      <td>0</td>\n",
       "      <td>63</td>\n",
       "      <td>58</td>\n",
       "      <td>22</td>\n",
       "      <td>True</td>\n",
       "      <td>0</td>\n",
       "      <td>0</td>\n",
       "      <td>156</td>\n",
       "    </tr>\n",
       "  </tbody>\n",
       "</table>\n",
       "</div>"
      ],
      "text/plain": [
       "   match_id  start_time  duration  tower_status_radiant  tower_status_dire  \\\n",
       "0         0  1446750112      2375                  1982                  4   \n",
       "1         1  1446753078      2582                     0               1846   \n",
       "2         2  1446764586      2716                   256               1972   \n",
       "3         3  1446765723      3085                     4               1924   \n",
       "4         4  1446796385      1887                  2047                  0   \n",
       "\n",
       "   barracks_status_dire  barracks_status_radiant  first_blood_time  game_mode  \\\n",
       "0                     3                       63                 1         22   \n",
       "1                    63                        0               221         22   \n",
       "2                    63                       48               190         22   \n",
       "3                    51                        3                40         22   \n",
       "4                     0                       63                58         22   \n",
       "\n",
       "  radiant_win  negative_votes  positive_votes  cluster  \n",
       "0        True               0               1      155  \n",
       "1       False               0               2      154  \n",
       "2       False               0               0      132  \n",
       "3       False               0               0      191  \n",
       "4        True               0               0      156  "
      ]
     },
     "execution_count": 21,
     "metadata": {},
     "output_type": "execute_result"
    }
   ],
   "source": [
    "match = pd.read_csv('data/match.csv')\n",
    "match.head()"
   ]
  },
  {
   "cell_type": "markdown",
   "metadata": {},
   "source": [
    "#### Datensätze beschreiben."
   ]
  },
  {
   "cell_type": "code",
   "execution_count": 36,
   "metadata": {
    "collapsed": false
   },
   "outputs": [
    {
     "data": {
      "text/html": [
       "<div>\n",
       "<table border=\"1\" class=\"dataframe\">\n",
       "  <thead>\n",
       "    <tr style=\"text-align: right;\">\n",
       "      <th></th>\n",
       "      <th>match_id</th>\n",
       "      <th>start_time</th>\n",
       "      <th>duration</th>\n",
       "      <th>tower_status_radiant</th>\n",
       "      <th>tower_status_dire</th>\n",
       "      <th>barracks_status_dire</th>\n",
       "      <th>barracks_status_radiant</th>\n",
       "      <th>first_blood_time</th>\n",
       "      <th>game_mode</th>\n",
       "      <th>radiant_win</th>\n",
       "      <th>negative_votes</th>\n",
       "      <th>positive_votes</th>\n",
       "      <th>cluster</th>\n",
       "    </tr>\n",
       "  </thead>\n",
       "  <tbody>\n",
       "    <tr>\n",
       "      <th>count</th>\n",
       "      <td>50000.000000</td>\n",
       "      <td>5.000000e+04</td>\n",
       "      <td>50000.000000</td>\n",
       "      <td>50000.000000</td>\n",
       "      <td>50000.000000</td>\n",
       "      <td>50000.000000</td>\n",
       "      <td>50000.00000</td>\n",
       "      <td>50000.000000</td>\n",
       "      <td>50000.000000</td>\n",
       "      <td>50000</td>\n",
       "      <td>50000.000000</td>\n",
       "      <td>50000.000000</td>\n",
       "      <td>50000.000000</td>\n",
       "    </tr>\n",
       "    <tr>\n",
       "      <th>unique</th>\n",
       "      <td>NaN</td>\n",
       "      <td>NaN</td>\n",
       "      <td>NaN</td>\n",
       "      <td>NaN</td>\n",
       "      <td>NaN</td>\n",
       "      <td>NaN</td>\n",
       "      <td>NaN</td>\n",
       "      <td>NaN</td>\n",
       "      <td>NaN</td>\n",
       "      <td>2</td>\n",
       "      <td>NaN</td>\n",
       "      <td>NaN</td>\n",
       "      <td>NaN</td>\n",
       "    </tr>\n",
       "    <tr>\n",
       "      <th>top</th>\n",
       "      <td>NaN</td>\n",
       "      <td>NaN</td>\n",
       "      <td>NaN</td>\n",
       "      <td>NaN</td>\n",
       "      <td>NaN</td>\n",
       "      <td>NaN</td>\n",
       "      <td>NaN</td>\n",
       "      <td>NaN</td>\n",
       "      <td>NaN</td>\n",
       "      <td>True</td>\n",
       "      <td>NaN</td>\n",
       "      <td>NaN</td>\n",
       "      <td>NaN</td>\n",
       "    </tr>\n",
       "    <tr>\n",
       "      <th>freq</th>\n",
       "      <td>NaN</td>\n",
       "      <td>NaN</td>\n",
       "      <td>NaN</td>\n",
       "      <td>NaN</td>\n",
       "      <td>NaN</td>\n",
       "      <td>NaN</td>\n",
       "      <td>NaN</td>\n",
       "      <td>NaN</td>\n",
       "      <td>NaN</td>\n",
       "      <td>25943</td>\n",
       "      <td>NaN</td>\n",
       "      <td>NaN</td>\n",
       "      <td>NaN</td>\n",
       "    </tr>\n",
       "    <tr>\n",
       "      <th>mean</th>\n",
       "      <td>24999.500000</td>\n",
       "      <td>1.447573e+09</td>\n",
       "      <td>2476.453500</td>\n",
       "      <td>1000.016440</td>\n",
       "      <td>935.250060</td>\n",
       "      <td>34.529460</td>\n",
       "      <td>34.77526</td>\n",
       "      <td>93.825520</td>\n",
       "      <td>21.468000</td>\n",
       "      <td>NaN</td>\n",
       "      <td>0.015480</td>\n",
       "      <td>0.036820</td>\n",
       "      <td>142.304720</td>\n",
       "    </tr>\n",
       "    <tr>\n",
       "      <th>std</th>\n",
       "      <td>14433.901067</td>\n",
       "      <td>1.485270e+05</td>\n",
       "      <td>634.631261</td>\n",
       "      <td>948.211846</td>\n",
       "      <td>937.974714</td>\n",
       "      <td>29.209672</td>\n",
       "      <td>29.73214</td>\n",
       "      <td>92.648332</td>\n",
       "      <td>3.218258</td>\n",
       "      <td>NaN</td>\n",
       "      <td>0.364696</td>\n",
       "      <td>0.871068</td>\n",
       "      <td>25.156608</td>\n",
       "    </tr>\n",
       "    <tr>\n",
       "      <th>min</th>\n",
       "      <td>0.000000</td>\n",
       "      <td>1.446750e+09</td>\n",
       "      <td>59.000000</td>\n",
       "      <td>0.000000</td>\n",
       "      <td>0.000000</td>\n",
       "      <td>0.000000</td>\n",
       "      <td>0.00000</td>\n",
       "      <td>0.000000</td>\n",
       "      <td>2.000000</td>\n",
       "      <td>NaN</td>\n",
       "      <td>0.000000</td>\n",
       "      <td>0.000000</td>\n",
       "      <td>111.000000</td>\n",
       "    </tr>\n",
       "    <tr>\n",
       "      <th>25%</th>\n",
       "      <td>12499.750000</td>\n",
       "      <td>1.447456e+09</td>\n",
       "      <td>2029.000000</td>\n",
       "      <td>0.000000</td>\n",
       "      <td>0.000000</td>\n",
       "      <td>0.000000</td>\n",
       "      <td>0.00000</td>\n",
       "      <td>9.000000</td>\n",
       "      <td>22.000000</td>\n",
       "      <td>NaN</td>\n",
       "      <td>0.000000</td>\n",
       "      <td>0.000000</td>\n",
       "      <td>123.000000</td>\n",
       "    </tr>\n",
       "    <tr>\n",
       "      <th>50%</th>\n",
       "      <td>24999.500000</td>\n",
       "      <td>1.447577e+09</td>\n",
       "      <td>2415.000000</td>\n",
       "      <td>1536.000000</td>\n",
       "      <td>384.000000</td>\n",
       "      <td>51.000000</td>\n",
       "      <td>51.00000</td>\n",
       "      <td>77.000000</td>\n",
       "      <td>22.000000</td>\n",
       "      <td>NaN</td>\n",
       "      <td>0.000000</td>\n",
       "      <td>0.000000</td>\n",
       "      <td>133.000000</td>\n",
       "    </tr>\n",
       "    <tr>\n",
       "      <th>75%</th>\n",
       "      <td>37499.250000</td>\n",
       "      <td>1.447700e+09</td>\n",
       "      <td>2872.000000</td>\n",
       "      <td>1974.000000</td>\n",
       "      <td>1972.000000</td>\n",
       "      <td>63.000000</td>\n",
       "      <td>63.00000</td>\n",
       "      <td>144.000000</td>\n",
       "      <td>22.000000</td>\n",
       "      <td>NaN</td>\n",
       "      <td>0.000000</td>\n",
       "      <td>0.000000</td>\n",
       "      <td>154.000000</td>\n",
       "    </tr>\n",
       "    <tr>\n",
       "      <th>max</th>\n",
       "      <td>49999.000000</td>\n",
       "      <td>1.447829e+09</td>\n",
       "      <td>16037.000000</td>\n",
       "      <td>2047.000000</td>\n",
       "      <td>2047.000000</td>\n",
       "      <td>63.000000</td>\n",
       "      <td>63.00000</td>\n",
       "      <td>831.000000</td>\n",
       "      <td>22.000000</td>\n",
       "      <td>NaN</td>\n",
       "      <td>47.000000</td>\n",
       "      <td>80.000000</td>\n",
       "      <td>242.000000</td>\n",
       "    </tr>\n",
       "  </tbody>\n",
       "</table>\n",
       "</div>"
      ],
      "text/plain": [
       "            match_id    start_time      duration  tower_status_radiant  \\\n",
       "count   50000.000000  5.000000e+04  50000.000000          50000.000000   \n",
       "unique           NaN           NaN           NaN                   NaN   \n",
       "top              NaN           NaN           NaN                   NaN   \n",
       "freq             NaN           NaN           NaN                   NaN   \n",
       "mean    24999.500000  1.447573e+09   2476.453500           1000.016440   \n",
       "std     14433.901067  1.485270e+05    634.631261            948.211846   \n",
       "min         0.000000  1.446750e+09     59.000000              0.000000   \n",
       "25%     12499.750000  1.447456e+09   2029.000000              0.000000   \n",
       "50%     24999.500000  1.447577e+09   2415.000000           1536.000000   \n",
       "75%     37499.250000  1.447700e+09   2872.000000           1974.000000   \n",
       "max     49999.000000  1.447829e+09  16037.000000           2047.000000   \n",
       "\n",
       "        tower_status_dire  barracks_status_dire  barracks_status_radiant  \\\n",
       "count        50000.000000          50000.000000              50000.00000   \n",
       "unique                NaN                   NaN                      NaN   \n",
       "top                   NaN                   NaN                      NaN   \n",
       "freq                  NaN                   NaN                      NaN   \n",
       "mean           935.250060             34.529460                 34.77526   \n",
       "std            937.974714             29.209672                 29.73214   \n",
       "min              0.000000              0.000000                  0.00000   \n",
       "25%              0.000000              0.000000                  0.00000   \n",
       "50%            384.000000             51.000000                 51.00000   \n",
       "75%           1972.000000             63.000000                 63.00000   \n",
       "max           2047.000000             63.000000                 63.00000   \n",
       "\n",
       "        first_blood_time     game_mode radiant_win  negative_votes  \\\n",
       "count       50000.000000  50000.000000       50000    50000.000000   \n",
       "unique               NaN           NaN           2             NaN   \n",
       "top                  NaN           NaN        True             NaN   \n",
       "freq                 NaN           NaN       25943             NaN   \n",
       "mean           93.825520     21.468000         NaN        0.015480   \n",
       "std            92.648332      3.218258         NaN        0.364696   \n",
       "min             0.000000      2.000000         NaN        0.000000   \n",
       "25%             9.000000     22.000000         NaN        0.000000   \n",
       "50%            77.000000     22.000000         NaN        0.000000   \n",
       "75%           144.000000     22.000000         NaN        0.000000   \n",
       "max           831.000000     22.000000         NaN       47.000000   \n",
       "\n",
       "        positive_votes       cluster  \n",
       "count     50000.000000  50000.000000  \n",
       "unique             NaN           NaN  \n",
       "top                NaN           NaN  \n",
       "freq               NaN           NaN  \n",
       "mean          0.036820    142.304720  \n",
       "std           0.871068     25.156608  \n",
       "min           0.000000    111.000000  \n",
       "25%           0.000000    123.000000  \n",
       "50%           0.000000    133.000000  \n",
       "75%           0.000000    154.000000  \n",
       "max          80.000000    242.000000  "
      ]
     },
     "execution_count": 36,
     "metadata": {},
     "output_type": "execute_result"
    }
   ],
   "source": [
    "match.describe(include='all')"
   ]
  },
  {
   "cell_type": "code",
   "execution_count": 82,
   "metadata": {
    "collapsed": false
   },
   "outputs": [
    {
     "data": {
      "text/html": [
       "<div>\n",
       "<table border=\"1\" class=\"dataframe\">\n",
       "  <thead>\n",
       "    <tr style=\"text-align: right;\">\n",
       "      <th></th>\n",
       "      <th>match_id</th>\n",
       "      <th>key</th>\n",
       "      <th>slot</th>\n",
       "      <th>time</th>\n",
       "      <th>unit</th>\n",
       "      <th>Nachlänge</th>\n",
       "    </tr>\n",
       "  </thead>\n",
       "  <tbody>\n",
       "    <tr>\n",
       "      <th>count</th>\n",
       "      <td>1.439488e+06</td>\n",
       "      <td>1439475</td>\n",
       "      <td>1.439488e+06</td>\n",
       "      <td>1.439488e+06</td>\n",
       "      <td>1439453</td>\n",
       "      <td>1.439475e+06</td>\n",
       "    </tr>\n",
       "    <tr>\n",
       "      <th>unique</th>\n",
       "      <td>NaN</td>\n",
       "      <td>690815</td>\n",
       "      <td>NaN</td>\n",
       "      <td>NaN</td>\n",
       "      <td>177992</td>\n",
       "      <td>NaN</td>\n",
       "    </tr>\n",
       "    <tr>\n",
       "      <th>top</th>\n",
       "      <td>NaN</td>\n",
       "      <td>gg</td>\n",
       "      <td>NaN</td>\n",
       "      <td>NaN</td>\n",
       "      <td>Deez_Nuts</td>\n",
       "      <td>NaN</td>\n",
       "    </tr>\n",
       "    <tr>\n",
       "      <th>freq</th>\n",
       "      <td>NaN</td>\n",
       "      <td>65412</td>\n",
       "      <td>NaN</td>\n",
       "      <td>NaN</td>\n",
       "      <td>1507</td>\n",
       "      <td>NaN</td>\n",
       "    </tr>\n",
       "    <tr>\n",
       "      <th>mean</th>\n",
       "      <td>2.495673e+04</td>\n",
       "      <td>NaN</td>\n",
       "      <td>4.493948e+00</td>\n",
       "      <td>1.708153e+03</td>\n",
       "      <td>NaN</td>\n",
       "      <td>1.063308e+01</td>\n",
       "    </tr>\n",
       "    <tr>\n",
       "      <th>std</th>\n",
       "      <td>1.457124e+04</td>\n",
       "      <td>NaN</td>\n",
       "      <td>2.877044e+00</td>\n",
       "      <td>9.868280e+02</td>\n",
       "      <td>NaN</td>\n",
       "      <td>1.027520e+01</td>\n",
       "    </tr>\n",
       "    <tr>\n",
       "      <th>min</th>\n",
       "      <td>0.000000e+00</td>\n",
       "      <td>NaN</td>\n",
       "      <td>-9.000000e+00</td>\n",
       "      <td>-9.070000e+02</td>\n",
       "      <td>NaN</td>\n",
       "      <td>1.000000e+00</td>\n",
       "    </tr>\n",
       "    <tr>\n",
       "      <th>25%</th>\n",
       "      <td>1.227900e+04</td>\n",
       "      <td>NaN</td>\n",
       "      <td>2.000000e+00</td>\n",
       "      <td>1.020000e+03</td>\n",
       "      <td>NaN</td>\n",
       "      <td>3.000000e+00</td>\n",
       "    </tr>\n",
       "    <tr>\n",
       "      <th>50%</th>\n",
       "      <td>2.483900e+04</td>\n",
       "      <td>NaN</td>\n",
       "      <td>5.000000e+00</td>\n",
       "      <td>1.776000e+03</td>\n",
       "      <td>NaN</td>\n",
       "      <td>7.000000e+00</td>\n",
       "    </tr>\n",
       "    <tr>\n",
       "      <th>75%</th>\n",
       "      <td>3.767800e+04</td>\n",
       "      <td>NaN</td>\n",
       "      <td>7.000000e+00</td>\n",
       "      <td>2.386000e+03</td>\n",
       "      <td>NaN</td>\n",
       "      <td>1.400000e+01</td>\n",
       "    </tr>\n",
       "    <tr>\n",
       "      <th>max</th>\n",
       "      <td>4.999900e+04</td>\n",
       "      <td>NaN</td>\n",
       "      <td>9.000000e+00</td>\n",
       "      <td>1.605700e+04</td>\n",
       "      <td>NaN</td>\n",
       "      <td>1.270000e+02</td>\n",
       "    </tr>\n",
       "  </tbody>\n",
       "</table>\n",
       "</div>"
      ],
      "text/plain": [
       "            match_id      key          slot          time       unit  \\\n",
       "count   1.439488e+06  1439475  1.439488e+06  1.439488e+06    1439453   \n",
       "unique           NaN   690815           NaN           NaN     177992   \n",
       "top              NaN       gg           NaN           NaN  Deez_Nuts   \n",
       "freq             NaN    65412           NaN           NaN       1507   \n",
       "mean    2.495673e+04      NaN  4.493948e+00  1.708153e+03        NaN   \n",
       "std     1.457124e+04      NaN  2.877044e+00  9.868280e+02        NaN   \n",
       "min     0.000000e+00      NaN -9.000000e+00 -9.070000e+02        NaN   \n",
       "25%     1.227900e+04      NaN  2.000000e+00  1.020000e+03        NaN   \n",
       "50%     2.483900e+04      NaN  5.000000e+00  1.776000e+03        NaN   \n",
       "75%     3.767800e+04      NaN  7.000000e+00  2.386000e+03        NaN   \n",
       "max     4.999900e+04      NaN  9.000000e+00  1.605700e+04        NaN   \n",
       "\n",
       "           Nachlänge  \n",
       "count   1.439475e+06  \n",
       "unique           NaN  \n",
       "top              NaN  \n",
       "freq             NaN  \n",
       "mean    1.063308e+01  \n",
       "std     1.027520e+01  \n",
       "min     1.000000e+00  \n",
       "25%     3.000000e+00  \n",
       "50%     7.000000e+00  \n",
       "75%     1.400000e+01  \n",
       "max     1.270000e+02  "
      ]
     },
     "execution_count": 82,
     "metadata": {},
     "output_type": "execute_result"
    }
   ],
   "source": [
    "chat.describe(include='all')"
   ]
  },
  {
   "cell_type": "markdown",
   "metadata": {},
   "source": [
    "#### Ermittlung der Nachrichtenlänge."
   ]
  },
  {
   "cell_type": "code",
   "execution_count": 79,
   "metadata": {
    "collapsed": false
   },
   "outputs": [],
   "source": [
    "chat['Nachlänge'] = chat['key'].str.len()"
   ]
  },
  {
   "cell_type": "code",
   "execution_count": 88,
   "metadata": {
    "collapsed": false
   },
   "outputs": [
    {
     "data": {
      "text/html": [
       "<div>\n",
       "<table border=\"1\" class=\"dataframe\">\n",
       "  <thead>\n",
       "    <tr style=\"text-align: right;\">\n",
       "      <th></th>\n",
       "      <th>Nachlänge</th>\n",
       "      <th>Anzahl</th>\n",
       "      <th>durchlä</th>\n",
       "      <th>Spiellänge</th>\n",
       "    </tr>\n",
       "    <tr>\n",
       "      <th>match_id</th>\n",
       "      <th></th>\n",
       "      <th></th>\n",
       "      <th></th>\n",
       "      <th></th>\n",
       "    </tr>\n",
       "  </thead>\n",
       "  <tbody>\n",
       "    <tr>\n",
       "      <th>0</th>\n",
       "      <td>513.0</td>\n",
       "      <td>51</td>\n",
       "      <td>10.058824</td>\n",
       "      <td>2375</td>\n",
       "    </tr>\n",
       "    <tr>\n",
       "      <th>1</th>\n",
       "      <td>134.0</td>\n",
       "      <td>16</td>\n",
       "      <td>8.375000</td>\n",
       "      <td>2582</td>\n",
       "    </tr>\n",
       "    <tr>\n",
       "      <th>2</th>\n",
       "      <td>435.0</td>\n",
       "      <td>45</td>\n",
       "      <td>9.666667</td>\n",
       "      <td>2716</td>\n",
       "    </tr>\n",
       "    <tr>\n",
       "      <th>3</th>\n",
       "      <td>194.0</td>\n",
       "      <td>25</td>\n",
       "      <td>7.760000</td>\n",
       "      <td>3085</td>\n",
       "    </tr>\n",
       "    <tr>\n",
       "      <th>4</th>\n",
       "      <td>49.0</td>\n",
       "      <td>7</td>\n",
       "      <td>7.000000</td>\n",
       "      <td>1887</td>\n",
       "    </tr>\n",
       "  </tbody>\n",
       "</table>\n",
       "</div>"
      ],
      "text/plain": [
       "          Nachlänge  Anzahl    durchlä  Spiellänge\n",
       "match_id                                          \n",
       "0             513.0      51  10.058824        2375\n",
       "1             134.0      16   8.375000        2582\n",
       "2             435.0      45   9.666667        2716\n",
       "3             194.0      25   7.760000        3085\n",
       "4              49.0       7   7.000000        1887"
      ]
     },
     "execution_count": 88,
     "metadata": {},
     "output_type": "execute_result"
    }
   ],
   "source": [
    "chatbymatch = chat[['match_id', 'Nachlänge']].groupby('match_id').sum()\n",
    "chatbymatch['Anzahl'] = chat[['match_id', 'Nachlänge']].groupby('match_id').count()\n",
    "chatbymatch ['durchlä'] = chatbymatch['Nachlänge'] / chatbymatch['Anzahl']\n",
    "chatbymatch ['Spiellänge'] = match['duration']\n",
    "chatbymatch.head()"
   ]
  },
  {
   "cell_type": "markdown",
   "metadata": {},
   "source": [
    "#### Wie viel wird insgesamt gechattet?"
   ]
  },
  {
   "cell_type": "code",
   "execution_count": 9,
   "metadata": {
    "collapsed": false
   },
   "outputs": [
    {
     "data": {
      "text/plain": [
       "14986    449\n",
       "9946     417\n",
       "34964    414\n",
       "43821    412\n",
       "35258    403\n",
       "Name: match_id, dtype: int64"
      ]
     },
     "execution_count": 9,
     "metadata": {},
     "output_type": "execute_result"
    }
   ],
   "source": [
    "chatvolumen = chat['match_id'].value_counts()\n",
    "chatvolumen.head()"
   ]
  },
  {
   "cell_type": "markdown",
   "metadata": {},
   "source": [
    "#### Händischer Vergleich mit dem Datensatz."
   ]
  },
  {
   "cell_type": "code",
   "execution_count": 23,
   "metadata": {
    "collapsed": false
   },
   "outputs": [
    {
     "data": {
      "text/plain": [
       "51"
      ]
     },
     "execution_count": 23,
     "metadata": {},
     "output_type": "execute_result"
    }
   ],
   "source": [
    "chatvolumen = chat['match_id'].value_counts()\n",
    "chatvolumen[0]"
   ]
  },
  {
   "cell_type": "markdown",
   "metadata": {
    "collapsed": true
   },
   "source": [
    "#### Neue Spalte die das Chatvolumen darstellt in Dataframe 'match' einfügen."
   ]
  },
  {
   "cell_type": "code",
   "execution_count": 46,
   "metadata": {
    "collapsed": true
   },
   "outputs": [],
   "source": [
    "match['chatvolumen'] = chatvolumen "
   ]
  },
  {
   "cell_type": "code",
   "execution_count": 47,
   "metadata": {
    "collapsed": false
   },
   "outputs": [
    {
     "data": {
      "text/html": [
       "<div>\n",
       "<table border=\"1\" class=\"dataframe\">\n",
       "  <thead>\n",
       "    <tr style=\"text-align: right;\">\n",
       "      <th></th>\n",
       "      <th>match_id</th>\n",
       "      <th>start_time</th>\n",
       "      <th>duration</th>\n",
       "      <th>tower_status_radiant</th>\n",
       "      <th>tower_status_dire</th>\n",
       "      <th>barracks_status_dire</th>\n",
       "      <th>barracks_status_radiant</th>\n",
       "      <th>first_blood_time</th>\n",
       "      <th>game_mode</th>\n",
       "      <th>radiant_win</th>\n",
       "      <th>negative_votes</th>\n",
       "      <th>positive_votes</th>\n",
       "      <th>cluster</th>\n",
       "      <th>nachpromin</th>\n",
       "      <th>chatvolumen</th>\n",
       "    </tr>\n",
       "  </thead>\n",
       "  <tbody>\n",
       "    <tr>\n",
       "      <th>0</th>\n",
       "      <td>0</td>\n",
       "      <td>1446750112</td>\n",
       "      <td>2375</td>\n",
       "      <td>1982</td>\n",
       "      <td>4</td>\n",
       "      <td>3</td>\n",
       "      <td>63</td>\n",
       "      <td>1</td>\n",
       "      <td>22</td>\n",
       "      <td>True</td>\n",
       "      <td>0</td>\n",
       "      <td>1</td>\n",
       "      <td>155</td>\n",
       "      <td>1.288421</td>\n",
       "      <td>51.0</td>\n",
       "    </tr>\n",
       "    <tr>\n",
       "      <th>1</th>\n",
       "      <td>1</td>\n",
       "      <td>1446753078</td>\n",
       "      <td>2582</td>\n",
       "      <td>0</td>\n",
       "      <td>1846</td>\n",
       "      <td>63</td>\n",
       "      <td>0</td>\n",
       "      <td>221</td>\n",
       "      <td>22</td>\n",
       "      <td>False</td>\n",
       "      <td>0</td>\n",
       "      <td>2</td>\n",
       "      <td>154</td>\n",
       "      <td>0.371805</td>\n",
       "      <td>16.0</td>\n",
       "    </tr>\n",
       "    <tr>\n",
       "      <th>2</th>\n",
       "      <td>2</td>\n",
       "      <td>1446764586</td>\n",
       "      <td>2716</td>\n",
       "      <td>256</td>\n",
       "      <td>1972</td>\n",
       "      <td>63</td>\n",
       "      <td>48</td>\n",
       "      <td>190</td>\n",
       "      <td>22</td>\n",
       "      <td>False</td>\n",
       "      <td>0</td>\n",
       "      <td>0</td>\n",
       "      <td>132</td>\n",
       "      <td>0.994109</td>\n",
       "      <td>45.0</td>\n",
       "    </tr>\n",
       "    <tr>\n",
       "      <th>3</th>\n",
       "      <td>3</td>\n",
       "      <td>1446765723</td>\n",
       "      <td>3085</td>\n",
       "      <td>4</td>\n",
       "      <td>1924</td>\n",
       "      <td>51</td>\n",
       "      <td>3</td>\n",
       "      <td>40</td>\n",
       "      <td>22</td>\n",
       "      <td>False</td>\n",
       "      <td>0</td>\n",
       "      <td>0</td>\n",
       "      <td>191</td>\n",
       "      <td>0.486224</td>\n",
       "      <td>25.0</td>\n",
       "    </tr>\n",
       "    <tr>\n",
       "      <th>4</th>\n",
       "      <td>4</td>\n",
       "      <td>1446796385</td>\n",
       "      <td>1887</td>\n",
       "      <td>2047</td>\n",
       "      <td>0</td>\n",
       "      <td>0</td>\n",
       "      <td>63</td>\n",
       "      <td>58</td>\n",
       "      <td>22</td>\n",
       "      <td>True</td>\n",
       "      <td>0</td>\n",
       "      <td>0</td>\n",
       "      <td>156</td>\n",
       "      <td>0.222576</td>\n",
       "      <td>7.0</td>\n",
       "    </tr>\n",
       "  </tbody>\n",
       "</table>\n",
       "</div>"
      ],
      "text/plain": [
       "   match_id  start_time  duration  tower_status_radiant  tower_status_dire  \\\n",
       "0         0  1446750112      2375                  1982                  4   \n",
       "1         1  1446753078      2582                     0               1846   \n",
       "2         2  1446764586      2716                   256               1972   \n",
       "3         3  1446765723      3085                     4               1924   \n",
       "4         4  1446796385      1887                  2047                  0   \n",
       "\n",
       "   barracks_status_dire  barracks_status_radiant  first_blood_time  game_mode  \\\n",
       "0                     3                       63                 1         22   \n",
       "1                    63                        0               221         22   \n",
       "2                    63                       48               190         22   \n",
       "3                    51                        3                40         22   \n",
       "4                     0                       63                58         22   \n",
       "\n",
       "  radiant_win  negative_votes  positive_votes  cluster  nachpromin  \\\n",
       "0        True               0               1      155    1.288421   \n",
       "1       False               0               2      154    0.371805   \n",
       "2       False               0               0      132    0.994109   \n",
       "3       False               0               0      191    0.486224   \n",
       "4        True               0               0      156    0.222576   \n",
       "\n",
       "   chatvolumen  \n",
       "0         51.0  \n",
       "1         16.0  \n",
       "2         45.0  \n",
       "3         25.0  \n",
       "4          7.0  "
      ]
     },
     "execution_count": 47,
     "metadata": {},
     "output_type": "execute_result"
    }
   ],
   "source": [
    "#Überprüfen \n",
    "match.head()"
   ]
  },
  {
   "cell_type": "markdown",
   "metadata": {},
   "source": [
    "#### Zusammenhang der Laufzeit und des Chatvolumens."
   ]
  },
  {
   "cell_type": "code",
   "execution_count": 68,
   "metadata": {
    "collapsed": true
   },
   "outputs": [],
   "source": [
    "def ccc(crosstab):\n",
    "    chi2 = stats.chi2_contingency(crosstab)[0]\n",
    "    q = min(crosstab.shape)\n",
    "    if q > 1:\n",
    "        return np.sqrt(chi2 / (chi2 + crosstab.values.sum())) * np.sqrt(q / (q-1))\n",
    "    else:\n",
    "        return 0"
   ]
  },
  {
   "cell_type": "code",
   "execution_count": 69,
   "metadata": {
    "collapsed": false
   },
   "outputs": [
    {
     "data": {
      "text/plain": [
       "0.98355187397586674"
      ]
     },
     "execution_count": 69,
     "metadata": {},
     "output_type": "execute_result"
    }
   ],
   "source": [
    "ccc(pd.crosstab(match['duration'], match['chatvolumen']))"
   ]
  },
  {
   "cell_type": "markdown",
   "metadata": {},
   "source": [
    "** Interpretation: ** Das Ergebnis ist ungenau, da in einer längeren Spielzeit mehr geschrieben werden kann als in einer kürzeren Spiellänge. Daher ist es besser mit relativen Werten zu rechnen."
   ]
  },
  {
   "cell_type": "markdown",
   "metadata": {},
   "source": [
    "#### Bewertung des individuellen Einflüsses von der Laufzeit auf das Chatvolumen mit Hilfe der im DataFrame integrierten Funktion *corr()*!"
   ]
  },
  {
   "cell_type": "code",
   "execution_count": 44,
   "metadata": {
    "collapsed": false
   },
   "outputs": [
    {
     "data": {
      "text/html": [
       "<div>\n",
       "<table border=\"1\" class=\"dataframe\">\n",
       "  <thead>\n",
       "    <tr style=\"text-align: right;\">\n",
       "      <th></th>\n",
       "      <th>chatvolumen</th>\n",
       "      <th>duration</th>\n",
       "    </tr>\n",
       "  </thead>\n",
       "  <tbody>\n",
       "    <tr>\n",
       "      <th>chatvolumen</th>\n",
       "      <td>1.00000</td>\n",
       "      <td>0.07607</td>\n",
       "    </tr>\n",
       "    <tr>\n",
       "      <th>duration</th>\n",
       "      <td>0.07607</td>\n",
       "      <td>1.00000</td>\n",
       "    </tr>\n",
       "  </tbody>\n",
       "</table>\n",
       "</div>"
      ],
      "text/plain": [
       "             chatvolumen  duration\n",
       "chatvolumen      1.00000   0.07607\n",
       "duration         0.07607   1.00000"
      ]
     },
     "execution_count": 44,
     "metadata": {},
     "output_type": "execute_result"
    }
   ],
   "source": [
    "zu = match[['chatvolumen', 'duration']].corr()\n",
    "zu"
   ]
  },
  {
   "cell_type": "markdown",
   "metadata": {},
   "source": [
    "** Interpretation: ** "
   ]
  },
  {
   "cell_type": "code",
   "execution_count": 73,
   "metadata": {
    "collapsed": false
   },
   "outputs": [
    {
     "data": {
      "image/png": "[encoded data removed]",
      "text/plain": [
       "<matplotlib.figure.Figure at 0x248eb6b7400>"
      ]
     },
     "metadata": {},
     "output_type": "display_data"
    }
   ],
   "source": [
    "a = sns.stripplot(x='duration', y='chatvolumen', data =match)"
   ]
  },
  {
   "cell_type": "code",
   "execution_count": 74,
   "metadata": {
    "collapsed": false
   },
   "outputs": [
    {
     "data": {
      "text/plain": [
       "<matplotlib.axes._subplots.AxesSubplot at 0x248f2d6cac8>"
      ]
     },
     "execution_count": 74,
     "metadata": {},
     "output_type": "execute_result"
    }
   ],
   "source": [
    "a"
   ]
  },
  {
   "cell_type": "markdown",
   "metadata": {},
   "source": [
    "#### Visualisierung des Zusammenhangs der Laufzeit und des Chatvolumens."
   ]
  },
  {
   "cell_type": "code",
   "execution_count": null,
   "metadata": {
    "collapsed": true
   },
   "outputs": [],
   "source": [
    "#chatvolumen = chat['match_id'].value_counts()\n",
    "#crosstabplot(pd.crosstab(match['duration'], chatvolumen))\n",
    "#sns.lmplot(laufzeitm , chatvolumen, data=match, hue='radiant_win', fit_reg=False)"
   ]
  },
  {
   "cell_type": "markdown",
   "metadata": {},
   "source": [
    "#### Zusammenhang zwischen der Laufzeit in Minuten und des relativen Werten des Chatvolumens (geschriebenen Nachrichten pro Minute)."
   ]
  },
  {
   "cell_type": "code",
   "execution_count": 25,
   "metadata": {
    "collapsed": false
   },
   "outputs": [
    {
     "data": {
      "text/plain": [
       "0    39.583333\n",
       "1    43.033333\n",
       "2    45.266667\n",
       "3    51.416667\n",
       "4    31.450000\n",
       "Name: duration, dtype: float64"
      ]
     },
     "execution_count": 25,
     "metadata": {},
     "output_type": "execute_result"
    }
   ],
   "source": [
    "#laufzeit in minuten\n",
    "laufzeitm = match['duration']/60\n",
    "laufzeitm.head()"
   ]
  },
  {
   "cell_type": "code",
   "execution_count": 26,
   "metadata": {
    "collapsed": false
   },
   "outputs": [
    {
     "data": {
      "text/plain": [
       "0    1.288421\n",
       "1    0.371805\n",
       "2    0.994109\n",
       "3    0.486224\n",
       "4    0.222576\n",
       "dtype: float64"
      ]
     },
     "execution_count": 26,
     "metadata": {},
     "output_type": "execute_result"
    }
   ],
   "source": [
    "#Relative Werte des des Chatvolumens (der geschriebenen Nachrichten)\n",
    "rela = chatvolumen / laufzeitm\n",
    "rela.head()"
   ]
  },
  {
   "cell_type": "code",
   "execution_count": 27,
   "metadata": {
    "collapsed": false
   },
   "outputs": [
    {
     "data": {
      "text/plain": [
       "0.99997961152102011"
      ]
     },
     "execution_count": 27,
     "metadata": {},
     "output_type": "execute_result"
    }
   ],
   "source": [
    "ccc(pd.crosstab([laufzeitm], [rela]))"
   ]
  },
  {
   "cell_type": "markdown",
   "metadata": {},
   "source": [
    "** Interpretation: ** Laut des korrigierten Kontigenze Koeffizienten besteht ein sehr starker Zusammenhang zwischen der Laufzeit und dem Chatvolumen, das heißt die Merkmale sind nicht unabhängig voneinander. "
   ]
  },
  {
   "cell_type": "markdown",
   "metadata": {},
   "source": [
    "#### Geschriebene Nachrichten pro Minute"
   ]
  },
  {
   "cell_type": "code",
   "execution_count": 29,
   "metadata": {
    "collapsed": false
   },
   "outputs": [
    {
     "data": {
      "text/plain": [
       "0    39.583333\n",
       "1    43.033333\n",
       "2    45.266667\n",
       "3    51.416667\n",
       "4    31.450000\n",
       "Name: duration, dtype: float64"
      ]
     },
     "execution_count": 29,
     "metadata": {},
     "output_type": "execute_result"
    }
   ],
   "source": [
    "#nachrichten / laufzeit des Spiels \n",
    "laufzeitm = match['duration']/60\n",
    "laufzeitm.head()"
   ]
  },
  {
   "cell_type": "code",
   "execution_count": 27,
   "metadata": {
    "collapsed": false
   },
   "outputs": [
    {
     "data": {
      "text/plain": [
       "14986    449\n",
       "9946     417\n",
       "34964    414\n",
       "43821    412\n",
       "35258    403\n",
       "Name: match_id, dtype: int64"
      ]
     },
     "execution_count": 27,
     "metadata": {},
     "output_type": "execute_result"
    }
   ],
   "source": [
    "chatvolumen = chat['match_id'].value_counts()\n",
    "chatvolumen.head()"
   ]
  },
  {
   "cell_type": "code",
   "execution_count": 30,
   "metadata": {
    "collapsed": false
   },
   "outputs": [
    {
     "data": {
      "text/plain": [
       "0        1.288421\n",
       "1        0.371805\n",
       "2        0.994109\n",
       "3        0.486224\n",
       "4        0.222576\n",
       "5        0.190597\n",
       "6        0.508475\n",
       "7        0.670103\n",
       "8        1.648352\n",
       "9        1.175279\n",
       "10       0.384123\n",
       "11       0.274390\n",
       "12       0.435544\n",
       "13       0.562806\n",
       "14       0.416667\n",
       "15       0.326714\n",
       "16       0.542495\n",
       "17       0.489731\n",
       "18       1.127660\n",
       "19       0.161146\n",
       "20       0.604203\n",
       "21       0.891530\n",
       "22       0.784314\n",
       "23       0.371991\n",
       "24       0.462157\n",
       "25       0.740741\n",
       "26       0.560374\n",
       "27       0.482042\n",
       "28       0.517946\n",
       "29       1.629280\n",
       "           ...   \n",
       "49970    0.935944\n",
       "49971    0.619469\n",
       "49972    0.321285\n",
       "49973    0.632644\n",
       "49974    0.592441\n",
       "49975    0.808175\n",
       "49976    2.260991\n",
       "49977    1.180173\n",
       "49978    1.254705\n",
       "49979    0.757180\n",
       "49980    1.091703\n",
       "49981    0.342255\n",
       "49982    1.297193\n",
       "49983    0.425997\n",
       "49984    0.234032\n",
       "49985    0.092688\n",
       "49986    0.843332\n",
       "49987    0.268371\n",
       "49988    0.367232\n",
       "49989    4.395887\n",
       "49990    0.787709\n",
       "49991    0.291363\n",
       "49992    0.265907\n",
       "49993    1.145228\n",
       "49994    0.984733\n",
       "49995    0.495868\n",
       "49996    0.206754\n",
       "49997    0.157186\n",
       "49998    0.678426\n",
       "49999    0.731707\n",
       "dtype: float64"
      ]
     },
     "execution_count": 30,
     "metadata": {},
     "output_type": "execute_result"
    }
   ],
   "source": [
    "### geschrieben Nachrichten \n",
    "pro = chatvolumen / laufzeitm\n",
    "pro"
   ]
  },
  {
   "cell_type": "markdown",
   "metadata": {},
   "source": [
    "#### Durchschnittliche Nachrichten pro Minute"
   ]
  },
  {
   "cell_type": "code",
   "execution_count": 48,
   "metadata": {
    "collapsed": false
   },
   "outputs": [
    {
     "data": {
      "text/plain": [
       "0.7427158100965271"
      ]
     },
     "execution_count": 48,
     "metadata": {},
     "output_type": "execute_result"
    }
   ],
   "source": [
    "mw = pro.mean(axis=0)\n",
    "mw"
   ]
  },
  {
   "cell_type": "markdown",
   "metadata": {},
   "source": [
    "#### Analyse des Zusammenhangs zwischen den geschriebenen Nachrichten pro Minute und dem Spielende mit Hilfe des Korrigierten Kontigenzkoefzient."
   ]
  },
  {
   "cell_type": "code",
   "execution_count": 34,
   "metadata": {
    "collapsed": true
   },
   "outputs": [],
   "source": [
    "#Berechnung des korrigierten Kontigenzkoeffizient \n",
    "###def ccc(crosstab):\n",
    " ##   chi2 = stats.chi2_contingency(crosstab)[0]\n",
    "   # q = min(crosstab.shape)\n",
    "  # # if q > 1:\n",
    "    #    return np.sqrt(chi2 / (chi2 + crosstab.values.sum())) * np.sqrt(q / (q-1))\n",
    "    #else:\n",
    "     #   return 0"
   ]
  },
  {
   "cell_type": "code",
   "execution_count": 47,
   "metadata": {
    "collapsed": false
   },
   "outputs": [
    {
     "data": {
      "text/plain": [
       "0"
      ]
     },
     "execution_count": 47,
     "metadata": {},
     "output_type": "execute_result"
    }
   ],
   "source": [
    "ccc(pd.crosstab(['radiant_win'],[pro]))"
   ]
  },
  {
   "cell_type": "markdown",
   "metadata": {},
   "source": [
    "** Interpretation: ** Laut des korrigierten Kontigenze Koeffizienten besteht kein Zusammenhang zwischen dem Chatvolumen und der Gewinnergebniss."
   ]
  },
  {
   "cell_type": "markdown",
   "metadata": {},
   "source": [
    "#### Neue Spalte, die die geschriebenen Nachrichten pro  Minute darstellt, in Dataframe 'match' einfügen."
   ]
  },
  {
   "cell_type": "code",
   "execution_count": 34,
   "metadata": {
    "collapsed": true
   },
   "outputs": [],
   "source": [
    "match['nachpromin'] = pro"
   ]
  },
  {
   "cell_type": "code",
   "execution_count": 35,
   "metadata": {
    "collapsed": false
   },
   "outputs": [
    {
     "data": {
      "text/html": [
       "<div>\n",
       "<table border=\"1\" class=\"dataframe\">\n",
       "  <thead>\n",
       "    <tr style=\"text-align: right;\">\n",
       "      <th></th>\n",
       "      <th>match_id</th>\n",
       "      <th>start_time</th>\n",
       "      <th>duration</th>\n",
       "      <th>tower_status_radiant</th>\n",
       "      <th>tower_status_dire</th>\n",
       "      <th>barracks_status_dire</th>\n",
       "      <th>barracks_status_radiant</th>\n",
       "      <th>first_blood_time</th>\n",
       "      <th>game_mode</th>\n",
       "      <th>radiant_win</th>\n",
       "      <th>negative_votes</th>\n",
       "      <th>positive_votes</th>\n",
       "      <th>cluster</th>\n",
       "      <th>nachpromin</th>\n",
       "    </tr>\n",
       "  </thead>\n",
       "  <tbody>\n",
       "    <tr>\n",
       "      <th>0</th>\n",
       "      <td>0</td>\n",
       "      <td>1446750112</td>\n",
       "      <td>2375</td>\n",
       "      <td>1982</td>\n",
       "      <td>4</td>\n",
       "      <td>3</td>\n",
       "      <td>63</td>\n",
       "      <td>1</td>\n",
       "      <td>22</td>\n",
       "      <td>True</td>\n",
       "      <td>0</td>\n",
       "      <td>1</td>\n",
       "      <td>155</td>\n",
       "      <td>1.288421</td>\n",
       "    </tr>\n",
       "    <tr>\n",
       "      <th>1</th>\n",
       "      <td>1</td>\n",
       "      <td>1446753078</td>\n",
       "      <td>2582</td>\n",
       "      <td>0</td>\n",
       "      <td>1846</td>\n",
       "      <td>63</td>\n",
       "      <td>0</td>\n",
       "      <td>221</td>\n",
       "      <td>22</td>\n",
       "      <td>False</td>\n",
       "      <td>0</td>\n",
       "      <td>2</td>\n",
       "      <td>154</td>\n",
       "      <td>0.371805</td>\n",
       "    </tr>\n",
       "    <tr>\n",
       "      <th>2</th>\n",
       "      <td>2</td>\n",
       "      <td>1446764586</td>\n",
       "      <td>2716</td>\n",
       "      <td>256</td>\n",
       "      <td>1972</td>\n",
       "      <td>63</td>\n",
       "      <td>48</td>\n",
       "      <td>190</td>\n",
       "      <td>22</td>\n",
       "      <td>False</td>\n",
       "      <td>0</td>\n",
       "      <td>0</td>\n",
       "      <td>132</td>\n",
       "      <td>0.994109</td>\n",
       "    </tr>\n",
       "    <tr>\n",
       "      <th>3</th>\n",
       "      <td>3</td>\n",
       "      <td>1446765723</td>\n",
       "      <td>3085</td>\n",
       "      <td>4</td>\n",
       "      <td>1924</td>\n",
       "      <td>51</td>\n",
       "      <td>3</td>\n",
       "      <td>40</td>\n",
       "      <td>22</td>\n",
       "      <td>False</td>\n",
       "      <td>0</td>\n",
       "      <td>0</td>\n",
       "      <td>191</td>\n",
       "      <td>0.486224</td>\n",
       "    </tr>\n",
       "    <tr>\n",
       "      <th>4</th>\n",
       "      <td>4</td>\n",
       "      <td>1446796385</td>\n",
       "      <td>1887</td>\n",
       "      <td>2047</td>\n",
       "      <td>0</td>\n",
       "      <td>0</td>\n",
       "      <td>63</td>\n",
       "      <td>58</td>\n",
       "      <td>22</td>\n",
       "      <td>True</td>\n",
       "      <td>0</td>\n",
       "      <td>0</td>\n",
       "      <td>156</td>\n",
       "      <td>0.222576</td>\n",
       "    </tr>\n",
       "  </tbody>\n",
       "</table>\n",
       "</div>"
      ],
      "text/plain": [
       "   match_id  start_time  duration  tower_status_radiant  tower_status_dire  \\\n",
       "0         0  1446750112      2375                  1982                  4   \n",
       "1         1  1446753078      2582                     0               1846   \n",
       "2         2  1446764586      2716                   256               1972   \n",
       "3         3  1446765723      3085                     4               1924   \n",
       "4         4  1446796385      1887                  2047                  0   \n",
       "\n",
       "   barracks_status_dire  barracks_status_radiant  first_blood_time  game_mode  \\\n",
       "0                     3                       63                 1         22   \n",
       "1                    63                        0               221         22   \n",
       "2                    63                       48               190         22   \n",
       "3                    51                        3                40         22   \n",
       "4                     0                       63                58         22   \n",
       "\n",
       "  radiant_win  negative_votes  positive_votes  cluster  nachpromin  \n",
       "0        True               0               1      155    1.288421  \n",
       "1       False               0               2      154    0.371805  \n",
       "2       False               0               0      132    0.994109  \n",
       "3       False               0               0      191    0.486224  \n",
       "4        True               0               0      156    0.222576  "
      ]
     },
     "execution_count": 35,
     "metadata": {},
     "output_type": "execute_result"
    }
   ],
   "source": [
    "#überprüfen \n",
    "match.head()"
   ]
  },
  {
   "cell_type": "markdown",
   "metadata": {
    "collapsed": true
   },
   "source": [
    "#### Bewertung der individuellen Einflüsse von der Laufzeit und der geschriebenen Nachrichten pro Minute auf das Spielende mit Hilfe der im DataFrame integrierten Funktion *corr()*!"
   ]
  },
  {
   "cell_type": "code",
   "execution_count": 38,
   "metadata": {
    "collapsed": false
   },
   "outputs": [
    {
     "data": {
      "text/html": [
       "<div>\n",
       "<table border=\"1\" class=\"dataframe\">\n",
       "  <thead>\n",
       "    <tr style=\"text-align: right;\">\n",
       "      <th></th>\n",
       "      <th>radiant_win</th>\n",
       "      <th>duration</th>\n",
       "      <th>nachpromin</th>\n",
       "    </tr>\n",
       "  </thead>\n",
       "  <tbody>\n",
       "    <tr>\n",
       "      <th>radiant_win</th>\n",
       "      <td>1.000000</td>\n",
       "      <td>-0.079037</td>\n",
       "      <td>0.004937</td>\n",
       "    </tr>\n",
       "    <tr>\n",
       "      <th>duration</th>\n",
       "      <td>-0.079037</td>\n",
       "      <td>1.000000</td>\n",
       "      <td>-0.220097</td>\n",
       "    </tr>\n",
       "    <tr>\n",
       "      <th>nachpromin</th>\n",
       "      <td>0.004937</td>\n",
       "      <td>-0.220097</td>\n",
       "      <td>1.000000</td>\n",
       "    </tr>\n",
       "  </tbody>\n",
       "</table>\n",
       "</div>"
      ],
      "text/plain": [
       "             radiant_win  duration  nachpromin\n",
       "radiant_win     1.000000 -0.079037    0.004937\n",
       "duration       -0.079037  1.000000   -0.220097\n",
       "nachpromin      0.004937 -0.220097    1.000000"
      ]
     },
     "execution_count": 38,
     "metadata": {},
     "output_type": "execute_result"
    }
   ],
   "source": [
    "match[['radiant_win', 'duration', 'nachpromin']].corr()\n"
   ]
  },
  {
   "cell_type": "markdown",
   "metadata": {},
   "source": [
    "** Interpretation: ** "
   ]
  },
  {
   "cell_type": "markdown",
   "metadata": {},
   "source": [
    "#### Ermittlung wie oft das Wort GG im Chatverlauf verwendet wurde"
   ]
  },
  {
   "cell_type": "code",
   "execution_count": 7,
   "metadata": {
    "collapsed": false
   },
   "outputs": [
    {
     "data": {
      "text/plain": [
       "14986    0.000312\n",
       "9946     0.000290\n",
       "34964    0.000288\n",
       "43821    0.000286\n",
       "35258    0.000280\n",
       "Name: match_id, dtype: float64"
      ]
     },
     "execution_count": 7,
     "metadata": {},
     "output_type": "execute_result"
    }
   ],
   "source": [
    "gg = chat['match_id'].value_counts('gg' and 'good game' and 'GG' and 'Good Game')#vllt mit lower noch\n",
    "gg.head()"
   ]
  },
  {
   "cell_type": "markdown",
   "metadata": {},
   "source": [
    "#### Hat das Wünschen eines guten Spiels Einfluss auf das Spielende?"
   ]
  },
  {
   "cell_type": "code",
   "execution_count": 53,
   "metadata": {
    "collapsed": false
   },
   "outputs": [
    {
     "data": {
      "text/plain": [
       "0"
      ]
     },
     "execution_count": 53,
     "metadata": {},
     "output_type": "execute_result"
    }
   ],
   "source": [
    "ccc(pd.crosstab(['radiant_win'], [gg]))"
   ]
  },
  {
   "cell_type": "code",
   "execution_count": 54,
   "metadata": {
    "collapsed": true
   },
   "outputs": [],
   "source": [
    "#### Neue Spalte GG in DataFrame 'match' einfügen."
   ]
  },
  {
   "cell_type": "code",
   "execution_count": 56,
   "metadata": {
    "collapsed": true
   },
   "outputs": [],
   "source": [
    "match['gg'] = gg"
   ]
  },
  {
   "cell_type": "code",
   "execution_count": 57,
   "metadata": {
    "collapsed": false
   },
   "outputs": [
    {
     "data": {
      "text/html": [
       "<div>\n",
       "<table border=\"1\" class=\"dataframe\">\n",
       "  <thead>\n",
       "    <tr style=\"text-align: right;\">\n",
       "      <th></th>\n",
       "      <th>match_id</th>\n",
       "      <th>start_time</th>\n",
       "      <th>duration</th>\n",
       "      <th>tower_status_radiant</th>\n",
       "      <th>tower_status_dire</th>\n",
       "      <th>barracks_status_dire</th>\n",
       "      <th>barracks_status_radiant</th>\n",
       "      <th>first_blood_time</th>\n",
       "      <th>game_mode</th>\n",
       "      <th>radiant_win</th>\n",
       "      <th>negative_votes</th>\n",
       "      <th>positive_votes</th>\n",
       "      <th>cluster</th>\n",
       "      <th>nachpromin</th>\n",
       "      <th>chatvolumen</th>\n",
       "      <th>gg</th>\n",
       "    </tr>\n",
       "  </thead>\n",
       "  <tbody>\n",
       "    <tr>\n",
       "      <th>0</th>\n",
       "      <td>0</td>\n",
       "      <td>1446750112</td>\n",
       "      <td>2375</td>\n",
       "      <td>1982</td>\n",
       "      <td>4</td>\n",
       "      <td>3</td>\n",
       "      <td>63</td>\n",
       "      <td>1</td>\n",
       "      <td>22</td>\n",
       "      <td>True</td>\n",
       "      <td>0</td>\n",
       "      <td>1</td>\n",
       "      <td>155</td>\n",
       "      <td>1.288421</td>\n",
       "      <td>51.0</td>\n",
       "      <td>0.000035</td>\n",
       "    </tr>\n",
       "    <tr>\n",
       "      <th>1</th>\n",
       "      <td>1</td>\n",
       "      <td>1446753078</td>\n",
       "      <td>2582</td>\n",
       "      <td>0</td>\n",
       "      <td>1846</td>\n",
       "      <td>63</td>\n",
       "      <td>0</td>\n",
       "      <td>221</td>\n",
       "      <td>22</td>\n",
       "      <td>False</td>\n",
       "      <td>0</td>\n",
       "      <td>2</td>\n",
       "      <td>154</td>\n",
       "      <td>0.371805</td>\n",
       "      <td>16.0</td>\n",
       "      <td>0.000011</td>\n",
       "    </tr>\n",
       "    <tr>\n",
       "      <th>2</th>\n",
       "      <td>2</td>\n",
       "      <td>1446764586</td>\n",
       "      <td>2716</td>\n",
       "      <td>256</td>\n",
       "      <td>1972</td>\n",
       "      <td>63</td>\n",
       "      <td>48</td>\n",
       "      <td>190</td>\n",
       "      <td>22</td>\n",
       "      <td>False</td>\n",
       "      <td>0</td>\n",
       "      <td>0</td>\n",
       "      <td>132</td>\n",
       "      <td>0.994109</td>\n",
       "      <td>45.0</td>\n",
       "      <td>0.000031</td>\n",
       "    </tr>\n",
       "    <tr>\n",
       "      <th>3</th>\n",
       "      <td>3</td>\n",
       "      <td>1446765723</td>\n",
       "      <td>3085</td>\n",
       "      <td>4</td>\n",
       "      <td>1924</td>\n",
       "      <td>51</td>\n",
       "      <td>3</td>\n",
       "      <td>40</td>\n",
       "      <td>22</td>\n",
       "      <td>False</td>\n",
       "      <td>0</td>\n",
       "      <td>0</td>\n",
       "      <td>191</td>\n",
       "      <td>0.486224</td>\n",
       "      <td>25.0</td>\n",
       "      <td>0.000017</td>\n",
       "    </tr>\n",
       "    <tr>\n",
       "      <th>4</th>\n",
       "      <td>4</td>\n",
       "      <td>1446796385</td>\n",
       "      <td>1887</td>\n",
       "      <td>2047</td>\n",
       "      <td>0</td>\n",
       "      <td>0</td>\n",
       "      <td>63</td>\n",
       "      <td>58</td>\n",
       "      <td>22</td>\n",
       "      <td>True</td>\n",
       "      <td>0</td>\n",
       "      <td>0</td>\n",
       "      <td>156</td>\n",
       "      <td>0.222576</td>\n",
       "      <td>7.0</td>\n",
       "      <td>0.000005</td>\n",
       "    </tr>\n",
       "  </tbody>\n",
       "</table>\n",
       "</div>"
      ],
      "text/plain": [
       "   match_id  start_time  duration  tower_status_radiant  tower_status_dire  \\\n",
       "0         0  1446750112      2375                  1982                  4   \n",
       "1         1  1446753078      2582                     0               1846   \n",
       "2         2  1446764586      2716                   256               1972   \n",
       "3         3  1446765723      3085                     4               1924   \n",
       "4         4  1446796385      1887                  2047                  0   \n",
       "\n",
       "   barracks_status_dire  barracks_status_radiant  first_blood_time  game_mode  \\\n",
       "0                     3                       63                 1         22   \n",
       "1                    63                        0               221         22   \n",
       "2                    63                       48               190         22   \n",
       "3                    51                        3                40         22   \n",
       "4                     0                       63                58         22   \n",
       "\n",
       "  radiant_win  negative_votes  positive_votes  cluster  nachpromin  \\\n",
       "0        True               0               1      155    1.288421   \n",
       "1       False               0               2      154    0.371805   \n",
       "2       False               0               0      132    0.994109   \n",
       "3       False               0               0      191    0.486224   \n",
       "4        True               0               0      156    0.222576   \n",
       "\n",
       "   chatvolumen        gg  \n",
       "0         51.0  0.000035  \n",
       "1         16.0  0.000011  \n",
       "2         45.0  0.000031  \n",
       "3         25.0  0.000017  \n",
       "4          7.0  0.000005  "
      ]
     },
     "execution_count": 57,
     "metadata": {},
     "output_type": "execute_result"
    }
   ],
   "source": [
    "#Überprüfen \n",
    "match.head()"
   ]
  },
  {
   "cell_type": "markdown",
   "metadata": {},
   "source": [
    "** Interpretation: ** Das Wünschen eines guten Spiels hat kein Einfluss auf das Spielende."
   ]
  },
  {
   "cell_type": "code",
   "execution_count": 59,
   "metadata": {
    "collapsed": false
   },
   "outputs": [
    {
     "data": {
      "text/html": [
       "<div>\n",
       "<table border=\"1\" class=\"dataframe\">\n",
       "  <thead>\n",
       "    <tr style=\"text-align: right;\">\n",
       "      <th></th>\n",
       "      <th>radiant_win</th>\n",
       "      <th>gg</th>\n",
       "    </tr>\n",
       "  </thead>\n",
       "  <tbody>\n",
       "    <tr>\n",
       "      <th>radiant_win</th>\n",
       "      <td>1.000000</td>\n",
       "      <td>-0.019832</td>\n",
       "    </tr>\n",
       "    <tr>\n",
       "      <th>gg</th>\n",
       "      <td>-0.019832</td>\n",
       "      <td>1.000000</td>\n",
       "    </tr>\n",
       "  </tbody>\n",
       "</table>\n",
       "</div>"
      ],
      "text/plain": [
       "             radiant_win        gg\n",
       "radiant_win     1.000000 -0.019832\n",
       "gg             -0.019832  1.000000"
      ]
     },
     "execution_count": 59,
     "metadata": {},
     "output_type": "execute_result"
    }
   ],
   "source": [
    "match[['radiant_win','gg']].corr()"
   ]
  }
 ],
 "metadata": {
  "anaconda-cloud": {},
  "kernelspec": {
   "display_name": "Python 3",
   "language": "python",
   "name": "python3"
  },
  "language_info": {
   "codemirror_mode": {
    "name": "ipython",
    "version": 3
   },
   "file_extension": ".py",
   "mimetype": "text/x-python",
   "name": "python",
   "nbconvert_exporter": "python",
   "pygments_lexer": "ipython3",
   "version": "3.6.0"
  }
 },
 "nbformat": 4,
 "nbformat_minor": 1
}
