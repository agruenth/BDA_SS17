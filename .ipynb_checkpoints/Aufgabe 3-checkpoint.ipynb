{
 "cells": [
  {
   "cell_type": "markdown",
   "metadata": {},
   "source": [
    "# Aufgabe 3\n",
    "\n",
    "### Wie wirkt sich das Chatverhalten auf die Spielende aus?"
   ]
  },
  {
   "cell_type": "markdown",
   "metadata": {},
   "source": [
    "#### Impotieren der Bibliotheken "
   ]
  },
  {
   "cell_type": "code",
   "execution_count": 91,
   "metadata": {
    "collapsed": true
   },
   "outputs": [],
   "source": [
    "import numpy as np\n",
    "import pandas as pd\n",
    "import scipy.stats as stats\n",
    "import seaborn as sns\n",
    "\n",
    "%matplotlib inline\n",
    "import matplotlib.pyplot as plt\n",
    "sns.set(context=\"paper\", font=\"monospace\")"
   ]
  },
  {
   "cell_type": "markdown",
   "metadata": {},
   "source": [
    "### Funktionen"
   ]
  },
  {
   "cell_type": "code",
   "execution_count": 92,
   "metadata": {
    "collapsed": true
   },
   "outputs": [],
   "source": [
    "def ccc(crosstab):\n",
    "    chi2 = stats.chi2_contingency(crosstab)[0]\n",
    "    q = min(crosstab.shape)\n",
    "    if q > 1:\n",
    "        return np.sqrt(chi2 / (chi2 + crosstab.values.sum())) * np.sqrt(q / (q-1))\n",
    "    else:\n",
    "        return 0"
   ]
  },
  {
   "cell_type": "markdown",
   "metadata": {
    "collapsed": true
   },
   "source": [
    "#### Einlesen der Dateien "
   ]
  },
  {
   "cell_type": "code",
   "execution_count": 93,
   "metadata": {
    "collapsed": false
   },
   "outputs": [
    {
     "data": {
      "text/html": [
       "<div>\n",
       "<table border=\"1\" class=\"dataframe\">\n",
       "  <thead>\n",
       "    <tr style=\"text-align: right;\">\n",
       "      <th></th>\n",
       "      <th>match_id</th>\n",
       "      <th>key</th>\n",
       "      <th>slot</th>\n",
       "      <th>time</th>\n",
       "      <th>unit</th>\n",
       "    </tr>\n",
       "  </thead>\n",
       "  <tbody>\n",
       "    <tr>\n",
       "      <th>0</th>\n",
       "      <td>0</td>\n",
       "      <td>force it</td>\n",
       "      <td>6</td>\n",
       "      <td>-8</td>\n",
       "      <td>6k Slayer</td>\n",
       "    </tr>\n",
       "    <tr>\n",
       "      <th>1</th>\n",
       "      <td>0</td>\n",
       "      <td>space created</td>\n",
       "      <td>1</td>\n",
       "      <td>5</td>\n",
       "      <td>Monkey</td>\n",
       "    </tr>\n",
       "    <tr>\n",
       "      <th>2</th>\n",
       "      <td>0</td>\n",
       "      <td>hah</td>\n",
       "      <td>1</td>\n",
       "      <td>6</td>\n",
       "      <td>Monkey</td>\n",
       "    </tr>\n",
       "    <tr>\n",
       "      <th>3</th>\n",
       "      <td>0</td>\n",
       "      <td>ez 500</td>\n",
       "      <td>6</td>\n",
       "      <td>9</td>\n",
       "      <td>6k Slayer</td>\n",
       "    </tr>\n",
       "    <tr>\n",
       "      <th>4</th>\n",
       "      <td>0</td>\n",
       "      <td>mvp ulti</td>\n",
       "      <td>4</td>\n",
       "      <td>934</td>\n",
       "      <td>Kira</td>\n",
       "    </tr>\n",
       "  </tbody>\n",
       "</table>\n",
       "</div>"
      ],
      "text/plain": [
       "   match_id            key  slot  time       unit\n",
       "0         0       force it     6    -8  6k Slayer\n",
       "1         0  space created     1     5     Monkey\n",
       "2         0            hah     1     6     Monkey\n",
       "3         0         ez 500     6     9  6k Slayer\n",
       "4         0       mvp ulti     4   934       Kira"
      ]
     },
     "execution_count": 93,
     "metadata": {},
     "output_type": "execute_result"
    }
   ],
   "source": [
    "chat = pd.read_csv('data/chat.csv')\n",
    "chat.head()"
   ]
  },
  {
   "cell_type": "code",
   "execution_count": 94,
   "metadata": {
    "collapsed": false
   },
   "outputs": [
    {
     "data": {
      "text/html": [
       "<div>\n",
       "<table border=\"1\" class=\"dataframe\">\n",
       "  <thead>\n",
       "    <tr style=\"text-align: right;\">\n",
       "      <th></th>\n",
       "      <th>match_id</th>\n",
       "      <th>start_time</th>\n",
       "      <th>duration</th>\n",
       "      <th>tower_status_radiant</th>\n",
       "      <th>tower_status_dire</th>\n",
       "      <th>barracks_status_dire</th>\n",
       "      <th>barracks_status_radiant</th>\n",
       "      <th>first_blood_time</th>\n",
       "      <th>game_mode</th>\n",
       "      <th>radiant_win</th>\n",
       "      <th>negative_votes</th>\n",
       "      <th>positive_votes</th>\n",
       "      <th>cluster</th>\n",
       "    </tr>\n",
       "  </thead>\n",
       "  <tbody>\n",
       "    <tr>\n",
       "      <th>0</th>\n",
       "      <td>0</td>\n",
       "      <td>1446750112</td>\n",
       "      <td>2375</td>\n",
       "      <td>1982</td>\n",
       "      <td>4</td>\n",
       "      <td>3</td>\n",
       "      <td>63</td>\n",
       "      <td>1</td>\n",
       "      <td>22</td>\n",
       "      <td>True</td>\n",
       "      <td>0</td>\n",
       "      <td>1</td>\n",
       "      <td>155</td>\n",
       "    </tr>\n",
       "    <tr>\n",
       "      <th>1</th>\n",
       "      <td>1</td>\n",
       "      <td>1446753078</td>\n",
       "      <td>2582</td>\n",
       "      <td>0</td>\n",
       "      <td>1846</td>\n",
       "      <td>63</td>\n",
       "      <td>0</td>\n",
       "      <td>221</td>\n",
       "      <td>22</td>\n",
       "      <td>False</td>\n",
       "      <td>0</td>\n",
       "      <td>2</td>\n",
       "      <td>154</td>\n",
       "    </tr>\n",
       "    <tr>\n",
       "      <th>2</th>\n",
       "      <td>2</td>\n",
       "      <td>1446764586</td>\n",
       "      <td>2716</td>\n",
       "      <td>256</td>\n",
       "      <td>1972</td>\n",
       "      <td>63</td>\n",
       "      <td>48</td>\n",
       "      <td>190</td>\n",
       "      <td>22</td>\n",
       "      <td>False</td>\n",
       "      <td>0</td>\n",
       "      <td>0</td>\n",
       "      <td>132</td>\n",
       "    </tr>\n",
       "    <tr>\n",
       "      <th>3</th>\n",
       "      <td>3</td>\n",
       "      <td>1446765723</td>\n",
       "      <td>3085</td>\n",
       "      <td>4</td>\n",
       "      <td>1924</td>\n",
       "      <td>51</td>\n",
       "      <td>3</td>\n",
       "      <td>40</td>\n",
       "      <td>22</td>\n",
       "      <td>False</td>\n",
       "      <td>0</td>\n",
       "      <td>0</td>\n",
       "      <td>191</td>\n",
       "    </tr>\n",
       "    <tr>\n",
       "      <th>4</th>\n",
       "      <td>4</td>\n",
       "      <td>1446796385</td>\n",
       "      <td>1887</td>\n",
       "      <td>2047</td>\n",
       "      <td>0</td>\n",
       "      <td>0</td>\n",
       "      <td>63</td>\n",
       "      <td>58</td>\n",
       "      <td>22</td>\n",
       "      <td>True</td>\n",
       "      <td>0</td>\n",
       "      <td>0</td>\n",
       "      <td>156</td>\n",
       "    </tr>\n",
       "  </tbody>\n",
       "</table>\n",
       "</div>"
      ],
      "text/plain": [
       "   match_id  start_time  duration  tower_status_radiant  tower_status_dire  \\\n",
       "0         0  1446750112      2375                  1982                  4   \n",
       "1         1  1446753078      2582                     0               1846   \n",
       "2         2  1446764586      2716                   256               1972   \n",
       "3         3  1446765723      3085                     4               1924   \n",
       "4         4  1446796385      1887                  2047                  0   \n",
       "\n",
       "   barracks_status_dire  barracks_status_radiant  first_blood_time  game_mode  \\\n",
       "0                     3                       63                 1         22   \n",
       "1                    63                        0               221         22   \n",
       "2                    63                       48               190         22   \n",
       "3                    51                        3                40         22   \n",
       "4                     0                       63                58         22   \n",
       "\n",
       "  radiant_win  negative_votes  positive_votes  cluster  \n",
       "0        True               0               1      155  \n",
       "1       False               0               2      154  \n",
       "2       False               0               0      132  \n",
       "3       False               0               0      191  \n",
       "4        True               0               0      156  "
      ]
     },
     "execution_count": 94,
     "metadata": {},
     "output_type": "execute_result"
    }
   ],
   "source": [
    "match = pd.read_csv('data/match.csv')\n",
    "match.head()"
   ]
  },
  {
   "cell_type": "markdown",
   "metadata": {},
   "source": [
    "#### Datensätze beschreiben."
   ]
  },
  {
   "cell_type": "code",
   "execution_count": 95,
   "metadata": {
    "collapsed": false
   },
   "outputs": [
    {
     "data": {
      "text/html": [
       "<div>\n",
       "<table border=\"1\" class=\"dataframe\">\n",
       "  <thead>\n",
       "    <tr style=\"text-align: right;\">\n",
       "      <th></th>\n",
       "      <th>match_id</th>\n",
       "      <th>start_time</th>\n",
       "      <th>duration</th>\n",
       "      <th>tower_status_radiant</th>\n",
       "      <th>tower_status_dire</th>\n",
       "      <th>barracks_status_dire</th>\n",
       "      <th>barracks_status_radiant</th>\n",
       "      <th>first_blood_time</th>\n",
       "      <th>game_mode</th>\n",
       "      <th>radiant_win</th>\n",
       "      <th>negative_votes</th>\n",
       "      <th>positive_votes</th>\n",
       "      <th>cluster</th>\n",
       "    </tr>\n",
       "  </thead>\n",
       "  <tbody>\n",
       "    <tr>\n",
       "      <th>count</th>\n",
       "      <td>50000.000000</td>\n",
       "      <td>5.000000e+04</td>\n",
       "      <td>50000.000000</td>\n",
       "      <td>50000.000000</td>\n",
       "      <td>50000.000000</td>\n",
       "      <td>50000.000000</td>\n",
       "      <td>50000.00000</td>\n",
       "      <td>50000.000000</td>\n",
       "      <td>50000.000000</td>\n",
       "      <td>50000</td>\n",
       "      <td>50000.000000</td>\n",
       "      <td>50000.000000</td>\n",
       "      <td>50000.000000</td>\n",
       "    </tr>\n",
       "    <tr>\n",
       "      <th>unique</th>\n",
       "      <td>NaN</td>\n",
       "      <td>NaN</td>\n",
       "      <td>NaN</td>\n",
       "      <td>NaN</td>\n",
       "      <td>NaN</td>\n",
       "      <td>NaN</td>\n",
       "      <td>NaN</td>\n",
       "      <td>NaN</td>\n",
       "      <td>NaN</td>\n",
       "      <td>2</td>\n",
       "      <td>NaN</td>\n",
       "      <td>NaN</td>\n",
       "      <td>NaN</td>\n",
       "    </tr>\n",
       "    <tr>\n",
       "      <th>top</th>\n",
       "      <td>NaN</td>\n",
       "      <td>NaN</td>\n",
       "      <td>NaN</td>\n",
       "      <td>NaN</td>\n",
       "      <td>NaN</td>\n",
       "      <td>NaN</td>\n",
       "      <td>NaN</td>\n",
       "      <td>NaN</td>\n",
       "      <td>NaN</td>\n",
       "      <td>True</td>\n",
       "      <td>NaN</td>\n",
       "      <td>NaN</td>\n",
       "      <td>NaN</td>\n",
       "    </tr>\n",
       "    <tr>\n",
       "      <th>freq</th>\n",
       "      <td>NaN</td>\n",
       "      <td>NaN</td>\n",
       "      <td>NaN</td>\n",
       "      <td>NaN</td>\n",
       "      <td>NaN</td>\n",
       "      <td>NaN</td>\n",
       "      <td>NaN</td>\n",
       "      <td>NaN</td>\n",
       "      <td>NaN</td>\n",
       "      <td>25943</td>\n",
       "      <td>NaN</td>\n",
       "      <td>NaN</td>\n",
       "      <td>NaN</td>\n",
       "    </tr>\n",
       "    <tr>\n",
       "      <th>mean</th>\n",
       "      <td>24999.500000</td>\n",
       "      <td>1.447573e+09</td>\n",
       "      <td>2476.453500</td>\n",
       "      <td>1000.016440</td>\n",
       "      <td>935.250060</td>\n",
       "      <td>34.529460</td>\n",
       "      <td>34.77526</td>\n",
       "      <td>93.825520</td>\n",
       "      <td>21.468000</td>\n",
       "      <td>NaN</td>\n",
       "      <td>0.015480</td>\n",
       "      <td>0.036820</td>\n",
       "      <td>142.304720</td>\n",
       "    </tr>\n",
       "    <tr>\n",
       "      <th>std</th>\n",
       "      <td>14433.901067</td>\n",
       "      <td>1.485270e+05</td>\n",
       "      <td>634.631261</td>\n",
       "      <td>948.211846</td>\n",
       "      <td>937.974714</td>\n",
       "      <td>29.209672</td>\n",
       "      <td>29.73214</td>\n",
       "      <td>92.648332</td>\n",
       "      <td>3.218258</td>\n",
       "      <td>NaN</td>\n",
       "      <td>0.364696</td>\n",
       "      <td>0.871068</td>\n",
       "      <td>25.156608</td>\n",
       "    </tr>\n",
       "    <tr>\n",
       "      <th>min</th>\n",
       "      <td>0.000000</td>\n",
       "      <td>1.446750e+09</td>\n",
       "      <td>59.000000</td>\n",
       "      <td>0.000000</td>\n",
       "      <td>0.000000</td>\n",
       "      <td>0.000000</td>\n",
       "      <td>0.00000</td>\n",
       "      <td>0.000000</td>\n",
       "      <td>2.000000</td>\n",
       "      <td>NaN</td>\n",
       "      <td>0.000000</td>\n",
       "      <td>0.000000</td>\n",
       "      <td>111.000000</td>\n",
       "    </tr>\n",
       "    <tr>\n",
       "      <th>25%</th>\n",
       "      <td>12499.750000</td>\n",
       "      <td>1.447456e+09</td>\n",
       "      <td>2029.000000</td>\n",
       "      <td>0.000000</td>\n",
       "      <td>0.000000</td>\n",
       "      <td>0.000000</td>\n",
       "      <td>0.00000</td>\n",
       "      <td>9.000000</td>\n",
       "      <td>22.000000</td>\n",
       "      <td>NaN</td>\n",
       "      <td>0.000000</td>\n",
       "      <td>0.000000</td>\n",
       "      <td>123.000000</td>\n",
       "    </tr>\n",
       "    <tr>\n",
       "      <th>50%</th>\n",
       "      <td>24999.500000</td>\n",
       "      <td>1.447577e+09</td>\n",
       "      <td>2415.000000</td>\n",
       "      <td>1536.000000</td>\n",
       "      <td>384.000000</td>\n",
       "      <td>51.000000</td>\n",
       "      <td>51.00000</td>\n",
       "      <td>77.000000</td>\n",
       "      <td>22.000000</td>\n",
       "      <td>NaN</td>\n",
       "      <td>0.000000</td>\n",
       "      <td>0.000000</td>\n",
       "      <td>133.000000</td>\n",
       "    </tr>\n",
       "    <tr>\n",
       "      <th>75%</th>\n",
       "      <td>37499.250000</td>\n",
       "      <td>1.447700e+09</td>\n",
       "      <td>2872.000000</td>\n",
       "      <td>1974.000000</td>\n",
       "      <td>1972.000000</td>\n",
       "      <td>63.000000</td>\n",
       "      <td>63.00000</td>\n",
       "      <td>144.000000</td>\n",
       "      <td>22.000000</td>\n",
       "      <td>NaN</td>\n",
       "      <td>0.000000</td>\n",
       "      <td>0.000000</td>\n",
       "      <td>154.000000</td>\n",
       "    </tr>\n",
       "    <tr>\n",
       "      <th>max</th>\n",
       "      <td>49999.000000</td>\n",
       "      <td>1.447829e+09</td>\n",
       "      <td>16037.000000</td>\n",
       "      <td>2047.000000</td>\n",
       "      <td>2047.000000</td>\n",
       "      <td>63.000000</td>\n",
       "      <td>63.00000</td>\n",
       "      <td>831.000000</td>\n",
       "      <td>22.000000</td>\n",
       "      <td>NaN</td>\n",
       "      <td>47.000000</td>\n",
       "      <td>80.000000</td>\n",
       "      <td>242.000000</td>\n",
       "    </tr>\n",
       "  </tbody>\n",
       "</table>\n",
       "</div>"
      ],
      "text/plain": [
       "            match_id    start_time      duration  tower_status_radiant  \\\n",
       "count   50000.000000  5.000000e+04  50000.000000          50000.000000   \n",
       "unique           NaN           NaN           NaN                   NaN   \n",
       "top              NaN           NaN           NaN                   NaN   \n",
       "freq             NaN           NaN           NaN                   NaN   \n",
       "mean    24999.500000  1.447573e+09   2476.453500           1000.016440   \n",
       "std     14433.901067  1.485270e+05    634.631261            948.211846   \n",
       "min         0.000000  1.446750e+09     59.000000              0.000000   \n",
       "25%     12499.750000  1.447456e+09   2029.000000              0.000000   \n",
       "50%     24999.500000  1.447577e+09   2415.000000           1536.000000   \n",
       "75%     37499.250000  1.447700e+09   2872.000000           1974.000000   \n",
       "max     49999.000000  1.447829e+09  16037.000000           2047.000000   \n",
       "\n",
       "        tower_status_dire  barracks_status_dire  barracks_status_radiant  \\\n",
       "count        50000.000000          50000.000000              50000.00000   \n",
       "unique                NaN                   NaN                      NaN   \n",
       "top                   NaN                   NaN                      NaN   \n",
       "freq                  NaN                   NaN                      NaN   \n",
       "mean           935.250060             34.529460                 34.77526   \n",
       "std            937.974714             29.209672                 29.73214   \n",
       "min              0.000000              0.000000                  0.00000   \n",
       "25%              0.000000              0.000000                  0.00000   \n",
       "50%            384.000000             51.000000                 51.00000   \n",
       "75%           1972.000000             63.000000                 63.00000   \n",
       "max           2047.000000             63.000000                 63.00000   \n",
       "\n",
       "        first_blood_time     game_mode radiant_win  negative_votes  \\\n",
       "count       50000.000000  50000.000000       50000    50000.000000   \n",
       "unique               NaN           NaN           2             NaN   \n",
       "top                  NaN           NaN        True             NaN   \n",
       "freq                 NaN           NaN       25943             NaN   \n",
       "mean           93.825520     21.468000         NaN        0.015480   \n",
       "std            92.648332      3.218258         NaN        0.364696   \n",
       "min             0.000000      2.000000         NaN        0.000000   \n",
       "25%             9.000000     22.000000         NaN        0.000000   \n",
       "50%            77.000000     22.000000         NaN        0.000000   \n",
       "75%           144.000000     22.000000         NaN        0.000000   \n",
       "max           831.000000     22.000000         NaN       47.000000   \n",
       "\n",
       "        positive_votes       cluster  \n",
       "count     50000.000000  50000.000000  \n",
       "unique             NaN           NaN  \n",
       "top                NaN           NaN  \n",
       "freq               NaN           NaN  \n",
       "mean          0.036820    142.304720  \n",
       "std           0.871068     25.156608  \n",
       "min           0.000000    111.000000  \n",
       "25%           0.000000    123.000000  \n",
       "50%           0.000000    133.000000  \n",
       "75%           0.000000    154.000000  \n",
       "max          80.000000    242.000000  "
      ]
     },
     "execution_count": 95,
     "metadata": {},
     "output_type": "execute_result"
    }
   ],
   "source": [
    "match.describe(include='all')"
   ]
  },
  {
   "cell_type": "code",
   "execution_count": 96,
   "metadata": {
    "collapsed": false
   },
   "outputs": [
    {
     "data": {
      "text/html": [
       "<div>\n",
       "<table border=\"1\" class=\"dataframe\">\n",
       "  <thead>\n",
       "    <tr style=\"text-align: right;\">\n",
       "      <th></th>\n",
       "      <th>match_id</th>\n",
       "      <th>key</th>\n",
       "      <th>slot</th>\n",
       "      <th>time</th>\n",
       "      <th>unit</th>\n",
       "    </tr>\n",
       "  </thead>\n",
       "  <tbody>\n",
       "    <tr>\n",
       "      <th>count</th>\n",
       "      <td>1.439488e+06</td>\n",
       "      <td>1439475</td>\n",
       "      <td>1.439488e+06</td>\n",
       "      <td>1.439488e+06</td>\n",
       "      <td>1439453</td>\n",
       "    </tr>\n",
       "    <tr>\n",
       "      <th>unique</th>\n",
       "      <td>NaN</td>\n",
       "      <td>690815</td>\n",
       "      <td>NaN</td>\n",
       "      <td>NaN</td>\n",
       "      <td>177992</td>\n",
       "    </tr>\n",
       "    <tr>\n",
       "      <th>top</th>\n",
       "      <td>NaN</td>\n",
       "      <td>gg</td>\n",
       "      <td>NaN</td>\n",
       "      <td>NaN</td>\n",
       "      <td>Deez_Nuts</td>\n",
       "    </tr>\n",
       "    <tr>\n",
       "      <th>freq</th>\n",
       "      <td>NaN</td>\n",
       "      <td>65412</td>\n",
       "      <td>NaN</td>\n",
       "      <td>NaN</td>\n",
       "      <td>1507</td>\n",
       "    </tr>\n",
       "    <tr>\n",
       "      <th>mean</th>\n",
       "      <td>2.495673e+04</td>\n",
       "      <td>NaN</td>\n",
       "      <td>4.493948e+00</td>\n",
       "      <td>1.708153e+03</td>\n",
       "      <td>NaN</td>\n",
       "    </tr>\n",
       "    <tr>\n",
       "      <th>std</th>\n",
       "      <td>1.457124e+04</td>\n",
       "      <td>NaN</td>\n",
       "      <td>2.877044e+00</td>\n",
       "      <td>9.868280e+02</td>\n",
       "      <td>NaN</td>\n",
       "    </tr>\n",
       "    <tr>\n",
       "      <th>min</th>\n",
       "      <td>0.000000e+00</td>\n",
       "      <td>NaN</td>\n",
       "      <td>-9.000000e+00</td>\n",
       "      <td>-9.070000e+02</td>\n",
       "      <td>NaN</td>\n",
       "    </tr>\n",
       "    <tr>\n",
       "      <th>25%</th>\n",
       "      <td>1.227900e+04</td>\n",
       "      <td>NaN</td>\n",
       "      <td>2.000000e+00</td>\n",
       "      <td>1.020000e+03</td>\n",
       "      <td>NaN</td>\n",
       "    </tr>\n",
       "    <tr>\n",
       "      <th>50%</th>\n",
       "      <td>2.483900e+04</td>\n",
       "      <td>NaN</td>\n",
       "      <td>5.000000e+00</td>\n",
       "      <td>1.776000e+03</td>\n",
       "      <td>NaN</td>\n",
       "    </tr>\n",
       "    <tr>\n",
       "      <th>75%</th>\n",
       "      <td>3.767800e+04</td>\n",
       "      <td>NaN</td>\n",
       "      <td>7.000000e+00</td>\n",
       "      <td>2.386000e+03</td>\n",
       "      <td>NaN</td>\n",
       "    </tr>\n",
       "    <tr>\n",
       "      <th>max</th>\n",
       "      <td>4.999900e+04</td>\n",
       "      <td>NaN</td>\n",
       "      <td>9.000000e+00</td>\n",
       "      <td>1.605700e+04</td>\n",
       "      <td>NaN</td>\n",
       "    </tr>\n",
       "  </tbody>\n",
       "</table>\n",
       "</div>"
      ],
      "text/plain": [
       "            match_id      key          slot          time       unit\n",
       "count   1.439488e+06  1439475  1.439488e+06  1.439488e+06    1439453\n",
       "unique           NaN   690815           NaN           NaN     177992\n",
       "top              NaN       gg           NaN           NaN  Deez_Nuts\n",
       "freq             NaN    65412           NaN           NaN       1507\n",
       "mean    2.495673e+04      NaN  4.493948e+00  1.708153e+03        NaN\n",
       "std     1.457124e+04      NaN  2.877044e+00  9.868280e+02        NaN\n",
       "min     0.000000e+00      NaN -9.000000e+00 -9.070000e+02        NaN\n",
       "25%     1.227900e+04      NaN  2.000000e+00  1.020000e+03        NaN\n",
       "50%     2.483900e+04      NaN  5.000000e+00  1.776000e+03        NaN\n",
       "75%     3.767800e+04      NaN  7.000000e+00  2.386000e+03        NaN\n",
       "max     4.999900e+04      NaN  9.000000e+00  1.605700e+04        NaN"
      ]
     },
     "execution_count": 96,
     "metadata": {},
     "output_type": "execute_result"
    }
   ],
   "source": [
    "chat.describe(include='all')"
   ]
  },
  {
   "cell_type": "markdown",
   "metadata": {},
   "source": [
    "### Die für uns nicht notwendigen Spalten aus Dataframe Match entfernen."
   ]
  },
  {
   "cell_type": "code",
   "execution_count": 97,
   "metadata": {
    "collapsed": true
   },
   "outputs": [],
   "source": [
    "match = match.drop(['start_time', 'tower_status_radiant', 'tower_status_dire', 'barracks_status_radiant', 'barracks_status_dire', 'first_blood_time', 'game_mode', 'negative_votes', 'positive_votes', 'cluster'], axis=1)"
   ]
  },
  {
   "cell_type": "code",
   "execution_count": 98,
   "metadata": {
    "collapsed": false
   },
   "outputs": [
    {
     "data": {
      "text/html": [
       "<div>\n",
       "<table border=\"1\" class=\"dataframe\">\n",
       "  <thead>\n",
       "    <tr style=\"text-align: right;\">\n",
       "      <th></th>\n",
       "      <th>match_id</th>\n",
       "      <th>duration</th>\n",
       "      <th>radiant_win</th>\n",
       "    </tr>\n",
       "  </thead>\n",
       "  <tbody>\n",
       "    <tr>\n",
       "      <th>0</th>\n",
       "      <td>0</td>\n",
       "      <td>2375</td>\n",
       "      <td>True</td>\n",
       "    </tr>\n",
       "    <tr>\n",
       "      <th>1</th>\n",
       "      <td>1</td>\n",
       "      <td>2582</td>\n",
       "      <td>False</td>\n",
       "    </tr>\n",
       "    <tr>\n",
       "      <th>2</th>\n",
       "      <td>2</td>\n",
       "      <td>2716</td>\n",
       "      <td>False</td>\n",
       "    </tr>\n",
       "    <tr>\n",
       "      <th>3</th>\n",
       "      <td>3</td>\n",
       "      <td>3085</td>\n",
       "      <td>False</td>\n",
       "    </tr>\n",
       "    <tr>\n",
       "      <th>4</th>\n",
       "      <td>4</td>\n",
       "      <td>1887</td>\n",
       "      <td>True</td>\n",
       "    </tr>\n",
       "  </tbody>\n",
       "</table>\n",
       "</div>"
      ],
      "text/plain": [
       "   match_id  duration radiant_win\n",
       "0         0      2375        True\n",
       "1         1      2582       False\n",
       "2         2      2716       False\n",
       "3         3      3085       False\n",
       "4         4      1887        True"
      ]
     },
     "execution_count": 98,
     "metadata": {},
     "output_type": "execute_result"
    }
   ],
   "source": [
    "match.head()"
   ]
  },
  {
   "cell_type": "markdown",
   "metadata": {},
   "source": [
    "### Hinzufügen der für uns relevanten Daten."
   ]
  },
  {
   "cell_type": "code",
   "execution_count": 99,
   "metadata": {
    "collapsed": false
   },
   "outputs": [
    {
     "data": {
      "text/html": [
       "<div>\n",
       "<table border=\"1\" class=\"dataframe\">\n",
       "  <thead>\n",
       "    <tr style=\"text-align: right;\">\n",
       "      <th></th>\n",
       "      <th>match_id</th>\n",
       "      <th>Spieldauer</th>\n",
       "      <th>Gewinner</th>\n",
       "    </tr>\n",
       "  </thead>\n",
       "  <tbody>\n",
       "    <tr>\n",
       "      <th>0</th>\n",
       "      <td>0</td>\n",
       "      <td>2375</td>\n",
       "      <td>Radiant</td>\n",
       "    </tr>\n",
       "    <tr>\n",
       "      <th>1</th>\n",
       "      <td>1</td>\n",
       "      <td>2582</td>\n",
       "      <td>Dire</td>\n",
       "    </tr>\n",
       "    <tr>\n",
       "      <th>2</th>\n",
       "      <td>2</td>\n",
       "      <td>2716</td>\n",
       "      <td>Dire</td>\n",
       "    </tr>\n",
       "    <tr>\n",
       "      <th>3</th>\n",
       "      <td>3</td>\n",
       "      <td>3085</td>\n",
       "      <td>Dire</td>\n",
       "    </tr>\n",
       "    <tr>\n",
       "      <th>4</th>\n",
       "      <td>4</td>\n",
       "      <td>1887</td>\n",
       "      <td>Radiant</td>\n",
       "    </tr>\n",
       "  </tbody>\n",
       "</table>\n",
       "</div>"
      ],
      "text/plain": [
       "   match_id  Spieldauer Gewinner\n",
       "0         0        2375  Radiant\n",
       "1         1        2582     Dire\n",
       "2         2        2716     Dire\n",
       "3         3        3085     Dire\n",
       "4         4        1887  Radiant"
      ]
     },
     "execution_count": 99,
     "metadata": {},
     "output_type": "execute_result"
    }
   ],
   "source": [
    "match.columns = ['match_id','Spieldauer','Gewinner']\n",
    "match['Gewinner'] = match['Gewinner'].map(lambda x: 'Radiant' if x else 'Dire')\n",
    "match.head()\n",
    "#Gesamtanzahl an Chatzeichen während des Spiels \n",
    "#match['Gesamtzeichen'] = chat[['match_id', 'nachlänge']].groupby('match_id').sum()\n",
    "#Wie viel wird insgesamt gechattet\n",
    "#match ['chatvolumen'] = chat['match_id'].value_counts()\n",
    "#Anzahl der \n",
    "#match['Anzahl'] = chat[['match_id', 'nachlänge']].groupby('match_id').count()\n",
    "#Durchschnittliche Nachrichtenlänge\n",
    "#match ['durchlä'] = chat['nachlänge'] / match['Anzahl']\n",
    "#Spiellänge\n",
    "#match ['Spiellänge'] = match['duration']\n",
    "#match.head()"
   ]
  },
  {
   "cell_type": "code",
   "execution_count": 100,
   "metadata": {
    "collapsed": false
   },
   "outputs": [
    {
     "data": {
      "text/html": [
       "<div>\n",
       "<table border=\"1\" class=\"dataframe\">\n",
       "  <thead>\n",
       "    <tr style=\"text-align: right;\">\n",
       "      <th></th>\n",
       "      <th>match_id</th>\n",
       "      <th>key</th>\n",
       "      <th>slot</th>\n",
       "      <th>time</th>\n",
       "      <th>unit</th>\n",
       "      <th>NachrichtenLänge</th>\n",
       "      <th>Team</th>\n",
       "    </tr>\n",
       "  </thead>\n",
       "  <tbody>\n",
       "    <tr>\n",
       "      <th>0</th>\n",
       "      <td>0</td>\n",
       "      <td>force it</td>\n",
       "      <td>6</td>\n",
       "      <td>-8</td>\n",
       "      <td>6k Slayer</td>\n",
       "      <td>8.0</td>\n",
       "      <td>Dire</td>\n",
       "    </tr>\n",
       "    <tr>\n",
       "      <th>1</th>\n",
       "      <td>0</td>\n",
       "      <td>space created</td>\n",
       "      <td>1</td>\n",
       "      <td>5</td>\n",
       "      <td>Monkey</td>\n",
       "      <td>13.0</td>\n",
       "      <td>Radiant</td>\n",
       "    </tr>\n",
       "    <tr>\n",
       "      <th>2</th>\n",
       "      <td>0</td>\n",
       "      <td>hah</td>\n",
       "      <td>1</td>\n",
       "      <td>6</td>\n",
       "      <td>Monkey</td>\n",
       "      <td>3.0</td>\n",
       "      <td>Radiant</td>\n",
       "    </tr>\n",
       "    <tr>\n",
       "      <th>3</th>\n",
       "      <td>0</td>\n",
       "      <td>ez 500</td>\n",
       "      <td>6</td>\n",
       "      <td>9</td>\n",
       "      <td>6k Slayer</td>\n",
       "      <td>6.0</td>\n",
       "      <td>Dire</td>\n",
       "    </tr>\n",
       "    <tr>\n",
       "      <th>4</th>\n",
       "      <td>0</td>\n",
       "      <td>mvp ulti</td>\n",
       "      <td>4</td>\n",
       "      <td>934</td>\n",
       "      <td>Kira</td>\n",
       "      <td>8.0</td>\n",
       "      <td>Radiant</td>\n",
       "    </tr>\n",
       "  </tbody>\n",
       "</table>\n",
       "</div>"
      ],
      "text/plain": [
       "   match_id            key  slot  time       unit  NachrichtenLänge     Team\n",
       "0         0       force it     6    -8  6k Slayer               8.0     Dire\n",
       "1         0  space created     1     5     Monkey              13.0  Radiant\n",
       "2         0            hah     1     6     Monkey               3.0  Radiant\n",
       "3         0         ez 500     6     9  6k Slayer               6.0     Dire\n",
       "4         0       mvp ulti     4   934       Kira               8.0  Radiant"
      ]
     },
     "execution_count": 100,
     "metadata": {},
     "output_type": "execute_result"
    }
   ],
   "source": [
    "# Nachrichtenlänge für jede Nachricht\n",
    "chat['NachrichtenLänge'] = chat['key'].str.len()\n",
    "# Zuweisung Team abhängig vom Spieler-Slot\n",
    "chat['Team'] = pd.cut(chat['slot'],[0,5,10],labels=['Radiant', 'Dire'])\n",
    "chat.head()"
   ]
  },
  {
   "cell_type": "code",
   "execution_count": 101,
   "metadata": {
    "collapsed": false
   },
   "outputs": [
    {
     "data": {
      "text/html": [
       "<div>\n",
       "<table border=\"1\" class=\"dataframe\">\n",
       "  <thead>\n",
       "    <tr style=\"text-align: right;\">\n",
       "      <th></th>\n",
       "      <th></th>\n",
       "      <th>AnzahlNachrichten</th>\n",
       "      <th>NachrichtenLängeGesamt</th>\n",
       "    </tr>\n",
       "    <tr>\n",
       "      <th>match_id</th>\n",
       "      <th>Team</th>\n",
       "      <th></th>\n",
       "      <th></th>\n",
       "    </tr>\n",
       "  </thead>\n",
       "  <tbody>\n",
       "    <tr>\n",
       "      <th rowspan=\"2\" valign=\"top\">0</th>\n",
       "      <th>Radiant</th>\n",
       "      <td>19.0</td>\n",
       "      <td>117.0</td>\n",
       "    </tr>\n",
       "    <tr>\n",
       "      <th>Dire</th>\n",
       "      <td>28.0</td>\n",
       "      <td>352.0</td>\n",
       "    </tr>\n",
       "    <tr>\n",
       "      <th rowspan=\"2\" valign=\"top\">1</th>\n",
       "      <th>Radiant</th>\n",
       "      <td>12.0</td>\n",
       "      <td>102.0</td>\n",
       "    </tr>\n",
       "    <tr>\n",
       "      <th>Dire</th>\n",
       "      <td>4.0</td>\n",
       "      <td>32.0</td>\n",
       "    </tr>\n",
       "    <tr>\n",
       "      <th>2</th>\n",
       "      <th>Radiant</th>\n",
       "      <td>18.0</td>\n",
       "      <td>167.0</td>\n",
       "    </tr>\n",
       "  </tbody>\n",
       "</table>\n",
       "</div>"
      ],
      "text/plain": [
       "                  AnzahlNachrichten  NachrichtenLängeGesamt\n",
       "match_id Team                                              \n",
       "0        Radiant               19.0                   117.0\n",
       "         Dire                  28.0                   352.0\n",
       "1        Radiant               12.0                   102.0\n",
       "         Dire                   4.0                    32.0\n",
       "2        Radiant               18.0                   167.0"
      ]
     },
     "execution_count": 101,
     "metadata": {},
     "output_type": "execute_result"
    }
   ],
   "source": [
    "# Gruppierter Datensatz Chat nach Match und Team\n",
    "groupedchat = chat[['match_id', 'Team', 'key']].groupby(['match_id', 'Team']).count()\n",
    "groupedchat.columns = ['AnzahlNachrichten']\n",
    "# Gesamte Nachrichtenlänge im Team in diesem Spiel\n",
    "groupedchat['NachrichtenLängeGesamt'] = chat[['match_id', 'Team', 'NachrichtenLänge']].groupby(['match_id', 'Team']).sum()\n",
    "groupedchat.head()"
   ]
  },
  {
   "cell_type": "code",
   "execution_count": 102,
   "metadata": {
    "collapsed": false
   },
   "outputs": [
    {
     "name": "stdout",
     "output_type": "stream",
     "text": [
      "   AnzahlNachrichten  NachrichtenLängeGesamt  DurchchschnittlicheLänge  \\\n",
      "0               19.0                   117.0                  6.157895   \n",
      "1               28.0                   352.0                 12.571429   \n",
      "2               12.0                   102.0                  8.500000   \n",
      "3                4.0                    32.0                  8.000000   \n",
      "4               18.0                   167.0                  9.277778   \n",
      "\n",
      "   match_id     Team  Spieldauer Gewinner  NachrichtenProMinute  \\\n",
      "0         0  Radiant        2375  Radiant              0.480000   \n",
      "1         0     Dire        2375  Radiant              0.707368   \n",
      "2         1  Radiant        2582     Dire              0.278854   \n",
      "3         1     Dire        2582     Dire              0.092951   \n",
      "4         2  Radiant        2716     Dire              0.397644   \n",
      "\n",
      "  SpieldauerBereiche  \n",
      "0                 40  \n",
      "1                 40  \n",
      "2                 45  \n",
      "3                 45  \n",
      "4                 50  \n",
      "   AnzahlNachrichten  NachrichtenLängeGesamt  DurchchschnittlicheLänge  \\\n",
      "0               19.0                   117.0                  6.157895   \n",
      "3                4.0                    32.0                  8.000000   \n",
      "5                6.0                    77.0                 12.833333   \n",
      "7               13.0                   113.0                  8.692308   \n",
      "8                3.0                    13.0                  4.333333   \n",
      "\n",
      "   match_id     Team  Spieldauer Gewinner  NachrichtenProMinute  \\\n",
      "0         0  Radiant        2375  Radiant              0.480000   \n",
      "3         1     Dire        2582     Dire              0.092951   \n",
      "5         2     Dire        2716     Dire              0.132548   \n",
      "7         3     Dire        3085     Dire              0.252836   \n",
      "8         4  Radiant        1887  Radiant              0.095390   \n",
      "\n",
      "  SpieldauerBereiche  \n",
      "0                 40  \n",
      "3                 45  \n",
      "5                 50  \n",
      "7                 55  \n",
      "8                 35  \n",
      "   AnzahlNachrichten  NachrichtenLängeGesamt  DurchchschnittlicheLänge  \\\n",
      "1               28.0                   352.0                 12.571429   \n",
      "2               12.0                   102.0                  8.500000   \n",
      "4               18.0                   167.0                  9.277778   \n",
      "6               12.0                    81.0                  6.750000   \n",
      "9                4.0                    36.0                  9.000000   \n",
      "\n",
      "   match_id     Team  Spieldauer Gewinner  NachrichtenProMinute  \\\n",
      "1         0     Dire        2375  Radiant              0.707368   \n",
      "2         1  Radiant        2582     Dire              0.278854   \n",
      "4         2  Radiant        2716     Dire              0.397644   \n",
      "6         3  Radiant        3085     Dire              0.233387   \n",
      "9         4     Dire        1887  Radiant              0.127186   \n",
      "\n",
      "  SpieldauerBereiche  \n",
      "1                 40  \n",
      "2                 45  \n",
      "4                 50  \n",
      "6                 55  \n",
      "9                 35  \n"
     ]
    }
   ],
   "source": [
    "groupedchat['DurchchschnittlicheLänge'] = groupedchat['NachrichtenLängeGesamt']/groupedchat['AnzahlNachrichten']\n",
    "groupedchat['match_id'] = [x[0] for x in list(groupedchat.index.values)]\n",
    "groupedchat['Team'] = [x[1] for x in list(groupedchat.index.values)]\n",
    "groupedchat = groupedchat.merge(match, on='match_id')\n",
    "#Erstellen Nachriten pro Minute\n",
    "groupedchat['NachrichtenProMinute'] = groupedchat['AnzahlNachrichten']/ (groupedchat['Spieldauer']/60)\n",
    "# Erstellen Spieldauerbereiche\n",
    "groupedchat['SpieldauerBereiche'] = pd.cut(groupedchat['Spieldauer'],[x*300 for x in range(21)], labels=[(x+1)*5 for x in range(20)])\n",
    "#Erstellen getrennter Tabellen (Win/Lose)\n",
    "groupedchat_win = groupedchat[groupedchat['Team']==groupedchat['Gewinner']]\n",
    "groupedchat_lose = groupedchat[groupedchat['Team']!=groupedchat['Gewinner']]\n",
    "#groupedchat_win.drop('Team',axis=1, inplace=True)\n",
    "#groupedchat_lose.drop('rad_win',axis=1, inplace=True)\n",
    "print(groupedchat.head())\n",
    "print(groupedchat_win.head())\n",
    "print(groupedchat_lose.head())"
   ]
  },
  {
   "cell_type": "code",
   "execution_count": 103,
   "metadata": {
    "collapsed": false
   },
   "outputs": [
    {
     "name": "stderr",
     "output_type": "stream",
     "text": [
      "C:\\Users\\Yvii\\Anaconda3\\lib\\site-packages\\ipykernel\\__main__.py:2: SettingWithCopyWarning: \n",
      "A value is trying to be set on a copy of a slice from a DataFrame.\n",
      "Try using .loc[row_indexer,col_indexer] = value instead\n",
      "\n",
      "See the caveats in the documentation: http://pandas.pydata.org/pandas-docs/stable/indexing.html#indexing-view-versus-copy\n",
      "  from ipykernel import kernelapp as app\n",
      "C:\\Users\\Yvii\\Anaconda3\\lib\\site-packages\\ipykernel\\__main__.py:3: SettingWithCopyWarning: \n",
      "A value is trying to be set on a copy of a slice from a DataFrame.\n",
      "Try using .loc[row_indexer,col_indexer] = value instead\n",
      "\n",
      "See the caveats in the documentation: http://pandas.pydata.org/pandas-docs/stable/indexing.html#indexing-view-versus-copy\n",
      "  app.launch_new_instance()\n",
      "C:\\Users\\Yvii\\Anaconda3\\lib\\site-packages\\ipykernel\\__main__.py:5: SettingWithCopyWarning: \n",
      "A value is trying to be set on a copy of a slice from a DataFrame.\n",
      "Try using .loc[row_indexer,col_indexer] = value instead\n",
      "\n",
      "See the caveats in the documentation: http://pandas.pydata.org/pandas-docs/stable/indexing.html#indexing-view-versus-copy\n",
      "C:\\Users\\Yvii\\Anaconda3\\lib\\site-packages\\ipykernel\\__main__.py:6: SettingWithCopyWarning: \n",
      "A value is trying to be set on a copy of a slice from a DataFrame.\n",
      "Try using .loc[row_indexer,col_indexer] = value instead\n",
      "\n",
      "See the caveats in the documentation: http://pandas.pydata.org/pandas-docs/stable/indexing.html#indexing-view-versus-copy\n"
     ]
    },
    {
     "name": "stdout",
     "output_type": "stream",
     "text": [
      "WIN only\n",
      "   AnzahlNachrichten  NachrichtenLängeGesamt  DurchchschnittlicheLänge  \\\n",
      "0               19.0                   117.0                  6.157895   \n",
      "3                4.0                    32.0                  8.000000   \n",
      "5                6.0                    77.0                 12.833333   \n",
      "7               13.0                   113.0                  8.692308   \n",
      "8                3.0                    13.0                  4.333333   \n",
      "\n",
      "   match_id     Team  Spieldauer Gewinner  NachrichtenProMinute  \\\n",
      "0         0  Radiant        2375  Radiant              0.480000   \n",
      "3         1     Dire        2582     Dire              0.092951   \n",
      "5         2     Dire        2716     Dire              0.132548   \n",
      "7         3     Dire        3085     Dire              0.252836   \n",
      "8         4  Radiant        1887  Radiant              0.095390   \n",
      "\n",
      "  SpieldauerBereiche  \n",
      "0                 40  \n",
      "3                 45  \n",
      "5                 50  \n",
      "7                 55  \n",
      "8                 35  \n",
      "LOSE only\n",
      "   AnzahlNachrichten  NachrichtenLängeGesamt  DurchchschnittlicheLänge  \\\n",
      "1               28.0                   352.0                 12.571429   \n",
      "2               12.0                   102.0                  8.500000   \n",
      "4               18.0                   167.0                  9.277778   \n",
      "6               12.0                    81.0                  6.750000   \n",
      "9                4.0                    36.0                  9.000000   \n",
      "\n",
      "   match_id     Team  Spieldauer Gewinner  NachrichtenProMinute  \\\n",
      "1         0     Dire        2375  Radiant              0.707368   \n",
      "2         1  Radiant        2582     Dire              0.278854   \n",
      "4         2  Radiant        2716     Dire              0.397644   \n",
      "6         3  Radiant        3085     Dire              0.233387   \n",
      "9         4     Dire        1887  Radiant              0.127186   \n",
      "\n",
      "  SpieldauerBereiche  \n",
      "1                 40  \n",
      "2                 45  \n",
      "4                 50  \n",
      "6                 55  \n",
      "9                 35  \n"
     ]
    }
   ],
   "source": [
    "# Erstellen Nachrichten pro Minute\n",
    "groupedchat_win['NachrichtenProMinute'] = groupedchat_win['AnzahlNachrichten']/ (groupedchat_win['Spieldauer']/60)\n",
    "groupedchat_lose['NachrichtenProMinute'] = groupedchat_lose['AnzahlNachrichten']/ (groupedchat_lose['Spieldauer']/60)\n",
    "# Erstellen Spieldauerbereiche\n",
    "groupedchat_win['SpieldauerBereiche'] = pd.cut(groupedchat_win['Spieldauer'],[x*300 for x in range(21)], labels=[(x+1)*5 for x in range(20)])\n",
    "groupedchat_lose['SpieldauerBereiche'] = pd.cut(groupedchat_lose['Spieldauer'],[x*300 for x in range(21)], labels=[(x+1)*5 for x in range(20)])\n",
    "print(\"WIN only\")\n",
    "print(groupedchat_win.head())\n",
    "print(\"LOSE only\")\n",
    "print(groupedchat_lose.head())"
   ]
  },
  {
   "cell_type": "markdown",
   "metadata": {},
   "source": [
    "### Zusammenhang zwischen der Laufzeit und des Chatvolumens mit Hilfe des korrigierten Kontigenz Koeffizienz."
   ]
  },
  {
   "cell_type": "markdown",
   "metadata": {},
   "source": [
    "### Zusammenhangsmaß"
   ]
  },
  {
   "cell_type": "markdown",
   "metadata": {},
   "source": [
    "#### Zusammenhang zwischen den Nachrichten pro Minute und dem Gewinner. "
   ]
  },
  {
   "cell_type": "code",
   "execution_count": 104,
   "metadata": {
    "collapsed": false
   },
   "outputs": [
    {
     "data": {
      "text/plain": [
       "0.86730638386026027"
      ]
     },
     "execution_count": 104,
     "metadata": {},
     "output_type": "execute_result"
    }
   ],
   "source": [
    "ccc(pd.crosstab(groupedchat_win['Team'],groupedchat_win['NachrichtenProMinute']))"
   ]
  },
  {
   "cell_type": "markdown",
   "metadata": {
    "collapsed": true
   },
   "source": [
    "#### Zusammnehang zwischen den Nachrichten pro Minute und dem Verlierer."
   ]
  },
  {
   "cell_type": "code",
   "execution_count": 105,
   "metadata": {
    "collapsed": false
   },
   "outputs": [
    {
     "data": {
      "text/plain": [
       "0.86828658610685083"
      ]
     },
     "execution_count": 105,
     "metadata": {},
     "output_type": "execute_result"
    }
   ],
   "source": [
    "ccc(pd.crosstab(groupedchat_lose['Team'],groupedchat_lose['NachrichtenProMinute']))"
   ]
  },
  {
   "cell_type": "markdown",
   "metadata": {},
   "source": [
    "** Interpretation: ** Es besteht ein starker Zusammenhang zwischen den Nachrichten pro Minute und dem Ausgang des Spiels. Gilt sowohl für Gewinner als auch Verlierer. "
   ]
  },
  {
   "cell_type": "markdown",
   "metadata": {},
   "source": [
    "### Korrelation "
   ]
  },
  {
   "cell_type": "markdown",
   "metadata": {},
   "source": [
    "#### Korrelation zwischen den Nachrichten pro Minute und dem Gewinner."
   ]
  },
  {
   "cell_type": "code",
   "execution_count": 106,
   "metadata": {
    "collapsed": false
   },
   "outputs": [
    {
     "name": "stderr",
     "output_type": "stream",
     "text": [
      "C:\\Users\\Yvii\\Anaconda3\\lib\\site-packages\\ipykernel\\__main__.py:2: SettingWithCopyWarning: \n",
      "A value is trying to be set on a copy of a slice from a DataFrame.\n",
      "Try using .loc[row_indexer,col_indexer] = value instead\n",
      "\n",
      "See the caveats in the documentation: http://pandas.pydata.org/pandas-docs/stable/indexing.html#indexing-view-versus-copy\n",
      "  from ipykernel import kernelapp as app\n"
     ]
    },
    {
     "data": {
      "text/html": [
       "<div>\n",
       "<table border=\"1\" class=\"dataframe\">\n",
       "  <thead>\n",
       "    <tr style=\"text-align: right;\">\n",
       "      <th></th>\n",
       "      <th>Team</th>\n",
       "      <th>NachrichtenProMinute</th>\n",
       "    </tr>\n",
       "  </thead>\n",
       "  <tbody>\n",
       "    <tr>\n",
       "      <th>Team</th>\n",
       "      <td>1.000000</td>\n",
       "      <td>-0.099684</td>\n",
       "    </tr>\n",
       "    <tr>\n",
       "      <th>NachrichtenProMinute</th>\n",
       "      <td>-0.099684</td>\n",
       "      <td>1.000000</td>\n",
       "    </tr>\n",
       "  </tbody>\n",
       "</table>\n",
       "</div>"
      ],
      "text/plain": [
       "                          Team  NachrichtenProMinute\n",
       "Team                  1.000000             -0.099684\n",
       "NachrichtenProMinute -0.099684              1.000000"
      ]
     },
     "execution_count": 106,
     "metadata": {},
     "output_type": "execute_result"
    }
   ],
   "source": [
    "corrtab = groupedchat_win[['Team', 'NachrichtenProMinute']]\n",
    "corrtab['Team'] = corrtab['Team'].map(lambda x: 0 if x == 'Radiant' else 1)\n",
    "corrtab.corr()"
   ]
  },
  {
   "cell_type": "markdown",
   "metadata": {},
   "source": [
    "#### Korrelation zwischen den Nachrichten pro Minute und dem Verlierer."
   ]
  },
  {
   "cell_type": "code",
   "execution_count": 107,
   "metadata": {
    "collapsed": false
   },
   "outputs": [
    {
     "name": "stderr",
     "output_type": "stream",
     "text": [
      "C:\\Users\\Yvii\\Anaconda3\\lib\\site-packages\\ipykernel\\__main__.py:2: SettingWithCopyWarning: \n",
      "A value is trying to be set on a copy of a slice from a DataFrame.\n",
      "Try using .loc[row_indexer,col_indexer] = value instead\n",
      "\n",
      "See the caveats in the documentation: http://pandas.pydata.org/pandas-docs/stable/indexing.html#indexing-view-versus-copy\n",
      "  from ipykernel import kernelapp as app\n"
     ]
    },
    {
     "data": {
      "text/html": [
       "<div>\n",
       "<table border=\"1\" class=\"dataframe\">\n",
       "  <thead>\n",
       "    <tr style=\"text-align: right;\">\n",
       "      <th></th>\n",
       "      <th>Team</th>\n",
       "      <th>NachrichtenProMinute</th>\n",
       "    </tr>\n",
       "  </thead>\n",
       "  <tbody>\n",
       "    <tr>\n",
       "      <th>Team</th>\n",
       "      <td>1.00000</td>\n",
       "      <td>-0.07467</td>\n",
       "    </tr>\n",
       "    <tr>\n",
       "      <th>NachrichtenProMinute</th>\n",
       "      <td>-0.07467</td>\n",
       "      <td>1.00000</td>\n",
       "    </tr>\n",
       "  </tbody>\n",
       "</table>\n",
       "</div>"
      ],
      "text/plain": [
       "                         Team  NachrichtenProMinute\n",
       "Team                  1.00000              -0.07467\n",
       "NachrichtenProMinute -0.07467               1.00000"
      ]
     },
     "execution_count": 107,
     "metadata": {},
     "output_type": "execute_result"
    }
   ],
   "source": [
    "corrtab = groupedchat_lose[['Team', 'NachrichtenProMinute']]\n",
    "corrtab['Team'] = corrtab['Team'].map(lambda x: 0 if x == 'Radiant' else 1)\n",
    "corrtab.corr()"
   ]
  },
  {
   "cell_type": "markdown",
   "metadata": {},
   "source": [
    "** Interpretation: ** Es besteht kaum eine Korrelation zwischen den geschriebenen Nachrichten und dem Ausgang des Spiels."
   ]
  },
  {
   "cell_type": "markdown",
   "metadata": {},
   "source": [
    "### Visualisierung"
   ]
  },
  {
   "cell_type": "code",
   "execution_count": 110,
   "metadata": {
    "collapsed": false
   },
   "outputs": [
    {
     "data": {
      "text/plain": [
       "0.0    0.012203\n",
       "0.1    0.054299\n",
       "0.2    0.090000\n",
       "0.3    0.127932\n",
       "0.4    0.170891\n",
       "0.5    0.220690\n",
       "0.6    0.284475\n",
       "0.7    0.370761\n",
       "0.8    0.502195\n",
       "0.9    0.762712\n",
       "1.0    8.077900\n",
       "Name: NachrichtenProMinute, dtype: float64"
      ]
     },
     "execution_count": 110,
     "metadata": {},
     "output_type": "execute_result"
    }
   ],
   "source": [
    "quantile = groupedchat.NachrichtenProMinute.quantile(q=[x/10 for x in range(0,11)])\n",
    "quantile"
   ]
  },
  {
   "cell_type": "code",
   "execution_count": 115,
   "metadata": {
    "collapsed": false
   },
   "outputs": [
    {
     "data": {
      "text/html": [
       "<div>\n",
       "<table border=\"1\" class=\"dataframe\">\n",
       "  <thead>\n",
       "    <tr style=\"text-align: right;\">\n",
       "      <th></th>\n",
       "      <th>Team</th>\n",
       "    </tr>\n",
       "    <tr>\n",
       "      <th>BereicheNachrichtenProMinute</th>\n",
       "      <th></th>\n",
       "    </tr>\n",
       "  </thead>\n",
       "  <tbody>\n",
       "    <tr>\n",
       "      <th>0.054299</th>\n",
       "      <td>5697</td>\n",
       "    </tr>\n",
       "    <tr>\n",
       "      <th>0.090000</th>\n",
       "      <td>5339</td>\n",
       "    </tr>\n",
       "    <tr>\n",
       "      <th>0.127932</th>\n",
       "      <td>5031</td>\n",
       "    </tr>\n",
       "    <tr>\n",
       "      <th>0.170891</th>\n",
       "      <td>4977</td>\n",
       "    </tr>\n",
       "    <tr>\n",
       "      <th>0.220690</th>\n",
       "      <td>4766</td>\n",
       "    </tr>\n",
       "  </tbody>\n",
       "</table>\n",
       "</div>"
      ],
      "text/plain": [
       "                              Team\n",
       "BereicheNachrichtenProMinute      \n",
       "0.054299                      5697\n",
       "0.090000                      5339\n",
       "0.127932                      5031\n",
       "0.170891                      4977\n",
       "0.220690                      4766"
      ]
     },
     "execution_count": 115,
     "metadata": {},
     "output_type": "execute_result"
    }
   ],
   "source": [
    "groupedchat['BereicheNachrichtenProMinute'] = pd.cut(groupedchat['NachrichtenProMinute'] , quantile, labels = quantile.values[1:])\n",
    "groupedchat.head()\n",
    "groupedquantile = groupedchat[['BereicheNachrichtenProMinute', 'Team']].replace({'Team':{'Radiant':0,'Dire':1}}).groupby('BereicheNachrichtenProMinute').sum()\n",
    "groupedquantile.head()"
   ]
  },
  {
   "cell_type": "code",
   "execution_count": null,
   "metadata": {
    "collapsed": false
   },
   "outputs": [],
   "source": []
  },
  {
   "cell_type": "markdown",
   "metadata": {},
   "source": [
    "#### Visualisierung des Zusammenhangs zwischen der Laufzeit und des Chatvolumens."
   ]
  },
  {
   "cell_type": "code",
   "execution_count": null,
   "metadata": {
    "collapsed": true
   },
   "outputs": [],
   "source": [
    "a = sns.stripplot(x='duration', y='chatvolumen', data =match) #point "
   ]
  },
  {
   "cell_type": "code",
   "execution_count": null,
   "metadata": {
    "collapsed": true
   },
   "outputs": [],
   "source": [
    "#sns.stripplot(x='', y='', data='groupedchat')"
   ]
  },
  {
   "cell_type": "markdown",
   "metadata": {},
   "source": [
    "#### Zusammenhang zwischen der Laufzeit in Minuten und der geschriebenen Nachrichten pro Minute."
   ]
  },
  {
   "cell_type": "code",
   "execution_count": null,
   "metadata": {
    "collapsed": true
   },
   "outputs": [],
   "source": [
    "#Massages pro Minute \n",
    "mpm = match['chatvolumen'] / (match['duration']/60)\n",
    "mpm.head()"
   ]
  },
  {
   "cell_type": "code",
   "execution_count": null,
   "metadata": {
    "collapsed": true
   },
   "outputs": [],
   "source": [
    "ccc(pd.crosstab((match['duration']/60), [mpm]))"
   ]
  },
  {
   "cell_type": "markdown",
   "metadata": {},
   "source": [
    "** Interpretation: ** Laut des korrigierten Kontigenze Koeffizienten besteht ein sehr starker Zusammenhang zwischen der Laufzeit und dem Chatvolumen, das heißt die Merkmale sind nicht unabhängig voneinander. "
   ]
  },
  {
   "cell_type": "markdown",
   "metadata": {},
   "source": [
    "#### Durchschnittliche Nachrichten pro Minute"
   ]
  },
  {
   "cell_type": "code",
   "execution_count": null,
   "metadata": {
    "collapsed": true
   },
   "outputs": [],
   "source": [
    "durchnach = mpm.mean(axis=0)\n",
    "durchnach"
   ]
  },
  {
   "cell_type": "markdown",
   "metadata": {},
   "source": [
    "#### Analyse des Zusammenhangs zwischen den geschriebenen Nachrichten pro Minute und dem Spielende mit Hilfe des Korrigierten Kontigenzkoefzient."
   ]
  },
  {
   "cell_type": "code",
   "execution_count": null,
   "metadata": {
    "collapsed": true
   },
   "outputs": [],
   "source": [
    "p = match['duration']/60\n",
    "ccc(pd.crosstab(match['radiant_win'],[p]))"
   ]
  },
  {
   "cell_type": "markdown",
   "metadata": {},
   "source": [
    "** Interpretation: ** Laut des korrigierten Kontigenze Koeffizienten besteht kein Zusammenhang zwischen dem Chatvolumen und der Gewinnergebniss."
   ]
  },
  {
   "cell_type": "markdown",
   "metadata": {
    "collapsed": true
   },
   "source": [
    "#### Bewertung der individuellen Einflüsse von der Laufzeit und der geschriebenen Nachrichten pro Minute auf das Spielende mit Hilfe der im DataFrame integrierten Funktion *corr()*!"
   ]
  },
  {
   "cell_type": "code",
   "execution_count": null,
   "metadata": {
    "collapsed": true
   },
   "outputs": [],
   "source": [
    "Bewertung des individuellen Einflüsses von der Laufzeit auf das Chatvolumen mit Hilfe der im DataFrame integrierten Funktion *corr()*!"
   ]
  },
  {
   "cell_type": "code",
   "execution_count": null,
   "metadata": {
    "collapsed": true
   },
   "outputs": [],
   "source": [
    "groupedchat['nachpromin'] = "
   ]
  },
  {
   "cell_type": "code",
   "execution_count": null,
   "metadata": {
    "collapsed": true
   },
   "outputs": [],
   "source": []
  },
  {
   "cell_type": "code",
   "execution_count": null,
   "metadata": {
    "collapsed": true
   },
   "outputs": [],
   "source": [
    "match[['radiant_win', 'duration', 'nachpromin']].corr()\n"
   ]
  },
  {
   "cell_type": "markdown",
   "metadata": {},
   "source": [
    "** Interpretation: ** "
   ]
  },
  {
   "cell_type": "markdown",
   "metadata": {},
   "source": [
    "#### Ermittlung wie oft das Wort GG im Chatverlauf verwendet wurde"
   ]
  },
  {
   "cell_type": "code",
   "execution_count": null,
   "metadata": {
    "collapsed": true
   },
   "outputs": [],
   "source": [
    "gg = chat['match_id'].value_counts('gg' and 'good game' and 'GG' and 'Good Game')#vllt mit lower noch\n",
    "gg.head()"
   ]
  },
  {
   "cell_type": "markdown",
   "metadata": {},
   "source": [
    "#### Hat das Wünschen eines guten Spiels Einfluss auf das Spielende?"
   ]
  },
  {
   "cell_type": "code",
   "execution_count": null,
   "metadata": {
    "collapsed": true
   },
   "outputs": [],
   "source": [
    "ccc(pd.crosstab(match['radiant_win'], [gg]))"
   ]
  },
  {
   "cell_type": "code",
   "execution_count": null,
   "metadata": {
    "collapsed": true
   },
   "outputs": [],
   "source": [
    "#### Neue Spalte GG in DataFrame 'match' einfügen."
   ]
  },
  {
   "cell_type": "code",
   "execution_count": null,
   "metadata": {
    "collapsed": true
   },
   "outputs": [],
   "source": [
    "match['gg'] = gg"
   ]
  },
  {
   "cell_type": "code",
   "execution_count": null,
   "metadata": {
    "collapsed": true
   },
   "outputs": [],
   "source": [
    "#Überprüfen \n",
    "match.head()"
   ]
  },
  {
   "cell_type": "markdown",
   "metadata": {},
   "source": [
    "** Interpretation: ** Das Wünschen eines guten Spiels hat kein Einfluss auf das Spielende."
   ]
  },
  {
   "cell_type": "code",
   "execution_count": null,
   "metadata": {
    "collapsed": true
   },
   "outputs": [],
   "source": [
    "match[['radiant_win','gg']].corr()"
   ]
  }
 ],
 "metadata": {
  "anaconda-cloud": {},
  "kernelspec": {
   "display_name": "Python 3",
   "language": "python",
   "name": "python3"
  },
  "language_info": {
   "codemirror_mode": {
    "name": "ipython",
    "version": 3
   },
   "file_extension": ".py",
   "mimetype": "text/x-python",
   "name": "python",
   "nbconvert_exporter": "python",
   "pygments_lexer": "ipython3",
   "version": "3.6.0"
  }
 },
 "nbformat": 4,
 "nbformat_minor": 1
}
