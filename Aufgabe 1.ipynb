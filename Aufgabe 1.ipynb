{
 "cells": [
  {
   "cell_type": "markdown",
   "metadata": {
    "collapsed": true
   },
   "source": [
    "# Aufgabe 1\n",
    "\n",
    "### Kann man auf den Daten die vor Spielbeginn verfügbar sind den Ausgang des Spiels vorhersagen? (Auf Basis der Erfolgschance der Champions)\n"
   ]
  },
  {
   "cell_type": "code",
   "execution_count": 6,
   "metadata": {
    "collapsed": false
   },
   "outputs": [],
   "source": [
    "import numpy as np\n",
    "import pandas as pd\n",
    "import seaborn as sns\n",
    "\n",
    "%matplotlib inline\n",
    "import matplotlib.pyplot as plt\n",
    "sns.set(context=\"paper\", font=\"monospace\")"
   ]
  },
  {
   "cell_type": "markdown",
   "metadata": {},
   "source": [
    "### Einlesen der Dateien"
   ]
  },
  {
   "cell_type": "code",
   "execution_count": null,
   "metadata": {
    "collapsed": true
   },
   "outputs": [],
   "source": []
  },
  {
   "cell_type": "code",
   "execution_count": 7,
   "metadata": {
    "collapsed": false
   },
   "outputs": [],
   "source": [
    "players = pd.read_csv('data/players.csv')\n",
    "match_50000 = pd.read_csv('data/match.csv', nrows=50000)\n",
    "clusters = pd.read_csv('data/cluster_regions.csv')\n",
    "player_ratings = pd.read_csv('data/player_ratings.csv')\n"
   ]
  },
  {
   "cell_type": "markdown",
   "metadata": {},
   "source": [
    "### Überprüfen der fehlenden Werte"
   ]
  },
  {
   "cell_type": "code",
   "execution_count": 9,
   "metadata": {
    "collapsed": false
   },
   "outputs": [
    {
     "name": "stdout",
     "output_type": "stream",
     "text": [
      "Na Werte \tmatch_id                                  0\n",
      "account_id                                0\n",
      "hero_id                                   0\n",
      "player_slot                               0\n",
      "gold                                      0\n",
      "gold_spent                                0\n",
      "gold_per_min                              0\n",
      "xp_per_min                                0\n",
      "kills                                     0\n",
      "deaths                                    0\n",
      "assists                                   0\n",
      "denies                                    0\n",
      "last_hits                                 0\n",
      "stuns                                     0\n",
      "hero_damage                               0\n",
      "hero_healing                              0\n",
      "tower_damage                              0\n",
      "item_0                                    0\n",
      "item_1                                    0\n",
      "item_2                                    0\n",
      "item_3                                    0\n",
      "item_4                                    0\n",
      "item_5                                    0\n",
      "level                                     0\n",
      "leaver_status                             0\n",
      "xp_hero                                1883\n",
      "xp_creep                                 68\n",
      "xp_roshan                            320438\n",
      "xp_other                              21036\n",
      "gold_other                            94897\n",
      "                                      ...  \n",
      "unit_order_attack_target                105\n",
      "unit_order_cast_position               2269\n",
      "unit_order_cast_target                16674\n",
      "unit_order_cast_target_tree           35712\n",
      "unit_order_cast_no_target               892\n",
      "unit_order_cast_toggle               401211\n",
      "unit_order_hold_position             137277\n",
      "unit_order_train_ability                 73\n",
      "unit_order_drop_item                 288667\n",
      "unit_order_give_item                 394631\n",
      "unit_order_pickup_item               244658\n",
      "unit_order_pickup_rune                74517\n",
      "unit_order_purchase_item                 57\n",
      "unit_order_sell_item                 111866\n",
      "unit_order_disassemble_item          485446\n",
      "unit_order_move_item                   4264\n",
      "unit_order_cast_toggle_auto          463670\n",
      "unit_order_stop                      412425\n",
      "unit_order_taunt                     500000\n",
      "unit_order_buyback                   352233\n",
      "unit_order_glyph                     273230\n",
      "unit_order_eject_item_from_stash     468736\n",
      "unit_order_cast_rune                 499991\n",
      "unit_order_ping_ability              160852\n",
      "unit_order_move_to_direction         496449\n",
      "unit_order_patrol                    500000\n",
      "unit_order_vector_target_position    500000\n",
      "unit_order_radar                     500000\n",
      "unit_order_set_item_combine_lock     500000\n",
      "unit_order_continue                  500000\n",
      "dtype: int64\n",
      "\n",
      "\n",
      "Die NA Werte sind nicht zu bereinigen, mit ihnen muss umgegangen werden.\n"
     ]
    }
   ],
   "source": [
    "print (\"Na Werte \\t\" +  str(players.isnull().sum()))\n",
    "print(\"\\n\\nDie NA Werte sind nicht zu bereinigen, mit ihnen muss umgegangen werden.\")"
   ]
  },
  {
   "cell_type": "code",
   "execution_count": null,
   "metadata": {
    "collapsed": true
   },
   "outputs": [],
   "source": []
  },
  {
   "cell_type": "code",
   "execution_count": 8,
   "metadata": {
    "collapsed": false
   },
   "outputs": [
    {
     "name": "stdout",
     "output_type": "stream",
     "text": [
      "Na Werte \tmatch_id                   0\n",
      "start_time                 0\n",
      "duration                   0\n",
      "tower_status_radiant       0\n",
      "tower_status_dire          0\n",
      "barracks_status_dire       0\n",
      "barracks_status_radiant    0\n",
      "first_blood_time           0\n",
      "game_mode                  0\n",
      "radiant_win                0\n",
      "negative_votes             0\n",
      "positive_votes             0\n",
      "cluster                    0\n",
      "dtype: int64\n"
     ]
    }
   ],
   "source": [
    "print (\"Na Werte \\t\" +  str(match_50000.isnull().sum()))\n"
   ]
  },
  {
   "cell_type": "code",
   "execution_count": 10,
   "metadata": {
    "collapsed": false
   },
   "outputs": [
    {
     "name": "stdout",
     "output_type": "stream",
     "text": [
      "Na Werte \tcluster    0\n",
      "region     0\n",
      "dtype: int64\n"
     ]
    }
   ],
   "source": [
    "print (\"Na Werte \\t\" +  str(clusters.isnull().sum()))"
   ]
  },
  {
   "cell_type": "code",
   "execution_count": 11,
   "metadata": {
    "collapsed": false
   },
   "outputs": [
    {
     "name": "stdout",
     "output_type": "stream",
     "text": [
      "Na Werte \taccount_id         0\n",
      "total_wins         0\n",
      "total_matches      0\n",
      "trueskill_mu       0\n",
      "trueskill_sigma    0\n",
      "dtype: int64\n"
     ]
    }
   ],
   "source": [
    "print (\"Na Werte \\t\" +  str(player_ratings.isnull().sum()))"
   ]
  },
  {
   "cell_type": "code",
   "execution_count": null,
   "metadata": {
    "collapsed": true
   },
   "outputs": [],
   "source": []
  },
  {
   "cell_type": "code",
   "execution_count": null,
   "metadata": {
    "collapsed": true
   },
   "outputs": [],
   "source": []
  },
  {
   "cell_type": "code",
   "execution_count": null,
   "metadata": {
    "collapsed": true
   },
   "outputs": [],
   "source": []
  },
  {
   "cell_type": "code",
   "execution_count": null,
   "metadata": {
    "collapsed": true
   },
   "outputs": [],
   "source": []
  }
 ],
 "metadata": {
  "anaconda-cloud": {},
  "kernelspec": {
   "display_name": "Python [default]",
   "language": "python",
   "name": "python3"
  },
  "language_info": {
   "codemirror_mode": {
    "name": "ipython",
    "version": 3
   },
   "file_extension": ".py",
   "mimetype": "text/x-python",
   "name": "python",
   "nbconvert_exporter": "python",
   "pygments_lexer": "ipython3",
   "version": "3.5.2"
  }
 },
 "nbformat": 4,
 "nbformat_minor": 1
}
