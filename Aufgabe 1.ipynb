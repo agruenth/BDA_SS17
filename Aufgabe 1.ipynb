{
 "cells": [
  {
   "cell_type": "markdown",
   "metadata": {
    "collapsed": true
   },
   "source": [
    "# Aufgabe 1\n",
    "\n",
    "### Kann man auf den Daten die vor Spielbeginn verfügbar sind den Ausgang des Spiels vorhersagen? (Auf Basis der Erfolgschance der Champions)\n"
   ]
  },
  {
   "cell_type": "code",
   "execution_count": 2,
   "metadata": {
    "collapsed": false
   },
   "outputs": [],
   "source": [
    "import numpy as np\n",
    "import pandas as pd\n",
    "import seaborn as sns\n",
    "\n",
    "%matplotlib inline\n",
    "import matplotlib.pyplot as plt\n",
    "sns.set(context=\"paper\", font=\"monospace\")"
   ]
  },
  {
   "cell_type": "markdown",
   "metadata": {},
   "source": [
    "#### Einlesen der Dateien"
   ]
  },
  {
   "cell_type": "code",
   "execution_count": 5,
   "metadata": {
    "collapsed": false
   },
   "outputs": [],
   "source": [
    "players = pd.read_csv('data/players.csv')\n",
    "match_50000 = pd.read_csv('data/match.csv', nrows=50000)\n",
    "clusters = pd.read_csv('data/cluster_regions.csv')\n",
    "player_ratings = pd.read_csv('data/player_ratings.csv')\n"
   ]
  },
  {
   "cell_type": "markdown",
   "metadata": {},
   "source": [
    "#### Überprüfen der fehlenden Werte"
   ]
  },
  {
   "cell_type": "code",
   "execution_count": 6,
   "metadata": {
    "collapsed": false
   },
   "outputs": [
    {
     "name": "stdout",
     "output_type": "stream",
     "text": [
      "Na Werte \tmatch_id                                  0\n",
      "account_id                                0\n",
      "hero_id                                   0\n",
      "player_slot                               0\n",
      "gold                                      0\n",
      "gold_spent                                0\n",
      "gold_per_min                              0\n",
      "xp_per_min                                0\n",
      "kills                                     0\n",
      "deaths                                    0\n",
      "assists                                   0\n",
      "denies                                    0\n",
      "last_hits                                 0\n",
      "stuns                                     0\n",
      "hero_damage                               0\n",
      "hero_healing                              0\n",
      "tower_damage                              0\n",
      "item_0                                    0\n",
      "item_1                                    0\n",
      "item_2                                    0\n",
      "item_3                                    0\n",
      "item_4                                    0\n",
      "item_5                                    0\n",
      "level                                     0\n",
      "leaver_status                             0\n",
      "xp_hero                                1883\n",
      "xp_creep                                 68\n",
      "xp_roshan                            320438\n",
      "xp_other                              21036\n",
      "gold_other                            94897\n",
      "                                      ...  \n",
      "unit_order_attack_target                105\n",
      "unit_order_cast_position               2269\n",
      "unit_order_cast_target                16674\n",
      "unit_order_cast_target_tree           35712\n",
      "unit_order_cast_no_target               892\n",
      "unit_order_cast_toggle               401211\n",
      "unit_order_hold_position             137277\n",
      "unit_order_train_ability                 73\n",
      "unit_order_drop_item                 288667\n",
      "unit_order_give_item                 394631\n",
      "unit_order_pickup_item               244658\n",
      "unit_order_pickup_rune                74517\n",
      "unit_order_purchase_item                 57\n",
      "unit_order_sell_item                 111866\n",
      "unit_order_disassemble_item          485446\n",
      "unit_order_move_item                   4264\n",
      "unit_order_cast_toggle_auto          463670\n",
      "unit_order_stop                      412425\n",
      "unit_order_taunt                     500000\n",
      "unit_order_buyback                   352233\n",
      "unit_order_glyph                     273230\n",
      "unit_order_eject_item_from_stash     468736\n",
      "unit_order_cast_rune                 499991\n",
      "unit_order_ping_ability              160852\n",
      "unit_order_move_to_direction         496449\n",
      "unit_order_patrol                    500000\n",
      "unit_order_vector_target_position    500000\n",
      "unit_order_radar                     500000\n",
      "unit_order_set_item_combine_lock     500000\n",
      "unit_order_continue                  500000\n",
      "dtype: int64\n",
      "\n",
      "\n",
      "Die NA Werte sind nicht zu bereinigen, mit ihnen muss umgegangen werden.\n"
     ]
    }
   ],
   "source": [
    "print (\"Na Werte \\t\" +  str(players.isnull().sum()))\n",
    "print(\"\\n\\nDie NA Werte sind nicht zu bereinigen, mit ihnen muss umgegangen werden.\")"
   ]
  },
  {
   "cell_type": "code",
   "execution_count": 7,
   "metadata": {
    "collapsed": false
   },
   "outputs": [
    {
     "name": "stdout",
     "output_type": "stream",
     "text": [
      "Na Werte \tmatch_id                   0\n",
      "start_time                 0\n",
      "duration                   0\n",
      "tower_status_radiant       0\n",
      "tower_status_dire          0\n",
      "barracks_status_dire       0\n",
      "barracks_status_radiant    0\n",
      "first_blood_time           0\n",
      "game_mode                  0\n",
      "radiant_win                0\n",
      "negative_votes             0\n",
      "positive_votes             0\n",
      "cluster                    0\n",
      "dtype: int64\n"
     ]
    }
   ],
   "source": [
    "print (\"Na Werte \\t\" +  str(match_50000.isnull().sum()))\n"
   ]
  },
  {
   "cell_type": "code",
   "execution_count": 8,
   "metadata": {
    "collapsed": false
   },
   "outputs": [
    {
     "name": "stdout",
     "output_type": "stream",
     "text": [
      "Na Werte \tcluster    0\n",
      "region     0\n",
      "dtype: int64\n"
     ]
    }
   ],
   "source": [
    "print (\"Na Werte \\t\" +  str(clusters.isnull().sum()))"
   ]
  },
  {
   "cell_type": "code",
   "execution_count": 9,
   "metadata": {
    "collapsed": false,
    "scrolled": true
   },
   "outputs": [
    {
     "name": "stdout",
     "output_type": "stream",
     "text": [
      "Na Werte \taccount_id         0\n",
      "total_wins         0\n",
      "total_matches      0\n",
      "trueskill_mu       0\n",
      "trueskill_sigma    0\n",
      "dtype: int64\n"
     ]
    }
   ],
   "source": [
    "print (\"Na Werte \\t\" +  str(player_ratings.isnull().sum()))"
   ]
  },
  {
   "cell_type": "markdown",
   "metadata": {},
   "source": [
    "#### Wie erfolgreich sind die einzelnen Champions?"
   ]
  },
  {
   "cell_type": "code",
   "execution_count": 14,
   "metadata": {
    "collapsed": false
   },
   "outputs": [],
   "source": [
    "match_50000[\"radiant_win\"] = match_50000.radiant_win.astype(int)\n",
    "mat = match_50000.merge(match_50000,on='match_id').merge(players[players[\"player_slot\"]<6],on='match_id')"
   ]
  },
  {
   "cell_type": "code",
   "execution_count": 32,
   "metadata": {
    "collapsed": false
   },
   "outputs": [
    {
     "data": {
      "text/html": [
       "<div>\n",
       "<table border=\"1\" class=\"dataframe\">\n",
       "  <thead>\n",
       "    <tr style=\"text-align: right;\">\n",
       "      <th></th>\n",
       "      <th>winrate</th>\n",
       "      <th>hero_id</th>\n",
       "    </tr>\n",
       "  </thead>\n",
       "  <tbody>\n",
       "    <tr>\n",
       "      <th>0</th>\n",
       "      <td>0.136364</td>\n",
       "      <td>0</td>\n",
       "    </tr>\n",
       "    <tr>\n",
       "      <th>1</th>\n",
       "      <td>0.484149</td>\n",
       "      <td>1</td>\n",
       "    </tr>\n",
       "    <tr>\n",
       "      <th>2</th>\n",
       "      <td>0.454823</td>\n",
       "      <td>2</td>\n",
       "    </tr>\n",
       "    <tr>\n",
       "      <th>3</th>\n",
       "      <td>0.487500</td>\n",
       "      <td>3</td>\n",
       "    </tr>\n",
       "    <tr>\n",
       "      <th>4</th>\n",
       "      <td>0.469646</td>\n",
       "      <td>4</td>\n",
       "    </tr>\n",
       "    <tr>\n",
       "      <th>5</th>\n",
       "      <td>0.562169</td>\n",
       "      <td>5</td>\n",
       "    </tr>\n",
       "    <tr>\n",
       "      <th>6</th>\n",
       "      <td>0.518660</td>\n",
       "      <td>6</td>\n",
       "    </tr>\n",
       "    <tr>\n",
       "      <th>7</th>\n",
       "      <td>0.521411</td>\n",
       "      <td>7</td>\n",
       "    </tr>\n",
       "    <tr>\n",
       "      <th>8</th>\n",
       "      <td>0.524041</td>\n",
       "      <td>8</td>\n",
       "    </tr>\n",
       "    <tr>\n",
       "      <th>9</th>\n",
       "      <td>0.539709</td>\n",
       "      <td>9</td>\n",
       "    </tr>\n",
       "    <tr>\n",
       "      <th>10</th>\n",
       "      <td>0.446667</td>\n",
       "      <td>10</td>\n",
       "    </tr>\n",
       "    <tr>\n",
       "      <th>11</th>\n",
       "      <td>0.531194</td>\n",
       "      <td>11</td>\n",
       "    </tr>\n",
       "    <tr>\n",
       "      <th>12</th>\n",
       "      <td>0.471668</td>\n",
       "      <td>12</td>\n",
       "    </tr>\n",
       "    <tr>\n",
       "      <th>13</th>\n",
       "      <td>0.435838</td>\n",
       "      <td>13</td>\n",
       "    </tr>\n",
       "    <tr>\n",
       "      <th>14</th>\n",
       "      <td>0.514019</td>\n",
       "      <td>14</td>\n",
       "    </tr>\n",
       "    <tr>\n",
       "      <th>15</th>\n",
       "      <td>0.506250</td>\n",
       "      <td>15</td>\n",
       "    </tr>\n",
       "    <tr>\n",
       "      <th>16</th>\n",
       "      <td>0.489172</td>\n",
       "      <td>16</td>\n",
       "    </tr>\n",
       "    <tr>\n",
       "      <th>17</th>\n",
       "      <td>0.428571</td>\n",
       "      <td>17</td>\n",
       "    </tr>\n",
       "    <tr>\n",
       "      <th>18</th>\n",
       "      <td>0.535632</td>\n",
       "      <td>18</td>\n",
       "    </tr>\n",
       "    <tr>\n",
       "      <th>19</th>\n",
       "      <td>0.503440</td>\n",
       "      <td>19</td>\n",
       "    </tr>\n",
       "    <tr>\n",
       "      <th>20</th>\n",
       "      <td>0.542603</td>\n",
       "      <td>20</td>\n",
       "    </tr>\n",
       "    <tr>\n",
       "      <th>21</th>\n",
       "      <td>0.500581</td>\n",
       "      <td>21</td>\n",
       "    </tr>\n",
       "    <tr>\n",
       "      <th>22</th>\n",
       "      <td>0.581858</td>\n",
       "      <td>22</td>\n",
       "    </tr>\n",
       "    <tr>\n",
       "      <th>23</th>\n",
       "      <td>0.487023</td>\n",
       "      <td>23</td>\n",
       "    </tr>\n",
       "    <tr>\n",
       "      <th>24</th>\n",
       "      <td>NaN</td>\n",
       "      <td>24</td>\n",
       "    </tr>\n",
       "    <tr>\n",
       "      <th>25</th>\n",
       "      <td>0.451009</td>\n",
       "      <td>25</td>\n",
       "    </tr>\n",
       "    <tr>\n",
       "      <th>26</th>\n",
       "      <td>0.492295</td>\n",
       "      <td>26</td>\n",
       "    </tr>\n",
       "    <tr>\n",
       "      <th>27</th>\n",
       "      <td>0.561659</td>\n",
       "      <td>27</td>\n",
       "    </tr>\n",
       "    <tr>\n",
       "      <th>28</th>\n",
       "      <td>0.576860</td>\n",
       "      <td>28</td>\n",
       "    </tr>\n",
       "    <tr>\n",
       "      <th>29</th>\n",
       "      <td>0.498328</td>\n",
       "      <td>29</td>\n",
       "    </tr>\n",
       "    <tr>\n",
       "      <th>...</th>\n",
       "      <td>...</td>\n",
       "      <td>...</td>\n",
       "    </tr>\n",
       "    <tr>\n",
       "      <th>83</th>\n",
       "      <td>0.532131</td>\n",
       "      <td>83</td>\n",
       "    </tr>\n",
       "    <tr>\n",
       "      <th>84</th>\n",
       "      <td>0.541724</td>\n",
       "      <td>84</td>\n",
       "    </tr>\n",
       "    <tr>\n",
       "      <th>85</th>\n",
       "      <td>0.592802</td>\n",
       "      <td>85</td>\n",
       "    </tr>\n",
       "    <tr>\n",
       "      <th>86</th>\n",
       "      <td>0.472772</td>\n",
       "      <td>86</td>\n",
       "    </tr>\n",
       "    <tr>\n",
       "      <th>87</th>\n",
       "      <td>0.539260</td>\n",
       "      <td>87</td>\n",
       "    </tr>\n",
       "    <tr>\n",
       "      <th>88</th>\n",
       "      <td>0.502203</td>\n",
       "      <td>88</td>\n",
       "    </tr>\n",
       "    <tr>\n",
       "      <th>89</th>\n",
       "      <td>0.463265</td>\n",
       "      <td>89</td>\n",
       "    </tr>\n",
       "    <tr>\n",
       "      <th>90</th>\n",
       "      <td>0.470968</td>\n",
       "      <td>90</td>\n",
       "    </tr>\n",
       "    <tr>\n",
       "      <th>91</th>\n",
       "      <td>0.474390</td>\n",
       "      <td>91</td>\n",
       "    </tr>\n",
       "    <tr>\n",
       "      <th>92</th>\n",
       "      <td>0.520343</td>\n",
       "      <td>92</td>\n",
       "    </tr>\n",
       "    <tr>\n",
       "      <th>93</th>\n",
       "      <td>0.497965</td>\n",
       "      <td>93</td>\n",
       "    </tr>\n",
       "    <tr>\n",
       "      <th>94</th>\n",
       "      <td>0.540928</td>\n",
       "      <td>94</td>\n",
       "    </tr>\n",
       "    <tr>\n",
       "      <th>95</th>\n",
       "      <td>0.500000</td>\n",
       "      <td>95</td>\n",
       "    </tr>\n",
       "    <tr>\n",
       "      <th>96</th>\n",
       "      <td>0.537797</td>\n",
       "      <td>96</td>\n",
       "    </tr>\n",
       "    <tr>\n",
       "      <th>97</th>\n",
       "      <td>0.470041</td>\n",
       "      <td>97</td>\n",
       "    </tr>\n",
       "    <tr>\n",
       "      <th>98</th>\n",
       "      <td>0.472889</td>\n",
       "      <td>98</td>\n",
       "    </tr>\n",
       "    <tr>\n",
       "      <th>99</th>\n",
       "      <td>0.485469</td>\n",
       "      <td>99</td>\n",
       "    </tr>\n",
       "    <tr>\n",
       "      <th>100</th>\n",
       "      <td>0.535433</td>\n",
       "      <td>100</td>\n",
       "    </tr>\n",
       "    <tr>\n",
       "      <th>101</th>\n",
       "      <td>0.453104</td>\n",
       "      <td>101</td>\n",
       "    </tr>\n",
       "    <tr>\n",
       "      <th>102</th>\n",
       "      <td>0.599644</td>\n",
       "      <td>102</td>\n",
       "    </tr>\n",
       "    <tr>\n",
       "      <th>103</th>\n",
       "      <td>0.507282</td>\n",
       "      <td>103</td>\n",
       "    </tr>\n",
       "    <tr>\n",
       "      <th>104</th>\n",
       "      <td>0.506303</td>\n",
       "      <td>104</td>\n",
       "    </tr>\n",
       "    <tr>\n",
       "      <th>105</th>\n",
       "      <td>0.467337</td>\n",
       "      <td>105</td>\n",
       "    </tr>\n",
       "    <tr>\n",
       "      <th>106</th>\n",
       "      <td>0.505670</td>\n",
       "      <td>106</td>\n",
       "    </tr>\n",
       "    <tr>\n",
       "      <th>107</th>\n",
       "      <td>0.528234</td>\n",
       "      <td>107</td>\n",
       "    </tr>\n",
       "    <tr>\n",
       "      <th>108</th>\n",
       "      <td>NaN</td>\n",
       "      <td>108</td>\n",
       "    </tr>\n",
       "    <tr>\n",
       "      <th>109</th>\n",
       "      <td>0.536388</td>\n",
       "      <td>109</td>\n",
       "    </tr>\n",
       "    <tr>\n",
       "      <th>110</th>\n",
       "      <td>0.536697</td>\n",
       "      <td>110</td>\n",
       "    </tr>\n",
       "    <tr>\n",
       "      <th>111</th>\n",
       "      <td>0.498008</td>\n",
       "      <td>111</td>\n",
       "    </tr>\n",
       "    <tr>\n",
       "      <th>112</th>\n",
       "      <td>0.530549</td>\n",
       "      <td>112</td>\n",
       "    </tr>\n",
       "  </tbody>\n",
       "</table>\n",
       "<p>113 rows × 2 columns</p>\n",
       "</div>"
      ],
      "text/plain": [
       "      winrate  hero_id\n",
       "0    0.136364        0\n",
       "1    0.484149        1\n",
       "2    0.454823        2\n",
       "3    0.487500        3\n",
       "4    0.469646        4\n",
       "5    0.562169        5\n",
       "6    0.518660        6\n",
       "7    0.521411        7\n",
       "8    0.524041        8\n",
       "9    0.539709        9\n",
       "10   0.446667       10\n",
       "11   0.531194       11\n",
       "12   0.471668       12\n",
       "13   0.435838       13\n",
       "14   0.514019       14\n",
       "15   0.506250       15\n",
       "16   0.489172       16\n",
       "17   0.428571       17\n",
       "18   0.535632       18\n",
       "19   0.503440       19\n",
       "20   0.542603       20\n",
       "21   0.500581       21\n",
       "22   0.581858       22\n",
       "23   0.487023       23\n",
       "24        NaN       24\n",
       "25   0.451009       25\n",
       "26   0.492295       26\n",
       "27   0.561659       27\n",
       "28   0.576860       28\n",
       "29   0.498328       29\n",
       "..        ...      ...\n",
       "83   0.532131       83\n",
       "84   0.541724       84\n",
       "85   0.592802       85\n",
       "86   0.472772       86\n",
       "87   0.539260       87\n",
       "88   0.502203       88\n",
       "89   0.463265       89\n",
       "90   0.470968       90\n",
       "91   0.474390       91\n",
       "92   0.520343       92\n",
       "93   0.497965       93\n",
       "94   0.540928       94\n",
       "95   0.500000       95\n",
       "96   0.537797       96\n",
       "97   0.470041       97\n",
       "98   0.472889       98\n",
       "99   0.485469       99\n",
       "100  0.535433      100\n",
       "101  0.453104      101\n",
       "102  0.599644      102\n",
       "103  0.507282      103\n",
       "104  0.506303      104\n",
       "105  0.467337      105\n",
       "106  0.505670      106\n",
       "107  0.528234      107\n",
       "108       NaN      108\n",
       "109  0.536388      109\n",
       "110  0.536697      110\n",
       "111  0.498008      111\n",
       "112  0.530549      112\n",
       "\n",
       "[113 rows x 2 columns]"
      ]
     },
     "execution_count": 32,
     "metadata": {},
     "output_type": "execute_result"
    }
   ],
   "source": [
    "gb_heroID = pd.DataFrame(mat.groupby('hero_id').mean()['radiant_win_x'], index=np.arange(113))\n",
    "gb_heroID.columns =[\"winrate\"]\n",
    "gb_heroID[\"hero_id\"] = np.arange(113)\n",
    "gb_heroID.head()"
   ]
  },
  {
   "cell_type": "markdown",
   "metadata": {},
   "source": [
    "#### Visualisierung der geweinnchance der Champions in einem Boxplot"
   ]
  },
  {
   "cell_type": "code",
   "execution_count": 24,
   "metadata": {
    "collapsed": false
   },
   "outputs": [
    {
     "name": "stderr",
     "output_type": "stream",
     "text": [
      "C:\\Users\\Yvii\\Anaconda3\\lib\\site-packages\\seaborn\\categorical.py:2171: UserWarning: The boxplot API has been changed. Attempting to adjust your arguments for the new API (which might not work). Please update your code. See the version 0.6 release notes for more info.\n",
      "  warnings.warn(msg, UserWarning)\n"
     ]
    },
    {
     "data": {
      "text/plain": [
       "<matplotlib.axes._subplots.AxesSubplot at 0x19701a3e518>"
      ]
     },
     "execution_count": 24,
     "metadata": {},
     "output_type": "execute_result"
    },
    {
     "data": {
      "image/png": "[encoded data removed]",
      "text/plain": [
       "<matplotlib.figure.Figure at 0x19701a2f080>"
      ]
     },
     "metadata": {},
     "output_type": "display_data"
    }
   ],
   "source": [
    "sns.boxplot(gb_heroID)\n",
    "#vllt ist ein Histogramm besser"
   ]
  },
  {
   "cell_type": "code",
   "execution_count": null,
   "metadata": {
    "collapsed": true
   },
   "outputs": [],
   "source": []
  },
  {
   "cell_type": "markdown",
   "metadata": {},
   "source": [
    "#### Champions mit einer Gewinnchance über 50 %"
   ]
  },
  {
   "cell_type": "code",
   "execution_count": 45,
   "metadata": {
    "collapsed": false
   },
   "outputs": [
    {
     "data": {
      "text/html": [
       "<div>\n",
       "<table border=\"1\" class=\"dataframe\">\n",
       "  <thead>\n",
       "    <tr style=\"text-align: right;\">\n",
       "      <th></th>\n",
       "      <th>winrate</th>\n",
       "      <th>hero_id</th>\n",
       "    </tr>\n",
       "  </thead>\n",
       "  <tbody>\n",
       "    <tr>\n",
       "      <th>5</th>\n",
       "      <td>0.562169</td>\n",
       "      <td>5</td>\n",
       "    </tr>\n",
       "    <tr>\n",
       "      <th>6</th>\n",
       "      <td>0.518660</td>\n",
       "      <td>6</td>\n",
       "    </tr>\n",
       "    <tr>\n",
       "      <th>7</th>\n",
       "      <td>0.521411</td>\n",
       "      <td>7</td>\n",
       "    </tr>\n",
       "    <tr>\n",
       "      <th>8</th>\n",
       "      <td>0.524041</td>\n",
       "      <td>8</td>\n",
       "    </tr>\n",
       "    <tr>\n",
       "      <th>9</th>\n",
       "      <td>0.539709</td>\n",
       "      <td>9</td>\n",
       "    </tr>\n",
       "  </tbody>\n",
       "</table>\n",
       "</div>"
      ],
      "text/plain": [
       "    winrate  hero_id\n",
       "5  0.562169        5\n",
       "6  0.518660        6\n",
       "7  0.521411        7\n",
       "8  0.524041        8\n",
       "9  0.539709        9"
      ]
     },
     "execution_count": 45,
     "metadata": {},
     "output_type": "execute_result"
    }
   ],
   "source": [
    "m = gb_heroID[(gb_heroID['winrate'] > 0.5)]\n",
    "m.head()"
   ]
  },
  {
   "cell_type": "code",
   "execution_count": 41,
   "metadata": {
    "collapsed": false
   },
   "outputs": [
    {
     "data": {
      "text/plain": [
       "(66, 2)"
      ]
     },
     "execution_count": 41,
     "metadata": {},
     "output_type": "execute_result"
    }
   ],
   "source": [
    "m.shape"
   ]
  },
  {
   "cell_type": "markdown",
   "metadata": {},
   "source": [
    "#### Champions mit einer Gewinnchance weniger 50%."
   ]
  },
  {
   "cell_type": "code",
   "execution_count": null,
   "metadata": {
    "collapsed": true
   },
   "outputs": [],
   "source": []
  },
  {
   "cell_type": "code",
   "execution_count": 44,
   "metadata": {
    "collapsed": false
   },
   "outputs": [
    {
     "data": {
      "text/html": [
       "<div>\n",
       "<table border=\"1\" class=\"dataframe\">\n",
       "  <thead>\n",
       "    <tr style=\"text-align: right;\">\n",
       "      <th></th>\n",
       "      <th>winrate</th>\n",
       "      <th>hero_id</th>\n",
       "    </tr>\n",
       "  </thead>\n",
       "  <tbody>\n",
       "    <tr>\n",
       "      <th>0</th>\n",
       "      <td>0.136364</td>\n",
       "      <td>0</td>\n",
       "    </tr>\n",
       "    <tr>\n",
       "      <th>1</th>\n",
       "      <td>0.484149</td>\n",
       "      <td>1</td>\n",
       "    </tr>\n",
       "    <tr>\n",
       "      <th>2</th>\n",
       "      <td>0.454823</td>\n",
       "      <td>2</td>\n",
       "    </tr>\n",
       "    <tr>\n",
       "      <th>3</th>\n",
       "      <td>0.487500</td>\n",
       "      <td>3</td>\n",
       "    </tr>\n",
       "    <tr>\n",
       "      <th>4</th>\n",
       "      <td>0.469646</td>\n",
       "      <td>4</td>\n",
       "    </tr>\n",
       "  </tbody>\n",
       "</table>\n",
       "</div>"
      ],
      "text/plain": [
       "    winrate  hero_id\n",
       "0  0.136364        0\n",
       "1  0.484149        1\n",
       "2  0.454823        2\n",
       "3  0.487500        3\n",
       "4  0.469646        4"
      ]
     },
     "execution_count": 44,
     "metadata": {},
     "output_type": "execute_result"
    }
   ],
   "source": [
    "w = gb_heroID[(gb_heroID['winrate'] < 0.5)]\n",
    "w.head()"
   ]
  },
  {
   "cell_type": "markdown",
   "metadata": {},
   "source": [
    "#### Beliebteste Champions pro Land"
   ]
  },
  {
   "cell_type": "code",
   "execution_count": 48,
   "metadata": {
    "collapsed": false
   },
   "outputs": [
    {
     "data": {
      "text/plain": [
       "EUROPE                  8\n",
       "STOCKHOLM               8\n",
       "SINGAPORE               6\n",
       "US EAST                 4\n",
       "SOUTHAFRICA             3\n",
       "BRAZIL                  3\n",
       "US WEST                 3\n",
       "AUSTRIA                 3\n",
       "CHILE                   2\n",
       "AUSTRALIA               2\n",
       "JAPAN                   2\n",
       "PW TELECOM SHANGHAI     1\n",
       "PW TELECOM GUANGDONG    1\n",
       "PW TELECOM WUHAN        1\n",
       "PW UNICOM TIANJIN       1\n",
       "DUBAI                   1\n",
       "INDIA                   1\n",
       "PW UNICOM               1\n",
       "PERU                    1\n",
       "PW TELECOM ZHEJIANG     1\n",
       "Name: region, dtype: int64"
      ]
     },
     "execution_count": 48,
     "metadata": {},
     "output_type": "execute_result"
    }
   ],
   "source": [
    "##clusters['region'].value_counts()"
   ]
  }
 ],
 "metadata": {
  "anaconda-cloud": {},
  "kernelspec": {
   "display_name": "Python [default]",
   "language": "python",
   "name": "python3"
  },
  "language_info": {
   "codemirror_mode": {
    "name": "ipython",
    "version": 3
   },
   "file_extension": ".py",
   "mimetype": "text/x-python",
   "name": "python",
   "nbconvert_exporter": "python",
   "pygments_lexer": "ipython3",
   "version": "3.5.2"
  }
 },
 "nbformat": 4,
 "nbformat_minor": 1
}
